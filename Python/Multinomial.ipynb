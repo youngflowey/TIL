{
 "cells": [
  {
   "cell_type": "markdown",
   "metadata": {},
   "source": [
    "# Logistic Regression을 그림으로 알아보자"
   ]
  },
  {
   "cell_type": "code",
   "execution_count": 30,
   "metadata": {},
   "outputs": [
    {
     "name": "stdout",
     "output_type": "stream",
     "text": [
      "Cost값은 : 1.99136483669281\n",
      "Cost값은 : 0.36829784512519836\n",
      "Cost값은 : 0.33051368594169617\n",
      "Cost값은 : 0.30338674783706665\n",
      "Cost값은 : 0.313737690448761\n",
      "Cost값은 : 0.4559189975261688\n",
      "Cost값은 : 0.16748619079589844\n",
      "Cost값은 : 0.16147112846374512\n",
      "Cost값은 : 0.16270576417446136\n",
      "Cost값은 : 0.20057576894760132\n",
      "[1]\n"
     ]
    },
    {
     "data": {
      "image/png": "[encoded data removed]",
      "text/plain": [
       "<Figure size 432x288 with 1 Axes>"
      ]
     },
     "metadata": {},
     "output_type": "display_data"
    }
   ],
   "source": [
    "import pandas as pd\n",
    "import numpy as np\n",
    "import matplotlib.pyplot as plt\n",
    "import tensorflow as tf\n",
    "import warnings\n",
    "from sklearn.linear_model import LogisticRegression\n",
    "import mglearn\n",
    "\n",
    "warnings.filterwarnings(action=\"ignore\")\n",
    "# warning이 나와도 출력되지 않아\n",
    "\n",
    "x,y = mglearn.datasets.make_forge()\n",
    "# mglearn이 갖고 있는 datasets들 중에 \n",
    "x\n",
    "# 실수값이 들어있는 2차열 배열\n",
    "y\n",
    "# 1010\n",
    "\n",
    "# logistic regression이랑 같아\n",
    "# x값과 y값이 들어가서 logistic이 될수있는 데이터\n",
    "\n",
    "# 먼저 간단하게 scatter(산점도)를 그려보자\n",
    "# y값이 0인 x를 추출해서 x의 첫번째 컬럼을 x축으로,\n",
    "# x의 두번째 컬럼을 y축으로 scatter를 그려보자\n",
    "\n",
    "blue = x[y==0]\n",
    "orange = x[y==1]\n",
    "\n",
    "plt.scatter(blue[:,0],blue[:,1])\n",
    "# 모든행에 대한 첫번째열에있는 애들\n",
    "plt.scatter(orange[:,0],orange[:,1])\n",
    "\n",
    "## manchine learning(Logistic Regression)\n",
    "### train data set( tset data set 은 넘어가 )\n",
    "train_x_data = x\n",
    "train_y_data = y.reshape([-1,1])\n",
    "\n",
    "# placeholder\n",
    "X = tf.placeholder(shape = [None,2], dtype=tf.float32)\n",
    "Y = tf.placeholder(shape = [None,1], dtype=tf.float32)\n",
    "\n",
    "# Weight, bias\n",
    "W = tf.Variable(tf.random_normal([2,1]), name = 'weight')\n",
    "b = tf.Variable(tf.random_normal([1]), name = 'bias')\n",
    "# W 하나가 아니라 내부적으로 값 2개 가져\n",
    "\n",
    "# Hypothesis\n",
    "logit = tf.matmul(X,W) + b\n",
    "H = tf.sigmoid(logit)\n",
    "\n",
    "# Cost(Loss) function\n",
    "cost = tf.reduce_mean(tf.nn.sigmoid_cross_entropy_with_logits(logits=logit,\n",
    "                                                              labels=Y))\n",
    "\n",
    "# train\n",
    "train = tf.train.GradientDescentOptimizer(learning_rate=0.5).minimize(cost)\n",
    "\n",
    "# session, 초기화\n",
    "sess = tf.Session()\n",
    "sess.run(tf.global_variables_initializer())\n",
    "\n",
    "# 학습진행\n",
    "for step in range(3000):\n",
    "    _,cost_val = sess.run([train,cost], feed_dict={X : train_x_data,\n",
    "                                                  Y : train_y_data})\n",
    "    if step% 300 ==0:\n",
    "        print(\"Cost값은 : {}\".format(cost_val))\n",
    "\n",
    "        \n",
    "        \n",
    "# 정확도 측정(Accuracy) : 95% 이상 나오면 쓸만한 모델\n",
    "# Prediction(예측)\n",
    "result = sess.run(H, feed_dict = {X : [[9,4]]})  # 0.8 -> 1로 간주하겠어\n",
    "plt.scatter(9,4)\n",
    "\n",
    "model = LogisticRegression()\n",
    "myModel = model.fit(x,y)  # logistic model 학습\n",
    "print(myModel.predict([[9,4]]))\n",
    "# 9,4가 들어가면 1!\n",
    "\n",
    "mglearn.plots.plot_2d_separator(myModel,x,fill=False,\n",
    "                                eps=0.5,alpha=0.7)\n",
    "# mglear이 가지고 있는 plots에 plot~\n",
    "# logistic으로 만든 model 그림으로 그려봐\n",
    "# 우리가 logistic만든것은 0과 1의 경계 선을 만든것\n",
    "# 선위에쪽 1, 선 아래쪽 0\n",
    "# logistic : 0과 1을 구분짓는 가장 적절한 선을 찾는것\n",
    "# linear : 데이터에 가장 적합한 직선\n",
    "\n",
    "# 두개의 x값,\n",
    "# x쪽 데이터가 3개는 3차원 공간으로 표현해야하는데, 공간안에 각점들이 찍힘\n",
    "# 공간안에 가로지르는것은 선이 아니라 면이됨\n",
    "\n",
    "# 과적합 : 너무데이터에 딱 맞는 결과 -> 실제로는 안좋은 결과값\n",
    "# 약간의 오류가 있어보이지만 (파란색 위 오랜지 밑) 나중에 실제 데이터 예측할때 좋은 hyper plan\n"
   ]
  },
  {
   "cell_type": "code",
   "execution_count": 32,
   "metadata": {},
   "outputs": [
    {
     "data": {
      "text/plain": [
       "<matplotlib.collections.PathCollection at 0x1cad8c58cc0>"
      ]
     },
     "execution_count": 32,
     "metadata": {},
     "output_type": "execute_result"
    },
    {
     "data": {
      "image/png": "[encoded data removed]",
      "text/plain": [
       "<Figure size 432x288 with 1 Axes>"
      ]
     },
     "metadata": {
      "needs_background": "light"
     },
     "output_type": "display_data"
    }
   ],
   "source": [
    "# Logistic을 multinomial로 확장해보자\n",
    "# x쪽데이터는 시험성적과 출석점수\n",
    "# y쪽데이터는 학점\n",
    "x = np.array([[10,5],\n",
    "             [9,5],\n",
    "             [5,1],\n",
    "             [4,2],\n",
    "              [1,3]])\n",
    "y = np.array([[\"A\"],\n",
    "              [\"A\"],\n",
    "              [\"B\"],\n",
    "              [\"B\"],\n",
    "              [\"C\"]])\n",
    "# 학습이 안돼\n",
    "\n",
    "plt.scatter(x[0:2,0],x[0:2,1])    # A등급의 점을 찍어보자\n",
    "plt.scatter(x[2:4,0],x[2:4,1])    # B등급의 점을 찍어보자\n",
    "plt.scatter(x[4,0],x[4,1])    # C등급의 점을 찍어보자\n",
    "# 로지스틱 합쳐서 얘들 만들 수 잇아!!\n",
    "# 3개의 로지스틱 hyper plan 으로 표현됨\n",
    "# a,b,c,를 기준으로 몇 퍼센트 각각\n",
    "# 로지스틱의 확장판\n",
    "# 가설 자체가 바뀌게 됨 가설이 여러개 들어가기 때문\n",
    "# cost함수도 바뀜 simoid -> "
   ]
  },
  {
   "cell_type": "code",
   "execution_count": null,
   "metadata": {},
   "outputs": [],
   "source": [
    "# 성적, 출석 =>  \"A\"   \n",
    "#                \"B\"\n",
    "#                \"C\"\n",
    "#  각각의 결과가 하나의 행\n",
    "# 세개ㅔ의 식 하나로 함침\n",
    "# 하나씩 sigmoid'가가보자해\n",
    "# 세개 중에 어떤게 될 가능성이 높은가? 를 구하는 것\n",
    "# probability 구해줭->softmax"
   ]
  },
  {
   "cell_type": "code",
   "execution_count": 46,
   "metadata": {},
   "outputs": [
    {
     "name": "stdout",
     "output_type": "stream",
     "text": [
      "cost값은:20.325159072875977\n",
      "cost값은:1.1612226963043213\n",
      "cost값은:0.9500489830970764\n",
      "cost값은:0.6700853109359741\n",
      "cost값은:0.5518797039985657\n",
      "cost값은:0.4989664852619171\n",
      "cost값은:0.4391480088233948\n",
      "cost값은:0.05071975663304329\n",
      "cost값은:0.04611677676439285\n",
      "cost값은:0.042725127190351486\n",
      "정확도 : 1.0\n"
     ]
    }
   ],
   "source": [
    "import tensorflow as df\n",
    "\n",
    "# train data set\n",
    "train_x_data = [[10,7,8,5],\n",
    "               [8,8,9,4],\n",
    "               [7,8,2,3],\n",
    "               [6,3,9,3],\n",
    "               [7,5,7,4],\n",
    "               [3,5,6,2],\n",
    "               [2,4,3,1]]\n",
    "\n",
    "train_y_data = [[1,0,0],   # one hot encoding형태\n",
    "               [1,0,0],\n",
    "               [0,1,0],\n",
    "               [0,1,0],\n",
    "               [0,1,0],\n",
    "               [0,0,1],\n",
    "               [0,0,1]]\n",
    "\n",
    "# placeholder\n",
    "X =  tf.placeholder(shape =[None,4], dtype=tf.float32)\n",
    "Y =  tf.placeholder(shape =[None,3], dtype=tf.float32)\n",
    "\n",
    "# Weight, bias\n",
    "W = tf.Variable(tf.random_normal([4,3]), name=\"weight\")\n",
    "b = tf.Variable(tf.random_normal([3]), name=\"bias\")\n",
    "\n",
    "# 실제 구하는 값은 12개\n",
    "\n",
    "# hypothesis\n",
    "logit = tf.matmul(X,W) + b\n",
    "# H = tf.sigmoid  # 각각의 확률이 나와서 한번에 \n",
    "H = tf.nn.softmax(logit) # 이놈이 변경돼!\n",
    "\n",
    "# ocost function\n",
    "cost = tf.reduce_mean(tf.nn.softmax_cross_entropy_with_logits_v2(logits=logit,\n",
    "                                                              labels=Y))\n",
    "\n",
    "# train\n",
    "train = tf.train.GradientDescentOptimizer(learning_rate = 0.1).minimize(cost)\n",
    "\n",
    "# session, 초기화\n",
    "sess = tf.Session()\n",
    "# 그래프를 실행하기 위한놈\n",
    "sess.run(tf.global_variables_initializer())\n",
    "# W와 b를 초기화 시키는 것\n",
    "\n",
    "# 학습\n",
    "for step in range(3000):\n",
    "    _,cost_val = sess.run([train,cost], feed_dict={X:train_x_data,\n",
    "                                                   Y:train_y_data})\n",
    "    if step%300==0:\n",
    "        print(\"cost값은:{}\".format(cost_val))\n",
    "        \n",
    "# Accuracy(정확도)\n",
    "#predict = tf.cast(H>0.5, dtype=tf.float32)\n",
    "sess.run(H, feed_dict={X:[[10,8,9,5]]})\n",
    "predict = tf.argmax(H, axis=1)\n",
    "# 데이터가 있을 때 열방향한행에서의 최대값이 몇번째ㄱ에 있는가\n",
    "# 가장 큰값의 index번호를 리턴\n",
    "# 각각의 예측치에 대한 index번호\n",
    "# 가장 큰값이 어디에 있는가\n",
    "correct = tf.equal(predict, tf.argmax(Y,axis=1))\n",
    "accuracy = tf.reduce_mean(tf.cast(correct, dtype=tf.float32))\n",
    "print(\"정확도 : {}\".format(sess.run(accuracy,\n",
    "                                feed_dict = {X:train_x_data,\n",
    "                                             Y:train_y_data})))"
   ]
  },
  {
   "cell_type": "code",
   "execution_count": null,
   "metadata": {},
   "outputs": [],
   "source": [
    "# BMI데이터를 학습한 후 자신의 키와 몸무게를 넣어서\n",
    "# 자신의 상태를 확인해보자\n",
    "# bmi.csv를 가져가서 multinomial문제를 학습해보아요\n"
   ]
  },
  {
   "cell_type": "code",
   "execution_count": 138,
   "metadata": {},
   "outputs": [],
   "source": [
    "data_df = pd.read_csv(\"./data/bmi.csv\", skiprows=3)\n",
    "train_x_data = data_df[[\"height\",\"weight\"]].values\n",
    "train_y_data = data_df[\"label\"].values"
   ]
  },
  {
   "cell_type": "code",
   "execution_count": 139,
   "metadata": {},
   "outputs": [],
   "source": [
    "data_df.shape\n",
    "train_num = int(data_df.shape[0] * 0.8)    #712\n",
    "train_num\n",
    "test_num = data_df.shape[0] - train_num"
   ]
  },
  {
   "cell_type": "code",
   "execution_count": 140,
   "metadata": {},
   "outputs": [],
   "source": [
    "# train, test data set\n",
    "train_x_data = data_df[[\"height\",\"weight\"]][:train_num].values\n",
    "test_x_data = data_df[[\"height\",\"weight\"]][train_num:].values\n",
    "\n",
    "train_y_data = data_df[\"label\"][:train_num].values\n",
    "test_y_data = data_df[\"label\"][train_num:].values\n",
    "\n"
   ]
  },
  {
   "cell_type": "code",
   "execution_count": 141,
   "metadata": {
    "scrolled": false
   },
   "outputs": [],
   "source": [
    "# 값이 너무 크니 minmax scale \n",
    "from sklearn.preprocessing import MinMaxScaler\n",
    "train_x_data = MinMaxScaler().fit_transform(train_x_data)\n",
    "\n",
    "# 더미변수로 바꿔주기\n",
    "train_y_data = pd.get_dummies(train_y_data) \n",
    "test_y_data = pd.get_dummies(test_y_data) \n",
    "\n"
   ]
  },
  {
   "cell_type": "code",
   "execution_count": 142,
   "metadata": {
    "scrolled": false
   },
   "outputs": [
    {
     "name": "stdout",
     "output_type": "stream",
     "text": [
      "cost값은:1.2960156202316284\n",
      "cost값은:0.6598236560821533\n",
      "cost값은:0.5611627101898193\n",
      "cost값은:0.5049108862876892\n",
      "cost값은:0.46657299995422363\n",
      "cost값은:0.4377782940864563\n",
      "cost값은:0.41487154364585876\n",
      "cost값은:0.39596033096313477\n",
      "cost값은:0.3799395263195038\n",
      "cost값은:0.36610499024391174\n",
      "정확도 : 0.32199999690055847\n"
     ]
    },
    {
     "ename": "NameError",
     "evalue": "name 'prediction_data' is not defined",
     "output_type": "error",
     "traceback": [
      "\u001b[1;31m---------------------------------------------------------------------------\u001b[0m",
      "\u001b[1;31mNameError\u001b[0m                                 Traceback (most recent call last)",
      "\u001b[1;32m<ipython-input-142-68ba57ac6d05>\u001b[0m in \u001b[0;36m<module>\u001b[1;34m\u001b[0m\n\u001b[0;32m     49\u001b[0m                                              Y:test_y_data})))\n\u001b[0;32m     50\u001b[0m \u001b[1;33m\u001b[0m\u001b[0m\n\u001b[1;32m---> 51\u001b[1;33m \u001b[0msess\u001b[0m\u001b[1;33m.\u001b[0m\u001b[0mrun\u001b[0m\u001b[1;33m(\u001b[0m\u001b[0mH\u001b[0m\u001b[1;33m,\u001b[0m \u001b[0mfeed_dict\u001b[0m\u001b[1;33m=\u001b[0m\u001b[1;33m{\u001b[0m\u001b[0mX\u001b[0m \u001b[1;33m:\u001b[0m \u001b[0mprediction_data\u001b[0m\u001b[1;33m}\u001b[0m\u001b[1;33m)\u001b[0m\u001b[1;33m\u001b[0m\u001b[1;33m\u001b[0m\u001b[0m\n\u001b[0m",
      "\u001b[1;31mNameError\u001b[0m: name 'prediction_data' is not defined"
     ]
    }
   ],
   "source": [
    "# placeholder\n",
    "X =  tf.placeholder(shape =[None,2], dtype=tf.float32)\n",
    "Y =  tf.placeholder(shape =[None,3], dtype=tf.float32)\n",
    "\n",
    "# Weight, bias\n",
    "W = tf.Variable(tf.random_normal([2,3]), name=\"weight\")\n",
    "b = tf.Variable(tf.random_normal([3]), name=\"bias\")\n",
    "\n",
    "# 실제 구하는 값은 12개\n",
    "\n",
    "# hypothesis\n",
    "logit = tf.matmul(X,W) + b\n",
    "# H = tf.sigmoid  # 각각의 확률이 나와서 한번에 \n",
    "H = tf.nn.softmax(logit) # 이놈이 변경돼!\n",
    "\n",
    "# ocost function\n",
    "cost = tf.reduce_mean(tf.nn.softmax_cross_entropy_with_logits_v2(logits=logit,\n",
    "                                                              labels=Y))\n",
    "\n",
    "# train\n",
    "train = tf.train.GradientDescentOptimizer(learning_rate = 0.1).minimize(cost)\n",
    "\n",
    "# session, 초기화\n",
    "sess = tf.Session()\n",
    "# 그래프를 실행하기 위한놈\n",
    "sess.run(tf.global_variables_initializer())\n",
    "# W와 b를 초기화 시키는 것\n",
    "\n",
    "# 학습\n",
    "for step in range(3000):\n",
    "    _,cost_val = sess.run([train,cost], feed_dict={X:train_x_data,\n",
    "                                                   Y:train_y_data})\n",
    "    if step%300==0:\n",
    "        print(\"cost값은:{}\".format(cost_val))\n",
    "        \n",
    "# # Accuracy(정확도)\n",
    "# #predict = tf.cast(H>0.5, dtype=tf.float32)\n",
    "# sess.run(H, feed_dict={X:[[159,50]]})\n",
    "predict = tf.argmax(H, axis=1)\n",
    "# # 데이터가 있을 때 열방향한행에서의 최대값이 몇번째ㄱ에 있는가\n",
    "# # 가장 큰값의 index번호를 리턴\n",
    "# # 각각의 예측치에 대한 index번호\n",
    "# # 가장 큰값이 어디에 있는가\n",
    "\n",
    "correct = tf.equal(predict, tf.argmax(Y,axis=1))\n",
    "accuracy = tf.reduce_mean(tf.cast(correct, dtype=tf.float32))\n",
    "print(\"정확도 : {}\".format(sess.run(accuracy,\n",
    "                                feed_dict = {X:test_x_data,\n",
    "                                             Y:test_y_data})))\n",
    "\n",
    "sess.run(H, feed_dict={X : prediction_data})"
   ]
  },
  {
   "cell_type": "markdown",
   "metadata": {},
   "source": [
    "## 강사님 코드"
   ]
  },
  {
   "cell_type": "code",
   "execution_count": 133,
   "metadata": {},
   "outputs": [
    {
     "ename": "SyntaxError",
     "evalue": "invalid syntax (<ipython-input-133-77e7f8780375>, line 34)",
     "output_type": "error",
     "traceback": [
      "\u001b[1;36m  File \u001b[1;32m\"<ipython-input-133-77e7f8780375>\"\u001b[1;36m, line \u001b[1;32m34\u001b[0m\n\u001b[1;33m    sess.=tf.Session()\u001b[0m\n\u001b[1;37m         ^\u001b[0m\n\u001b[1;31mSyntaxError\u001b[0m\u001b[1;31m:\u001b[0m invalid syntax\n"
     ]
    }
   ],
   "source": [
    "import tensorflow as tf\n",
    "import numpy as np\n",
    "import pandas as pd\n",
    "import matplotlib.pyplot as plt\n",
    "import warnings\n",
    "from sklearn.preprocessing import MinMaxScaler\n",
    "\n",
    "warnings.filterwarnings(action=\"ignore\")\n",
    "\n",
    "# Data Loading\n",
    "data_df = pd.read_csv(\"./data/bmi.csv\", skiprows=3)\n",
    "\n",
    "## 결측치와 이상치 처리부터\n",
    "# 결측치 확인\n",
    "data_df.isnull().sum(axis=0)   # 확인한 결과 결측치는 없다\n",
    "# 이상치 확인\n",
    "plt.boxplot(data_df[\"weight\"])   # 확인한 결과 이상치 없음\n",
    "\n",
    "# train, test data set 생성\n",
    "split_num = int(data_df.shape[0] * 0.8)  # 전체 행에 80%\n",
    "scaler = MinMaxScaler()\n",
    "x_data = scarler.fit_transform(data_df[[\"height\"],[\"weight\"]])\n",
    "# 정규화 작업을 진행했다\n",
    "\n",
    "# 학습용, 테스트용, x data을 생성\n",
    "train_x_data = x_data[:split_num]  # 3 numpy 다\n",
    "test_x_data = x_data[split_num:]\n",
    "\n",
    "# 학습용, 테트료 y data를 생성 => one hot incoding\n",
    "# one hot encodeing으로 전환하실때 pandas.get_dumies()\n",
    "#                                  tensorflow.one_hot()\n",
    "tf.one_hot(data_df.loc[:split_num,\"label\"],3 )# 3\n",
    "\n",
    "sess.=tf.Session()\n",
    "sess.run(tf.one_hot(data))\n",
    "sess.run(tf.one_hot(data_df.loc[split_num-1],3))   \n",
    "train_y_data = sess.run(tf.one_hot(data_df_loc[:split_num-1,\"label\"]))\n",
    "test_y_data = sess.run(tf.one_hot(data_df_loc[split_num:,\"label\"]))\n",
    "                                                   \n",
    "    \n",
    "    \n",
    "    \n",
    "    \n",
    "# train_x_data = data_df.loc[:split_num,[\"height\",\"weight\"]]    # data frame\n",
    "# scaler = MinMaxScaler()\n",
    "train_x_data=scaler.fit_transform(train_x_data)  # fit & transform의 두가지 역할\n",
    "# 내가 알아낸 데이터가지고 바꿔라\n",
    "train_x_data\n",
    "scaler.data_max_   # 각각의 열에 대해서 가장 큰값\n",
    "scaler.data_min_\n",
    "# scaler가 train_data set에 대한 최대, 최소값을 가지고 있게 된다.\n",
    "\n",
    "# placeholder\n",
    "X =  tf.placeholder(shape =[None,2], dtype=tf.float32)\n",
    "Y =  tf.placeholder(shape =[None,3], dtype=tf.float32)\n",
    "\n",
    "# Weight, bias\n",
    "W = tf.Variable(tf.random_normal([2,3]), name=\"weight\")\n",
    "b = tf.Variable(tf.random_normal([3]), name=\"bias\")\n",
    "\n",
    "# 실제 구하는 값은 12개\n",
    "\n",
    "# hypothesis\n",
    "logit = tf.matmul(X,W) + b\n",
    "# H = tf.sigmoid  # 각각의 확률이 나와서 한번에 \n",
    "H = tf.nn.softmax(logit) # 이놈이 변경돼!\n",
    "\n",
    "# ocost function\n",
    "cost = tf.reduce_mean(tf.nn.softmax_cross_entropy_with_logits_v2(logits=logit,\n",
    "                                                              labels=Y))\n",
    "\n",
    "# train\n",
    "train = tf.train.GradientDescentOptimizer(learning_rate = 0.1).minimize(cost)\n",
    "\n",
    "# session, 초기화\n",
    "sess = tf.Session()\n",
    "# 그래프를 실행하기 위한놈\n",
    "sess.run(tf.global_variables_initializer())\n",
    "# W와 b를 초기화 시키는 것\n",
    "\n",
    "# 학습\n",
    "for step in range(3000):\n",
    "    _,cost_val = sess.run([train,cost], feed_dict={X:train_x_data,\n",
    "                                                   Y:train_y_data})\n",
    "    if step%300==0:\n",
    "        print(\"cost값은:{}\".format(cost_val))\n",
    "        \n",
    "# # Accuracy(정확도)\n",
    "# #predict = tf.cast(H>0.5, dtype=tf.float32)\n",
    "# sess.run(H, feed_dict={X:[[159,50]]})\n",
    "predict = tf.argmax(H, axis=1)\n",
    "# # 데이터가 있을 때 열방향한행에서의 최대값이 몇번째ㄱ에 있는가\n",
    "# # 가장 큰값의 index번호를 리턴\n",
    "# # 각각의 예측치에 대한 index번호\n",
    "# # 가장 큰값이 어디에 있는가\n",
    "\n",
    "correct = tf.equal(predict, tf.argmax(Y,axis=1))\n",
    "accuracy = tf.reduce_mean(tf.cast(correct, dtype=tf.float32))\n",
    "print(\"정확도 : {}\".format(sess.run(accuracy,\n",
    "                                feed_dict = {X:test_x_data,\n",
    "                                             Y:test_y_data})))\n"
   ]
  },
  {
   "cell_type": "code",
   "execution_count": 143,
   "metadata": {
    "scrolled": true
   },
   "outputs": [
    {
     "ename": "TypeError",
     "evalue": "'method' object is not subscriptable",
     "output_type": "error",
     "traceback": [
      "\u001b[1;31m---------------------------------------------------------------------------\u001b[0m",
      "\u001b[1;31mTypeError\u001b[0m                                 Traceback (most recent call last)",
      "\u001b[1;32m<ipython-input-143-e10ade9d4211>\u001b[0m in \u001b[0;36m<module>\u001b[1;34m\u001b[0m\n\u001b[0;32m      1\u001b[0m \u001b[1;31m# Prediction\u001b[0m\u001b[1;33m\u001b[0m\u001b[1;33m\u001b[0m\u001b[1;33m\u001b[0m\u001b[0m\n\u001b[1;32m----> 2\u001b[1;33m \u001b[0mprediction_data\u001b[0m \u001b[1;33m=\u001b[0m \u001b[0mscaler\u001b[0m\u001b[1;33m.\u001b[0m\u001b[0mtransform\u001b[0m\u001b[1;33m[\u001b[0m\u001b[1;33m[\u001b[0m\u001b[1;36m187\u001b[0m\u001b[1;33m,\u001b[0m\u001b[1;36m78\u001b[0m\u001b[1;33m]\u001b[0m\u001b[1;33m]\u001b[0m\u001b[1;33m\u001b[0m\u001b[1;33m\u001b[0m\u001b[0m\n\u001b[0m\u001b[0;32m      3\u001b[0m \u001b[0mprediction_data\u001b[0m\u001b[1;33m\u001b[0m\u001b[1;33m\u001b[0m\u001b[0m\n\u001b[0;32m      4\u001b[0m \u001b[0mresult\u001b[0m \u001b[1;33m=\u001b[0m \u001b[0msess\u001b[0m\u001b[1;33m.\u001b[0m\u001b[0mrun\u001b[0m\u001b[1;33m(\u001b[0m\u001b[0mtf\u001b[0m\u001b[1;33m.\u001b[0m\u001b[0margmax\u001b[0m\u001b[1;33m(\u001b[0m\u001b[0mH\u001b[0m\u001b[1;33m,\u001b[0m\u001b[1;36m1\u001b[0m\u001b[1;33m)\u001b[0m\u001b[1;33m,\u001b[0m \u001b[0mfeed_dict\u001b[0m\u001b[1;33m=\u001b[0m\u001b[1;33m{\u001b[0m\u001b[0mX\u001b[0m \u001b[1;33m:\u001b[0m \u001b[0mprediction_data\u001b[0m\u001b[1;33m}\u001b[0m\u001b[1;33m)\u001b[0m\u001b[1;33m[\u001b[0m\u001b[1;36m0\u001b[0m\u001b[1;33m]\u001b[0m\u001b[1;33m\u001b[0m\u001b[1;33m\u001b[0m\u001b[0m\n\u001b[0;32m      5\u001b[0m \u001b[1;33m\u001b[0m\u001b[0m\n",
      "\u001b[1;31mTypeError\u001b[0m: 'method' object is not subscriptable"
     ]
    }
   ],
   "source": [
    "# Prediction\n",
    "prediction_data = scaler.transform[[187,78]]\n",
    "prediction_data\n",
    "result = sess.run(tf.argmax(H,1), feed_dict={X : prediction_data})[0]\n",
    "\n",
    "if result ==0:\n",
    "    print(\"Thin\")\n",
    "elif result == 1:\n",
    "    print(\"Normal\")\n",
    "else :\n",
    "    print(\"Fat\")"
   ]
  },
  {
   "cell_type": "code",
   "execution_count": 145,
   "metadata": {},
   "outputs": [
    {
     "name": "stdout",
     "output_type": "stream",
     "text": [
      "cost값은:2.0564208030700684\n",
      "cost값은:0.7352461218833923\n",
      "cost값은:0.6017679572105408\n",
      "cost값은:0.5322874784469604\n",
      "cost값은:0.48684337735176086\n",
      "cost값은:0.4536226689815521\n",
      "cost값은:0.4277278780937195\n",
      "cost값은:0.406687468290329\n",
      "cost값은:0.3890852630138397\n",
      "cost값은:0.37403595447540283\n"
     ]
    }
   ],
   "source": [
    "import tensorflow as tf\n",
    "import numpy as np\n",
    "import pandas as pd\n",
    "import matplotlib.pyplot as plt   # 이상치 확인하기 위한 함수\n",
    "import warnings  # 경고 안보이게\n",
    "from sklearn.preprocessing import MinMaxScaler\n",
    "\n",
    "# 경고메시지 출력 X\n",
    "warnings.filterwarnings(action=\"ignore\")\n",
    "\n",
    "# 데이터 불러오기\n",
    "bmi_df = pd.read_csv(\"./data/bmi.csv\", skiprows=3) # 앞의 3줄은 빼고 가져오겠다\n",
    "\n",
    "# # 결측치 확인\n",
    "# bmi_df.isnull().sum()  # 결측치 없음 \n",
    "# # 이상치 확인\n",
    "# plt.boxplot(bmi_df[\"height\"]) # 이상치 없음 \n",
    "# plt.boxplot(bmi_df[\"weight\"]) # 이상치 없음 \n",
    "\n",
    "\n",
    "##################################################################################################\n",
    "\n",
    "# train data와 test data 생성 \n",
    "# 정규화 작업\n",
    "scaler= MinMaxScaler()\n",
    "train_num = int(bmi_df.shape[0]*0.8) \n",
    "# scaler.data_max_  # 가지고있는 데이터의 최대값\n",
    "# scaler.data_min_  # 최대, 최소값 가지고 scaling\n",
    "x_data = scaler.fit_transform(bmi_df[[\"height\",\"weight\"]])\n",
    "\n",
    "# 데이터 분할해 x data 생성 - 80:20\n",
    "train_x_data = x_data[:train_num]  # nparray에서 자른 값 ->  뒤의 값이 exclusive 해서 16000개\n",
    "test_x_data = x_data[train_num:]\n",
    "\n",
    "# 학습용, 테스트용 y data 생성 -> one hot encoding\n",
    "# one hot encoding으로 전환하는 방법 2가지\n",
    "# 1. pandas.get_dummies()\n",
    "# 2. tensorflow.one_hot()\n",
    "sess = tf.Session()\n",
    "train_y_data = sess.run(tf.one_hot(bmi_df.loc[:train_num-1,\"label\"], 3)) # 원래 1차원 자료가 one-hot encoding 적용하면 2차원 자료가 된다.\n",
    "# sess.run(tf.one_hot(bmi_df.loc[:train_num-1,\"label\"], 3)).shape # data frame이라 loc 사용하면 뒤부분 inclusive하다 -> train_num -1 빼줘야 함! \n",
    "test_y_data = sess.run(tf.one_hot(bmi_df.loc[train_num:,\"label\"], 3))\n",
    "\n",
    "#################################################################################################\n",
    "\n",
    "# placeholder\n",
    "X = tf.placeholder(shape=[None,2],dtype=tf.float32)\n",
    "Y = tf.placeholder(shape=[None,3],dtype=tf.float32)\n",
    "\n",
    "# W, b\n",
    "W = tf.Variable(tf.random_normal([2,3]),name=\"weight\")\n",
    "b = tf.Variable(tf.random_normal([3]),name=\"bias\")  # 1차원으로 3개\n",
    "\n",
    "# H\n",
    "logit = tf.matmul(X,W)+b \n",
    "H = tf.nn.softmax(logit) \n",
    "\n",
    "# cost function\n",
    "cost = tf.reduce_mean(tf.nn.softmax_cross_entropy_with_logits_v2(logits=logit,   # version2로 해야 정확\n",
    "                                                                labels=Y))\n",
    "\n",
    "# train\n",
    "train = tf.train.GradientDescentOptimizer(learning_rate=0.1).minimize(cost)\n",
    "\n",
    "# session\n",
    "sess.run(tf.global_variables_initializer())\n",
    "\n",
    "# 학습\n",
    "for step in range(3000):\n",
    "    _, cost_val = sess.run([train,cost],feed_dict={X : train_x_data,\n",
    "                                                   Y : train_y_data})\n",
    "    if step%300==0:\n",
    "        print(\"cost값은:{}\".format(cost_val))\n",
    "      \n"
   ]
  },
  {
   "cell_type": "code",
   "execution_count": 146,
   "metadata": {},
   "outputs": [
    {
     "name": "stdout",
     "output_type": "stream",
     "text": [
      "정확도:0.9474999904632568\n"
     ]
    }
   ],
   "source": [
    "# Accuracy(정확도) 측정\n",
    "predict = tf.argmax(H,axis=1)  \n",
    "correct = tf.equal(predict, tf.argmax(Y,axis=1))\n",
    "accuracy = tf.reduce_mean(tf.cast(correct, dtype=tf.float32))\n",
    "print(\"정확도:{}\".format(sess.run(accuracy, feed_dict={X:test_x_data,\n",
    "                                                   Y:test_y_data})))"
   ]
  },
  {
   "cell_type": "code",
   "execution_count": 148,
   "metadata": {},
   "outputs": [
    {
     "name": "stdout",
     "output_type": "stream",
     "text": [
      "Normal\n"
     ]
    }
   ],
   "source": [
    "# Prediction\n",
    "# prediction_data = [[187,78]]\n",
    "# 예측하기 위해서 다시 scaling한 값 넣어줘야 한다.\n",
    "\n",
    "# MinMax scaler가 min, max값 가지고 있다.\n",
    "prediction_data = scaler.transform([[159,50]])\n",
    "\n",
    "#sess.run(H,feed_dict={X:prediction_data})\n",
    "result = sess.run(tf.argmax(H,1), feed_dict={X:prediction_data})[0]\n",
    "\n",
    "if result ==0:\n",
    "    print(\"Thin\")\n",
    "elif result ==1:\n",
    "    print(\"Normal\")\n",
    "else:\n",
    "    print(\"Fat\")"
   ]
  },
  {
   "cell_type": "code",
   "execution_count": null,
   "metadata": {},
   "outputs": [],
   "source": []
  }
 ],
 "metadata": {
  "kernelspec": {
   "display_name": "[CPU_ENV]",
   "language": "python",
   "name": "cpu_env"
  },
  "language_info": {
   "codemirror_mode": {
    "name": "ipython",
    "version": 3
   },
   "file_extension": ".py",
   "mimetype": "text/x-python",
   "name": "python",
   "nbconvert_exporter": "python",
   "pygments_lexer": "ipython3",
   "version": "3.6.9"
  }
 },
 "nbformat": 4,
 "nbformat_minor": 2
}
