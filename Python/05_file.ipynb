{
 "cells": [
  {
   "cell_type": "code",
   "execution_count": 1,
   "metadata": {},
   "outputs": [
    {
     "name": "stdout",
     "output_type": "stream",
     "text": [
      "홍길동,18,7,19\n",
      " 최길동,58,70,15\n",
      " 아이유,92,94,99\n",
      " 김연아,17,20,22\n",
      " 이선희,76,25,14\n",
      " 강감찬,90,19,71\n",
      " 신사임당,31,23,16  "
     ]
    }
   ],
   "source": [
    "## python의 기본 파일처리\n",
    "\n",
    "## 먼저 file handle을 획득해야 해요!\n",
    "# file객체 = file handle\n",
    "## 사용할 데이터파일을 오픈해요\n",
    "## 읽기용도, 쓰기용도\n",
    "\n",
    "file1 = open(\"student_score.txt\",\"r\")\n",
    "# r : read 의 목적으로 열거야\n",
    "file2 = open(\"backup.txt\",\"w\")\n",
    "# write : 쓰기용도\n",
    "# 파일을 복사해서 만들겠다\n",
    "\n",
    "# 학생 성적파일에서 한줄씩 읽어와서\n",
    "# output console에 출력하고 해당내용을 backup 파일에 저장\n",
    "\n",
    "# \"\"(빈문자열)=False\n",
    "\n",
    "# while 파일끝이 아닐동안:\n",
    "# =>\n",
    "while True:\n",
    "    line = file1.readline()          # 한줄을 읽는다\n",
    "#     print(line)                # 출력한 다음 한줄을 띄어요!(무조건 개행)\n",
    "    print(line, end=\" \")     # 한줄띄지 말고 \n",
    "    if not line:             # 탈출조건 # 만약에 line이 끝이면 # not \"\"=>not False=>True\n",
    "        break;    # 가장 가까운 loop(반복문)한개만 탈출\n",
    "    file2.write(line)\n",
    "# 데이터 한줄 띄어져있는 이유 : 개행문자 포함 + print(개행문자포함) = 2개이기때문       \n",
    "# 홍길동,18,7,19+(개행문자 \\n)\n",
    "# 최길동,58,70,15+(개행문자 \\n)\n",
    "# 아이유,92,94,99+(개행문자 \\n)\n",
    "# 김연아,17,20,22+(개행문자 \\n)\n",
    "# 이선희,76,25,14+(개행문자 \\n)\n",
    "# 강감찬,90,19,71+(개행문자 \\n)\n",
    "# 신사임당,31,23,16\n",
    "\n",
    "# 파일을 닫지 않으면 저장 되지않아!!!!!\n",
    "# 작업이 다 끝나면 파일을 닫아야해\n",
    "\n",
    "file1.close()\n",
    "file2.close()\n",
    "\n"
   ]
  }
 ],
 "metadata": {
  "kernelspec": {
   "display_name": "[CPU_ENV]",
   "language": "python",
   "name": "cpu_env"
  },
  "language_info": {
   "codemirror_mode": {
    "name": "ipython",
    "version": 3
   },
   "file_extension": ".py",
   "mimetype": "text/x-python",
   "name": "python",
   "nbconvert_exporter": "python",
   "pygments_lexer": "ipython3",
   "version": "3.6.9"
  }
 },
 "nbformat": 4,
 "nbformat_minor": 2
}
