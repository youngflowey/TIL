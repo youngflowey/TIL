{
 "cells": [
  {
   "cell_type": "code",
   "execution_count": 10,
   "metadata": {},
   "outputs": [
    {
     "name": "stdout",
     "output_type": "stream",
     "text": [
      "9\n",
      "7 3\n",
      "7\n"
     ]
    }
   ],
   "source": [
    "n=int(input())\n",
    "a,b = map(int, input().split())\n",
    "m=int(input())"
   ]
  },
  {
   "cell_type": "code",
   "execution_count": 4,
   "metadata": {},
   "outputs": [
    {
     "ename": "SyntaxError",
     "evalue": "invalid character in identifier (<ipython-input-4-afe2c5399ea0>, line 1)",
     "output_type": "error",
     "traceback": [
      "\u001b[1;36m  File \u001b[1;32m\"<ipython-input-4-afe2c5399ea0>\"\u001b[1;36m, line \u001b[1;32m1\u001b[0m\n\u001b[1;33m    n = int(input())\u001b[0m\n\u001b[1;37m     ^\u001b[0m\n\u001b[1;31mSyntaxError\u001b[0m\u001b[1;31m:\u001b[0m invalid character in identifier\n"
     ]
    }
   ],
   "source": [
    "graph = list([0]*(n) for i in range(n))\n",
    "check = list([False]*(n))\n",
    "dist = list([0]*(n))\n",
    " "
   ]
  },
  {
   "cell_type": "code",
   "execution_count": 3,
   "metadata": {},
   "outputs": [
    {
     "ename": "SyntaxError",
     "evalue": "invalid character in identifier (<ipython-input-3-676fb7365b14>, line 1)",
     "output_type": "error",
     "traceback": [
      "\u001b[1;36m  File \u001b[1;32m\"<ipython-input-3-676fb7365b14>\"\u001b[1;36m, line \u001b[1;32m1\u001b[0m\n\u001b[1;33m    n = int(input())\u001b[0m\n\u001b[1;37m     ^\u001b[0m\n\u001b[1;31mSyntaxError\u001b[0m\u001b[1;31m:\u001b[0m invalid character in identifier\n"
     ]
    }
   ],
   "source": [
    "for i in range(m) :\n",
    "    x, y = map(int, input().split())\n",
    "    graph[x-1][y-1] = graph[y-1][x-1] = 1\n",
    "    \n",
    "def bfs(x) : \n",
    "    \n",
    "    q = [x]\n",
    " \n",
    "    while q : \n",
    "        k = q.pop(0)\n",
    "               \n",
    "        for i in range(n) :\n",
    " \n",
    "            if graph[k][i] == 1 and check[i] == False :     \n",
    "                dist[i] = dist[k] + 1\n",
    "                check[i] = True\n",
    "                q.append(i)\n",
    "\n",
    "bfs(a-1)\n",
    " \n",
    "print(dist[b-1] if dist[b-1] !=0 else -1)"
   ]
  }
 ],
 "metadata": {
  "kernelspec": {
   "display_name": "[CPU_ENV]",
   "language": "python",
   "name": "cpu_env"
  },
  "language_info": {
   "codemirror_mode": {
    "name": "ipython",
    "version": 3
   },
   "file_extension": ".py",
   "mimetype": "text/x-python",
   "name": "python",
   "nbconvert_exporter": "python",
   "pygments_lexer": "ipython3",
   "version": "3.6.9"
  }
 },
 "nbformat": 4,
 "nbformat_minor": 2
}
