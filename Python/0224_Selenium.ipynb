{
 "cells": [
  {
   "cell_type": "markdown",
   "metadata": {},
   "source": [
    "# Selenium Chrome Driver 사용 브라우저 제어"
   ]
  },
  {
   "cell_type": "code",
   "execution_count": 4,
   "metadata": {},
   "outputs": [],
   "source": [
    "from selenium import webdriver\n",
    "\n",
    "chrom_driver = webdriver.Chrome('C:/Users/student/chromdriver/chromedriver.exe')\n",
    "chrom_driver.implicitly_wait(3)\n",
    "chrom_driver.get('https://google.com')\n",
    "chrom_driver.save_screenshot('./output/google_site.png')\n",
    "chrom_driver.close()\n",
    "\n",
    "# 크롬을 이용해서 브라우저 실행\n",
    "# 구글 잠깐 열렸다가 스크린샷 저장하고\n"
   ]
  },
  {
   "cell_type": "markdown",
   "metadata": {},
   "source": [
    "# PhantomJS 사용 브라우저 제어"
   ]
  },
  {
   "cell_type": "code",
   "execution_count": 7,
   "metadata": {},
   "outputs": [],
   "source": [
    "url = \"http://www.naver.com\"\n",
    "browser = webdriver.PhantomJS('C:/Users/student/phantomjs/bin/phantomjs.exe')\n",
    "browser.implicitly_wait(3)  # 3초 대기\n",
    "browser.get('http://www.naver.com') # url 요청\n",
    "browser.save_screenshot('./output/naver_site.png')  # 실행된 브라우저화면 저장\n",
    "browser.quit()"
   ]
  },
  {
   "cell_type": "markdown",
   "metadata": {},
   "source": [
    "# Selenium Chrome Driver 사용자 로그인 페이지 가져오기"
   ]
  },
  {
   "cell_type": "code",
   "execution_count": 11,
   "metadata": {},
   "outputs": [
    {
     "name": "stdout",
     "output_type": "stream",
     "text": [
      "마일리지 : 2,000\n",
      "이코인 : 0\n",
      "회원등급 : 일반\n"
     ]
    }
   ],
   "source": [
    "from selenium import webdriver\n",
    "from bs4 import BeautifulSoup\n",
    "\n",
    "options = webdriver.ChromeOptions()\n",
    "options.add_argument('--headless')\n",
    "options.add_argument('--no-sandbox')\n",
    "options.add_argument('--diable-dev-shm-usage')\n",
    "chrom_driver = webdriver.Chrome('C:/Users/student/chromdriver/chromedriver.exe', options=options)\n",
    "chrom_driver.implicitly_wait(3)\n",
    "# 로그인페이지 요청\n",
    "chrom_driver.get('https://www.hanbit.co.kr/member/login.html')\n",
    "\n",
    "# 아이디, 패스워드 인수로 넣고 이벤트 발생시키기\n",
    "chrom_driver.find_element_by_name('m_id').send_keys('freshnsy')\n",
    "chrom_driver.find_element_by_name('m_passwd').send_keys('shth5069')\n",
    "\n",
    "# 로그인버튼 클릭 이벤트\n",
    "chrom_driver.find_element_by_xpath('//*[@id=\"login_btn\"]').click()  # xpath -> // \n",
    "\n",
    "# 드라이버를 이용해서 마이페이지\n",
    "chrom_driver.get('https://www.hanbit.co.kr/myhanbit/myhanbit.html')\n",
    "html = chrom_driver.page_source\n",
    "soup = BeautifulSoup(html, 'html.parser')\n",
    "\n",
    "mileage = soup.select_one('.mileage_section1 > dd > span').text\n",
    "ecoin = soup.select_one('.mileage_section2 > dd > span').text\n",
    "print('마일리지 : ' +mileage)\n",
    "print('이코인 : ' +ecoin )\n",
    "\n",
    "rank = soup.select_one('.my_rating > p > span').text\n",
    "print('회원등급 : ' +rank )"
   ]
  },
  {
   "cell_type": "markdown",
   "metadata": {},
   "source": [
    "## 다음카페 목록 가져오기\n",
    "- https://logins.daum.net/accounts/signinform.do?url=https%3A%2F%2Fwww.daum.net%2F\n",
    "- 아이디 input 태그 의 name : id\n",
    "- 비밀번호 input 태그의 name : pw\n",
    "- 로그인 버튼  : loginBtn\n",
    "- www.daum.net/dsp/cafe/_c21_/api/daumtop/v2/mycafe\n",
    "- 가입 카페 목록 가져오기 : ul.list_cafelist>li>a>span 의 내용"
   ]
  },
  {
   "cell_type": "code",
   "execution_count": null,
   "metadata": {},
   "outputs": [],
   "source": [
    "https://logins.daum.net/accounts/signinform.do?url=https%3A%2F%2Fwww.daum.net%2F"
   ]
  },
  {
   "cell_type": "code",
   "execution_count": 35,
   "metadata": {
    "scrolled": true
   },
   "outputs": [
    {
     "name": "stdout",
     "output_type": "stream",
     "text": [
      "0\n"
     ]
    }
   ],
   "source": [
    "from selenium import webdriver\n",
    "from bs4 import BeautifulSoup\n",
    "\n",
    "options = webdriver.ChromeOptions()\n",
    "options.add_argument('--headless')\n",
    "options.add_argument('--no-sandbox')\n",
    "options.add_argument('--diable-dev-shm-usage')\n",
    "chrom_driver = webdriver.Chrome('C:/Users/student/chromdriver/chromedriver.exe', options=options)\n",
    "chrom_driver.implicitly_wait(3)\n",
    "chrom_driver.get('https://logins.daum.net/accounts/signinform.do?url=https%3A%2F%2Fwww.daum.net%2F')\n",
    "\n",
    "#아이디, 패스워드 인수로 넣고 이벤트 발생시키기\n",
    "chrom_driver.find_element_by_name('id').send_keys('sy5069')\n",
    "chrom_driver.find_element_by_name('pw').send_keys('shth5069')\n",
    "\n",
    "#로그인 버튼 클릭 이벤트\n",
    "chrom_driver.find_element_by_xpath(\"//*[@id='loginBtn']\").click()\n",
    "\n",
    "chrom_driver.get('https://www.daum.net/dsp/cafe/_c21_/api/daumtop/v2/mycafe')\n",
    "html = chrom_driver.page_source\n",
    "#print(html)\n",
    "soup = BeautifulSoup(html, 'html.parser') \n",
    "\n",
    "cafe_list = soup.select('.list_cafelist > li > a > span')\n",
    "print(len(cafe_list))\n",
    "names = []\n",
    "for span in cafe_list:\n",
    "    names.append(span.text)\n",
    "for n in range(len(names)):\n",
    "    print(n)\n"
   ]
  },
  {
   "cell_type": "code",
   "execution_count": null,
   "metadata": {},
   "outputs": [],
   "source": [
    "\n",
    "\n",
    "from selenium import webdriver\n",
    "from bs4 import BeautifulSoup\n",
    "\n",
    "options = webdriver.ChromeOptions()\n",
    "options.add_argument('--headless')\n",
    "options.add_argument('--no-sandbox')\n",
    "options.add_argument('--diable-dev-shm-usage')\n",
    "chrom_driver = webdriver.Chrome('C://Users/student/chromedriver/chromedriver.exe', options=options)\n",
    "chrom_driver.implicitly_wait(3)\n",
    "chrom_driver.get('https://logins.daum.net/accounts/signinform.do?url=https%3A%2F%2Fwww.daum.net%2F')\n",
    "\n",
    "#아이디, 패스워드 인수로 넣고 이벤트 발생시키기\n",
    "chrom_driver.find_element_by_name('id').send_keys('아이디')\n",
    "chrom_driver.find_element_by_name('pw').send_keys('패스워드')\n",
    "\n",
    "#로그인 버튼 클릭 이벤트\n",
    "chrom_driver.find_element_by_xpath(\"//*[@id='loginBtn']\").click()\n",
    "\n",
    "chrom_driver.get('https://www.daum.net/dsp/cafe/_c21_/api/daumtop/v2/mycafe')\n",
    "html = chrom_driver.page_source\n",
    "#print(html)\n",
    "soup = BeautifulSoup(html, 'html.parser') \n",
    "\n",
    "cafe_list = soup.select('.list_cafelist > li > a > span')\n",
    "print(len(cafe_list))\n",
    "names = []\n",
    "for span in cafe_list:\n",
    "    names.append(span.text)\n",
    "for n in range(len(names)):\n",
    "    print(n)\n"
   ]
  },
  {
   "cell_type": "markdown",
   "metadata": {},
   "source": [
    "# 셀프 주유소는 정말 저렴할까\n",
    "- 주유소의 가격을 조사해서 셀프 주유소와 아닌 주유소를 구분해서 비교하면 그만\n",
    "- 의견, 가설, 사실을 데이터로 표현하고 검증하는 것도 데이터 분석가가 하는일"
   ]
  },
  {
   "cell_type": "code",
   "execution_count": 22,
   "metadata": {},
   "outputs": [
    {
     "ename": "SyntaxError",
     "evalue": "invalid syntax (<ipython-input-22-16389138768f>, line 1)",
     "output_type": "error",
     "traceback": [
      "\u001b[1;36m  File \u001b[1;32m\"<ipython-input-22-16389138768f>\"\u001b[1;36m, line \u001b[1;32m1\u001b[0m\n\u001b[1;33m    http://www.opinet.co.kr/user/main/mainView.do\u001b[0m\n\u001b[1;37m          ^\u001b[0m\n\u001b[1;31mSyntaxError\u001b[0m\u001b[1;31m:\u001b[0m invalid syntax\n"
     ]
    }
   ],
   "source": [
    "http://www.opinet.co.kr/user/main/mainView.do"
   ]
  },
  {
   "cell_type": "markdown",
   "metadata": {},
   "source": [
    "## 4-1 Selenium 사용하기\n",
    "- Selenium은 Anaconda에 포함된 모듈이 아니기 때문에 별도로 설치를 해야 한다\n",
    "- pip install selenium만으로 쉽게 설치되지만\n",
    "- Selenium 모듈 설치만으로는 동작하지 않는다\n"
   ]
  },
  {
   "cell_type": "markdown",
   "metadata": {},
   "source": [
    "## 4-2 서울시 구별 주유소 가격 정보 얻기"
   ]
  },
  {
   "cell_type": "code",
   "execution_count": 30,
   "metadata": {},
   "outputs": [
    {
     "ename": "SessionNotCreatedException",
     "evalue": "Message: session not created: This version of ChromeDriver only supports Chrome version 78\n",
     "output_type": "error",
     "traceback": [
      "\u001b[1;31m---------------------------------------------------------------------------\u001b[0m",
      "\u001b[1;31mSessionNotCreatedException\u001b[0m                Traceback (most recent call last)",
      "\u001b[1;32m<ipython-input-30-1b81132e35c4>\u001b[0m in \u001b[0;36m<module>\u001b[1;34m\u001b[0m\n\u001b[0;32m      1\u001b[0m \u001b[0mdriver\u001b[0m \u001b[1;33m=\u001b[0m \u001b[0mwebdriver\u001b[0m\u001b[1;33m.\u001b[0m\u001b[0mChrome\u001b[0m\u001b[1;33m(\u001b[0m\u001b[1;34m'C:/Users/student/chromdriver/chromedriver.exe'\u001b[0m\u001b[1;33m)\u001b[0m\u001b[1;33m\u001b[0m\u001b[1;33m\u001b[0m\u001b[0m\n\u001b[1;32m----> 2\u001b[1;33m \u001b[0mdriver\u001b[0m \u001b[1;33m=\u001b[0m \u001b[0mwebdriver\u001b[0m\u001b[1;33m.\u001b[0m\u001b[0mChrome\u001b[0m\u001b[1;33m(\u001b[0m\u001b[1;34m'chromedriver'\u001b[0m\u001b[1;33m)\u001b[0m\u001b[1;33m\u001b[0m\u001b[1;33m\u001b[0m\u001b[0m\n\u001b[0m\u001b[0;32m      3\u001b[0m \u001b[0mdriver\u001b[0m\u001b[1;33m.\u001b[0m\u001b[0mget\u001b[0m\u001b[1;33m(\u001b[0m\u001b[1;34m'http://www.opinet.co.kr/searRgSelect.do'\u001b[0m\u001b[1;33m)\u001b[0m\u001b[1;33m\u001b[0m\u001b[1;33m\u001b[0m\u001b[0m\n\u001b[0;32m      4\u001b[0m \u001b[0mdriver\u001b[0m\u001b[1;33m.\u001b[0m\u001b[0mget\u001b[0m\u001b[1;33m(\u001b[0m\u001b[1;34m'http://www.opinet.co.kr/searRgSelect.do'\u001b[0m\u001b[1;33m)\u001b[0m\u001b[1;33m\u001b[0m\u001b[1;33m\u001b[0m\u001b[0m\n\u001b[0;32m      5\u001b[0m \u001b[1;33m\u001b[0m\u001b[0m\n",
      "\u001b[1;32m~\\Anaconda3\\envs\\cpu_env\\lib\\site-packages\\selenium\\webdriver\\chrome\\webdriver.py\u001b[0m in \u001b[0;36m__init__\u001b[1;34m(self, executable_path, port, options, service_args, desired_capabilities, service_log_path, chrome_options, keep_alive)\u001b[0m\n\u001b[0;32m     79\u001b[0m                     \u001b[0mremote_server_addr\u001b[0m\u001b[1;33m=\u001b[0m\u001b[0mself\u001b[0m\u001b[1;33m.\u001b[0m\u001b[0mservice\u001b[0m\u001b[1;33m.\u001b[0m\u001b[0mservice_url\u001b[0m\u001b[1;33m,\u001b[0m\u001b[1;33m\u001b[0m\u001b[1;33m\u001b[0m\u001b[0m\n\u001b[0;32m     80\u001b[0m                     keep_alive=keep_alive),\n\u001b[1;32m---> 81\u001b[1;33m                 desired_capabilities=desired_capabilities)\n\u001b[0m\u001b[0;32m     82\u001b[0m         \u001b[1;32mexcept\u001b[0m \u001b[0mException\u001b[0m\u001b[1;33m:\u001b[0m\u001b[1;33m\u001b[0m\u001b[1;33m\u001b[0m\u001b[0m\n\u001b[0;32m     83\u001b[0m             \u001b[0mself\u001b[0m\u001b[1;33m.\u001b[0m\u001b[0mquit\u001b[0m\u001b[1;33m(\u001b[0m\u001b[1;33m)\u001b[0m\u001b[1;33m\u001b[0m\u001b[1;33m\u001b[0m\u001b[0m\n",
      "\u001b[1;32m~\\Anaconda3\\envs\\cpu_env\\lib\\site-packages\\selenium\\webdriver\\remote\\webdriver.py\u001b[0m in \u001b[0;36m__init__\u001b[1;34m(self, command_executor, desired_capabilities, browser_profile, proxy, keep_alive, file_detector, options)\u001b[0m\n\u001b[0;32m    155\u001b[0m             warnings.warn(\"Please use FirefoxOptions to set browser profile\",\n\u001b[0;32m    156\u001b[0m                           DeprecationWarning, stacklevel=2)\n\u001b[1;32m--> 157\u001b[1;33m         \u001b[0mself\u001b[0m\u001b[1;33m.\u001b[0m\u001b[0mstart_session\u001b[0m\u001b[1;33m(\u001b[0m\u001b[0mcapabilities\u001b[0m\u001b[1;33m,\u001b[0m \u001b[0mbrowser_profile\u001b[0m\u001b[1;33m)\u001b[0m\u001b[1;33m\u001b[0m\u001b[1;33m\u001b[0m\u001b[0m\n\u001b[0m\u001b[0;32m    158\u001b[0m         \u001b[0mself\u001b[0m\u001b[1;33m.\u001b[0m\u001b[0m_switch_to\u001b[0m \u001b[1;33m=\u001b[0m \u001b[0mSwitchTo\u001b[0m\u001b[1;33m(\u001b[0m\u001b[0mself\u001b[0m\u001b[1;33m)\u001b[0m\u001b[1;33m\u001b[0m\u001b[1;33m\u001b[0m\u001b[0m\n\u001b[0;32m    159\u001b[0m         \u001b[0mself\u001b[0m\u001b[1;33m.\u001b[0m\u001b[0m_mobile\u001b[0m \u001b[1;33m=\u001b[0m \u001b[0mMobile\u001b[0m\u001b[1;33m(\u001b[0m\u001b[0mself\u001b[0m\u001b[1;33m)\u001b[0m\u001b[1;33m\u001b[0m\u001b[1;33m\u001b[0m\u001b[0m\n",
      "\u001b[1;32m~\\Anaconda3\\envs\\cpu_env\\lib\\site-packages\\selenium\\webdriver\\remote\\webdriver.py\u001b[0m in \u001b[0;36mstart_session\u001b[1;34m(self, capabilities, browser_profile)\u001b[0m\n\u001b[0;32m    250\u001b[0m         parameters = {\"capabilities\": w3c_caps,\n\u001b[0;32m    251\u001b[0m                       \"desiredCapabilities\": capabilities}\n\u001b[1;32m--> 252\u001b[1;33m         \u001b[0mresponse\u001b[0m \u001b[1;33m=\u001b[0m \u001b[0mself\u001b[0m\u001b[1;33m.\u001b[0m\u001b[0mexecute\u001b[0m\u001b[1;33m(\u001b[0m\u001b[0mCommand\u001b[0m\u001b[1;33m.\u001b[0m\u001b[0mNEW_SESSION\u001b[0m\u001b[1;33m,\u001b[0m \u001b[0mparameters\u001b[0m\u001b[1;33m)\u001b[0m\u001b[1;33m\u001b[0m\u001b[1;33m\u001b[0m\u001b[0m\n\u001b[0m\u001b[0;32m    253\u001b[0m         \u001b[1;32mif\u001b[0m \u001b[1;34m'sessionId'\u001b[0m \u001b[1;32mnot\u001b[0m \u001b[1;32min\u001b[0m \u001b[0mresponse\u001b[0m\u001b[1;33m:\u001b[0m\u001b[1;33m\u001b[0m\u001b[1;33m\u001b[0m\u001b[0m\n\u001b[0;32m    254\u001b[0m             \u001b[0mresponse\u001b[0m \u001b[1;33m=\u001b[0m \u001b[0mresponse\u001b[0m\u001b[1;33m[\u001b[0m\u001b[1;34m'value'\u001b[0m\u001b[1;33m]\u001b[0m\u001b[1;33m\u001b[0m\u001b[1;33m\u001b[0m\u001b[0m\n",
      "\u001b[1;32m~\\Anaconda3\\envs\\cpu_env\\lib\\site-packages\\selenium\\webdriver\\remote\\webdriver.py\u001b[0m in \u001b[0;36mexecute\u001b[1;34m(self, driver_command, params)\u001b[0m\n\u001b[0;32m    319\u001b[0m         \u001b[0mresponse\u001b[0m \u001b[1;33m=\u001b[0m \u001b[0mself\u001b[0m\u001b[1;33m.\u001b[0m\u001b[0mcommand_executor\u001b[0m\u001b[1;33m.\u001b[0m\u001b[0mexecute\u001b[0m\u001b[1;33m(\u001b[0m\u001b[0mdriver_command\u001b[0m\u001b[1;33m,\u001b[0m \u001b[0mparams\u001b[0m\u001b[1;33m)\u001b[0m\u001b[1;33m\u001b[0m\u001b[1;33m\u001b[0m\u001b[0m\n\u001b[0;32m    320\u001b[0m         \u001b[1;32mif\u001b[0m \u001b[0mresponse\u001b[0m\u001b[1;33m:\u001b[0m\u001b[1;33m\u001b[0m\u001b[1;33m\u001b[0m\u001b[0m\n\u001b[1;32m--> 321\u001b[1;33m             \u001b[0mself\u001b[0m\u001b[1;33m.\u001b[0m\u001b[0merror_handler\u001b[0m\u001b[1;33m.\u001b[0m\u001b[0mcheck_response\u001b[0m\u001b[1;33m(\u001b[0m\u001b[0mresponse\u001b[0m\u001b[1;33m)\u001b[0m\u001b[1;33m\u001b[0m\u001b[1;33m\u001b[0m\u001b[0m\n\u001b[0m\u001b[0;32m    322\u001b[0m             response['value'] = self._unwrap_value(\n\u001b[0;32m    323\u001b[0m                 response.get('value', None))\n",
      "\u001b[1;32m~\\Anaconda3\\envs\\cpu_env\\lib\\site-packages\\selenium\\webdriver\\remote\\errorhandler.py\u001b[0m in \u001b[0;36mcheck_response\u001b[1;34m(self, response)\u001b[0m\n\u001b[0;32m    240\u001b[0m                 \u001b[0malert_text\u001b[0m \u001b[1;33m=\u001b[0m \u001b[0mvalue\u001b[0m\u001b[1;33m[\u001b[0m\u001b[1;34m'alert'\u001b[0m\u001b[1;33m]\u001b[0m\u001b[1;33m.\u001b[0m\u001b[0mget\u001b[0m\u001b[1;33m(\u001b[0m\u001b[1;34m'text'\u001b[0m\u001b[1;33m)\u001b[0m\u001b[1;33m\u001b[0m\u001b[1;33m\u001b[0m\u001b[0m\n\u001b[0;32m    241\u001b[0m             \u001b[1;32mraise\u001b[0m \u001b[0mexception_class\u001b[0m\u001b[1;33m(\u001b[0m\u001b[0mmessage\u001b[0m\u001b[1;33m,\u001b[0m \u001b[0mscreen\u001b[0m\u001b[1;33m,\u001b[0m \u001b[0mstacktrace\u001b[0m\u001b[1;33m,\u001b[0m \u001b[0malert_text\u001b[0m\u001b[1;33m)\u001b[0m\u001b[1;33m\u001b[0m\u001b[1;33m\u001b[0m\u001b[0m\n\u001b[1;32m--> 242\u001b[1;33m         \u001b[1;32mraise\u001b[0m \u001b[0mexception_class\u001b[0m\u001b[1;33m(\u001b[0m\u001b[0mmessage\u001b[0m\u001b[1;33m,\u001b[0m \u001b[0mscreen\u001b[0m\u001b[1;33m,\u001b[0m \u001b[0mstacktrace\u001b[0m\u001b[1;33m)\u001b[0m\u001b[1;33m\u001b[0m\u001b[1;33m\u001b[0m\u001b[0m\n\u001b[0m\u001b[0;32m    243\u001b[0m \u001b[1;33m\u001b[0m\u001b[0m\n\u001b[0;32m    244\u001b[0m     \u001b[1;32mdef\u001b[0m \u001b[0m_value_or_default\u001b[0m\u001b[1;33m(\u001b[0m\u001b[0mself\u001b[0m\u001b[1;33m,\u001b[0m \u001b[0mobj\u001b[0m\u001b[1;33m,\u001b[0m \u001b[0mkey\u001b[0m\u001b[1;33m,\u001b[0m \u001b[0mdefault\u001b[0m\u001b[1;33m)\u001b[0m\u001b[1;33m:\u001b[0m\u001b[1;33m\u001b[0m\u001b[1;33m\u001b[0m\u001b[0m\n",
      "\u001b[1;31mSessionNotCreatedException\u001b[0m: Message: session not created: This version of ChromeDriver only supports Chrome version 78\n"
     ]
    }
   ],
   "source": [
    "driver = webdriver.Chrome('C:/Users/student/chromdriver/chromedriver.exe')\n",
    "driver = webdriver.Chrome('chromedriver')\n",
    "driver.get('http://www.opinet.co.kr/searRgSelect.do')\n",
    "driver.get('http://www.opinet.co.kr/searRgSelect.do')\n",
    "\n",
    "gu_list_raw = driver.find_element_by_xpath('''//*[@id=\"SIGUNGU_NM0\"]''')\n",
    "gu_list = gu_list_raw.find_element_by_tag_name('option')  \n",
    "\n",
    "# 자바스크립트로 파라미터명으로 넘김\n",
    "# 링크걸려있는거에서 못찾음\n",
    "# 파라미터가 제대로 넘어가지 않아서 정보가 제대로 표시가 안됨\n",
    "# 해당하는 것을 못가져옴"
   ]
  },
  {
   "cell_type": "code",
   "execution_count": null,
   "metadata": {},
   "outputs": [],
   "source": [
    "http://www.opinet.co.kr/user/main/mainView.do\n",
    "a의 id gnb_0_0   click이벤트 발생시키고\n",
    "\n",
    "\n",
    "from selenium import webdriver\n",
    "from bs4 import BeautifulSoup\n",
    "\n",
    "options = webdriver.ChromeOptions()\n",
    "options.add_argument('--headless')\n",
    "options.add_argument('--no-sandbox')\n",
    "options.add_argument('--diable-dev-shm-usage')\n",
    "chrom_driver = webdriver.Chrome('C://Users/student/chromedriver/chromedriver.exe', options=options)\n",
    "chrom_driver.implicitly_wait(3)\n",
    "chrom_driver.get('http://www.opinet.co.kr/user/main/mainView.do')\n",
    "\n",
    "chrom_driver.find_element_by_id(\"gnb_0_0\").click()\n",
    "chrom_driver.get('http://www.opinet.co.kr/searRgSelect.do')\n",
    "html = chrom_driver.page_source\n",
    "soup = BeautifulSoup(html, 'html.parser') "
   ]
  },
  {
   "cell_type": "markdown",
   "metadata": {},
   "source": [
    "- xpath를 통해 element를 찾고 gu_list_raw변수에 저장한다음\n",
    "- select밑에 option이라는 태그에 구 이름이 저장되어있는 것을 알 수 있다.\n",
    "- 그 구 리스트는 find_element_by_tag_name으로 option이라는 태그를 찾으면 된다.\n",
    "- 이때 element라고 복수형이 표현되었다는 것에 주의해야한다.\n",
    "- Selenium 개발진은 단수형 명령에서는 하나만, 복수형에서는 찾은 것 전부를 리스트형으로 반환해줌"
   ]
  },
  {
   "cell_type": "code",
   "execution_count": null,
   "metadata": {},
   "outputs": [],
   "source": [
    "gu_names=[option]"
   ]
  },
  {
   "cell_type": "markdown",
   "metadata": {},
   "source": [
    "# 네이버 API로 검색"
   ]
  },
  {
   "cell_type": "code",
   "execution_count": 31,
   "metadata": {
    "scrolled": true
   },
   "outputs": [
    {
     "name": "stdout",
     "output_type": "stream",
     "text": [
      "{\n",
      "\"lastBuildDate\": \"Mon, 24 Feb 2020 13:30:21 +0900\",\n",
      "\"total\": 18996,\n",
      "\"start\": 1,\n",
      "\"display\": 10,\n",
      "\"items\": [\n",
      "{\n",
      "\"title\": \"<b>이상아</b>, '밥먹다' 출현 이혼 아픔에 김수미 위로(사주 운 흐름)... \",\n",
      "\"link\": \"https:\\/\\/blog.naver.com\\/notsilly?Redirect=Log&logNo=221813175921\",\n",
      "\"description\": \"SBS플러스 ‘김수미의 밥은 먹고 다니냐?’ 17일 방송에는 배우 <b>이상아</b>가 출연해 세 번의 결혼과 이혼을 언급했다. <b>이상아</b>는 “딸이 어릴 때 새 아빠를 만들어주고 싶었다. 아빠랑 같이 평생 살 수 있을 거라... \",\n",
      "\"bloggername\": \"코코넛 블로그 (사주,심리,개발)\",\n",
      "\"bloggerlink\": \"https://blog.naver.com/notsilly\",\n",
      "\"postdate\": \"20200218\"\n",
      "\n",
      "},\n",
      "{\n",
      "\"title\": \"<b>이상아</b> 김한석 이혼 전남편들 인생다큐 마이웨이\",\n",
      "\"link\": \"https:\\/\\/blog.naver.com\\/risingkeyword?Redirect=Log&logNo=221814662091\",\n",
      "\"description\": \"오늘 소개할 배우는 <b>이상아</b>입니다. 1. <b>이상아</b> 나이 학교 데뷔 영화 '길소뜸'에 출연한 <b>이상아</b> (출처-매일경제) 배우 <b>이상아</b>는 1972년 생으로 현재 49살입니다. 서울 용산에서 3녀 중 둘째로 태어난 <b>이상아</b>는... \",\n",
      "\"bloggername\": \"급상승검색어\",\n",
      "\"bloggerlink\": \"https://blog.naver.com/risingkeyword\",\n",
      "\"postdate\": \"20200219\"\n",
      "\n",
      "},\n",
      "{\n",
      "\"title\": \"<b>이상아</b> 이혼 결혼 세번?! 전남편들 리즈 시절 딸 윤서진 인스타... \",\n",
      "\"link\": \"https:\\/\\/blog.naver.com\\/kiskiss90?Redirect=Log&logNo=221812838745\",\n",
      "\"description\": \"원조 책받침 여신, 하이틴 스타 <b>이상아</b>가 오늘 방송할 '김수미의 밥은 먹고 다니냐?' 에 출연할 예정이에요. 오랜만에 보는 얼굴이라 너무 반가운데요. ^^ <b>이상아</b> 아시는 분들도 모르시는 분들도 계실텐데... \",\n",
      "\"bloggername\": \"사진으로 보는 달콤`s 스토리\",\n",
      "\"bloggerlink\": \"https://blog.naver.com/kiskiss90\",\n",
      "\"postdate\": \"20200217\"\n",
      "\n",
      "},\n",
      "{\n",
      "\"title\": \"밥은먹고 다니냐 <b>이상아</b> 전남편들 나이 리즈\",\n",
      "\"link\": \"https:\\/\\/blog.naver.com\\/cpdknight?Redirect=Log&logNo=221812296348\",\n",
      "\"description\": \"밥은먹고 다니냐 <b>이상아</b> 전남편들 나이 리즈 SBS플러스 '김수미의 밥은 먹고 다니냐?'에서는 배우 <b>이상아</b>가 출연해 이혼에 대해 털어놓았습니다. 김수미는 국밥집을 찾은 <b>이상아</b>에게 &quot;가끔 너에 대해... \",\n",
      "\"bloggername\": \"리얼스토리즘\",\n",
      "\"bloggerlink\": \"https://blog.naver.com/cpdknight\",\n",
      "\"postdate\": \"20200217\"\n",
      "\n",
      "},\n",
      "{\n",
      "\"title\": \"이혼 아픔 겪었던 <b>이상아</b>, 김수미 위로\",\n",
      "\"link\": \"https:\\/\\/blog.naver.com\\/jw43357?Redirect=Log&logNo=221813432511\",\n",
      "\"description\": \"<b>이상아</b>가 세번의 결혼과 세번의 이혼에 대해 솔직한 심정을 전하며 눈물을 쏟았다. An abnormal child who have experienced the anguish of divorce. <b>이상아</b>는 김혜수, 하희라와 함께 1980년대 여배우 트로이카로 활약했다.... \",\n",
      "\"bloggername\": \"버스터데이\",\n",
      "\"bloggerlink\": \"https://blog.naver.com/jw43357\",\n",
      "\"postdate\": \"20200218\"\n",
      "\n",
      "},\n",
      "{\n",
      "\"title\": \"밥먹다 <b>이상아</b> 고백한 3번 결혼+3번 이혼 이유→98kg... \",\n",
      "\"link\": \"https:\\/\\/blog.naver.com\\/khi-9012?Redirect=Log&logNo=221813379956\",\n",
      "\"description\": \"<b>이상아</b>가 세번의 결혼과 세번의 이혼에 대해 솔직한 심정을 전하며 눈물을 쏟았다. 17일 방송한 SBS플러스 '김수미의 밥은 먹고 다니냐?'에서는 원조 책받침 여신 <b>이상아</b>가 출연했다. 매생이 국밥 한상을 차려... \",\n",
      "\"bloggername\": \"스타와우리들\",\n",
      "\"bloggerlink\": \"https://blog.naver.com/khi-9012\",\n",
      "\"postdate\": \"20200218\"\n",
      "\n",
      "},\n",
      "{\n",
      "\"title\": \"<b>이상아</b>, 나이49 세번의 결혼과 세번의 이혼&quot;/ <b>이상아</b> 나이 14세... \",\n",
      "\"link\": \"https:\\/\\/blog.naver.com\\/cwmylee?Redirect=Log&logNo=221813220784\",\n",
      "\"description\": \"김수미는 세번의 결혼과 이혼을 한 <b>이상아</b>에게 &quot;예쁜 여자들이 남자 보는 눈이 없다. 할리우드 내놔도... &quot;라고 반문하자 <b>이상아</b>는 &quot;나중에 힘들어서 헤어졌다. 결혼할수록 빚이 늘어났다. 세번째는 13년 살았다.... \",\n",
      "\"bloggername\": \"링링’s(玲玲)\",\n",
      "\"bloggerlink\": \"https://blog.naver.com/cwmylee\",\n",
      "\"postdate\": \"20200218\"\n",
      "\n",
      "},\n",
      "{\n",
      "\"title\": \"<b>이상아</b>, 세 번의 이혼 고백 &quot;혼전임신으로 딸 낳아…한때 98㎏&quot;\",\n",
      "\"link\": \"https:\\/\\/blog.naver.com\\/asancriti?Redirect=Log&logNo=221814593520\",\n",
      "\"description\": \"2020-02-18 08:29 송고 | 2020-02-18 10:43 최종수정 (서울=뉴스1) 안태현 기자 <b>이상아</b>, 세 번의 이혼 고백 &quot;혼전임신으로 딸 낳아…한때 98㎏&quot; http://me2.do/xOsXxO6m <b>이상아</b>, 세 번의 이혼 고백 &quot;혼전임신으로 딸 낳아... \",\n",
      "\"bloggername\": \"김민영님의 블로그\",\n",
      "\"bloggerlink\": \"https://blog.naver.com/asancriti\",\n",
      "\"postdate\": \"20200219\"\n",
      "\n",
      "},\n",
      "{\n",
      "\"title\": \"<b>이상아</b> 나이 49살에 이혼을 세 번 했다는 슬픈 결혼 이야기\",\n",
      "\"link\": \"https:\\/\\/blog.naver.com\\/mycosmostg?Redirect=Log&logNo=221814311186\",\n",
      "\"description\": \"사진=국민일보 <b>이상아</b>가 김수미의 밥은 먹고 다니냐에 출연해서 슬픈 결혼 이야기를 들려줬습니다. 사실 알만한 사람은 아는 얘기지만 다시 들어도 슬프네요. 사실.. 저는 알고 있었습니다. 예전에 <b>이상아</b> 팬이... \",\n",
      "\"bloggername\": \"추리논리\",\n",
      "\"bloggerlink\": \"https://blog.naver.com/mycosmostg\",\n",
      "\"postdate\": \"20200218\"\n",
      "\n",
      "},\n",
      "{\n",
      "\"title\": \"<b>이상아</b> 이혼 / <b>이상아</b> 재혼 / <b>이상아</b> 전남편들\",\n",
      "\"link\": \"https:\\/\\/blog.naver.com\\/sj871225?Redirect=Log&logNo=221813297480\",\n",
      "\"description\": \"<b>이상아</b>는 1984년 KBS드라마 ‘산사에 서다’로 배우계에 발을 들였습니다. 1980~1990년 빛낸 하이틴 스타로... <b>이상아</b> '밥은 먹고 다니냐?' 2월 17일 방송한 SBS플러스 '김수미의 밥은 먹고 다니냐?'에서는 원조 책받침... \",\n",
      "\"bloggername\": \"꿀잠이에서 셔니까지\",\n",
      "\"bloggerlink\": \"https://blog.naver.com/sj871225\",\n",
      "\"postdate\": \"20200218\"\n",
      "\n",
      "}\n",
      "]\n",
      "}\n",
      "\n"
     ]
    }
   ],
   "source": [
    "# 네이버 검색 API예제는 블로그를 비롯 전문자료까지 호출방법이 동일하므로 blog검색만 대표로 예제를 올렸습니다.\n",
    "# 네이버 검색 Open API 예제 - 블로그 검색\n",
    "import os\n",
    "import sys\n",
    "import urllib.request\n",
    "client_id = \"ETOgyzyLtPEAhYQ0OFmD\"\n",
    "client_secret = \"gilSCuQaFJ\"\n",
    "encText = urllib.parse.quote(\"이상아\")\n",
    "url = \"https://openapi.naver.com/v1/search/blog?query=\" + encText # json 결과\n",
    "# url = \"https://openapi.naver.com/v1/search/blog.xml?query=\" + encText # xml 결과\n",
    "request = urllib.request.Request(url)\n",
    "request.add_header(\"X-Naver-Client-Id\",client_id)\n",
    "request.add_header(\"X-Naver-Client-Secret\",client_secret)\n",
    "response = urllib.request.urlopen(request)\n",
    "rescode = response.getcode()\n",
    "if(rescode==200):\n",
    "    response_body = response.read()\n",
    "    print(response_body.decode('utf-8'))\n",
    "else:\n",
    "    print(\"Error Code:\" + rescode)"
   ]
  },
  {
   "cell_type": "code",
   "execution_count": 32,
   "metadata": {
    "scrolled": false
   },
   "outputs": [
    {
     "name": "stdout",
     "output_type": "stream",
     "text": [
      "[ 100대 통계 지표 ]\n",
      "국민소득 · 경기 · 기업경영,경제성장률(실질, 계절조정 전기대비),1.2,2019,4/4,% \n",
      "국민소득 · 경기 · 기업경영,민간소비증감률(실질, 계절조정 전기대비),0.7,2019,4/4,% \n",
      "국민소득 · 경기 · 기업경영,설비투자증감률(실질, 계절조정 전기대비),1.5,2019,4/4,% \n",
      "국민소득 · 경기 · 기업경영,건설투자증감률(실질, 계절조정 전기대비),6.3,2019,4/4,% \n",
      "국민소득 · 경기 · 기업경영,GDP(명목, 계절조정),479487,2019,3/4,십억원 \n",
      "국민소득 · 경기 · 기업경영,GDP디플레이터,105.203,2019,3/4,2015=100\n",
      "국민소득 · 경기 · 기업경영,1인당GNI,33433.6,2018,달러 \n",
      "국민소득 · 경기 · 기업경영,총저축률,35,2019,3/4,% \n",
      "국민소득 · 경기 · 기업경영,국내총투자율,30.4,2019,3/4,% \n",
      "국민소득 · 경기 · 기업경영,수출입의 대 GNI 비율,82.4,2018,% \n",
      "국민소득 · 경기 · 기업경영,제조업업황실적BSI,76,2020.01,없음\n",
      "국민소득 · 경기 · 기업경영,소비자심리지수,104.24622,2020.01,없음\n",
      "국민소득 · 경기 · 기업경영,경제심리지수,95.669465,2020.01,없음\n",
      "국민소득 · 경기 · 기업경영,경기동행지수순환변동치,99.5,2019.12,2015=100\n",
      "국민소득 · 경기 · 기업경영,경기선행지수순환변동치,99.6,2019.12,2015=100\n",
      "국민소득 · 경기 · 기업경영,제조업부채비율,73.55,2018,% \n",
      "국민소득 · 경기 · 기업경영,제조업매출액세전순이익률,7.32,2018,% \n",
      "국민소득 · 경기 · 기업경영,제조업매출액증감률,4,2018,% \n",
      "산업활동 · 소비 · 투자,전산업생산지수(농림어업제외),120.1,2019.12,2015=100\n",
      "산업활동 · 소비 · 투자,제조업생산지수,111.9,2019.12,2015=100\n",
      "산업활동 · 소비 · 투자,제조업출하지수,106.7,2019.12,2015=100\n",
      "산업활동 · 소비 · 투자,제조업재고지수,111.7,2019.12,2015=100\n",
      "산업활동 · 소비 · 투자,제조업가동률지수,101.1,2019.12,2015=100\n",
      "산업활동 · 소비 · 투자,서비스업생산지수,118.6,2019.12,2015=100\n",
      "산업활동 · 소비 · 투자,도소매업지수,109.7,2019.12,2015=100\n",
      "산업활동 · 소비 · 투자,자동차판매업지수,138.7,2019.12,2015=100\n",
      "산업활동 · 소비 · 투자,소매판매액지수,121.7,2019.12,2015=100\n",
      "산업활동 · 소비 · 투자,개인신용카드사용액,53814165.0449,2019.11,백만원 \n",
      "산업활동 · 소비 · 투자,설비투자지수,125.8,2019.12,2015=100\n",
      "산업활동 · 소비 · 투자,국내수요기계수주액,4424854,2019.12,백만원 \n",
      "산업활동 · 소비 · 투자,기계류내수출하지수,124.6,2019.12,2015=100\n",
      "산업활동 · 소비 · 투자,건축허가면적,15247970,2019.12,㎡\n",
      "산업활동 · 소비 · 투자,건축착공면적,8137742,2019.12,㎡\n",
      "산업활동 · 소비 · 투자,건설수주액,24087800,2019.12,백만원 \n",
      "산업활동 · 소비 · 투자,건설기성액,13740233,2019.12,백만원 \n",
      "고용 · 임금 · 가계,경제활동인구,27952.3,2020.01,천명 \n",
      "고용 · 임금 · 가계,취업자수,26799.7,2020.01,천명 \n",
      "고용 · 임금 · 가계,실업률,4.1,2020.01,% \n",
      "고용 · 임금 · 가계,고용률,60,2020.01,% \n",
      "고용 · 임금 · 가계,시간당명목임금증감률(전년동기대비),2.032461,2019,3/4,% \n",
      "고용 · 임금 · 가계,노동생산성증감률(전년동기대비),-0.923767,2019,3/4,% \n",
      "고용 · 임금 · 가계,단위노동비용증감률(전년동기대비),3.372298,2019,3/4,% \n",
      "고용 · 임금 · 가계,가구당월평균소득,5411582.974,2019,4/4,원 \n",
      "통화 · 금융,M1(협의통화, 평잔),927098.5,2019.12,십억원 \n",
      "통화 · 금융,M2(광의통화, 평잔),2912434.1,2019.12,십억원 \n",
      "통화 · 금융,Lf(평잔),4121825.8,2019.12,십억원 \n",
      "통화 · 금융,L(말잔),5216059.7,2019.12,십억원 \n",
      "통화 · 금융,예금은행총예금(평잔),1507982.2,2019.12,십억원 \n",
      "통화 · 금융,예금은행대출금(평잔),1701199.8,2019.12,십억원 \n",
      "통화 · 금융,가계신용,1572659.8893,2019,3/4,십억원 \n",
      "통화 · 금융,가계대출연체율,0.3,2019.11,% \n",
      "금리,기준금리,1.25,DD,연%\n",
      "금리,콜금리(익일물),1.23,DD,연%\n",
      "금리,KORIBOR(3개월),1.31,DD,연%\n",
      "금리,CD수익률(91일),1.41,DD,연%\n",
      "금리,통안증권수익률(364일),1.183,DD,연%\n",
      "금리,국고채수익률(3년),1.182,DD,연%\n",
      "금리,국고채수익률(5년),1.267,DD,연%\n",
      "금리,회사채수익률(3년,AA-),1.782,DD,연%\n",
      "금리,예금은행 수신금리,1.6,2019.12,연%\n",
      "금리,예금은행 대출금리,3.22,2019.12,연%\n",
      "금리,LIBOR(U$, 3개월),1.75113,2020.01,연%\n",
      "금리,미국국채수익률(10년),1.5068,2020.01,연%\n",
      "증권,코스피,2162.84,DD,1980.01.04=100 \n",
      "증권,코스닥지수,667.99,DD,1996.07.01=1000\n",
      "증권,주식거래대금,101309950343,2019.12,천원 \n",
      "증권,고객예탁금,28719243,2020.01,백만원 \n",
      "증권,채권거래대금,155689089,2020.01,백만원 \n",
      "증권,국고채발행액,2284,2019.12,십억원 \n",
      "물가,소비자물가지수,105.79,2020.01,2015=100\n",
      "물가,농산물 및 석유류제외 소비자물가지수,105.75,2020.01,2015=100\n",
      "물가,생활물가지수,106.26,2020.01,2015=100\n",
      "물가,생산자물가지수,103.93,2020.01,2015=100\n",
      "물가,수출물가지수,96.59,2020.01,2015=100\n",
      "물가,수입물가지수,107.95,2020.01,2015=100\n",
      "물가,주택매매가격지수,101.132932,2020.01,2017.11=100\n",
      "물가,주택전세가격지수,97.203913,2020.01,2017.11=100\n",
      "물가,지가변동률(전기대비),0.335,2019.12,% \n",
      "물가,국제유가(Dubai),57.58,2020.01,U$/bbl\n",
      "국제수지 · 대외거래,경상수지,4330.9,2019.12,백만달러 \n",
      "국제수지 · 대외거래,금융계정,5707.6,2019.12,백만달러 \n",
      "국제수지 · 대외거래,대외채무,466978.7,2019,4/4,백만달러 \n",
      "국제수지 · 대외거래,직접투자(자산),4161,2019.12,백만달러 \n",
      "국제수지 · 대외거래,직접투자(부채),3399.2,2019.12,백만달러 \n",
      "국제수지 · 대외거래,수출금액지수,109.77,2019.12,2015=100\n",
      "국제수지 · 대외거래,수입금액지수,120.55,2019.12,2015=100\n",
      "국제수지 · 대외거래,순상품교역조건지수,91.09,2019.12,2015=100\n",
      "환율 · 외환보유,원/달러 환율(매매기준율),1205.6,DD,원 \n",
      "환율 · 외환보유,원/달러 환율(종가),1209.2,DD,원 \n",
      "환율 · 외환보유,원/위안 환율(매매기준율),171.2,DD,원 \n",
      "환율 · 외환보유,원/위안 환율(종가),171.59,DD,원 \n",
      "환율 · 외환보유,원/엔(100엔) 환율,1081.79,DD,원 \n",
      "환율 · 외환보유,원/유로 환율,1306.81,DD,원 \n",
      "환율 · 외환보유,외환보유액,409652586,2020.01,천달러 \n",
      "경제관련 사회통계,추계인구,39293827,2067,명 \n",
      "경제관련 사회통계,고령인구비율(65세 이상),46.5,2067,% \n",
      "경제관련 사회통계,합계출산율,0.977,2018,명 \n",
      "경제관련 사회통계,자동차등록대수,23677366,2019.12,대 \n",
      "경제관련 사회통계,주택보급률,104.2,2018,% \n",
      "경제관련 사회통계,지니계수,0.345,2018,없음\n"
     ]
    }
   ],
   "source": [
    "##### 한국은행 경제 통계 시스템 open api #######\n",
    "from bs4 import BeautifulSoup\n",
    "import urllib.request as req\n",
    "import io\n",
    "\n",
    "key = 'OED1XWAJSTQNWQWLHYJV'\n",
    "contentType = 'xml'\n",
    "startIndex = '1'\n",
    "endIndex = '100'\n",
    "\n",
    "url = 'http://ecos.bok.or.kr/api/KeyStatisticList/'+key+'/'+contentType+'/kr/'+startIndex+'/'+endIndex+'/'\n",
    "savename = 'C:/Temp/ecos.xml'\n",
    "req.urlretrieve(url, savename)\n",
    "\n",
    "xml = open(savename, 'r', encoding='utf-8').read()\n",
    "soup = BeautifulSoup(xml, 'xml')\n",
    "\n",
    "\n",
    "ecoList = []\n",
    "for itemList in soup.find_all('row') :\n",
    "    class_name = itemList.find('CLASS_NAME').string\n",
    "    class_name = '없음' if class_name is None else class_name\n",
    "    keystat_name = itemList.find('KEYSTAT_NAME').string\n",
    "    keystat_name = '없음' if keystat_name is None else keystat_name\n",
    "    data_value = itemList.find('DATA_VALUE').string\n",
    "    data_value = '없음' if data_value is None else data_value\n",
    "    cycle = itemList.find('CYCLE').string\n",
    "    cycle = '없음' if cycle is None else cycle\n",
    "    unit_name = itemList.find('UNIT_NAME').string\n",
    "    unit_name = '없음' if unit_name is None else unit_name\n",
    "    ecoList.append((class_name, keystat_name, data_value, cycle, unit_name))\n",
    "\n",
    "print('[ 100대 통계 지표 ]')\n",
    "for class_name, keystat_name, data_value, cycle, unit_name in ecoList :\n",
    "    print(class_name+','+keystat_name+','+data_value+','+cycle+','+unit_name)"
   ]
  },
  {
   "cell_type": "code",
   "execution_count": null,
   "metadata": {},
   "outputs": [],
   "source": []
  }
 ],
 "metadata": {
  "kernelspec": {
   "display_name": "Python 3",
   "language": "python",
   "name": "python3"
  },
  "language_info": {
   "codemirror_mode": {
    "name": "ipython",
    "version": 3
   },
   "file_extension": ".py",
   "mimetype": "text/x-python",
   "name": "python",
   "nbconvert_exporter": "python",
   "pygments_lexer": "ipython3",
   "version": "3.6.9"
  }
 },
 "nbformat": 4,
 "nbformat_minor": 2
}
