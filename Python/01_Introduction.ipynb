{
 "cells": [
  {
   "cell_type": "code",
   "execution_count": null,
   "metadata": {},
   "outputs": [],
   "source": [
    "# 한줄주석이에요 R의 주석과 같아요\n",
    "# 여러줄 주석은 \"\"\" \"\"\" 혹은 ''' '''로 표현된다\n",
    "\n",
    "'''\n",
    "python의 장점\n",
    "- 상대적으로 쉬운 언어\n",
    "- 강력한 데이터 분석 library ( 현재 가장 인기가 좋아 )\n",
    "- Open Source\n",
    "- R에 대해서 범용적인 사용이 가능\n",
    "- 데이터 분석 결과를 다른 시스템과 연동시킬때 좋아\n",
    "- 하위 호환성은 없어. 2.x 버전과 3.x버전이 달라\n",
    "- PyCharm 혹은 jupyter notebook으로 작업한다\n",
    "\n",
    "'''\n"
   ]
  },
  {
   "cell_type": "code",
   "execution_count": 5,
   "metadata": {},
   "outputs": [
    {
     "name": "stdout",
     "output_type": "stream",
     "text": [
      "['False', 'None', 'True', 'and', 'as', 'assert', 'break', 'class', 'continue', 'def', 'del', 'elif', 'else', 'except', 'finally', 'for', 'from', 'global', 'if', 'import', 'in', 'is', 'lambda', 'nonlocal', 'not', 'or', 'pass', 'raise', 'return', 'try', 'while', 'with', 'yield']\n"
     ]
    }
   ],
   "source": [
    "# python의 keyword\n",
    "\n",
    "# keyword module을 로딩해야 한다\n",
    "import keyword\n",
    "# import 로딩할 모듈의 이름\n",
    "\n",
    "# oupput영역에 출력할 때 사용하는 함수 : print()\n",
    "print (keyword.kwlist)\n",
    "# output에 찍어\n",
    "\n",
    "# jupyter notebook hotkey(단축기)\n",
    "# L : 라인번호에 대한 foggie\n",
    "# O : output창을 foggie\n",
    "# A : 위쪽 영역에 cell 삽입\n",
    "# B : 아래쪽 영역에 cell 삽입\n",
    "# DD : 현재 cell을 삭제\n",
    "# ctrl + enter : 현재 cell 실행\n",
    "# alt + enter : 현재 cell 실행, 아래쪽에 cell 삽입\n",
    "# shift + enter : 현재 cell 실행, 아래쪽 cell 선택\n",
    "\n",
    "# 해당셀을 몇번 수행시켰는지 번호가 나와\n"
   ]
  },
  {
   "cell_type": "code",
   "execution_count": 7,
   "metadata": {},
   "outputs": [
    {
     "data": {
      "text/plain": [
       "250"
      ]
     },
     "execution_count": 7,
     "metadata": {},
     "output_type": "execute_result"
    }
   ],
   "source": [
    "## 변수를 생성하고 삭제해 보아요\n",
    "\n",
    "var1 = 100       # ;은 생략이 가능\n",
    "var2 = 250\n",
    "\n",
    "var1 \n",
    "var2\n",
    "\n",
    "# output은 하나밖에 나오지 않아\n",
    "\n",
    "print(var1)      # output을 출력할 때 print()를 이용\n",
    "print(var2)\n",
    "\n",
    "print(\"var2의 값은 : \", var2)    # 인자를 여러개 줄 수 있겠다\n",
    "                                 # 여거래의 인잘ㄹ 하나씩 출력가능\n",
    "    \n",
    "del var2;       # var2을 메모리에서 살제\n",
    "# print(\"var2의 값은 :\",var 2)"
   ]
  },
  {
   "cell_type": "code",
   "execution_count": null,
   "metadata": {},
   "outputs": [],
   "source": []
  }
 ],
 "metadata": {
  "kernelspec": {
   "display_name": "[CPU_ENV]",
   "language": "python",
   "name": "cpu_env"
  },
  "language_info": {
   "codemirror_mode": {
    "name": "ipython",
    "version": 3
   },
   "file_extension": ".py",
   "mimetype": "text/x-python",
   "name": "python",
   "nbconvert_exporter": "python",
   "pygments_lexer": "ipython3",
   "version": "3.6.9"
  }
 },
 "nbformat": 4,
 "nbformat_minor": 2
}
