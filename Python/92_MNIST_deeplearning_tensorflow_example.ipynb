{
 "cells": [
  {
   "cell_type": "markdown",
   "metadata": {},
   "source": [
    "2020-01-10\n",
    "\n",
    "\n",
    "## 기억해야할 것들\n",
    "\n",
    "### 1. learning rate\n",
    "- 정해져 있는 값은 없어\n",
    "- 0.01을 기준으로 cost값을 보고 learning rate를 조절  \n",
    "\n",
    "\n",
    "- 만약 learning rate가 크다면\n",
    "- **overshooting**현상이 발생  \n",
    "\n",
    "\n",
    "- 만약 learning rate가 너무 작다면\n",
    "- **local minimum**현상이 발생\n",
    "\n",
    "\n",
    "- cost값을 기준으로 커스터마이징을 해야한다\n"
   ]
  },
  {
   "cell_type": "markdown",
   "metadata": {},
   "source": [
    "### 2. 입력데이터의 preprocessing\n",
    "- feature engineering을 포함해서\n",
    "- 각 feature의 데이터의 범주와 크기를 살펴봐야한다\n",
    "- 정규화(Normalization) **Min Max scale**을 이용 - 0과 1사이의 값들을 scaling \n",
    "- 표준화(standardization) - 평균과 표준편차를 이용해서 -1~1사이의 값으로 scale하는 방식"
   ]
  },
  {
   "cell_type": "markdown",
   "metadata": {},
   "source": [
    "### overfitting(과적합)\n",
    "- 모델을 만들어서 학습을 하는데 학습데이터에 너무 잘 들어맞는 모델이 생성되는 경우\n",
    "- 실제 데이터를 적용할 때 결과값 예측이 잘 안되는 경우를 의미  \n",
    "\n",
    "\n",
    "- overfitting을 피하려면\n",
    "\n",
    "\n",
    "1. 많은 training data set이  있어야 한다 \n",
    "2. feature의 개수를 가능한 줄여야 한다.  \n",
    "   필요없는 컬럼을 삭제, 중복되는 개념의 컬럼을 삭제"
   ]
  },
  {
   "cell_type": "markdown",
   "metadata": {},
   "source": [
    "### 학습과정에서는\n",
    "- 일반적으로 training data set의 크기가 굉장히 크다\n",
    "- 1 epoch을 수행하는 시간이 오래걸린다\n",
    "- batch 처리를 이용해서 학습을 진행"
   ]
  },
  {
   "cell_type": "markdown",
   "metadata": {},
   "source": [
    "### 정확도 측정\n",
    "- 일반적으로 raw data set을 우리가 얻게되면\n",
    "- training data set, test data set으로 분리(7:3, 8:2)\n",
    "- n fold cross validataion (7:3,8:2) 데이터의 편중때문에 반복적으로 여러번"
   ]
  },
  {
   "cell_type": "markdown",
   "metadata": {},
   "source": [
    "---\n",
    "\n",
    "## 새로운 가상환경\n",
    "- 지금 사용하고 있는 tensorflow는 cpu버젼\n",
    "- deep learning으로 가면 더 많은 수학적 연산(matrix연산)이 필요하고 GPU를 이용하면\n",
    "- 더 빠르게 계산을 할 수 있다\n",
    "\n",
    "\n",
    "1. 새로운 가상환경을 만들어서 tensorflow GPU버전을 이용해 보자  \n",
    "   **conda create -n gpu_env python=3.6 openssl**\n",
    "2. 새로운 가상환경  \n",
    "   **activate gpu_env**\n",
    "3. nb_conda설치  \n",
    "   **conda install nb_conda**\n",
    "4. 가상환경 바꿔줌\n",
    "   **python -m ipykernel install --user --name=gpu_env --display-name=[GPU_ENV]**\n",
    "5. 최신 비디오 드라이버 설치(NVIDIA)\n",
    "6. CUDA 설치(NVIDIA)\n",
    "7. cuDNN 압축풀어서 덮어써라\n"
   ]
  },
  {
   "cell_type": "markdown",
   "metadata": {},
   "source": [
    "### 필요한 module을 설치\n",
    "- pip install numpy\n",
    "- pip install dandas\n",
    "- pip install matplotlib\n",
    "- pip install sklearn\n",
    "- pip install tensorflow-gpu==1.15"
   ]
  },
  {
   "cell_type": "markdown",
   "metadata": {},
   "source": []
  },
  {
   "cell_type": "code",
   "execution_count": null,
   "metadata": {},
   "outputs": [],
   "source": []
  },
  {
   "cell_type": "code",
   "execution_count": null,
   "metadata": {},
   "outputs": [],
   "source": []
  },
  {
   "cell_type": "code",
   "execution_count": null,
   "metadata": {},
   "outputs": [],
   "source": []
  },
  {
   "cell_type": "code",
   "execution_count": null,
   "metadata": {},
   "outputs": [],
   "source": []
  },
  {
   "cell_type": "code",
   "execution_count": null,
   "metadata": {},
   "outputs": [],
   "source": []
  },
  {
   "cell_type": "code",
   "execution_count": null,
   "metadata": {},
   "outputs": [],
   "source": []
  }
 ],
 "metadata": {
  "kernelspec": {
   "display_name": "[GPU_ENV]",
   "language": "python",
   "name": "gpu_env"
  },
  "language_info": {
   "codemirror_mode": {
    "name": "ipython",
    "version": 3
   },
   "file_extension": ".py",
   "mimetype": "text/x-python",
   "name": "python",
   "nbconvert_exporter": "python",
   "pygments_lexer": "ipython3",
   "version": "3.6.10"
  }
 },
 "nbformat": 4,
 "nbformat_minor": 2
}
