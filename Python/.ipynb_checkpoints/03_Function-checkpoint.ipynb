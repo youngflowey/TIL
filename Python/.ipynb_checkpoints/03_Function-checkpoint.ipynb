{
 "cells": [
  {
   "cell_type": "code",
   "execution_count": 12,
   "metadata": {},
   "outputs": [
    {
     "name": "stdout",
     "output_type": "stream",
     "text": [
      "10\n",
      "10\n",
      "100 200 300\n",
      "입력받은 값은 : 100 200 300\n",
      "최종결과는 600\n"
     ]
    }
   ],
   "source": [
    "2019-11-14\n",
    "## function (함수)\n",
    "\n",
    "a = [1,2,3,4]\n",
    "\n",
    "mySum = 0\n",
    "for i in a:\n",
    "    mySum +=i\n",
    "print(mySum)\n",
    "\n",
    "# 파이썬의 내장함수를 이용하면 한번에 해결 가능\n",
    "\n",
    "mySum = sum(a)   # 내장함수\n",
    "print(mySum)\n",
    "\n",
    "\n",
    "## 숫자를 입력받아서                       => 단위기능으로 간주 => 함수\n",
    "## 해당숫자를 모두 더한후,                 => 단위기능으로 간주 =>  함수\n",
    "## '결과값은 : xx입니다' 형식으로 출력     => 함수\n",
    "\n",
    "# 입력, 처리, 출력\n",
    "# 처리 <- 여러가지 단위기능으로 분리시킬 수 있다\n",
    "# 기능들을 내가 임의로 분리시켜서 코드를 작성할 수 있다\n",
    "# 원래 한방에 쭉 짜야하는데 기능을 계속 쪼개서 더이상 자를 수 없는 것 : 단위기능\n",
    "# 단위기능 싹다 모으면 우리가 원하는 함수\n",
    "\n",
    "## 이렇게 함수기반의 프로그램 방식을 절차적 프로그래밍(procidural programming)\n",
    "\n",
    "## python에서 함수는 크게 2가지로 구분\n",
    "## 내장함수(sum()), 사용자 정의함수(user define 함수)\n",
    "## 사용자 정의함수를 만드는 keyword는 def\n",
    "\n",
    "## 함수이름은 소문자로 시작(관용적으로)\n",
    "## 함수의 정의(definition) => 함수의 이름, 인자형태, 인자개수 + 기능구현\n",
    "#                             정의를 완전히 끝내주는것\n",
    "## 함수의 선언(declaration) => 함수의 이름, 인자형태, 인자개수\n",
    "#                              하는일 아직 정해지지 않음, 그냥 이런 함수가 있어 나중에내가 쓸게\n",
    "\n",
    "def mySum(a,b,c):    # 입력을 3개 받겠다\n",
    "    # 함수의 기능을 구현해요\n",
    "    total = a + b + c\n",
    "    return total\n",
    "# 이런함수가 있어\n",
    "# 호출이 됐을때 함수가 실행되는거임\n",
    "\n",
    "inputValue = input()  # 입력받는 내장함수, 무조건 str로 받아요\n",
    "\n",
    "# 숫자 3개를 받아보아요!\n",
    "# input 값에 \"100 200 300\"\n",
    "# \"100 200 300\" 형태\n",
    "# 나눠줘야해 : split\n",
    "\n",
    "print(\"입력받은 값은 : {}\".format(inputValue))\n",
    "\n",
    "var1 = inputValue.split(\" \")    # 값을 분리해서 list로 리턴\n",
    "# input 받은 자료를 공백으로 분리하겠다\n",
    "# 값 3개 받을때 가장 만만한 구조 = list\n",
    "\n",
    "result = mySum(int(var1[0]),int(var1[1]),int(var1[2]))\n",
    "\n",
    "print(\"최종결과는 {}\".format(result))\n"
   ]
  },
  {
   "cell_type": "code",
   "execution_count": 14,
   "metadata": {
    "scrolled": true
   },
   "outputs": [
    {
     "name": "stdout",
     "output_type": "stream",
     "text": [
      "최종결과 : 100\n",
      "최종결과 : 220\n"
     ]
    }
   ],
   "source": [
    "## 함수 2번째\n",
    "\n",
    "def mySum2(*args):     # args가 tuple로 간주\n",
    "                        # args => (10,20,30,40)\n",
    "                        # 순서 있고 list랑 똑같아, but 값을 변형시킬수없음 : tuple\n",
    "    # 전달받은 모든 값들을 더해서 리턴\n",
    "    # 값의 개수가 정해지지 않음\n",
    "    # * : 입력의 개수에 상관하지 않겠다\n",
    "    k = 0\n",
    "    for i in range(len(args)):\n",
    "        k += args[i]\n",
    "    return k\n",
    "    \n",
    "total = mySum2(10,20,30,40)\n",
    "print(\"최종결과 : {}\".format(total))\n",
    "total = mySum2(30,40,60,90)\n",
    "print(\"최종결과 : {}\".format(total))\n",
    "# 코드의 재사용성을 가장 잘 활용하는 방법 : 함수(function)\n",
    "\n"
   ]
  },
  {
   "cell_type": "code",
   "execution_count": 19,
   "metadata": {},
   "outputs": [
    {
     "name": "stdout",
     "output_type": "stream",
     "text": [
      "300\n"
     ]
    }
   ],
   "source": [
    "## 함수를 하나 정이해요\n",
    "## 숫자 2개 받아서 두개의 합과 두개의 곱을 리턴할거에요!\n",
    "## tuple을 이용해서 마치 여러개의 값이 리턴되는것처럼 사용할 수 있어요!\n",
    "## tuple : 오직 tuple만 괄호 생략 가능 \n",
    "\n",
    "# a = (10,20,30)\n",
    "# b = 10,20,30\n",
    "def multi_process(x,y):\n",
    "    result1 = x + y\n",
    "    result2 = x * y\n",
    "    # return (result1, result2)  원래 이렇게 써야하는데 tuple이라 생략할 수 있음\n",
    "    return result1, result2\n",
    "    # 파이썬 최종적인값 1개만 가능\n",
    "    # but tuple이라 괄호가 생략되어있는거임\n",
    "    # 실제로는 tuple을 return한 거임\n",
    "\n",
    "a,b = multi_process(100,200)\n",
    "\n",
    "print(a)"
   ]
  },
  {
   "cell_type": "code",
   "execution_count": 24,
   "metadata": {},
   "outputs": [
    {
     "name": "stdout",
     "output_type": "stream",
     "text": [
      "6\n",
      "103\n"
     ]
    }
   ],
   "source": [
    "## 사용자 정의 함수를 만들어요!\n",
    "## default parameter\n",
    "\n",
    "def mySum(a,b,c=100):   # 마지막 parameter의 default 값을 정해줄 수 있어\n",
    "    return a+b+c       # 맨 마지막만 가능!\n",
    "\n",
    "\n",
    "total = mySum(1,2,3);print(total)    # 6\n",
    "total = mySum(1,2)  ;print(total)    # 103\n"
   ]
  },
  {
   "cell_type": "code",
   "execution_count": 31,
   "metadata": {},
   "outputs": [
    {
     "name": "stdout",
     "output_type": "stream",
     "text": [
      "30\n",
      "100\n",
      "32\n"
     ]
    }
   ],
   "source": [
    "## 변수의 영역(scope)\n",
    "# 영역이 다른것 인지!\n",
    "\n",
    "\n",
    "tmp = 100           # global variable \n",
    "\n",
    "def myFunc(x):      # 함수안에서 선언된 변수는 local variable(지역변수)\n",
    "                    # 함수안의 변수는 함수안에서만 살아\n",
    "                    # 함수 수행이 끝나면 없어진다!\n",
    "                    # tmp란 변수 자체가 메모리에서 날라감(일시적)\n",
    "    tmp = 10        \n",
    "    tmp += x\n",
    "    \n",
    "    return tmp\n",
    "\n",
    "print(myFunc(20))    # 30\n",
    "print(tmp)           # 100  30(x)\n",
    "\n",
    "\n",
    "def myFunc(x):            \n",
    "    global tmp             # 선언 : 100을 10으로 바꾸는것 \n",
    "                            # tmp를 global에서 찾아서 사용할거에요\n",
    "                            # 좋지 않은 방법!!!!\n",
    "                            # 코드자체가 유기적으로 결합되어있어서 이 함수를 재사용 하기가 힘들어\n",
    "            # 이 함수가 외부코드와 연동이 되어있어서 재사용 불가능\n",
    "            # 함수 사용 목적 : 코드의 재사용\n",
    "            # 프로그램을 디버깅하기가 힘들어짐\n",
    "            # 사용하지 마세요!!!\n",
    "    tmp = 10\n",
    "    tmp += x\n",
    "    \n",
    "    return tmp\n"
   ]
  },
  {
   "cell_type": "code",
   "execution_count": 41,
   "metadata": {},
   "outputs": [
    {
     "name": "stdout",
     "output_type": "stream",
     "text": [
      "10\n",
      "<class 'dict'>\n",
      "False\n",
      "True\n",
      "1\n"
     ]
    },
    {
     "ename": "TypeError",
     "evalue": "object of type 'int' has no len()",
     "output_type": "error",
     "traceback": [
      "\u001b[1;31m---------------------------------------------------------------------------\u001b[0m",
      "\u001b[1;31mTypeError\u001b[0m                                 Traceback (most recent call last)",
      "\u001b[1;32m<ipython-input-41-b91d876a266c>\u001b[0m in \u001b[0;36m<module>\u001b[1;34m\u001b[0m\n\u001b[0;32m     23\u001b[0m \u001b[0ma\u001b[0m \u001b[1;33m=\u001b[0m \u001b[1;33m[\u001b[0m\u001b[1;36m1\u001b[0m\u001b[1;33m,\u001b[0m\u001b[1;36m2\u001b[0m\u001b[1;33m,\u001b[0m\u001b[1;36m3\u001b[0m\u001b[1;33m,\u001b[0m\u001b[1;36m4\u001b[0m\u001b[1;33m,\u001b[0m\u001b[1;36m5\u001b[0m\u001b[1;33m]\u001b[0m\u001b[1;33m\u001b[0m\u001b[1;33m\u001b[0m\u001b[0m\n\u001b[0;32m     24\u001b[0m \u001b[0mprint\u001b[0m\u001b[1;33m(\u001b[0m\u001b[0mmin\u001b[0m\u001b[1;33m(\u001b[0m\u001b[0ma\u001b[0m\u001b[1;33m)\u001b[0m\u001b[1;33m)\u001b[0m      \u001b[1;31m# sum(), max(), min(), mean()\u001b[0m\u001b[1;33m\u001b[0m\u001b[1;33m\u001b[0m\u001b[0m\n\u001b[1;32m---> 25\u001b[1;33m \u001b[0mprint\u001b[0m\u001b[1;33m(\u001b[0m\u001b[0msum\u001b[0m\u001b[1;33m(\u001b[0m\u001b[0ma\u001b[0m\u001b[1;33m)\u001b[0m\u001b[1;33m/\u001b[0m\u001b[0mlen\u001b[0m\u001b[1;33m(\u001b[0m\u001b[0mb\u001b[0m\u001b[1;33m)\u001b[0m\u001b[1;33m)\u001b[0m         \u001b[1;31m# print(()))\u001b[0m\u001b[1;33m\u001b[0m\u001b[1;33m\u001b[0m\u001b[0m\n\u001b[0m\u001b[0;32m     26\u001b[0m \u001b[1;31m# sorted() : 오름차순으로 정렬해주는 함수\u001b[0m\u001b[1;33m\u001b[0m\u001b[1;33m\u001b[0m\u001b[1;33m\u001b[0m\u001b[0m\n\u001b[0;32m     27\u001b[0m \u001b[0ma\u001b[0m \u001b[1;33m=\u001b[0m \u001b[1;33m[\u001b[0m\u001b[1;34m\"이것은\"\u001b[0m\u001b[1;33m,\u001b[0m\u001b[1;34m\"소리없는\"\u001b[0m\u001b[1;33m,\u001b[0m\u001b[1;34m\"아우성\"\u001b[0m\u001b[1;33m]\u001b[0m\u001b[1;33m\u001b[0m\u001b[1;33m\u001b[0m\u001b[0m\n",
      "\u001b[1;31mTypeError\u001b[0m: object of type 'int' has no len()"
     ]
    }
   ],
   "source": [
    "## 사용자 정의 함수는 위에서 설명한 그 방식대로 이용하면 되요!\n",
    "## 프로그램을 작성할 때 함수를 어떻게 정의해서 사용할 것인가를 고민해서 작성\n",
    "\n",
    "## 나머지는 내장함수예여...python이 제공해주는 함수\n",
    "## int() : 인자로 들어온 놈을 정수로 반환. 갖다 쓰면됨\n",
    "## abs() : 절대값을 리턴하는 함수\n",
    "print(abs(-10))\n",
    "## all() :인자로 들아온 값이 모두  True 일경우 Ture 리턴 \n",
    "#         인자로 반복가능한 타입이 와야해요(list, dictionary,python)\n",
    "## any() : 인자로 들어온 값중  True가 있으면 True\n",
    "#         인자로 반복가능한 타입이 와야해요(list, dictionary,python)\n",
    "\n",
    "a = [True,100,{},3.14]\n",
    "print(type({}))\n",
    "print(all(a))\n",
    "print(any(a))\n",
    "\n",
    "## len()  : 길이구하는 내장함수\n",
    "## list() : 리스트로 만들어주는 함수\n",
    "## tuple() : tuple로 반환하는 함수\n",
    "## str(0) : 문자열로 변환하는 함수\n",
    "## type() : 인자로 들어온 데이터의 type을 retun\n",
    "## max(), min() : 최대 최소를 구해줘요!\n",
    "a = [1,2,3,4,5]\n",
    "print(min(a))      # sum(), max(), min(), mean()\n",
    "print(sum(a)/len(b))         # print(()))\n",
    "# sorted() : 오름차순으로 정렬해주는 함수\n",
    "a = [\"이것은\",\"소리없는\",\"아우성\"]\n",
    "# join()함수를 이용하면 편하다\n",
    "print(\" \". join(a))\n",
    "\n",
    "############# 함수에 대한 설명!! ####################"
   ]
  },
  {
   "cell_type": "code",
   "execution_count": 44,
   "metadata": {},
   "outputs": [
    {
     "name": "stdout",
     "output_type": "stream",
     "text": [
      "이것은소리없는아우성\n"
     ]
    }
   ],
   "source": [
    "a = [\"이것은\",\"소리없는\",\"아우성\"]\n",
    "# join()함수를 이용하면 편하다\n",
    "print(\"\". join(a))"
   ]
  },
  {
   "cell_type": "code",
   "execution_count": null,
   "metadata": {},
   "outputs": [],
   "source": []
  },
  {
   "cell_type": "code",
   "execution_count": null,
   "metadata": {},
   "outputs": [],
   "source": []
  }
 ],
 "metadata": {
  "kernelspec": {
   "display_name": "[CPU_ENV]",
   "language": "python",
   "name": "cpu_env"
  },
  "language_info": {
   "codemirror_mode": {
    "name": "ipython",
    "version": 3
   },
   "file_extension": ".py",
   "mimetype": "text/x-python",
   "name": "python",
   "nbconvert_exporter": "python",
   "pygments_lexer": "ipython3",
   "version": "3.6.9"
  }
 },
 "nbformat": 4,
 "nbformat_minor": 2
}
