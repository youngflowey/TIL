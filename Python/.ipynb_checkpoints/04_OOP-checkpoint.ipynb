{
 "cells": [
  {
   "cell_type": "code",
   "execution_count": 8,
   "metadata": {},
   "outputs": [
    {
     "name": "stdout",
     "output_type": "stream",
     "text": [
      "홍길동\n"
     ]
    }
   ],
   "source": [
    "## 객체지향 프록래밍(Object Oriented programming)\n",
    "\n",
    "## 함수기반의 ㅍ로그래밍을 하면 좋아요!\n",
    "## 1970년부터 시작해서 지금까지 이 방식으로 프로그래밍을 하고 있어요\n",
    "## 장점 : 프로그래밍이 쉬워요! => 빨리 만들수 있어요!\n",
    "##        => 비용이 적게 들어요!\n",
    "## 단점 : 처음에는 단점이 별로 없어보였어요!\n",
    "## 1990년 들어오면서 세상이 변하기 시작했어요! => 인터넷\n",
    "## 정보량이 많아지기 시작 => 세상이 급변하기 시작\n",
    "## 프로그램의 유지보수 요구가 많아지기 시작\n",
    "## 절차적 프로그램으로 프로그램을 작성해서 이런 문제가 발생\n",
    "## 어떤 방식으로 프로그램을 만들면 유지보수측면에서 이점이 있을까?\n",
    "## 객체지향 paradigm이 시작\n",
    "## 객제지향이 어떤 프로그래밍 방식인지를 인지\n",
    "## 함수를 가지고 만드는것 : 절차적 프로그래밍 => 객체지향은 이방식이 아님\n",
    "## 현실세계에 잘 부합하는 (변화에 잘 적응하는) 프로그램을 만들기 위해 해결해야 하는 문제를(현식세계의 문제)\n",
    "## 프로그램을 똑같이 모델링하면 되는거 아냐?\n",
    "## 세분화 하는게 아니라 프로그램쪽으로 설명한것\n",
    "## 객체 지향 : 내가 구현하려고 하는 문제를 프로그램으로 투영한것\n",
    "## 구성요소를 하나의 객체로 인식하고 프로그램쪽으로 표현\n",
    "\n",
    "## 은행프로그램을 만들려고 해요\n",
    "## 은행프로그램을 구성하는 구성요소를 파악\n",
    "## 텔러, 고객, 은행계좌, 지점, 테이블,...\n",
    "## 분석하는 사람마다 달라요!\n",
    "## 구성요소간의 행위들을 정의하는 프로그래밍 방식\n",
    "## 은행계좌(객체)를 예로 프로그램으로 표현(객체 모델링)\n",
    "## 객체들은 크게 2가지로 파악할 수 있어요!\n",
    "## 상태와 행위로 파악 (추상화)\n",
    "## 상태는 값으로 표현되는것, 행위는 동작으로 표현되는것\n",
    "## 상태 : 잔액, 예금주, 계좌번호, ...\n",
    "## 행위 : 출금, 입금, 조회 (값이 아니라 뭔가가 일어나는것, 동작)\n",
    "## 상태와 행위 추출 => abstraction(추상화)\n",
    "## 추상화를 통해서 상태와 행위로 나뉘어 진다\n",
    "\n",
    "## class => 객체 모델링의 수단, 추상 데이터 타입\n",
    "## 클래스의 이름은 대문자로 시작(관용적)\n",
    "\n",
    "class Student:  # class는 student를 묘사하고 끝\n",
    "                # 실제 데이터 실제 사람을 만들어야해\n",
    "                # 틀에 데이터를 넣은게 아니라 list만드는것 처럼 메모리 공간 만들어서 이름넣고 학번넣고,,\n",
    "                # 어떤 기준? : class에 묘사된 정보\n",
    "                # 그 공간을 어떤 형식으로 만들건가? => class\n",
    "                # class : data type\n",
    "                \n",
    "    \n",
    "# 상태(값) : 이름, 학과, 학년, 학번, 성별, 나이,...키, 몸무게\n",
    "# 몸무게 넣어! 몸무게 빼야지! > 누가 설계하느냐에따라 완전히 달라짐\n",
    "# 상태는 변수로 표현 => properties(속성)\n",
    "    # properties (상태를 묘사) \n",
    "    s_nation = \"\"# class variable (변수영역)\n",
    "#     s_name = \"\"  # 학생 이름을 나타내는 property\n",
    "#                  # class variable (모든 객체가 공유하는 변수)\n",
    "#                  # but, 이름은 공유하지 않아 \n",
    "\n",
    "#     s_num = \"\"   # 학번을 나타내는 property\n",
    "#                  # class variable\n",
    "    \n",
    "#     # 생성자(constructor)\n",
    "    def __init__(self,n): # .n : 이생성자는 인자를 한개 받아들이는 생성자\n",
    "                           # 전역변수, 지역변수\n",
    "                            # 여기서 s_name은 지역변수로 def나가면 없어져버림\n",
    "                            # 이 class의 객체를 만들기 위함\n",
    "                            # s_name -> Student.s_name(앞의 class이름 명시해서)\n",
    "#         Student.s_name = n\n",
    "        self.s_name = n        # instance variable(객체가 독립적으로 )\n",
    "                           # 자기가 가지고 있는 s_name\n",
    "        self.s_num = \"\"\n",
    "# 행위(동작)\n",
    "# 함수\n",
    "    # method (행위를 묘사)\n",
    "    def display(self):\n",
    "        print(\"학생이름 : {}\".format(s_name))\n",
    "\n",
    "t = Student(\"홍길동\")      # 객체 생성\n",
    "# => 이 코드에 의해서 만들어진 메모리에 있는 저장공간(instance)\n",
    "#   => 객체\n",
    "#     => class내부에 정의된 생성자라고 불리는 함수가 호출되요!\n",
    "# t = 객체\n",
    "## student는 변수두개를 정해서 넣을 수 있는 타입\n",
    "\n",
    "print(t.s_name)\n",
    "\n",
    "\n",
    "# class : 기존에 없던 데이터타입 만들어줌\n",
    "#         새롭게 저장구조를 만들어줌\n",
    "\n",
    "\n",
    "\n",
    "\n",
    "\n",
    "\n",
    "\n",
    "\n"
   ]
  },
  {
   "cell_type": "code",
   "execution_count": 17,
   "metadata": {},
   "outputs": [
    {
     "name": "stdout",
     "output_type": "stream",
     "text": [
      "학생이름 : 홍길동\n",
      "홍길동\n",
      "한국\n",
      "학생이름 : 김연아\n",
      "김연아\n",
      "한국\n"
     ]
    }
   ],
   "source": [
    "class Student:  \n",
    "# 객체 만들어질때 생성자 자동 호출\n",
    "    # properties (상태를 묘사) \n",
    "    s_nation = \"\"         # class variable (변수영역)\n",
    "\n",
    "    \n",
    "#     # 생성자(constructor)\n",
    "    def __init__(self,n): \n",
    "        self.s_name = n        # instance variable(객체가 독립적으로 )\n",
    "        self.s_num = \"\"\n",
    "        self.s_major = []\n",
    "\n",
    "    # method (행위를 묘사)\n",
    "    def display(self):\n",
    "        print(\"학생이름 : {}\".format(self.s_name))\n",
    "\n",
    "\n",
    "t = Student(\"홍길동\")      # 객체 생성\n",
    "t.display()\n",
    "print(t.s_name)\n",
    "Student.s_nation = \"한국\"\n",
    "print(t.s_nation)\n",
    "\n",
    "k = Student(\"김연아\")       # 객체\n",
    "k.display()\n",
    "print(k.s_name)\n",
    "print(k.s_nation)"
   ]
  },
  {
   "cell_type": "code",
   "execution_count": 20,
   "metadata": {},
   "outputs": [
    {
     "name": "stdout",
     "output_type": "stream",
     "text": [
      "200\n",
      "[<__main__.Student object at 0x00000226C075CB70>, <__main__.Student object at 0x00000226C06DAE48>]\n",
      "학생이름 : No\n"
     ]
    }
   ],
   "source": [
    "class Student:  \n",
    "# 객체 만들어질때 생성자 자동 호출\n",
    "    # properties (상태를 묘사) \n",
    "    s_nation = \"\"         # class variable (변수영역)\n",
    "\n",
    "    \n",
    "#     # 생성자(constructor)\n",
    "    def __init__(self,n,num):\n",
    "        self.s_name = n        # instance variable(객체가 독립적으로 )\n",
    "        self.s_num = num\n",
    "        self.s_major = []\n",
    "\n",
    "    # method (행위를 묘사)\n",
    "    def display(self):\n",
    "        print(\"학생이름 : {}\".format(self.s_name))\n",
    "\n",
    "\n",
    "students = list()\n",
    "students.append(Student(\"No\",100))\n",
    "students.append(Student(\"Yun\",200))\n",
    "                                  \n",
    "\n",
    "print(students[1].s_num)\n",
    "print(students)\n",
    "students[0].display()\n",
    "\n"
   ]
  },
  {
   "cell_type": "code",
   "execution_count": null,
   "metadata": {},
   "outputs": [],
   "source": []
  },
  {
   "cell_type": "code",
   "execution_count": 29,
   "metadata": {
    "scrolled": true
   },
   "outputs": [
    {
     "name": "stdout",
     "output_type": "stream",
     "text": [
      "3628800\n"
     ]
    }
   ],
   "source": [
    "import math\n",
    "\n",
    "for i in range(11,math.factorial(10)):\n",
    "    for j in range(1,11):\n",
    "        if i%j == 0:\n",
    "            j += 1\n",
    "            if j==11:\n",
    "                break\n",
    "        else:\n",
    "            i+=1\n",
    "print(i)            \n"
   ]
  },
  {
   "cell_type": "code",
   "execution_count": 31,
   "metadata": {
    "scrolled": true
   },
   "outputs": [
    {
     "name": "stdout",
     "output_type": "stream",
     "text": [
      "3628801\n"
     ]
    }
   ],
   "source": [
    "import math\n",
    "\n",
    "for i in range(11,math.factorial(10)):\n",
    "    for j in range(1,11):\n",
    "        if i%j != 0:\n",
    "            break\n",
    "        else:\n",
    "            i+=1\n",
    "    if j==11:\n",
    "        break\n",
    "print(i)\n"
   ]
  }
 ],
 "metadata": {
  "kernelspec": {
   "display_name": "[CPU_ENV]",
   "language": "python",
   "name": "cpu_env"
  },
  "language_info": {
   "codemirror_mode": {
    "name": "ipython",
    "version": 3
   },
   "file_extension": ".py",
   "mimetype": "text/x-python",
   "name": "python",
   "nbconvert_exporter": "python",
   "pygments_lexer": "ipython3",
   "version": "3.6.9"
  }
 },
 "nbformat": 4,
 "nbformat_minor": 2
}
