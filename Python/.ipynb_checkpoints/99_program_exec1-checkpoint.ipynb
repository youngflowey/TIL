{
 "cells": [
  {
   "cell_type": "code",
   "execution_count": 35,
   "metadata": {},
   "outputs": [
    {
     "data": {
      "text/plain": [
       "906609"
      ]
     },
     "execution_count": 35,
     "metadata": {},
     "output_type": "execute_result"
    }
   ],
   "source": [
    "# 문제 6.\n",
    "## 앞에서부터 읽을때나 뒤에서부터 읽을 때 모양이 같은 수를 대칭수라고 합니다\n",
    "\n",
    "## 두자리 수를 곱해서 만들 수 있는 대칭수 중에\n",
    "## 가장 큰수는 9009 (91*99) 입니다.\n",
    "## 세자리 수를 곱해서 만들 수 있는 가장 큰 대칭수는 얼마?\n",
    "\n",
    "# 함수 이용하면 일반적 프로그램가능\n",
    "# 이문제만 해결할 수 있는 프로그램이 아니라 일반화 시켜라\n",
    "\n",
    "100*100=? => 대칭수인지 확인 => 저장\n",
    "100*101=? => 대칭수인지 확인 => 저장\n",
    "100*102=? => 대칭수인지 확인 => 저장\n",
    "...\n",
    "\n"
   ]
  },
  {
   "cell_type": "code",
   "execution_count": null,
   "metadata": {},
   "outputs": [],
   "source": [
    "def same(a):\n",
    "    num=[]\n",
    "    for x in range(10**(a-1),10**a):\n",
    "        for y in range(10**(a-1),10**a):\n",
    "            z = x*y\n",
    "            if str(z) == str(z)[::-1]:\n",
    "                num.append(z)\n",
    "    return(max(num))\n",
    "same(4)"
   ]
  },
  {
   "cell_type": "code",
   "execution_count": 48,
   "metadata": {},
   "outputs": [
    {
     "name": "stdout",
     "output_type": "stream",
     "text": [
      "99000099\n"
     ]
    }
   ],
   "source": [
    "# 강사님\n",
    "\n",
    "def check_number(x):\n",
    "    # 숫자를 가지고 하면 힘들어.. => 문자열로 처리 쉽다\n",
    "    str1 = str(x)\n",
    "    tmp = list(str(x))\n",
    "    tmp.reverse()\n",
    "    if str1== \"\".join(tmp):\n",
    "        return True\n",
    "    else:\n",
    "        return False\n",
    "\n",
    "def calcul_number(x):    # x : 1이면 2자리 수끼리 곱\n",
    "                         # x : 2이면 3자리 수끼리 곱\n",
    "    result = []\n",
    "    for i in range(10**x,10**(x+1)):\n",
    "        for j in range(10*x,10**(x+1)):\n",
    "            if check_number(i*j):\n",
    "                result.append(i*j)\n",
    "    print(max(result))\n",
    "\n",
    "calcul_number(3)"
   ]
  },
  {
   "cell_type": "code",
   "execution_count": null,
   "metadata": {},
   "outputs": [],
   "source": [
    "## 문제 7.\n",
    "## 1부터 10사이의 어떤 수로도 나누어 떨어지는 가장 작은수는 2520입니다\n",
    "\n",
    "## 1부터 20사이의 어떤수로도 나누어 떨어지는 가장 작은수는?"
   ]
  },
  {
   "cell_type": "code",
   "execution_count": 15,
   "metadata": {
    "scrolled": true
   },
   "outputs": [
    {
     "ename": "IndentationError",
     "evalue": "expected an indented block (<ipython-input-15-175af01e8474>, line 7)",
     "output_type": "error",
     "traceback": [
      "\u001b[1;36m  File \u001b[1;32m\"<ipython-input-15-175af01e8474>\"\u001b[1;36m, line \u001b[1;32m7\u001b[0m\n\u001b[1;33m    if x%i==0:\u001b[0m\n\u001b[1;37m     ^\u001b[0m\n\u001b[1;31mIndentationError\u001b[0m\u001b[1;31m:\u001b[0m expected an indented block\n"
     ]
    }
   ],
   "source": [
    "import math\n",
    "x=1\n",
    "y=[]\n",
    "while x < math.factorial(10):\n",
    "    x+=1\n",
    "    for i in range(11):\n",
    "        if x%i==0:\n",
    "            y.append(x)\n",
    "print(min(y))"
   ]
  },
  {
   "cell_type": "code",
   "execution_count": null,
   "metadata": {},
   "outputs": [],
   "source": [
    "import math\n",
    "\n",
    "for i in range(11,math.factorial(10)):\n",
    "    for j in range(1,11):\n",
    "        if i%j ==0:\n",
    "            j += 1\n",
    "            if j==11:\n",
    "                break\n",
    "        else:\n",
    "            i+=1\n",
    "print(i)            \n"
   ]
  },
  {
   "cell_type": "code",
   "execution_count": null,
   "metadata": {},
   "outputs": [],
   "source": []
  },
  {
   "cell_type": "code",
   "execution_count": null,
   "metadata": {},
   "outputs": [],
   "source": []
  },
  {
   "cell_type": "code",
   "execution_count": null,
   "metadata": {},
   "outputs": [],
   "source": []
  },
  {
   "cell_type": "code",
   "execution_count": null,
   "metadata": {},
   "outputs": [],
   "source": []
  },
  {
   "cell_type": "code",
   "execution_count": null,
   "metadata": {},
   "outputs": [],
   "source": []
  },
  {
   "cell_type": "code",
   "execution_count": null,
   "metadata": {},
   "outputs": [],
   "source": []
  },
  {
   "cell_type": "code",
   "execution_count": null,
   "metadata": {},
   "outputs": [],
   "source": []
  },
  {
   "cell_type": "code",
   "execution_count": null,
   "metadata": {},
   "outputs": [],
   "source": []
  },
  {
   "cell_type": "code",
   "execution_count": 64,
   "metadata": {},
   "outputs": [
    {
     "ename": "KeyboardInterrupt",
     "evalue": "",
     "output_type": "error",
     "traceback": [
      "\u001b[1;31m---------------------------------------------------------------------------\u001b[0m",
      "\u001b[1;31mKeyboardInterrupt\u001b[0m                         Traceback (most recent call last)",
      "\u001b[1;32m<ipython-input-64-c7460df04e83>\u001b[0m in \u001b[0;36m<module>\u001b[1;34m\u001b[0m\n\u001b[0;32m      2\u001b[0m \u001b[0mi\u001b[0m\u001b[1;33m=\u001b[0m\u001b[1;36m1\u001b[0m\u001b[1;33m\u001b[0m\u001b[1;33m\u001b[0m\u001b[0m\n\u001b[0;32m      3\u001b[0m \u001b[1;32mwhile\u001b[0m \u001b[1;32mTrue\u001b[0m\u001b[1;33m:\u001b[0m\u001b[1;33m\u001b[0m\u001b[1;33m\u001b[0m\u001b[0m\n\u001b[1;32m----> 4\u001b[1;33m     \u001b[1;32mif\u001b[0m \u001b[0mnum\u001b[0m\u001b[1;33m%\u001b[0m\u001b[0mi\u001b[0m\u001b[1;33m==\u001b[0m\u001b[1;36m0\u001b[0m\u001b[1;33m:\u001b[0m\u001b[1;33m\u001b[0m\u001b[1;33m\u001b[0m\u001b[0m\n\u001b[0m\u001b[0;32m      5\u001b[0m         \u001b[0mi\u001b[0m \u001b[1;33m+=\u001b[0m\u001b[1;36m1\u001b[0m\u001b[1;33m\u001b[0m\u001b[1;33m\u001b[0m\u001b[0m\n\u001b[0;32m      6\u001b[0m         \u001b[1;32mif\u001b[0m \u001b[0mi\u001b[0m\u001b[1;33m==\u001b[0m\u001b[1;36m21\u001b[0m\u001b[1;33m:\u001b[0m\u001b[1;33m\u001b[0m\u001b[1;33m\u001b[0m\u001b[0m\n",
      "\u001b[1;31mKeyboardInterrupt\u001b[0m: "
     ]
    }
   ],
   "source": [
    "num=1\n",
    "i=1\n",
    "while True:\n",
    "    if num%i==0:\n",
    "        i +=1\n",
    "        if i==21:    \n",
    "            break\n",
    "    else:\n",
    "        i=21\n",
    "        num +=10\n",
    "print(num)"
   ]
  },
  {
   "cell_type": "code",
   "execution_count": null,
   "metadata": {},
   "outputs": [],
   "source": []
  },
  {
   "cell_type": "code",
   "execution_count": null,
   "metadata": {},
   "outputs": [],
   "source": [
    "num=0\n",
    "i=1\n",
    "while"
   ]
  },
  {
   "cell_type": "code",
   "execution_count": 36,
   "metadata": {},
   "outputs": [
    {
     "ename": "ValueError",
     "evalue": "min() arg is an empty sequence",
     "output_type": "error",
     "traceback": [
      "\u001b[1;31m---------------------------------------------------------------------------\u001b[0m",
      "\u001b[1;31mValueError\u001b[0m                                Traceback (most recent call last)",
      "\u001b[1;32m<ipython-input-36-91ba71b9ceb7>\u001b[0m in \u001b[0;36m<module>\u001b[1;34m\u001b[0m\n\u001b[0;32m     13\u001b[0m \u001b[1;33m\u001b[0m\u001b[0m\n\u001b[0;32m     14\u001b[0m \u001b[1;33m\u001b[0m\u001b[0m\n\u001b[1;32m---> 15\u001b[1;33m \u001b[0mprint\u001b[0m\u001b[1;33m(\u001b[0m\u001b[0mmin\u001b[0m\u001b[1;33m(\u001b[0m\u001b[0my\u001b[0m\u001b[1;33m)\u001b[0m\u001b[1;33m)\u001b[0m\u001b[1;33m\u001b[0m\u001b[1;33m\u001b[0m\u001b[0m\n\u001b[0m",
      "\u001b[1;31mValueError\u001b[0m: min() arg is an empty sequence"
     ]
    }
   ],
   "source": [
    "import math\n",
    "y=[]\n",
    "# x=1\n",
    "# cnt=0\n",
    "for x in range(11,math.factorial(10)):\n",
    "    for i in range(1,11):\n",
    "        if x%i != 0:\n",
    "            break\n",
    "        else:\n",
    "            cnt += 1\n",
    "    if cnt==10:\n",
    "        y.append(x)\n",
    "        \n",
    "\n",
    "print(min(y))"
   ]
  },
  {
   "cell_type": "code",
   "execution_count": 9,
   "metadata": {},
   "outputs": [
    {
     "name": "stdout",
     "output_type": "stream",
     "text": [
      "6\n"
     ]
    }
   ],
   "source": [
    "import math\n",
    "x=1\n",
    "while x < math.factorial(3):\n",
    "    x+=1\n",
    "print(x)"
   ]
  },
  {
   "cell_type": "code",
   "execution_count": 66,
   "metadata": {
    "scrolled": true
   },
   "outputs": [
    {
     "name": "stdout",
     "output_type": "stream",
     "text": [
      "3631320\n",
      "3631320\n"
     ]
    }
   ],
   "source": [
    "while True:\n",
    "    x += 1\n",
    "    cnt = 0\n",
    "    for i in range(2, 11):\n",
    "        if x % i != 0:\n",
    "            #x += 1\n",
    "            break\n",
    "        cnt += 1\n",
    "    if cnt == 9:\n",
    "        print(x)\n",
    "        break\n",
    "print(x)"
   ]
  },
  {
   "cell_type": "code",
   "execution_count": null,
   "metadata": {},
   "outputs": [],
   "source": []
  },
  {
   "cell_type": "code",
   "execution_count": null,
   "metadata": {},
   "outputs": [],
   "source": []
  },
  {
   "cell_type": "code",
   "execution_count": null,
   "metadata": {},
   "outputs": [],
   "source": []
  },
  {
   "cell_type": "code",
   "execution_count": null,
   "metadata": {},
   "outputs": [],
   "source": []
  },
  {
   "cell_type": "code",
   "execution_count": null,
   "metadata": {},
   "outputs": [],
   "source": []
  },
  {
   "cell_type": "code",
   "execution_count": null,
   "metadata": {},
   "outputs": [],
   "source": []
  },
  {
   "cell_type": "code",
   "execution_count": null,
   "metadata": {},
   "outputs": [],
   "source": []
  },
  {
   "cell_type": "code",
   "execution_count": null,
   "metadata": {},
   "outputs": [],
   "source": [
    "def soinsubunhae(num):\n",
    "    soinsu = []\n",
    "    for i in range (2, num+1):\n",
    "        while i <= num:\n",
    "            if num % i == 0:\n",
    "                num = num/i\n",
    "                soinsu.append(i)\n",
    "            else:\n",
    "                break\n",
    "\n",
    "    return soinsu"
   ]
  },
  {
   "cell_type": "code",
   "execution_count": 46,
   "metadata": {},
   "outputs": [
    {
     "name": "stdout",
     "output_type": "stream",
     "text": [
      "232792560\n"
     ]
    }
   ],
   "source": [
    "value = [v for v in range(1,21)]\n",
    "\n",
    "for i in range(11,math.factorial(20)):\n",
    "    count = 0\n",
    "    for j in value:\n",
    "        if i%j != 0:\n",
    "            break\n",
    "        else :\n",
    "            count +=1\n",
    "    if count == 20 :\n",
    "        print(i)\n",
    "        break"
   ]
  },
  {
   "cell_type": "code",
   "execution_count": 47,
   "metadata": {},
   "outputs": [
    {
     "ename": "TypeError",
     "evalue": "'int' object is not iterable",
     "output_type": "error",
     "traceback": [
      "\u001b[1;31m---------------------------------------------------------------------------\u001b[0m",
      "\u001b[1;31mTypeError\u001b[0m                                 Traceback (most recent call last)",
      "\u001b[1;32m<ipython-input-47-68eb3027fb19>\u001b[0m in \u001b[0;36m<module>\u001b[1;34m\u001b[0m\n\u001b[0;32m      2\u001b[0m     \u001b[1;32mfor\u001b[0m \u001b[0mvalue\u001b[0m \u001b[1;32min\u001b[0m \u001b[0mrange\u001b[0m\u001b[1;33m(\u001b[0m\u001b[1;36m1\u001b[0m\u001b[1;33m,\u001b[0m\u001b[1;36m21\u001b[0m\u001b[1;33m)\u001b[0m\u001b[1;33m:\u001b[0m\u001b[1;33m\u001b[0m\u001b[1;33m\u001b[0m\u001b[0m\n\u001b[0;32m      3\u001b[0m         \u001b[0mcount\u001b[0m \u001b[1;33m=\u001b[0m \u001b[1;36m0\u001b[0m\u001b[1;33m\u001b[0m\u001b[1;33m\u001b[0m\u001b[0m\n\u001b[1;32m----> 4\u001b[1;33m         \u001b[1;32mfor\u001b[0m \u001b[0mj\u001b[0m \u001b[1;32min\u001b[0m \u001b[0mvalue\u001b[0m\u001b[1;33m:\u001b[0m\u001b[1;33m\u001b[0m\u001b[1;33m\u001b[0m\u001b[0m\n\u001b[0m\u001b[0;32m      5\u001b[0m             \u001b[1;32mif\u001b[0m \u001b[0mi\u001b[0m\u001b[1;33m%\u001b[0m\u001b[0mj\u001b[0m \u001b[1;33m!=\u001b[0m \u001b[1;36m0\u001b[0m\u001b[1;33m:\u001b[0m\u001b[1;33m\u001b[0m\u001b[1;33m\u001b[0m\u001b[0m\n\u001b[0;32m      6\u001b[0m                 \u001b[1;32mbreak\u001b[0m\u001b[1;33m\u001b[0m\u001b[1;33m\u001b[0m\u001b[0m\n",
      "\u001b[1;31mTypeError\u001b[0m: 'int' object is not iterable"
     ]
    }
   ],
   "source": [
    "for i in range(11,math.factorial(10)):\n",
    "    for value in range(1,21):\n",
    "        count = 0\n",
    "        for j in value:\n",
    "            if i%j != 0:\n",
    "                break\n",
    "            else :\n",
    "                count +=1\n",
    "        if count == 10 :\n",
    "            print(i)\n",
    "            break"
   ]
  },
  {
   "cell_type": "code",
   "execution_count": 49,
   "metadata": {},
   "outputs": [
    {
     "name": "stdout",
     "output_type": "stream",
     "text": [
      "3099044504245996706400\n"
     ]
    }
   ],
   "source": [
    "\n",
    "def gcd(a,b):\n",
    "    if b==0:\n",
    "        return a\n",
    "    else:\n",
    "        return gcd(b, a%b)\n",
    "\n",
    "\n",
    "def lcm(a,b):\n",
    "    return a*b//gcd(a,b)\n",
    "\n",
    "mul=1\n",
    "for i in range(1,51):\n",
    "    mul=lcm(mul,i)\n",
    "\n",
    "print(mul)\n"
   ]
  },
  {
   "cell_type": "code",
   "execution_count": 50,
   "metadata": {},
   "outputs": [
    {
     "name": "stdout",
     "output_type": "stream",
     "text": [
      "232792560\n"
     ]
    }
   ],
   "source": [
    "elem=[2]\n",
    "for i in range(3,20):   \n",
    "    for j in range(2,i):   \n",
    "        if i%j==0:\n",
    "            break\n",
    "        elif j==i-1:\n",
    "            elem.append(i)\n",
    "\n",
    "ans=1        \n",
    "for i in elem:\n",
    "    while 1:\n",
    "        if i*i>20:\n",
    "            ans*=i\n",
    "            break\n",
    "        i*=i\n",
    "\n",
    "print(ans)\n",
    "# 20이하의 소수를 구하여서 이들의 20이하의 최댓값을 판단, 그들을 곱."
   ]
  },
  {
   "cell_type": "code",
   "execution_count": 62,
   "metadata": {},
   "outputs": [
    {
     "name": "stdout",
     "output_type": "stream",
     "text": [
      "232792560\n"
     ]
    }
   ],
   "source": [
    "# num=2520\n",
    "# i=11\n",
    "# while True:\n",
    "#     if num%i==0:\n",
    "#         i +=1\n",
    "#         if i==21:    \n",
    "#             break\n",
    "#     else:\n",
    "#         i=11\n",
    "#         num +=20\n",
    "# print(num)\n",
    "\n",
    "num=2520\n",
    "i=11\n",
    "while True:\n",
    "    if num%i==0:\n",
    "        i +=1\n",
    "        if i==21:    \n",
    "            break\n",
    "    else:\n",
    "        i=11\n",
    "        num +=20\n",
    "print(num)"
   ]
  }
 ],
 "metadata": {
  "kernelspec": {
   "display_name": "[CPU_ENV]",
   "language": "python",
   "name": "cpu_env"
  }
 },
 "nbformat": 4,
 "nbformat_minor": 2
}
