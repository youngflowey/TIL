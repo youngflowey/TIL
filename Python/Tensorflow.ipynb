{
 "cells": [
  {
   "cell_type": "markdown",
   "metadata": {},
   "source": [
    "# Tensorflow\n",
    "- 다른 package, module에 비해서 살짝 특이한 형태의 library\n",
    "- 다른 라이브러리는 필요한 위치에 필요한일을위해 필요한 것을 갖다 써\n",
    "- Tensorflow는 전체적인 그래프를 만드는 library  \n",
    "나중에 수행이될 그래프를 만듦\n",
    "- Tensorflow는 3가지 구성요소로 이해하면 쉬워요!\n",
    "\n",
    " 1. Node : 수학적인 연산을 담당, 데이터의 입출력을 담당\n",
    " 2. edge : node와 node를 연결하는, 동적데이터를 노드로 실어 나르는 역할\n",
    " 3. Tensor : 다차원배열형태의 동적 데이터\n",
    "\n",
    "데이터가 흘러가는 그래프\n"
   ]
  },
  {
   "cell_type": "code",
   "execution_count": 7,
   "metadata": {},
   "outputs": [
    {
     "name": "stdout",
     "output_type": "stream",
     "text": [
      "b'Hello world!'\n",
      "Hello world!\n"
     ]
    }
   ],
   "source": [
    "import tensorflow as tf\n",
    "# 첫번째 warning, 두번째부터 괜찮아짐\n",
    "\n",
    "# 상수 node를 만드는 함수\n",
    "node1 = tf.constant(\"Hello world!\")\n",
    "\n",
    "# graph를 실행시키기 위해서는 runner가 필요\n",
    "# session이라고 불리는 runner를 생성해요!\n",
    "# 2버전부터는 session 없어\n",
    "sess = tf.Session()\n",
    "# tensorflow 그래프를 실행시켜줄 수 있는 주체\n",
    "\n",
    "sess.run(node1)\n",
    "print(sess.run(node1))\n",
    "# b'Hello world!'\n",
    "# bite 형태의 문자열\n",
    "\n",
    "print(sess.run(node1).decode())"
   ]
  },
  {
   "cell_type": "code",
   "execution_count": 13,
   "metadata": {},
   "outputs": [
    {
     "name": "stdout",
     "output_type": "stream",
     "text": [
      "30.0\n",
      "[10.0, 30.0]\n"
     ]
    }
   ],
   "source": [
    "# 2개의 값을 더하는 tensorflow graph를 생성하고\n",
    "# 실행시켜서 값을 구해보아요!\n",
    "\n",
    "import tensorflow as tf\n",
    "\n",
    "# tensorflow 는 주로 실수형태\n",
    "node1 = tf.constant(10, dtype = tf.float32)\n",
    "node2 = tf.constant(20, dtype = tf.float32)\n",
    "\n",
    "node3 = node1 + node2\n",
    "\n",
    "sess = tf.Session()\n",
    "\n",
    "print(sess.run(node3))\n",
    "print(sess.run([node1,node3]))"
   ]
  },
  {
   "cell_type": "markdown",
   "metadata": {},
   "source": [
    "\n",
    "- 위의 예시는 실행시키는 시점에 이미 각 노드의 값이 결정되어 있어요\n",
    "- constant(상수이기 때문에)\n",
    "\n",
    "만약 실행시키는 시점에 각노드의 값을 결정해서 실행시키려면 어떻게 해야하나요?"
   ]
  },
  {
   "cell_type": "code",
   "execution_count": 19,
   "metadata": {
    "scrolled": true
   },
   "outputs": [
    {
     "name": "stdout",
     "output_type": "stream",
     "text": [
      "덧셈결과 : 40.0\n",
      "20\n",
      "30\n",
      "덧셈결과 : 50.0\n"
     ]
    }
   ],
   "source": [
    "import tensorflow as tf\n",
    "\n",
    "node1 = tf.placeholder(dtype = tf.float32)\n",
    "node2 = tf.placeholder(dtype = tf.float32)\n",
    "\n",
    "node3 = node1 + node2\n",
    "\n",
    "sess = tf.Session()\n",
    "\n",
    "result = sess.run(node3, feed_dict = {node1 : 10, node2 : 30})\n",
    "# dictionary형태로 먹이를 준다\n",
    "\n",
    "print(\"덧셈결과 : {}\".format(result))\n",
    "\n",
    "result = sess.run(node3, feed_dict = {node1 : input(),\n",
    "                                      node2 : input()})\n",
    "\n",
    "print(\"덧셈결과 : {}\".format(result))"
   ]
  },
  {
   "cell_type": "markdown",
   "metadata": {},
   "source": [
    "12-24\n",
    "\n",
    "## Linear regression을 Tensorflow를 이용해서 구현해 보아요\n",
    "\n",
    "#### 1. 필요한 module을 import"
   ]
  },
  {
   "cell_type": "code",
   "execution_count": 32,
   "metadata": {},
   "outputs": [],
   "source": [
    "import tensorflow as tf"
   ]
  },
  {
   "cell_type": "markdown",
   "metadata": {},
   "source": [
    "#### 2. training data set"
   ]
  },
  {
   "cell_type": "code",
   "execution_count": 44,
   "metadata": {},
   "outputs": [],
   "source": [
    "x_data = [1,2,3]\n",
    "y_data = [3,5,7]\n",
    "# x데이터에 대한 y대응\n",
    "# 상수보다 접시에서 parameter로 받아들이는 placeholder"
   ]
  },
  {
   "cell_type": "markdown",
   "metadata": {},
   "source": [
    "#### 3. placeholder(tensorflowe그래프에 입력을 주기위한 파라미터 기능)"
   ]
  },
  {
   "cell_type": "code",
   "execution_count": 45,
   "metadata": {},
   "outputs": [],
   "source": [
    "x = tf.placeholder(dtype = tf.float32)\n",
    "y = tf.placeholder(dtype = tf.float32)"
   ]
  },
  {
   "cell_type": "markdown",
   "metadata": {},
   "source": [
    "#### 4. Weight, Bias"
   ]
  },
  {
   "cell_type": "code",
   "execution_count": 46,
   "metadata": {},
   "outputs": [],
   "source": [
    "W = tf.Variable(tf.random_normal([1]), name=\"weight\")\n",
    "b = tf.Variable(tf.random_normal([1]), name=\"bias\")\n",
    "# 초기 W값을 랜덤으로\n",
    "# 1차 함수 -> 1개필요"
   ]
  },
  {
   "cell_type": "markdown",
   "metadata": {},
   "source": [
    "#### 5. Hypothesis"
   ]
  },
  {
   "cell_type": "code",
   "execution_count": 47,
   "metadata": {},
   "outputs": [],
   "source": [
    "H = W * x + b\n",
    "# 그래프는 H에 W,x,b가 각각 연결된 형태일 것\n",
    "# 학습을 통해서 W,b 정해짐"
   ]
  },
  {
   "cell_type": "markdown",
   "metadata": {},
   "source": [
    "#### 6. Cost function ( Loss function )\n",
    "\n",
    "가설에서 y값을 빼고 그 값을 제곱해서 평균을 구해요!\n",
    "\n",
    "최소 제곱법 표현"
   ]
  },
  {
   "cell_type": "code",
   "execution_count": 48,
   "metadata": {},
   "outputs": [],
   "source": [
    "cost = tf.reduce_mean(tf.square(H - y))"
   ]
  },
  {
   "cell_type": "markdown",
   "metadata": {},
   "source": [
    "#### 7. train node를 생성\n",
    "\n",
    "gradient descent : 경사가 가장 빠른길로 가다보면 가장 빠른 길로 가게될 것!"
   ]
  },
  {
   "cell_type": "code",
   "execution_count": 49,
   "metadata": {},
   "outputs": [],
   "source": [
    "optimizer = tf.train.GradientDescentOptimizer(learning_rate=0.01)\n",
    "# 경사하강법 알고리즘 구현해 놓은것\n",
    "# 경사 급한곳 찾았을때 얼마나 이동할 건지는 우리가 정해준다\n",
    "\n",
    "# learning_rate 정해져있는게 아니라 최적의값 찾아내야해"
   ]
  },
  {
   "cell_type": "code",
   "execution_count": 50,
   "metadata": {},
   "outputs": [],
   "source": [
    "# cost가 최소가 되었을 때 W값\n",
    "# cost 값을 줄여나감\n",
    "train = optimizer.minimize(cost)\n",
    "# 조금더 줄어든 cost값으로 한단계 나감\n",
    "# 전체 node를 실행시켜주는 trigger역할"
   ]
  },
  {
   "cell_type": "markdown",
   "metadata": {},
   "source": [
    "#### 8. 그래프를 실행시키기 위해서 runner(session)\n",
    "\n",
    "Vaiable을 사용하면 학습하기 전에 반드시 초기화를 해야한다"
   ]
  },
  {
   "cell_type": "code",
   "execution_count": 51,
   "metadata": {},
   "outputs": [],
   "source": [
    "sess = tf.Session()\n",
    "sess.run(tf.global_variables_initializer())  # 초기화"
   ]
  },
  {
   "cell_type": "markdown",
   "metadata": {},
   "source": [
    "#### 9. learning작업(학습)"
   ]
  },
  {
   "cell_type": "code",
   "execution_count": 55,
   "metadata": {
    "scrolled": true
   },
   "outputs": [
    {
     "name": "stdout",
     "output_type": "stream",
     "text": [
      "train값 : None, w값 : [2.0003974], b값 : [0.99909824], cost값 : 1.1719786385810949e-07\n",
      "train값 : None, w값 : [2.0001945], b값 : [0.9995591], cost값 : 2.805828991370163e-08\n",
      "train값 : None, w값 : [2.000096], b값 : [0.9997826], cost값 : 6.823862808147396e-09\n",
      "train값 : None, w값 : [2.0000458], b값 : [0.9998957], cost값 : 1.5799438424224377e-09\n",
      "train값 : None, w값 : [2.0000246], b값 : [0.99994594], cost값 : 4.2177816794719547e-10\n",
      "train값 : None, w값 : [2.0000155], b값 : [0.99996674], cost값 : 1.678965161344692e-10\n",
      "train값 : None, w값 : [2.000013], b값 : [0.99997246], cost값 : 1.1254996934439987e-10\n",
      "train값 : None, w값 : [2.000013], b값 : [0.99997246], cost값 : 1.1254996934439987e-10\n",
      "train값 : None, w값 : [2.000013], b값 : [0.99997246], cost값 : 1.1254996934439987e-10\n",
      "train값 : None, w값 : [2.000013], b값 : [0.99997246], cost값 : 1.1254996934439987e-10\n",
      "[401.0026]\n"
     ]
    }
   ],
   "source": [
    "for step in range(3000):   # 3000번 반복해서 학습\n",
    "# 학습데이터의 사이즈, 시간 정해줘야해\n",
    "    _,w_val,cost_val,b_val = sess.run([train,W,cost,b],\n",
    "                                      feed_dict={\n",
    "                                          x: x_data,\n",
    "                                          y: y_data\n",
    "                                     })\n",
    "    if step % 300 == 0:  # 300번째,600번째, 900번째,....3000번째 에서 값들을 그래프에 찍어보겠다\n",
    "        print(\"train값 : {}, w값 : {}, b값 : {}, cost값 : {}\".format(_,w_val,\n",
    "                                                   b_val,\n",
    "                                                   cost_val))\n",
    "        \n",
    "        # train은 값을 가지고 있지 않아!\n",
    "        \n",
    "# 학습이 끝났어요! => 최적의 W와 b값을 찾아내서 H를 만들었다\n",
    "\n",
    "# prediction\n",
    "print(sess.run(H, feed_dict = {x : 200}))"
   ]
  },
  {
   "cell_type": "markdown",
   "metadata": {},
   "source": [
    "#### Prediction"
   ]
  },
  {
   "cell_type": "code",
   "execution_count": 54,
   "metadata": {},
   "outputs": [
    {
     "name": "stdout",
     "output_type": "stream",
     "text": [
      "[401.07877]\n"
     ]
    }
   ],
   "source": [
    "print(sess.run(H, feed_dict = {x : 200}))"
   ]
  },
  {
   "cell_type": "markdown",
   "metadata": {},
   "source": [
    "# 온도에 따른 Ozone 데이터를 학습한 후 Prediction까지 진행"
   ]
  },
  {
   "cell_type": "markdown",
   "metadata": {},
   "source": [
    "### 필요한 module을 import"
   ]
  },
  {
   "cell_type": "code",
   "execution_count": 11,
   "metadata": {},
   "outputs": [],
   "source": [
    "import tensorflow as tf\n",
    "import numpy as np\n",
    "import pandas as pd\n",
    "import matplotlib.pyplot as plt"
   ]
  },
  {
   "cell_type": "code",
   "execution_count": null,
   "metadata": {},
   "outputs": [],
   "source": [
    "# data loading\n",
    "# 학습데이터를 확보해서 전처리 과정을 거쳐야 한다\n",
    "df = pd.read_csv(\"./data/ozone.csv\")"
   ]
  },
  {
   "cell_type": "code",
   "execution_count": 20,
   "metadata": {},
   "outputs": [
    {
     "name": "stdout",
     "output_type": "stream",
     "text": [
      "읽어들인 총 데이터의 shape : (153, 2)\n",
      "결측치를 제거한 후 남은 데이터 : (116, 2)\n"
     ]
    }
   ],
   "source": [
    "print(\"읽어들인 총 데이터의 shape : {}\".format(df.shape))\n",
    "\n",
    "df.head()\n",
    "\n",
    "\n",
    "# 결측치 제거 시 다른 column에 의해 너무 많은 행이 제거되는걸 방지하기 위해 필요한 column만 추출\n",
    "# 필요한 컬럼 뽑아내야해\n",
    "# 불필요한 컬럼때문에 분석 안될수도있어\n",
    "# fancy indexing\n",
    "\n",
    "df = df[[\"Ozone\",\"Temp\"]]\n",
    "\n",
    "# 결측치를 제거 (dropna() 이용)\n",
    "# 결측치를 찾아서 지우고 그 지운 data frame을 리턴\n",
    "df = df.dropna(how=\"any\", inplace = False)  # inplace 복사본 만들건지 안만들건지\n",
    "print(\"결측치를 제거한 후 남은 데이터 : {}\".format(df.shape))"
   ]
  },
  {
   "cell_type": "markdown",
   "metadata": {},
   "source": [
    "### 이상치 제거"
   ]
  },
  {
   "cell_type": "code",
   "execution_count": 25,
   "metadata": {},
   "outputs": [
    {
     "data": {
      "text/plain": [
       "{'whiskers': [<matplotlib.lines.Line2D at 0x171494cc3c8>,\n",
       "  <matplotlib.lines.Line2D at 0x171494cc780>],\n",
       " 'caps': [<matplotlib.lines.Line2D at 0x171494ccac8>,\n",
       "  <matplotlib.lines.Line2D at 0x171494cce10>],\n",
       " 'boxes': [<matplotlib.lines.Line2D at 0x171494cc278>],\n",
       " 'medians': [<matplotlib.lines.Line2D at 0x171494d6198>],\n",
       " 'fliers': [<matplotlib.lines.Line2D at 0x171494d64e0>],\n",
       " 'means': []}"
      ]
     },
     "execution_count": 25,
     "metadata": {},
     "output_type": "execute_result"
    },
    {
     "data": {
      "image/png": "[encoded data removed]",
      "text/plain": [
       "<Figure size 432x288 with 1 Axes>"
      ]
     },
     "metadata": {
      "needs_background": "light"
     },
     "output_type": "display_data"
    }
   ],
   "source": [
    "# 이번에는 이상치 확인 (box-plot)하여 제거해보자\n",
    "# 각 column(온도와 오존)에 대해서 boxplot을 그려보아요\n",
    "\n",
    "plt.boxplot(df[\"Temp\"])   # 온도는 이상치가 존재하지 않는다\n",
    "\n"
   ]
  },
  {
   "cell_type": "code",
   "execution_count": 24,
   "metadata": {},
   "outputs": [
    {
     "data": {
      "text/plain": [
       "{'whiskers': [<matplotlib.lines.Line2D at 0x17149476128>,\n",
       "  <matplotlib.lines.Line2D at 0x17149476470>],\n",
       " 'caps': [<matplotlib.lines.Line2D at 0x171494767b8>,\n",
       "  <matplotlib.lines.Line2D at 0x17149476b00>],\n",
       " 'boxes': [<matplotlib.lines.Line2D at 0x17149469f98>],\n",
       " 'medians': [<matplotlib.lines.Line2D at 0x17149476dd8>],\n",
       " 'fliers': [<matplotlib.lines.Line2D at 0x17149483160>],\n",
       " 'means': []}"
      ]
     },
     "execution_count": 24,
     "metadata": {},
     "output_type": "execute_result"
    },
    {
     "data": {
      "image/png": "[encoded data removed]",
      "text/plain": [
       "<Figure size 432x288 with 1 Axes>"
      ]
     },
     "metadata": {
      "needs_background": "light"
     },
     "output_type": "display_data"
    }
   ],
   "source": [
    "plt.boxplot(df[\"Ozone\"])    # 오존데이터에는 이상치가 존재한다"
   ]
  },
  {
   "cell_type": "markdown",
   "metadata": {},
   "source": [
    "- 이상치를 찾기 위해서 Tukey Fence 방식을 이용 (IRQ방식 이용)\n",
    "- IRQ값은 3사분위값 - 1사분위값을 계산해서 구한다\n",
    "- 만약 (3사분위값 + IRQ * 1.5) 을 초과하는 값이 존재하면 이상치\n",
    "- 만약 (1사분위값 - IRQ * 1.5) 미만의 값이 존재하면 이상치"
   ]
  },
  {
   "cell_type": "code",
   "execution_count": 39,
   "metadata": {},
   "outputs": [
    {
     "name": "stdout",
     "output_type": "stream",
     "text": [
      "124.25\n",
      "이상치를 제거한 후 남은 데이터 : (114, 2)\n"
     ]
    },
    {
     "data": {
      "text/html": [
       "<div>\n",
       "<style scoped>\n",
       "    .dataframe tbody tr th:only-of-type {\n",
       "        vertical-align: middle;\n",
       "    }\n",
       "\n",
       "    .dataframe tbody tr th {\n",
       "        vertical-align: top;\n",
       "    }\n",
       "\n",
       "    .dataframe thead th {\n",
       "        text-align: right;\n",
       "    }\n",
       "</style>\n",
       "<table border=\"1\" class=\"dataframe\">\n",
       "  <thead>\n",
       "    <tr style=\"text-align: right;\">\n",
       "      <th></th>\n",
       "      <th>Ozone</th>\n",
       "      <th>Temp</th>\n",
       "    </tr>\n",
       "  </thead>\n",
       "  <tbody>\n",
       "    <tr>\n",
       "      <th>0</th>\n",
       "      <td>41.0</td>\n",
       "      <td>67</td>\n",
       "    </tr>\n",
       "    <tr>\n",
       "      <th>1</th>\n",
       "      <td>36.0</td>\n",
       "      <td>72</td>\n",
       "    </tr>\n",
       "    <tr>\n",
       "      <th>2</th>\n",
       "      <td>12.0</td>\n",
       "      <td>74</td>\n",
       "    </tr>\n",
       "    <tr>\n",
       "      <th>3</th>\n",
       "      <td>18.0</td>\n",
       "      <td>62</td>\n",
       "    </tr>\n",
       "    <tr>\n",
       "      <th>5</th>\n",
       "      <td>28.0</td>\n",
       "      <td>66</td>\n",
       "    </tr>\n",
       "  </tbody>\n",
       "</table>\n",
       "</div>"
      ],
      "text/plain": [
       "   Ozone  Temp\n",
       "0   41.0    67\n",
       "1   36.0    72\n",
       "2   12.0    74\n",
       "3   18.0    62\n",
       "5   28.0    66"
      ]
     },
     "execution_count": 39,
     "metadata": {},
     "output_type": "execute_result"
    }
   ],
   "source": [
    "q1,q3 = np.percentile(df[\"Ozone\"],[25,75])\n",
    "irq = q3 - q1\n",
    "upper = q3 + irq*1.5\n",
    "print(upper)\n",
    "mask = df[\"Ozone\"] > upper  ## mask\n",
    "df=df.loc[~mask]     # ~ 'not'의 의미\n",
    "print(\"이상치를 제거한 후 남은 데이터 : {}\".format(df.shape))\n",
    "df.head()"
   ]
  },
  {
   "cell_type": "markdown",
   "metadata": {},
   "source": [
    "## Linear regression 을 하기전에 데이터의 경향성을 확인\n",
    "산점도 (scatter) 를 이용해서 데이터의 경향성을 확인해보자"
   ]
  },
  {
   "cell_type": "code",
   "execution_count": 40,
   "metadata": {},
   "outputs": [
    {
     "data": {
      "text/plain": [
       "<matplotlib.collections.PathCollection at 0x1714a6046d8>"
      ]
     },
     "execution_count": 40,
     "metadata": {},
     "output_type": "execute_result"
    },
    {
     "data": {
      "image/png": "[encoded data removed]",
      "text/plain": [
       "<Figure size 432x288 with 1 Axes>"
      ]
     },
     "metadata": {
      "needs_background": "light"
     },
     "output_type": "display_data"
    }
   ],
   "source": [
    "plt.scatter(df[\"Temp\"],df[\"Ozone\"])"
   ]
  },
  {
   "cell_type": "markdown",
   "metadata": {},
   "source": [
    "### linear regression\n",
    "1. training data set 준비"
   ]
  },
  {
   "cell_type": "code",
   "execution_count": 42,
   "metadata": {},
   "outputs": [],
   "source": [
    "x_data = df[\"Temp\"]\n",
    "y_data = df[\"Ozone\"]"
   ]
  },
  {
   "cell_type": "markdown",
   "metadata": {},
   "source": [
    "2. 입력을 받아들이는 node인 placeholder 를 정의"
   ]
  },
  {
   "cell_type": "code",
   "execution_count": 43,
   "metadata": {},
   "outputs": [],
   "source": [
    "x = tf.placeholder(dtype = tf.float32)\n",
    "y = tf.placeholder(dtype = tf.float32)"
   ]
  },
  {
   "cell_type": "markdown",
   "metadata": {},
   "source": [
    "3. Weight & bias 를 정의"
   ]
  },
  {
   "cell_type": "code",
   "execution_count": 44,
   "metadata": {},
   "outputs": [],
   "source": [
    "W = tf.Variable(tf.random_normal([1]), name = \"weigth\")\n",
    "b = tf.Variable(tf.random_normal([1]), name = \"bias\")"
   ]
  },
  {
   "cell_type": "markdown",
   "metadata": {},
   "source": [
    "4. 가설(Hypothesis) 정의"
   ]
  },
  {
   "cell_type": "code",
   "execution_count": 46,
   "metadata": {},
   "outputs": [],
   "source": [
    "H = W * x + b"
   ]
  },
  {
   "cell_type": "markdown",
   "metadata": {},
   "source": [
    "5. cost function 정의"
   ]
  },
  {
   "cell_type": "code",
   "execution_count": 47,
   "metadata": {},
   "outputs": [],
   "source": [
    "cost = tf.reduce_mean(tf.square(H - y))"
   ]
  },
  {
   "cell_type": "markdown",
   "metadata": {},
   "source": [
    "6. train"
   ]
  },
  {
   "cell_type": "code",
   "execution_count": 61,
   "metadata": {},
   "outputs": [],
   "source": [
    "optimizer = tf.train.GradientDescentOptimizer(learning_rate = 0.01)\n",
    "train = optimizer.minimize(cost)"
   ]
  },
  {
   "cell_type": "markdown",
   "metadata": {},
   "source": [
    "7. session 초기화 작업"
   ]
  },
  {
   "cell_type": "code",
   "execution_count": 62,
   "metadata": {},
   "outputs": [],
   "source": [
    "sess = tf.Session()   # Graph를 실행시키기 위해 필요해요!\n",
    "sess.run(tf.global_variables_initializer())"
   ]
  },
  {
   "cell_type": "markdown",
   "metadata": {},
   "source": [
    "8. 학습"
   ]
  },
  {
   "cell_type": "code",
   "execution_count": 63,
   "metadata": {},
   "outputs": [
    {
     "name": "stdout",
     "output_type": "stream",
     "text": [
      "cost값은 : 3561.1005859375\n",
      "cost값은 : nan\n",
      "cost값은 : nan\n",
      "cost값은 : nan\n",
      "cost값은 : nan\n",
      "cost값은 : nan\n",
      "cost값은 : nan\n",
      "cost값은 : nan\n",
      "cost값은 : nan\n",
      "cost값은 : nan\n"
     ]
    }
   ],
   "source": [
    "for step in range(3000):\n",
    "    _, cost_val = sess.run([train,cost],\n",
    "                  feed_dict = { x : x_data,\n",
    "                                y : y_data})\n",
    "    # cost 값을 봐야해 W나 b는 나중에 봐도돼\n",
    "    if step % 300 == 0:\n",
    "        print(\"cost값은 : {}\".format(cost_val))\n",
    "        \n",
    "# 학습이 안되는거!!!! 발산함"
   ]
  },
  {
   "cell_type": "code",
   "execution_count": 76,
   "metadata": {},
   "outputs": [
    {
     "name": "stdout",
     "output_type": "stream",
     "text": [
      "cost값은 : 1.2704720497131348\n",
      "cost값은 : 1.0929895639419556\n",
      "cost값은 : 0.9408282041549683\n",
      "cost값은 : 0.8103741407394409\n",
      "cost값은 : 0.6985318660736084\n",
      "cost값은 : 0.602645754814148\n",
      "cost값은 : 0.5204386711120605\n",
      "cost값은 : 0.4499594569206238\n",
      "cost값은 : 0.3895350396633148\n",
      "cost값은 : 0.33773159980773926\n"
     ]
    }
   ],
   "source": [
    "optimizer = tf.train.GradientDescentOptimizer(learning_rate = 0.0001)\n",
    "train = optimizer.minimize(cost)\n",
    "\n",
    "sess = tf.Session()   # Graph를 실행시키기 위해 필요해요!\n",
    "sess.run(tf.global_variables_initializer())\n",
    "\n",
    "for step in range(3000):\n",
    "    _, cost_val = sess.run([train,cost],\n",
    "                  feed_dict = { x : x_data,\n",
    "                                y : y_data})\n",
    "    # cost 값을 봐야해 W나 b는 나중에 봐도돼\n",
    "    if step % 300 == 0:\n",
    "        print(\"cost값은 : {}\".format(cost_val))\n",
    "        \n",
    "# 이렇게 나오는 이유는 데이터에 문제\n",
    "# 데이터 사이즈가 크면 클수록 데이터 차이가 작으면작을수록 "
   ]
  },
  {
   "cell_type": "markdown",
   "metadata": {},
   "source": [
    "- 정제된 데이터를 정규화나 표준화를 이용해서 값의 범위를 조절해야해요!\n",
    "\n",
    "    => 그래야 학습이 정상적으로 이루어질 수 있어요!"
   ]
  },
  {
   "cell_type": "markdown",
   "metadata": {},
   "source": [
    "정제된 데이터를 정규화나 표준화를 이용해서 값의 범위를 조절해야 해요!\n",
    "\n",
    "=> 그래야 학습이 정상적으로 이루어질 수 있어요\n",
    "\n",
    "데이터를 표준화 방식으로 다시 만들어서 학습을 진행\n",
    "\n",
    "Normalization(표준화) \n",
    "- 각 데이터를 다음과 같은 방식으로 비율적으로 축소시키는 방식\n",
    "- 각 요소의 값 => (요소값 - 전체데이터의 최소값)\n",
    "                  (전체 데이터의 최대값 - 전체 데이터의 최소값)\n",
    "                  "
   ]
  },
  {
   "cell_type": "code",
   "execution_count": 74,
   "metadata": {},
   "outputs": [
    {
     "data": {
      "text/html": [
       "<div>\n",
       "<style scoped>\n",
       "    .dataframe tbody tr th:only-of-type {\n",
       "        vertical-align: middle;\n",
       "    }\n",
       "\n",
       "    .dataframe tbody tr th {\n",
       "        vertical-align: top;\n",
       "    }\n",
       "\n",
       "    .dataframe thead th {\n",
       "        text-align: right;\n",
       "    }\n",
       "</style>\n",
       "<table border=\"1\" class=\"dataframe\">\n",
       "  <thead>\n",
       "    <tr style=\"text-align: right;\">\n",
       "      <th></th>\n",
       "      <th>Ozone</th>\n",
       "      <th>Temp</th>\n",
       "      <th>Temap_Norm</th>\n",
       "      <th>Ozone_Norm</th>\n",
       "      <th>Temp_Norm</th>\n",
       "    </tr>\n",
       "  </thead>\n",
       "  <tbody>\n",
       "    <tr>\n",
       "      <th>0</th>\n",
       "      <td>41.0</td>\n",
       "      <td>67</td>\n",
       "      <td>0.250</td>\n",
       "      <td>0.330579</td>\n",
       "      <td>0.250</td>\n",
       "    </tr>\n",
       "    <tr>\n",
       "      <th>1</th>\n",
       "      <td>36.0</td>\n",
       "      <td>72</td>\n",
       "      <td>0.375</td>\n",
       "      <td>0.289256</td>\n",
       "      <td>0.375</td>\n",
       "    </tr>\n",
       "    <tr>\n",
       "      <th>2</th>\n",
       "      <td>12.0</td>\n",
       "      <td>74</td>\n",
       "      <td>0.425</td>\n",
       "      <td>0.090909</td>\n",
       "      <td>0.425</td>\n",
       "    </tr>\n",
       "    <tr>\n",
       "      <th>3</th>\n",
       "      <td>18.0</td>\n",
       "      <td>62</td>\n",
       "      <td>0.125</td>\n",
       "      <td>0.140496</td>\n",
       "      <td>0.125</td>\n",
       "    </tr>\n",
       "    <tr>\n",
       "      <th>5</th>\n",
       "      <td>28.0</td>\n",
       "      <td>66</td>\n",
       "      <td>0.225</td>\n",
       "      <td>0.223140</td>\n",
       "      <td>0.225</td>\n",
       "    </tr>\n",
       "  </tbody>\n",
       "</table>\n",
       "</div>"
      ],
      "text/plain": [
       "   Ozone  Temp  Temap_Norm  Ozone_Norm  Temp_Norm\n",
       "0   41.0    67       0.250    0.330579      0.250\n",
       "1   36.0    72       0.375    0.289256      0.375\n",
       "2   12.0    74       0.425    0.090909      0.425\n",
       "3   18.0    62       0.125    0.140496      0.125\n",
       "5   28.0    66       0.225    0.223140      0.225"
      ]
     },
     "execution_count": 74,
     "metadata": {},
     "output_type": "execute_result"
    }
   ],
   "source": [
    "df[\"Temp_Norm\"]=(df[\"Temp\"] - df[\"Temp\"].min()) / (df[\"Temp\"].max() - df[\"Temp\"].min())\n",
    "# 결과는 series로 나올 것 -> 모든 온도값 조절된 값으로 출력\n",
    "df[\"Ozone_Norm\"]=(df[\"Ozone\"] - df[\"Ozone\"].min()) / (df[\"Ozone\"].max() - df[\"Ozone\"].min())\n",
    "df.head()"
   ]
  },
  {
   "cell_type": "markdown",
   "metadata": {},
   "source": [
    "확인작업"
   ]
  },
  {
   "cell_type": "code",
   "execution_count": 75,
   "metadata": {},
   "outputs": [
    {
     "data": {
      "text/plain": [
       "<matplotlib.collections.PathCollection at 0x1714d2f0198>"
      ]
     },
     "execution_count": 75,
     "metadata": {},
     "output_type": "execute_result"
    },
    {
     "data": {
      "image/png": "[encoded data removed]",
      "text/plain": [
       "<Figure size 432x288 with 1 Axes>"
      ]
     },
     "metadata": {
      "needs_background": "light"
     },
     "output_type": "display_data"
    }
   ],
   "source": [
    "plt.scatter(df[\"Temp\"],df[\"Ozone\"])\n",
    "plt.scatter(df[\"Temp_Norm\"],df[\"Ozone_Norm\"])"
   ]
  },
  {
   "cell_type": "code",
   "execution_count": 97,
   "metadata": {},
   "outputs": [
    {
     "name": "stdout",
     "output_type": "stream",
     "text": [
      "cost값은 : 2.045564651489258\n",
      "cost값은 : 0.026380550116300583\n",
      "cost값은 : 0.02628171071410179\n",
      "cost값은 : 0.026223648339509964\n",
      "cost값은 : 0.026189418509602547\n",
      "cost값은 : 0.026169247925281525\n",
      "cost값은 : 0.026157356798648834\n",
      "cost값은 : 0.02615034393966198\n",
      "cost값은 : 0.026146212592720985\n",
      "cost값은 : 0.02614377811551094\n"
     ]
    }
   ],
   "source": [
    "x_data = df[\"Temp_Norm\"]\n",
    "y_data = df[\"Ozone_Norm\"]\n",
    "\n",
    "optimizer = tf.train.GradientDescentOptimizer(learning_rate = 0.01)\n",
    "train = optimizer.minimize(cost)\n",
    "\n",
    "sess = tf.Session()   # Graph를 실행시키기 위해 필요해요!\n",
    "sess.run(tf.global_variables_initializer())\n",
    "\n",
    "for step in range(3000):\n",
    "    _, cost_val = sess.run([train,cost],\n",
    "                  feed_dict = { x : x_data,\n",
    "                                y : y_data})\n",
    "    # cost 값을 봐야해 W나 b는 나중에 봐도돼\n",
    "    if step % 300 == 0:\n",
    "        print(\"cost값은 : {}\".format(cost_val))"
   ]
  },
  {
   "cell_type": "markdown",
   "metadata": {},
   "source": [
    "학습이 종료된 후 최종적으로 얻은 W와 b의 값을 이용하여 line graph를 산점도와 함께 그려보아요"
   ]
  },
  {
   "cell_type": "code",
   "execution_count": 98,
   "metadata": {},
   "outputs": [
    {
     "data": {
      "text/plain": [
       "[<matplotlib.lines.Line2D at 0x1714d68c240>]"
      ]
     },
     "execution_count": 98,
     "metadata": {},
     "output_type": "execute_result"
    },
    {
     "data": {
      "image/png": "[encoded data removed]",
      "text/plain": [
       "<Figure size 432x288 with 1 Axes>"
      ]
     },
     "metadata": {
      "needs_background": "light"
     },
     "output_type": "display_data"
    }
   ],
   "source": [
    "plt.scatter(df[\"Temp_Norm\"],df[\"Ozone_Norm\"])\n",
    "plt.plot(df[\"Temp_Norm\"],df[\"Temp_Norm\"]*sess.run(W) +sess.run(b))"
   ]
  },
  {
   "cell_type": "markdown",
   "metadata": {},
   "source": [
    "학습이 끝났으니 Prediction을 해 보아요\n",
    "\n",
    "화씨 62도에서 오존량을 예측해 보아요!"
   ]
  },
  {
   "cell_type": "code",
   "execution_count": 99,
   "metadata": {},
   "outputs": [
    {
     "name": "stdout",
     "output_type": "stream",
     "text": [
      "[47.779583]\n"
     ]
    }
   ],
   "source": [
    "# 좌표계가 다르므로 62대입해서는 안돼!\n",
    "print(sess.run(H, feed_dict={x:62}))\n",
    "\n",
    "tmp = (81 - df[\"Temp\"].min()) / (df[\"Temp\"].max() - df[\"Temp\"].min())\n",
    "result_norm = sess.run(H, feed_dict = {x : tmp})\n",
    "result = result_norm * (df[\"Ozone\"].max()-df[\"Ozone\"].min())+df[\"Ozone\"].min()\n",
    "print(result)"
   ]
  },
  {
   "cell_type": "markdown",
   "metadata": {},
   "source": [
    "12-26\n",
    "\n",
    "## 단순선형회귀(simple linear regression)\n",
    "- 데이터는 온도에 따른 오존량의 측정치를 이용한다"
   ]
  },
  {
   "cell_type": "code",
   "execution_count": 26,
   "metadata": {},
   "outputs": [],
   "source": [
    "import tensorflow as tf\n",
    "import numpy as np\n",
    "import pandas as pd\n",
    "import matplotlib.pyplot as plt \n",
    "# 그래프 기반이되는 모듈\n",
    "from scipy import stats\n",
    "# 사이파이의 여러기능 중 통계기능 이용하겠어\n",
    "# 사이파이 prompt에서 설치해야해 (블로그참고)"
   ]
  },
  {
   "cell_type": "markdown",
   "metadata": {},
   "source": [
    "### 1. data loading ( raw data loading )"
   ]
  },
  {
   "cell_type": "code",
   "execution_count": 46,
   "metadata": {
    "scrolled": false
   },
   "outputs": [
    {
     "data": {
      "text/html": [
       "<div>\n",
       "<style scoped>\n",
       "    .dataframe tbody tr th:only-of-type {\n",
       "        vertical-align: middle;\n",
       "    }\n",
       "\n",
       "    .dataframe tbody tr th {\n",
       "        vertical-align: top;\n",
       "    }\n",
       "\n",
       "    .dataframe thead th {\n",
       "        text-align: right;\n",
       "    }\n",
       "</style>\n",
       "<table border=\"1\" class=\"dataframe\">\n",
       "  <thead>\n",
       "    <tr style=\"text-align: right;\">\n",
       "      <th></th>\n",
       "      <th>Ozone</th>\n",
       "      <th>Solar.R</th>\n",
       "      <th>Wind</th>\n",
       "      <th>Temp</th>\n",
       "      <th>Month</th>\n",
       "      <th>Day</th>\n",
       "    </tr>\n",
       "  </thead>\n",
       "  <tbody>\n",
       "    <tr>\n",
       "      <th>0</th>\n",
       "      <td>41.0</td>\n",
       "      <td>190.0</td>\n",
       "      <td>7.4</td>\n",
       "      <td>67</td>\n",
       "      <td>5</td>\n",
       "      <td>1</td>\n",
       "    </tr>\n",
       "    <tr>\n",
       "      <th>1</th>\n",
       "      <td>36.0</td>\n",
       "      <td>118.0</td>\n",
       "      <td>8.0</td>\n",
       "      <td>72</td>\n",
       "      <td>5</td>\n",
       "      <td>2</td>\n",
       "    </tr>\n",
       "    <tr>\n",
       "      <th>2</th>\n",
       "      <td>12.0</td>\n",
       "      <td>149.0</td>\n",
       "      <td>12.6</td>\n",
       "      <td>74</td>\n",
       "      <td>5</td>\n",
       "      <td>3</td>\n",
       "    </tr>\n",
       "    <tr>\n",
       "      <th>3</th>\n",
       "      <td>18.0</td>\n",
       "      <td>313.0</td>\n",
       "      <td>11.5</td>\n",
       "      <td>62</td>\n",
       "      <td>5</td>\n",
       "      <td>4</td>\n",
       "    </tr>\n",
       "    <tr>\n",
       "      <th>4</th>\n",
       "      <td>NaN</td>\n",
       "      <td>NaN</td>\n",
       "      <td>14.3</td>\n",
       "      <td>56</td>\n",
       "      <td>5</td>\n",
       "      <td>5</td>\n",
       "    </tr>\n",
       "  </tbody>\n",
       "</table>\n",
       "</div>"
      ],
      "text/plain": [
       "   Ozone  Solar.R  Wind  Temp  Month  Day\n",
       "0   41.0    190.0   7.4    67      5    1\n",
       "1   36.0    118.0   8.0    72      5    2\n",
       "2   12.0    149.0  12.6    74      5    3\n",
       "3   18.0    313.0  11.5    62      5    4\n",
       "4    NaN      NaN  14.3    56      5    5"
      ]
     },
     "execution_count": 46,
     "metadata": {},
     "output_type": "execute_result"
    }
   ],
   "source": [
    "df = pd.read_csv(\"./data/ozone.csv\")\n",
    "df.head()"
   ]
  },
  {
   "cell_type": "markdown",
   "metadata": {},
   "source": [
    "### 2. 데이터의 전처리를 진행 ( Data Pre processing )\n",
    "#### 2-1. 필요한 column부터 추출\n",
    "- 여러개의 컬럼 뽑아야하니 fancy indexing 이용해야해"
   ]
  },
  {
   "cell_type": "code",
   "execution_count": 47,
   "metadata": {
    "scrolled": true
   },
   "outputs": [
    {
     "data": {
      "text/html": [
       "<div>\n",
       "<style scoped>\n",
       "    .dataframe tbody tr th:only-of-type {\n",
       "        vertical-align: middle;\n",
       "    }\n",
       "\n",
       "    .dataframe tbody tr th {\n",
       "        vertical-align: top;\n",
       "    }\n",
       "\n",
       "    .dataframe thead th {\n",
       "        text-align: right;\n",
       "    }\n",
       "</style>\n",
       "<table border=\"1\" class=\"dataframe\">\n",
       "  <thead>\n",
       "    <tr style=\"text-align: right;\">\n",
       "      <th></th>\n",
       "      <th>Ozone</th>\n",
       "      <th>Temp</th>\n",
       "    </tr>\n",
       "  </thead>\n",
       "  <tbody>\n",
       "    <tr>\n",
       "      <th>0</th>\n",
       "      <td>41.0</td>\n",
       "      <td>67</td>\n",
       "    </tr>\n",
       "    <tr>\n",
       "      <th>1</th>\n",
       "      <td>36.0</td>\n",
       "      <td>72</td>\n",
       "    </tr>\n",
       "    <tr>\n",
       "      <th>2</th>\n",
       "      <td>12.0</td>\n",
       "      <td>74</td>\n",
       "    </tr>\n",
       "    <tr>\n",
       "      <th>3</th>\n",
       "      <td>18.0</td>\n",
       "      <td>62</td>\n",
       "    </tr>\n",
       "    <tr>\n",
       "      <th>4</th>\n",
       "      <td>NaN</td>\n",
       "      <td>56</td>\n",
       "    </tr>\n",
       "  </tbody>\n",
       "</table>\n",
       "</div>"
      ],
      "text/plain": [
       "   Ozone  Temp\n",
       "0   41.0    67\n",
       "1   36.0    72\n",
       "2   12.0    74\n",
       "3   18.0    62\n",
       "4    NaN    56"
      ]
     },
     "execution_count": 47,
     "metadata": {},
     "output_type": "execute_result"
    }
   ],
   "source": [
    "df = df[[\"Ozone\",\"Temp\"]]\n",
    "df.head()"
   ]
  },
  {
   "cell_type": "markdown",
   "metadata": {},
   "source": [
    "#### 2-2. 결측치 처리"
   ]
  },
  {
   "cell_type": "code",
   "execution_count": 48,
   "metadata": {},
   "outputs": [
    {
     "name": "stdout",
     "output_type": "stream",
     "text": [
      "(153, 2)\n",
      "(116, 2)\n"
     ]
    }
   ],
   "source": [
    "print(df.shape)\n",
    "\n",
    "df = df.dropna(how = \"any\", inplace = False)   # 처리된 return값\n",
    "print(df.shape)"
   ]
  },
  {
   "cell_type": "markdown",
   "metadata": {},
   "source": [
    "#### 2-3. 이상치 처리 (Tukey Fences방식이용 - IQR기반)\n",
    "- 이상치가 존재하는지 확인 => boxplot으로 확인\n",
    "- IQR값을 구해서 이를 이용해 상위, 하위 이상치의 바운더리를 계산\n",
    "- IQR = 3사분위값 - 1사분위값"
   ]
  },
  {
   "cell_type": "code",
   "execution_count": 49,
   "metadata": {
    "scrolled": true
   },
   "outputs": [
    {
     "data": {
      "text/plain": [
       "{'whiskers': [<matplotlib.lines.Line2D at 0x2273eb719b0>,\n",
       "  <matplotlib.lines.Line2D at 0x2273eb71d68>],\n",
       " 'caps': [<matplotlib.lines.Line2D at 0x2273eb7d0f0>,\n",
       "  <matplotlib.lines.Line2D at 0x2273eb7d438>],\n",
       " 'boxes': [<matplotlib.lines.Line2D at 0x2273eb71860>],\n",
       " 'medians': [<matplotlib.lines.Line2D at 0x2273eb7d780>],\n",
       " 'fliers': [<matplotlib.lines.Line2D at 0x2273eb7dac8>],\n",
       " 'means': []}"
      ]
     },
     "execution_count": 49,
     "metadata": {},
     "output_type": "execute_result"
    },
    {
     "data": {
      "image/png": "[encoded data removed]",
      "text/plain": [
       "<Figure size 432x288 with 1 Axes>"
      ]
     },
     "metadata": {
      "needs_background": "light"
     },
     "output_type": "display_data"
    }
   ],
   "source": [
    "plt.boxplot(df[\"Temp\"])\n",
    "# 상위 이상치/하위 이상치 둘 다 존재하지 않음"
   ]
  },
  {
   "cell_type": "code",
   "execution_count": 50,
   "metadata": {},
   "outputs": [
    {
     "data": {
      "text/plain": [
       "{'whiskers': [<matplotlib.lines.Line2D at 0x2273ebdb0b8>,\n",
       "  <matplotlib.lines.Line2D at 0x2273ebdb470>],\n",
       " 'caps': [<matplotlib.lines.Line2D at 0x2273ebdb7b8>,\n",
       "  <matplotlib.lines.Line2D at 0x2273ebdbb00>],\n",
       " 'boxes': [<matplotlib.lines.Line2D at 0x2273ebd0f28>],\n",
       " 'medians': [<matplotlib.lines.Line2D at 0x2273ebdbe48>],\n",
       " 'fliers': [<matplotlib.lines.Line2D at 0x2273ebe71d0>],\n",
       " 'means': []}"
      ]
     },
     "execution_count": 50,
     "metadata": {},
     "output_type": "execute_result"
    },
    {
     "data": {
      "image/png": "[encoded data removed]",
      "text/plain": [
       "<Figure size 432x288 with 1 Axes>"
      ]
     },
     "metadata": {
      "needs_background": "light"
     },
     "output_type": "display_data"
    }
   ],
   "source": [
    "plt.boxplot(df[\"Ozone\"])\n",
    "# 상위 이상치가 존재하기 때문에 없애줘야해"
   ]
  },
  {
   "cell_type": "code",
   "execution_count": 58,
   "metadata": {},
   "outputs": [
    {
     "name": "stdout",
     "output_type": "stream",
     "text": [
      "124.25\n"
     ]
    },
    {
     "data": {
      "text/html": [
       "<div>\n",
       "<style scoped>\n",
       "    .dataframe tbody tr th:only-of-type {\n",
       "        vertical-align: middle;\n",
       "    }\n",
       "\n",
       "    .dataframe tbody tr th {\n",
       "        vertical-align: top;\n",
       "    }\n",
       "\n",
       "    .dataframe thead th {\n",
       "        text-align: right;\n",
       "    }\n",
       "</style>\n",
       "<table border=\"1\" class=\"dataframe\">\n",
       "  <thead>\n",
       "    <tr style=\"text-align: right;\">\n",
       "      <th></th>\n",
       "      <th>Ozone</th>\n",
       "      <th>Temp</th>\n",
       "      <th>Temp_Norm</th>\n",
       "      <th>Ozone_Norm</th>\n",
       "    </tr>\n",
       "  </thead>\n",
       "  <tbody>\n",
       "    <tr>\n",
       "      <th>0</th>\n",
       "      <td>41.0</td>\n",
       "      <td>67</td>\n",
       "      <td>0.250</td>\n",
       "      <td>0.330579</td>\n",
       "    </tr>\n",
       "    <tr>\n",
       "      <th>1</th>\n",
       "      <td>36.0</td>\n",
       "      <td>72</td>\n",
       "      <td>0.375</td>\n",
       "      <td>0.289256</td>\n",
       "    </tr>\n",
       "    <tr>\n",
       "      <th>2</th>\n",
       "      <td>12.0</td>\n",
       "      <td>74</td>\n",
       "      <td>0.425</td>\n",
       "      <td>0.090909</td>\n",
       "    </tr>\n",
       "    <tr>\n",
       "      <th>3</th>\n",
       "      <td>18.0</td>\n",
       "      <td>62</td>\n",
       "      <td>0.125</td>\n",
       "      <td>0.140496</td>\n",
       "    </tr>\n",
       "    <tr>\n",
       "      <th>5</th>\n",
       "      <td>28.0</td>\n",
       "      <td>66</td>\n",
       "      <td>0.225</td>\n",
       "      <td>0.223140</td>\n",
       "    </tr>\n",
       "    <tr>\n",
       "      <th>...</th>\n",
       "      <td>...</td>\n",
       "      <td>...</td>\n",
       "      <td>...</td>\n",
       "      <td>...</td>\n",
       "    </tr>\n",
       "    <tr>\n",
       "      <th>147</th>\n",
       "      <td>14.0</td>\n",
       "      <td>63</td>\n",
       "      <td>0.150</td>\n",
       "      <td>0.107438</td>\n",
       "    </tr>\n",
       "    <tr>\n",
       "      <th>148</th>\n",
       "      <td>30.0</td>\n",
       "      <td>70</td>\n",
       "      <td>0.325</td>\n",
       "      <td>0.239669</td>\n",
       "    </tr>\n",
       "    <tr>\n",
       "      <th>150</th>\n",
       "      <td>14.0</td>\n",
       "      <td>75</td>\n",
       "      <td>0.450</td>\n",
       "      <td>0.107438</td>\n",
       "    </tr>\n",
       "    <tr>\n",
       "      <th>151</th>\n",
       "      <td>18.0</td>\n",
       "      <td>76</td>\n",
       "      <td>0.475</td>\n",
       "      <td>0.140496</td>\n",
       "    </tr>\n",
       "    <tr>\n",
       "      <th>152</th>\n",
       "      <td>20.0</td>\n",
       "      <td>68</td>\n",
       "      <td>0.275</td>\n",
       "      <td>0.157025</td>\n",
       "    </tr>\n",
       "  </tbody>\n",
       "</table>\n",
       "<p>114 rows × 4 columns</p>\n",
       "</div>"
      ],
      "text/plain": [
       "     Ozone  Temp  Temp_Norm  Ozone_Norm\n",
       "0     41.0    67      0.250    0.330579\n",
       "1     36.0    72      0.375    0.289256\n",
       "2     12.0    74      0.425    0.090909\n",
       "3     18.0    62      0.125    0.140496\n",
       "5     28.0    66      0.225    0.223140\n",
       "..     ...   ...        ...         ...\n",
       "147   14.0    63      0.150    0.107438\n",
       "148   30.0    70      0.325    0.239669\n",
       "150   14.0    75      0.450    0.107438\n",
       "151   18.0    76      0.475    0.140496\n",
       "152   20.0    68      0.275    0.157025\n",
       "\n",
       "[114 rows x 4 columns]"
      ]
     },
     "metadata": {},
     "output_type": "display_data"
    },
    {
     "name": "stdout",
     "output_type": "stream",
     "text": [
      "(114, 4)\n"
     ]
    }
   ],
   "source": [
    "q1,q3 = np.percentile(df[\"Ozone\"],[25,75])\n",
    "# 두개의 값 알기 위해 -> [] list 써줌 \n",
    "iqr = q3 - q1\n",
    "upper = q3 + irq * 1.5   # 131.125가 상위 이상치를 처리하기 위한 경계값\n",
    "print(upper)\n",
    "mask = df[\"Ozone\"] > upper    # boolean mask를 생성\n",
    "df = df.loc[~mask]\n",
    "display(df)\n",
    "print(df.shape)"
   ]
  },
  {
   "cell_type": "markdown",
   "metadata": {},
   "source": [
    "#### 2-4. 데이터가 선형적 관계에 있는지를 확인\n",
    "- scatter(산점도)를 이용하면 데이터의 관계를 쉽게 파악할 수 있다"
   ]
  },
  {
   "cell_type": "code",
   "execution_count": 52,
   "metadata": {},
   "outputs": [
    {
     "data": {
      "text/plain": [
       "<matplotlib.collections.PathCollection at 0x2273ec3b390>"
      ]
     },
     "execution_count": 52,
     "metadata": {},
     "output_type": "execute_result"
    },
    {
     "data": {
      "image/png": "[encoded data removed]",
      "text/plain": [
       "<Figure size 432x288 with 1 Axes>"
      ]
     },
     "metadata": {
      "needs_background": "light"
     },
     "output_type": "display_data"
    }
   ],
   "source": [
    "plt.scatter(df[\"Temp\"],df[\"Ozone\"])"
   ]
  },
  {
   "cell_type": "markdown",
   "metadata": {},
   "source": [
    "#### 2-5. 정규화 혹은 표준화를 이용해서 데이터의 scale 변환\n",
    "- 정규화(Normalization) = (요소값 - 최소값) / (최대값 - 최소값)\n",
    "    - => 0 ~ 1 사이의 값으로 scale\n",
    "- 표준화(Standardization) = (요소값 - 평균) / 표준편차\n",
    "    - => -1 ~ 1 사이의 값으로 scale\n",
    "- 둘 다 수행해봐서 학습결과가 좋은놈으로 골라야해\n",
    "- 정규화방식을 이용해서 데이터를 변형\n",
    "- 일반적으로는 module을 이용, 우리는 프로그램으로 처리"
   ]
  },
  {
   "cell_type": "code",
   "execution_count": 57,
   "metadata": {},
   "outputs": [
    {
     "data": {
      "text/html": [
       "<div>\n",
       "<style scoped>\n",
       "    .dataframe tbody tr th:only-of-type {\n",
       "        vertical-align: middle;\n",
       "    }\n",
       "\n",
       "    .dataframe tbody tr th {\n",
       "        vertical-align: top;\n",
       "    }\n",
       "\n",
       "    .dataframe thead th {\n",
       "        text-align: right;\n",
       "    }\n",
       "</style>\n",
       "<table border=\"1\" class=\"dataframe\">\n",
       "  <thead>\n",
       "    <tr style=\"text-align: right;\">\n",
       "      <th></th>\n",
       "      <th>Ozone</th>\n",
       "      <th>Temp</th>\n",
       "      <th>Temp_Norm</th>\n",
       "      <th>Ozone_Norm</th>\n",
       "    </tr>\n",
       "  </thead>\n",
       "  <tbody>\n",
       "    <tr>\n",
       "      <th>0</th>\n",
       "      <td>41.0</td>\n",
       "      <td>67</td>\n",
       "      <td>0.250</td>\n",
       "      <td>0.330579</td>\n",
       "    </tr>\n",
       "    <tr>\n",
       "      <th>1</th>\n",
       "      <td>36.0</td>\n",
       "      <td>72</td>\n",
       "      <td>0.375</td>\n",
       "      <td>0.289256</td>\n",
       "    </tr>\n",
       "    <tr>\n",
       "      <th>2</th>\n",
       "      <td>12.0</td>\n",
       "      <td>74</td>\n",
       "      <td>0.425</td>\n",
       "      <td>0.090909</td>\n",
       "    </tr>\n",
       "    <tr>\n",
       "      <th>3</th>\n",
       "      <td>18.0</td>\n",
       "      <td>62</td>\n",
       "      <td>0.125</td>\n",
       "      <td>0.140496</td>\n",
       "    </tr>\n",
       "    <tr>\n",
       "      <th>5</th>\n",
       "      <td>28.0</td>\n",
       "      <td>66</td>\n",
       "      <td>0.225</td>\n",
       "      <td>0.223140</td>\n",
       "    </tr>\n",
       "  </tbody>\n",
       "</table>\n",
       "</div>"
      ],
      "text/plain": [
       "   Ozone  Temp  Temp_Norm  Ozone_Norm\n",
       "0   41.0    67      0.250    0.330579\n",
       "1   36.0    72      0.375    0.289256\n",
       "2   12.0    74      0.425    0.090909\n",
       "3   18.0    62      0.125    0.140496\n",
       "5   28.0    66      0.225    0.223140"
      ]
     },
     "execution_count": 57,
     "metadata": {},
     "output_type": "execute_result"
    }
   ],
   "source": [
    "df[\"Temp_Norm\"] = (df[\"Temp\"] - df[\"Temp\"].min()) / (df[\"Temp\"].max() - df[\"Temp\"].min())\n",
    "df[\"Ozone_Norm\"] = (df[\"Ozone\"] - df[\"Ozone\"].min()) / (df[\"Ozone\"].max() - df[\"Ozone\"].min())\n",
    "df.head()\n",
    "\n",
    "# 학습에 적합한 데이터를 완성!"
   ]
  },
  {
   "cell_type": "markdown",
   "metadata": {},
   "source": [
    "## Machine Learning (Tensorflow )\n",
    "### 1. training data set"
   ]
  },
  {
   "cell_type": "code",
   "execution_count": 59,
   "metadata": {},
   "outputs": [],
   "source": [
    "x_data = df[\"Temp_Norm\"]\n",
    "y_data = df[\"Ozone_Norm\"]"
   ]
  },
  {
   "cell_type": "markdown",
   "metadata": {},
   "source": [
    "### 2. placeholder"
   ]
  },
  {
   "cell_type": "code",
   "execution_count": 60,
   "metadata": {},
   "outputs": [],
   "source": [
    "x = tf.placeholder(dtype = tf.float32)\n",
    "y = tf.placeholder(dtype = tf.float32)"
   ]
  },
  {
   "cell_type": "markdown",
   "metadata": {},
   "source": [
    "### 3. Weigth & bias"
   ]
  },
  {
   "cell_type": "code",
   "execution_count": 61,
   "metadata": {},
   "outputs": [],
   "source": [
    "W = tf.Variable(tf.random_normal([1]), name = \"weight\")    # [1] <- shape이라고 보면됨\n",
    "b = tf.Variable(tf.random_normal([1]), name = \"bias\")"
   ]
  },
  {
   "cell_type": "markdown",
   "metadata": {},
   "source": [
    "### 4. Hypothesis"
   ]
  },
  {
   "cell_type": "code",
   "execution_count": 64,
   "metadata": {},
   "outputs": [],
   "source": [
    "H = W * x + b"
   ]
  },
  {
   "cell_type": "markdown",
   "metadata": {},
   "source": [
    "### 5. cost function"
   ]
  },
  {
   "cell_type": "code",
   "execution_count": 68,
   "metadata": {},
   "outputs": [],
   "source": [
    "cost = tf.reduce_mean(tf.square(H-y))"
   ]
  },
  {
   "cell_type": "markdown",
   "metadata": {},
   "source": [
    "### 6. train"
   ]
  },
  {
   "cell_type": "code",
   "execution_count": 70,
   "metadata": {},
   "outputs": [],
   "source": [
    "optimizer = tf.train.GradientDescentOptimizer(learning_rate=0.01)\n",
    "# cost값을 미분으로 단계적으로 줄여나가는 과정\n",
    "# 얼마나 w값을 줄여나가면서 cost값을 구하는지\n",
    "train = optimizer.minimize(cost)\n",
    "# 한번수행하면 미분 한번 실행한거야\n",
    "# 최적의 W를 찾아가는것"
   ]
  },
  {
   "cell_type": "markdown",
   "metadata": {},
   "source": [
    "### 7. session, 초기화"
   ]
  },
  {
   "cell_type": "code",
   "execution_count": 71,
   "metadata": {},
   "outputs": [],
   "source": [
    "sess = tf.Session()\n",
    "sess.run(tf.global_variables_initializer())\n",
    "# 그래프를 초기화 시키고 수행시키는"
   ]
  },
  {
   "cell_type": "markdown",
   "metadata": {},
   "source": [
    "### 8. 학습"
   ]
  },
  {
   "cell_type": "code",
   "execution_count": 72,
   "metadata": {},
   "outputs": [
    {
     "name": "stdout",
     "output_type": "stream",
     "text": [
      "cost값 : 0.8619776368141174\n",
      "cost값 : 0.05302271619439125\n",
      "cost값 : 0.04198679327964783\n",
      "cost값 : 0.03548142686486244\n",
      "cost값 : 0.03164668381214142\n",
      "cost값 : 0.029386179521679878\n",
      "cost값 : 0.028053663671016693\n",
      "cost값 : 0.027268169447779655\n",
      "cost값 : 0.026805143803358078\n",
      "cost값 : 0.02653220109641552\n"
     ]
    }
   ],
   "source": [
    "for step in range(3000):   # 전체 3000번 수행\n",
    "    _, cost_val = sess.run([train,cost],\n",
    "                          feed_dict={x : x_data,\n",
    "                                     y : y_data})\n",
    "    if step % 300 == 0:\n",
    "        print(\"cost값 : {}\".format(cost_val))\n",
    "        \n",
    "# 0으로 가까워질 수록 좋은것"
   ]
  },
  {
   "cell_type": "markdown",
   "metadata": {},
   "source": [
    "- 최적의 W와 b를 구했다 => 가설을 완성"
   ]
  },
  {
   "cell_type": "markdown",
   "metadata": {},
   "source": [
    "## prediction\n",
    "- 온도가 (화씨)80 일때 Ozone량을 알고 싶다"
   ]
  },
  {
   "cell_type": "code",
   "execution_count": 73,
   "metadata": {},
   "outputs": [
    {
     "name": "stdout",
     "output_type": "stream",
     "text": [
      "[56.875683]\n"
     ]
    }
   ],
   "source": [
    "print(sess.run(H, feed_dict={ x : 80 }))\n",
    "# 이렇게 처리하면 문제가 있다\n",
    "# scale된 데이터로 만든 것이기 때문에 prediction할 수 없어"
   ]
  },
  {
   "cell_type": "markdown",
   "metadata": {},
   "source": [
    "- 80이란 온도를 0~1사이의 값으로 scale"
   ]
  },
  {
   "cell_type": "code",
   "execution_count": 76,
   "metadata": {},
   "outputs": [
    {
     "name": "stdout",
     "output_type": "stream",
     "text": [
      "0.575\n",
      "[0.36489686]\n",
      "[44.517418]\n"
     ]
    }
   ],
   "source": [
    "tmp = (80 - df[\"Temp\"].min()) / (df[\"Temp\"].max() - df[\"Temp\"].min(0))\n",
    "print(tmp)\n",
    "print(sess.run(H, feed_dict={ x : tmp }))\n",
    "# 예측한 Ozone값\n",
    "# 원래 상태로 돌려줘야해\n",
    "result_scale = sess.run(H, feed_dict={ x : tmp })\n",
    "result = result_scale * (df[\"Ozone\"].max()-df[\"Ozone\"].min() + df[\"Ozone\"].min())\n",
    "print(result)   # 45"
   ]
  },
  {
   "cell_type": "markdown",
   "metadata": {},
   "source": [
    "######################################################################################"
   ]
  },
  {
   "cell_type": "markdown",
   "metadata": {},
   "source": [
    "## scipy의 stats module을 이용해서 편하게 처리"
   ]
  },
  {
   "cell_type": "code",
   "execution_count": 79,
   "metadata": {},
   "outputs": [
    {
     "name": "stdout",
     "output_type": "stream",
     "text": [
      "LinregressResult(slope=2.344807849550286, intercept=-142.19084219133276, rvalue=0.7515377011359844, pvalue=5.802324426210489e-22, stderr=0.19448560867502498)\n",
      "45.39378577269011\n"
     ]
    }
   ],
   "source": [
    "x = df[\"Temp\"]\n",
    "y = df[\"Ozone\"]\n",
    "# 실데이터를 가지고 바로 이용\n",
    "# 전처리는 해줘야해\n",
    "\n",
    "result = stats.linregress(x,y)\n",
    "print(result)\n",
    "print(80*result[0] + result[1])   # 45\n",
    "# 학습이 끝나고 바로 보여줄 수 있어"
   ]
  },
  {
   "cell_type": "markdown",
   "metadata": {},
   "source": [
    "# multiple linear regression(다중선형회귀)\n",
    "- 독립변수가 2개 이상인 경우\n",
    "- Hypothesis가 변경\n",
    "- 단순선형회귀 => H = Wx + b\n",
    "- 다중선형회귀 => H = w1x1 + w2x2 + w3x3 + b\n",
    "- 결국 matrix형태로 W와 x가 표현된다\n",
    "- H = matmul(X,W) + b"
   ]
  },
  {
   "cell_type": "markdown",
   "metadata": {},
   "source": [
    "## 퀴즈성적을 이용한 최종시험성적 예측\n",
    "- 사용하는 데이터\n",
    "- 퀴즈1 퀴즈2 퀴즈3 최종성적\n",
    "-  73    80    75     152\n",
    "-  93    88    93     185\n",
    "-  89    91    90     180\n",
    "-  96    98   100     196\n",
    "-  73    66    70     142\n",
    "-  80    90    50      ??  (prediction)"
   ]
  },
  {
   "cell_type": "markdown",
   "metadata": {},
   "source": [
    "#### training data set"
   ]
  },
  {
   "cell_type": "code",
   "execution_count": 606,
   "metadata": {},
   "outputs": [],
   "source": [
    "x_data = df[\"Temp\"]\n",
    "# 1차원이였어\n",
    "\n",
    "x_data = [[73, 80, 75],\n",
    "          [93, 88, 93],\n",
    "          [89, 91, 90],\n",
    "          [96, 98, 100],\n",
    "          [73, 66, 70]]\n",
    "\n",
    "y_data = [[152], [185], [180], [196], [142]]\n",
    "\n"
   ]
  },
  {
   "cell_type": "markdown",
   "metadata": {},
   "source": [
    "#### placeholder"
   ]
  },
  {
   "cell_type": "code",
   "execution_count": 607,
   "metadata": {},
   "outputs": [],
   "source": [
    "X = tf.placeholder(shape=[None,3], dtype = tf.float32)\n",
    "# 행은 몇개들어올지 몰라\n",
    "# 1행 3열의 행을 알아보고싶은데 [5,3]으로하면 나중에 [1,3]짜리를 못집어넣음\n",
    "# 따라서 행의 갯수는 관여하지 않겠다 None으로 써줌\n",
    "Y = tf.placeholder(shape=[None,1], dtype = tf.float32)"
   ]
  },
  {
   "cell_type": "markdown",
   "metadata": {},
   "source": [
    "#### Weight & bias"
   ]
  },
  {
   "cell_type": "code",
   "execution_count": 608,
   "metadata": {},
   "outputs": [],
   "source": [
    "W = tf.Variable(tf.random_normal([3,1]), name = \"wieght\")\n",
    "b = tf.Variable(tf.random_normal([1]),name = \"bias\")"
   ]
  },
  {
   "cell_type": "markdown",
   "metadata": {},
   "source": [
    "#### Hypothesis"
   ]
  },
  {
   "cell_type": "code",
   "execution_count": 609,
   "metadata": {},
   "outputs": [],
   "source": [
    "# H = W * x + b\n",
    "H = tf.matmul(X,W)+ b\n",
    "# 행렬곱이므로"
   ]
  },
  {
   "cell_type": "markdown",
   "metadata": {},
   "source": [
    "#### Cost function\n",
    "여기서부터는 동일"
   ]
  },
  {
   "cell_type": "code",
   "execution_count": 610,
   "metadata": {},
   "outputs": [],
   "source": [
    "cost = tf.reduce_mean(tf.square(H-Y))"
   ]
  },
  {
   "cell_type": "markdown",
   "metadata": {},
   "source": [
    "### 6. train"
   ]
  },
  {
   "cell_type": "code",
   "execution_count": 611,
   "metadata": {},
   "outputs": [],
   "source": [
    "optimizer = tf.train.GradientDescentOptimizer(learning_rate=0.00001)\n",
    "# cost값을 미분으로 단계적으로 줄여나가는 과정\n",
    "# 얼마나 w값을 줄여나가면서 cost값을 구하는지\n",
    "train = optimizer.minimize(cost)\n",
    "# 한번수행하면 미분 한번 실행한거야\n",
    "# 최적의 W를 찾아가는것"
   ]
  },
  {
   "cell_type": "markdown",
   "metadata": {},
   "source": [
    "### 7. session, 초기화"
   ]
  },
  {
   "cell_type": "code",
   "execution_count": 612,
   "metadata": {},
   "outputs": [],
   "source": [
    "sess = tf.Session()\n",
    "sess.run(tf.global_variables_initializer())\n",
    "# 그래프를 초기화 시키고 수행시키는"
   ]
  },
  {
   "cell_type": "markdown",
   "metadata": {},
   "source": [
    "### 8. 학습"
   ]
  },
  {
   "cell_type": "code",
   "execution_count": 613,
   "metadata": {},
   "outputs": [
    {
     "name": "stdout",
     "output_type": "stream",
     "text": [
      "cost값 : 397.3356628417969\n",
      "cost값 : 4.416423797607422\n",
      "cost값 : 1.252854824066162\n",
      "cost값 : 0.6008899211883545\n",
      "cost값 : 0.44704097509384155\n",
      "cost값 : 0.3946453928947449\n",
      "cost값 : 0.36519917845726013\n",
      "cost값 : 0.342856228351593\n",
      "cost값 : 0.32415086030960083\n",
      "cost값 : 0.30810633301734924\n"
     ]
    }
   ],
   "source": [
    "for step in range(30000):   # 전체 3000번 수행\n",
    "    _, cost_val = sess.run([train,cost],\n",
    "                          feed_dict={X : x_data,\n",
    "                                     Y : y_data})\n",
    "    if step % 3000 == 0:\n",
    "        print(\"cost값 : {}\".format(cost_val))\n",
    "        \n",
    "# 0으로 가까워질 수록 좋은것"
   ]
  },
  {
   "cell_type": "markdown",
   "metadata": {},
   "source": [
    "- 최적의 W와 b를 구했다 => 가설을 완성"
   ]
  },
  {
   "cell_type": "markdown",
   "metadata": {},
   "source": [
    "## prediction\n",
    "- 온도가 (화씨)80 일때 Ozone량을 알고 싶다"
   ]
  },
  {
   "cell_type": "code",
   "execution_count": 614,
   "metadata": {
    "scrolled": true
   },
   "outputs": [
    {
     "name": "stdout",
     "output_type": "stream",
     "text": [
      "[[163.778]]\n"
     ]
    }
   ],
   "source": [
    "print(sess.run(H, feed_dict={ X : [[80,90,50]] }))\n",
    "# 이렇게 처리하면 문제가 있다\n",
    "# scale된 데이터로 만든 것이기 때문에 prediction할 수 없어"
   ]
  },
  {
   "cell_type": "markdown",
   "metadata": {},
   "source": [
    "- 80이란 온도를 0~1사이의 값으로 scale"
   ]
  },
  {
   "cell_type": "code",
   "execution_count": 76,
   "metadata": {},
   "outputs": [
    {
     "name": "stdout",
     "output_type": "stream",
     "text": [
      "0.575\n",
      "[0.36489686]\n",
      "[44.517418]\n"
     ]
    }
   ],
   "source": [
    "a = (80 - df[\"Temp\"].min()) / (df[\"Temp\"].max() - df[\"Temp\"].min(0))\n",
    "b = (90 - df[\"Temp\"].min()) / (df[\"Temp\"].max() - df[\"Temp\"].min(0))\n",
    "c = (50 - df[\"Temp\"].min()) / (df[\"Temp\"].max() - df[\"Temp\"].min(0))\n",
    "print(tmp)\n",
    "print(sess.run(H, feed_dict={ x : tmp }))\n",
    "# 예측한 Ozone값\n",
    "# 원래 상태로 돌려줘야해\n",
    "result_scale = sess.run(H, feed_dict={ x : tmp })\n",
    "result = result_scale * (df[\"Ozone\"].max()-df[\"Ozone\"].min() + df[\"Ozone\"].min())\n",
    "print(result)   # 45"
   ]
  },
  {
   "cell_type": "markdown",
   "metadata": {},
   "source": [
    "## 다중선형회귀 연습문제\n",
    "- 관측된 Solar.R, Wind, Temp에 대한 Ozone 량에 대한 데이터를 이용하여 machine learning을 진행하고\n",
    "- Solar.R : 170, Wind : 7.4, Temp : 67 에 대한\n",
    "- Ozone수치를 예측하라"
   ]
  },
  {
   "cell_type": "markdown",
   "metadata": {},
   "source": [
    "### 1. data loading ( raw data loading )"
   ]
  },
  {
   "cell_type": "code",
   "execution_count": 573,
   "metadata": {
    "scrolled": false
   },
   "outputs": [
    {
     "data": {
      "text/html": [
       "<div>\n",
       "<style scoped>\n",
       "    .dataframe tbody tr th:only-of-type {\n",
       "        vertical-align: middle;\n",
       "    }\n",
       "\n",
       "    .dataframe tbody tr th {\n",
       "        vertical-align: top;\n",
       "    }\n",
       "\n",
       "    .dataframe thead th {\n",
       "        text-align: right;\n",
       "    }\n",
       "</style>\n",
       "<table border=\"1\" class=\"dataframe\">\n",
       "  <thead>\n",
       "    <tr style=\"text-align: right;\">\n",
       "      <th></th>\n",
       "      <th>Ozone</th>\n",
       "      <th>Solar.R</th>\n",
       "      <th>Wind</th>\n",
       "      <th>Temp</th>\n",
       "      <th>Month</th>\n",
       "      <th>Day</th>\n",
       "    </tr>\n",
       "  </thead>\n",
       "  <tbody>\n",
       "    <tr>\n",
       "      <th>0</th>\n",
       "      <td>41.0</td>\n",
       "      <td>190.0</td>\n",
       "      <td>7.4</td>\n",
       "      <td>67</td>\n",
       "      <td>5</td>\n",
       "      <td>1</td>\n",
       "    </tr>\n",
       "    <tr>\n",
       "      <th>1</th>\n",
       "      <td>36.0</td>\n",
       "      <td>118.0</td>\n",
       "      <td>8.0</td>\n",
       "      <td>72</td>\n",
       "      <td>5</td>\n",
       "      <td>2</td>\n",
       "    </tr>\n",
       "    <tr>\n",
       "      <th>2</th>\n",
       "      <td>12.0</td>\n",
       "      <td>149.0</td>\n",
       "      <td>12.6</td>\n",
       "      <td>74</td>\n",
       "      <td>5</td>\n",
       "      <td>3</td>\n",
       "    </tr>\n",
       "    <tr>\n",
       "      <th>3</th>\n",
       "      <td>18.0</td>\n",
       "      <td>313.0</td>\n",
       "      <td>11.5</td>\n",
       "      <td>62</td>\n",
       "      <td>5</td>\n",
       "      <td>4</td>\n",
       "    </tr>\n",
       "    <tr>\n",
       "      <th>4</th>\n",
       "      <td>NaN</td>\n",
       "      <td>NaN</td>\n",
       "      <td>14.3</td>\n",
       "      <td>56</td>\n",
       "      <td>5</td>\n",
       "      <td>5</td>\n",
       "    </tr>\n",
       "  </tbody>\n",
       "</table>\n",
       "</div>"
      ],
      "text/plain": [
       "   Ozone  Solar.R  Wind  Temp  Month  Day\n",
       "0   41.0    190.0   7.4    67      5    1\n",
       "1   36.0    118.0   8.0    72      5    2\n",
       "2   12.0    149.0  12.6    74      5    3\n",
       "3   18.0    313.0  11.5    62      5    4\n",
       "4    NaN      NaN  14.3    56      5    5"
      ]
     },
     "execution_count": 573,
     "metadata": {},
     "output_type": "execute_result"
    }
   ],
   "source": [
    "df = pd.read_csv(\"./data/ozone.csv\")\n",
    "df.head()"
   ]
  },
  {
   "cell_type": "markdown",
   "metadata": {},
   "source": [
    "### 2. 데이터의 전처리를 진행 ( Data Pre processing )\n",
    "#### 2-1. 필요한 column부터 추출\n",
    "- 여러개의 컬럼 뽑아야하니 fancy indexing 이용해야해"
   ]
  },
  {
   "cell_type": "code",
   "execution_count": 574,
   "metadata": {
    "scrolled": true
   },
   "outputs": [
    {
     "data": {
      "text/html": [
       "<div>\n",
       "<style scoped>\n",
       "    .dataframe tbody tr th:only-of-type {\n",
       "        vertical-align: middle;\n",
       "    }\n",
       "\n",
       "    .dataframe tbody tr th {\n",
       "        vertical-align: top;\n",
       "    }\n",
       "\n",
       "    .dataframe thead th {\n",
       "        text-align: right;\n",
       "    }\n",
       "</style>\n",
       "<table border=\"1\" class=\"dataframe\">\n",
       "  <thead>\n",
       "    <tr style=\"text-align: right;\">\n",
       "      <th></th>\n",
       "      <th>Ozone</th>\n",
       "      <th>Solar.R</th>\n",
       "      <th>Wind</th>\n",
       "      <th>Temp</th>\n",
       "    </tr>\n",
       "  </thead>\n",
       "  <tbody>\n",
       "    <tr>\n",
       "      <th>0</th>\n",
       "      <td>41.0</td>\n",
       "      <td>190.0</td>\n",
       "      <td>7.4</td>\n",
       "      <td>67</td>\n",
       "    </tr>\n",
       "    <tr>\n",
       "      <th>1</th>\n",
       "      <td>36.0</td>\n",
       "      <td>118.0</td>\n",
       "      <td>8.0</td>\n",
       "      <td>72</td>\n",
       "    </tr>\n",
       "    <tr>\n",
       "      <th>2</th>\n",
       "      <td>12.0</td>\n",
       "      <td>149.0</td>\n",
       "      <td>12.6</td>\n",
       "      <td>74</td>\n",
       "    </tr>\n",
       "    <tr>\n",
       "      <th>3</th>\n",
       "      <td>18.0</td>\n",
       "      <td>313.0</td>\n",
       "      <td>11.5</td>\n",
       "      <td>62</td>\n",
       "    </tr>\n",
       "    <tr>\n",
       "      <th>4</th>\n",
       "      <td>NaN</td>\n",
       "      <td>NaN</td>\n",
       "      <td>14.3</td>\n",
       "      <td>56</td>\n",
       "    </tr>\n",
       "  </tbody>\n",
       "</table>\n",
       "</div>"
      ],
      "text/plain": [
       "   Ozone  Solar.R  Wind  Temp\n",
       "0   41.0    190.0   7.4    67\n",
       "1   36.0    118.0   8.0    72\n",
       "2   12.0    149.0  12.6    74\n",
       "3   18.0    313.0  11.5    62\n",
       "4    NaN      NaN  14.3    56"
      ]
     },
     "execution_count": 574,
     "metadata": {},
     "output_type": "execute_result"
    }
   ],
   "source": [
    "df = df[[\"Ozone\",\"Solar.R\",\"Wind\",\"Temp\"]]\n",
    "df.head()"
   ]
  },
  {
   "cell_type": "markdown",
   "metadata": {},
   "source": [
    "#### 2-2. 결측치 처리"
   ]
  },
  {
   "cell_type": "code",
   "execution_count": 575,
   "metadata": {},
   "outputs": [
    {
     "name": "stdout",
     "output_type": "stream",
     "text": [
      "(153, 4)\n",
      "(111, 4)\n"
     ]
    }
   ],
   "source": [
    "print(df.shape)\n",
    "\n",
    "df = df.dropna(how = \"any\", inplace = False)   # 처리된 return값\n",
    "print(df.shape)"
   ]
  },
  {
   "cell_type": "markdown",
   "metadata": {},
   "source": [
    "#### 2-3. 이상치 처리 (Tukey Fences방식이용 - IQR기반)\n",
    "- 이상치가 존재하는지 확인 => boxplot으로 확인\n",
    "- IQR값을 구해서 이를 이용해 상위, 하위 이상치의 바운더리를 계산\n",
    "- IQR = 3사분위값 - 1사분위값"
   ]
  },
  {
   "cell_type": "code",
   "execution_count": 576,
   "metadata": {},
   "outputs": [
    {
     "data": {
      "text/plain": [
       "{'whiskers': [<matplotlib.lines.Line2D at 0x2274e02dac8>,\n",
       "  <matplotlib.lines.Line2D at 0x2274e02de80>],\n",
       " 'caps': [<matplotlib.lines.Line2D at 0x2274df9b208>,\n",
       "  <matplotlib.lines.Line2D at 0x2274df9b550>],\n",
       " 'boxes': [<matplotlib.lines.Line2D at 0x2274e02d978>],\n",
       " 'medians': [<matplotlib.lines.Line2D at 0x2274df9b898>],\n",
       " 'fliers': [<matplotlib.lines.Line2D at 0x2274df9bbe0>],\n",
       " 'means': []}"
      ]
     },
     "execution_count": 576,
     "metadata": {},
     "output_type": "execute_result"
    },
    {
     "data": {
      "image/png": "[encoded data removed]",
      "text/plain": [
       "<Figure size 432x288 with 1 Axes>"
      ]
     },
     "metadata": {
      "needs_background": "light"
     },
     "output_type": "display_data"
    }
   ],
   "source": [
    "plt.boxplot(df[\"Temp\"])\n",
    "# 상위 이상치/하위 이상치 둘 다 존재하지 않음"
   ]
  },
  {
   "cell_type": "code",
   "execution_count": 577,
   "metadata": {
    "scrolled": true
   },
   "outputs": [
    {
     "data": {
      "text/plain": [
       "{'whiskers': [<matplotlib.lines.Line2D at 0x22750057160>,\n",
       "  <matplotlib.lines.Line2D at 0x22750057518>],\n",
       " 'caps': [<matplotlib.lines.Line2D at 0x22750057860>,\n",
       "  <matplotlib.lines.Line2D at 0x22750057ba8>],\n",
       " 'boxes': [<matplotlib.lines.Line2D at 0x22750049fd0>],\n",
       " 'medians': [<matplotlib.lines.Line2D at 0x22750057ef0>],\n",
       " 'fliers': [<matplotlib.lines.Line2D at 0x22750062278>],\n",
       " 'means': []}"
      ]
     },
     "execution_count": 577,
     "metadata": {},
     "output_type": "execute_result"
    },
    {
     "data": {
      "image/png": "[encoded data removed]",
      "text/plain": [
       "<Figure size 432x288 with 1 Axes>"
      ]
     },
     "metadata": {
      "needs_background": "light"
     },
     "output_type": "display_data"
    }
   ],
   "source": [
    "plt.boxplot(df[\"Wind\"])"
   ]
  },
  {
   "cell_type": "code",
   "execution_count": 578,
   "metadata": {
    "scrolled": true
   },
   "outputs": [
    {
     "data": {
      "text/plain": [
       "{'whiskers': [<matplotlib.lines.Line2D at 0x227500b6710>,\n",
       "  <matplotlib.lines.Line2D at 0x227500b6ac8>],\n",
       " 'caps': [<matplotlib.lines.Line2D at 0x227500b6e10>,\n",
       "  <matplotlib.lines.Line2D at 0x227500c0198>],\n",
       " 'boxes': [<matplotlib.lines.Line2D at 0x227500b65c0>],\n",
       " 'medians': [<matplotlib.lines.Line2D at 0x227500c04e0>],\n",
       " 'fliers': [<matplotlib.lines.Line2D at 0x227500c0828>],\n",
       " 'means': []}"
      ]
     },
     "execution_count": 578,
     "metadata": {},
     "output_type": "execute_result"
    },
    {
     "data": {
      "image/png": "[encoded data removed]",
      "text/plain": [
       "<Figure size 432x288 with 1 Axes>"
      ]
     },
     "metadata": {
      "needs_background": "light"
     },
     "output_type": "display_data"
    }
   ],
   "source": [
    "plt.boxplot(df[\"Solar.R\"])"
   ]
  },
  {
   "cell_type": "code",
   "execution_count": null,
   "metadata": {},
   "outputs": [],
   "source": []
  },
  {
   "cell_type": "code",
   "execution_count": 579,
   "metadata": {},
   "outputs": [
    {
     "data": {
      "text/plain": [
       "{'whiskers': [<matplotlib.lines.Line2D at 0x22750113c50>,\n",
       "  <matplotlib.lines.Line2D at 0x2275011e048>],\n",
       " 'caps': [<matplotlib.lines.Line2D at 0x2275011e390>,\n",
       "  <matplotlib.lines.Line2D at 0x2275011e6d8>],\n",
       " 'boxes': [<matplotlib.lines.Line2D at 0x22750113b00>],\n",
       " 'medians': [<matplotlib.lines.Line2D at 0x2275011ea20>],\n",
       " 'fliers': [<matplotlib.lines.Line2D at 0x2275011ed68>],\n",
       " 'means': []}"
      ]
     },
     "execution_count": 579,
     "metadata": {},
     "output_type": "execute_result"
    },
    {
     "data": {
      "image/png": "[encoded data removed]",
      "text/plain": [
       "<Figure size 432x288 with 1 Axes>"
      ]
     },
     "metadata": {
      "needs_background": "light"
     },
     "output_type": "display_data"
    }
   ],
   "source": [
    "plt.boxplot(df[\"Ozone\"])\n",
    "# 상위 이상치가 존재하기 때문에 없애줘야해"
   ]
  },
  {
   "cell_type": "code",
   "execution_count": 580,
   "metadata": {},
   "outputs": [
    {
     "name": "stdout",
     "output_type": "stream",
     "text": [
      "128.0\n"
     ]
    },
    {
     "data": {
      "text/html": [
       "<div>\n",
       "<style scoped>\n",
       "    .dataframe tbody tr th:only-of-type {\n",
       "        vertical-align: middle;\n",
       "    }\n",
       "\n",
       "    .dataframe tbody tr th {\n",
       "        vertical-align: top;\n",
       "    }\n",
       "\n",
       "    .dataframe thead th {\n",
       "        text-align: right;\n",
       "    }\n",
       "</style>\n",
       "<table border=\"1\" class=\"dataframe\">\n",
       "  <thead>\n",
       "    <tr style=\"text-align: right;\">\n",
       "      <th></th>\n",
       "      <th>Ozone</th>\n",
       "      <th>Solar.R</th>\n",
       "      <th>Wind</th>\n",
       "      <th>Temp</th>\n",
       "    </tr>\n",
       "  </thead>\n",
       "  <tbody>\n",
       "    <tr>\n",
       "      <th>0</th>\n",
       "      <td>41.0</td>\n",
       "      <td>190.0</td>\n",
       "      <td>7.4</td>\n",
       "      <td>67</td>\n",
       "    </tr>\n",
       "    <tr>\n",
       "      <th>1</th>\n",
       "      <td>36.0</td>\n",
       "      <td>118.0</td>\n",
       "      <td>8.0</td>\n",
       "      <td>72</td>\n",
       "    </tr>\n",
       "    <tr>\n",
       "      <th>2</th>\n",
       "      <td>12.0</td>\n",
       "      <td>149.0</td>\n",
       "      <td>12.6</td>\n",
       "      <td>74</td>\n",
       "    </tr>\n",
       "    <tr>\n",
       "      <th>3</th>\n",
       "      <td>18.0</td>\n",
       "      <td>313.0</td>\n",
       "      <td>11.5</td>\n",
       "      <td>62</td>\n",
       "    </tr>\n",
       "    <tr>\n",
       "      <th>6</th>\n",
       "      <td>23.0</td>\n",
       "      <td>299.0</td>\n",
       "      <td>8.6</td>\n",
       "      <td>65</td>\n",
       "    </tr>\n",
       "    <tr>\n",
       "      <th>...</th>\n",
       "      <td>...</td>\n",
       "      <td>...</td>\n",
       "      <td>...</td>\n",
       "      <td>...</td>\n",
       "    </tr>\n",
       "    <tr>\n",
       "      <th>147</th>\n",
       "      <td>14.0</td>\n",
       "      <td>20.0</td>\n",
       "      <td>16.6</td>\n",
       "      <td>63</td>\n",
       "    </tr>\n",
       "    <tr>\n",
       "      <th>148</th>\n",
       "      <td>30.0</td>\n",
       "      <td>193.0</td>\n",
       "      <td>6.9</td>\n",
       "      <td>70</td>\n",
       "    </tr>\n",
       "    <tr>\n",
       "      <th>150</th>\n",
       "      <td>14.0</td>\n",
       "      <td>191.0</td>\n",
       "      <td>14.3</td>\n",
       "      <td>75</td>\n",
       "    </tr>\n",
       "    <tr>\n",
       "      <th>151</th>\n",
       "      <td>18.0</td>\n",
       "      <td>131.0</td>\n",
       "      <td>8.0</td>\n",
       "      <td>76</td>\n",
       "    </tr>\n",
       "    <tr>\n",
       "      <th>152</th>\n",
       "      <td>20.0</td>\n",
       "      <td>223.0</td>\n",
       "      <td>11.5</td>\n",
       "      <td>68</td>\n",
       "    </tr>\n",
       "  </tbody>\n",
       "</table>\n",
       "<p>109 rows × 4 columns</p>\n",
       "</div>"
      ],
      "text/plain": [
       "     Ozone  Solar.R  Wind  Temp\n",
       "0     41.0    190.0   7.4    67\n",
       "1     36.0    118.0   8.0    72\n",
       "2     12.0    149.0  12.6    74\n",
       "3     18.0    313.0  11.5    62\n",
       "6     23.0    299.0   8.6    65\n",
       "..     ...      ...   ...   ...\n",
       "147   14.0     20.0  16.6    63\n",
       "148   30.0    193.0   6.9    70\n",
       "150   14.0    191.0  14.3    75\n",
       "151   18.0    131.0   8.0    76\n",
       "152   20.0    223.0  11.5    68\n",
       "\n",
       "[109 rows x 4 columns]"
      ]
     },
     "metadata": {},
     "output_type": "display_data"
    },
    {
     "name": "stdout",
     "output_type": "stream",
     "text": [
      "(109, 4)\n"
     ]
    }
   ],
   "source": [
    "q1,q3 = np.percentile(df[\"Ozone\"],[25,75])\n",
    "# 두개의 값 알기 위해 -> [] list 써줌 \n",
    "iqr = q3 - q1\n",
    "upper = q3 + iqr * 1.5   # 131.125가 상위 이상치를 처리하기 위한 경계값\n",
    "print(upper)\n",
    "mask = df[\"Ozone\"] > upper    # boolean mask를 생성\n",
    "df = df.loc[~mask]\n",
    "display(df)\n",
    "print(df.shape)"
   ]
  },
  {
   "cell_type": "code",
   "execution_count": 581,
   "metadata": {},
   "outputs": [
    {
     "name": "stdout",
     "output_type": "stream",
     "text": [
      "17.65\n"
     ]
    },
    {
     "data": {
      "text/html": [
       "<div>\n",
       "<style scoped>\n",
       "    .dataframe tbody tr th:only-of-type {\n",
       "        vertical-align: middle;\n",
       "    }\n",
       "\n",
       "    .dataframe tbody tr th {\n",
       "        vertical-align: top;\n",
       "    }\n",
       "\n",
       "    .dataframe thead th {\n",
       "        text-align: right;\n",
       "    }\n",
       "</style>\n",
       "<table border=\"1\" class=\"dataframe\">\n",
       "  <thead>\n",
       "    <tr style=\"text-align: right;\">\n",
       "      <th></th>\n",
       "      <th>Ozone</th>\n",
       "      <th>Solar.R</th>\n",
       "      <th>Wind</th>\n",
       "      <th>Temp</th>\n",
       "    </tr>\n",
       "  </thead>\n",
       "  <tbody>\n",
       "    <tr>\n",
       "      <th>0</th>\n",
       "      <td>41.0</td>\n",
       "      <td>190.0</td>\n",
       "      <td>7.4</td>\n",
       "      <td>67</td>\n",
       "    </tr>\n",
       "    <tr>\n",
       "      <th>1</th>\n",
       "      <td>36.0</td>\n",
       "      <td>118.0</td>\n",
       "      <td>8.0</td>\n",
       "      <td>72</td>\n",
       "    </tr>\n",
       "    <tr>\n",
       "      <th>2</th>\n",
       "      <td>12.0</td>\n",
       "      <td>149.0</td>\n",
       "      <td>12.6</td>\n",
       "      <td>74</td>\n",
       "    </tr>\n",
       "    <tr>\n",
       "      <th>3</th>\n",
       "      <td>18.0</td>\n",
       "      <td>313.0</td>\n",
       "      <td>11.5</td>\n",
       "      <td>62</td>\n",
       "    </tr>\n",
       "    <tr>\n",
       "      <th>6</th>\n",
       "      <td>23.0</td>\n",
       "      <td>299.0</td>\n",
       "      <td>8.6</td>\n",
       "      <td>65</td>\n",
       "    </tr>\n",
       "    <tr>\n",
       "      <th>...</th>\n",
       "      <td>...</td>\n",
       "      <td>...</td>\n",
       "      <td>...</td>\n",
       "      <td>...</td>\n",
       "    </tr>\n",
       "    <tr>\n",
       "      <th>147</th>\n",
       "      <td>14.0</td>\n",
       "      <td>20.0</td>\n",
       "      <td>16.6</td>\n",
       "      <td>63</td>\n",
       "    </tr>\n",
       "    <tr>\n",
       "      <th>148</th>\n",
       "      <td>30.0</td>\n",
       "      <td>193.0</td>\n",
       "      <td>6.9</td>\n",
       "      <td>70</td>\n",
       "    </tr>\n",
       "    <tr>\n",
       "      <th>150</th>\n",
       "      <td>14.0</td>\n",
       "      <td>191.0</td>\n",
       "      <td>14.3</td>\n",
       "      <td>75</td>\n",
       "    </tr>\n",
       "    <tr>\n",
       "      <th>151</th>\n",
       "      <td>18.0</td>\n",
       "      <td>131.0</td>\n",
       "      <td>8.0</td>\n",
       "      <td>76</td>\n",
       "    </tr>\n",
       "    <tr>\n",
       "      <th>152</th>\n",
       "      <td>20.0</td>\n",
       "      <td>223.0</td>\n",
       "      <td>11.5</td>\n",
       "      <td>68</td>\n",
       "    </tr>\n",
       "  </tbody>\n",
       "</table>\n",
       "<p>106 rows × 4 columns</p>\n",
       "</div>"
      ],
      "text/plain": [
       "     Ozone  Solar.R  Wind  Temp\n",
       "0     41.0    190.0   7.4    67\n",
       "1     36.0    118.0   8.0    72\n",
       "2     12.0    149.0  12.6    74\n",
       "3     18.0    313.0  11.5    62\n",
       "6     23.0    299.0   8.6    65\n",
       "..     ...      ...   ...   ...\n",
       "147   14.0     20.0  16.6    63\n",
       "148   30.0    193.0   6.9    70\n",
       "150   14.0    191.0  14.3    75\n",
       "151   18.0    131.0   8.0    76\n",
       "152   20.0    223.0  11.5    68\n",
       "\n",
       "[106 rows x 4 columns]"
      ]
     },
     "metadata": {},
     "output_type": "display_data"
    },
    {
     "name": "stdout",
     "output_type": "stream",
     "text": [
      "(106, 4)\n"
     ]
    }
   ],
   "source": [
    "q1,q3 = np.percentile(df[\"Wind\"],[25,75])\n",
    "# 두개의 값 알기 위해 -> [] list 써줌 \n",
    "iqr = q3 - q1\n",
    "upper = q3 + iqr * 1.5   # 131.125가 상위 이상치를 처리하기 위한 경계값\n",
    "print(upper)\n",
    "mask = df[\"Wind\"] > upper    # boolean mask를 생성\n",
    "df = df.loc[~mask]\n",
    "display(df)\n",
    "print(df.shape)"
   ]
  },
  {
   "cell_type": "markdown",
   "metadata": {},
   "source": [
    "#### 2-4. 데이터가 선형적 관계에 있는지를 확인\n",
    "- scatter(산점도)를 이용하면 데이터의 관계를 쉽게 파악할 수 있다"
   ]
  },
  {
   "cell_type": "code",
   "execution_count": 582,
   "metadata": {},
   "outputs": [
    {
     "data": {
      "text/plain": [
       "<matplotlib.collections.PathCollection at 0x22750177cf8>"
      ]
     },
     "execution_count": 582,
     "metadata": {},
     "output_type": "execute_result"
    },
    {
     "data": {
      "image/png": "[encoded data removed]",
      "text/plain": [
       "<Figure size 432x288 with 1 Axes>"
      ]
     },
     "metadata": {
      "needs_background": "light"
     },
     "output_type": "display_data"
    }
   ],
   "source": [
    "plt.scatter(df[\"Temp\"],df[\"Ozone\"])"
   ]
  },
  {
   "cell_type": "markdown",
   "metadata": {},
   "source": [
    "#### 2-5. 정규화 혹은 표준화를 이용해서 데이터의 scale 변환\n",
    "- 정규화(Normalization) = (요소값 - 최소값) / (최대값 - 최소값)\n",
    "    - => 0 ~ 1 사이의 값으로 scale\n",
    "- 표준화(Standardization) = (요소값 - 평균) / 표준편차\n",
    "    - => -1 ~ 1 사이의 값으로 scale\n",
    "- 둘 다 수행해봐서 학습결과가 좋은놈으로 골라야해\n",
    "- 정규화방식을 이용해서 데이터를 변형\n",
    "- 일반적으로는 module을 이용, 우리는 프로그램으로 처리"
   ]
  },
  {
   "cell_type": "code",
   "execution_count": 583,
   "metadata": {},
   "outputs": [
    {
     "data": {
      "text/html": [
       "<div>\n",
       "<style scoped>\n",
       "    .dataframe tbody tr th:only-of-type {\n",
       "        vertical-align: middle;\n",
       "    }\n",
       "\n",
       "    .dataframe tbody tr th {\n",
       "        vertical-align: top;\n",
       "    }\n",
       "\n",
       "    .dataframe thead th {\n",
       "        text-align: right;\n",
       "    }\n",
       "</style>\n",
       "<table border=\"1\" class=\"dataframe\">\n",
       "  <thead>\n",
       "    <tr style=\"text-align: right;\">\n",
       "      <th></th>\n",
       "      <th>Ozone</th>\n",
       "      <th>Solar.R</th>\n",
       "      <th>Wind</th>\n",
       "      <th>Temp</th>\n",
       "      <th>Solar.R_Norm</th>\n",
       "      <th>Wind_Norm</th>\n",
       "      <th>Temp_Norm</th>\n",
       "      <th>Ozone_Norm</th>\n",
       "    </tr>\n",
       "  </thead>\n",
       "  <tbody>\n",
       "    <tr>\n",
       "      <th>0</th>\n",
       "      <td>41.0</td>\n",
       "      <td>190.0</td>\n",
       "      <td>7.4</td>\n",
       "      <td>67</td>\n",
       "      <td>0.559633</td>\n",
       "      <td>0.356643</td>\n",
       "      <td>0.230769</td>\n",
       "      <td>0.330579</td>\n",
       "    </tr>\n",
       "    <tr>\n",
       "      <th>1</th>\n",
       "      <td>36.0</td>\n",
       "      <td>118.0</td>\n",
       "      <td>8.0</td>\n",
       "      <td>72</td>\n",
       "      <td>0.339450</td>\n",
       "      <td>0.398601</td>\n",
       "      <td>0.358974</td>\n",
       "      <td>0.289256</td>\n",
       "    </tr>\n",
       "    <tr>\n",
       "      <th>2</th>\n",
       "      <td>12.0</td>\n",
       "      <td>149.0</td>\n",
       "      <td>12.6</td>\n",
       "      <td>74</td>\n",
       "      <td>0.434251</td>\n",
       "      <td>0.720280</td>\n",
       "      <td>0.410256</td>\n",
       "      <td>0.090909</td>\n",
       "    </tr>\n",
       "    <tr>\n",
       "      <th>3</th>\n",
       "      <td>18.0</td>\n",
       "      <td>313.0</td>\n",
       "      <td>11.5</td>\n",
       "      <td>62</td>\n",
       "      <td>0.935780</td>\n",
       "      <td>0.643357</td>\n",
       "      <td>0.102564</td>\n",
       "      <td>0.140496</td>\n",
       "    </tr>\n",
       "    <tr>\n",
       "      <th>6</th>\n",
       "      <td>23.0</td>\n",
       "      <td>299.0</td>\n",
       "      <td>8.6</td>\n",
       "      <td>65</td>\n",
       "      <td>0.892966</td>\n",
       "      <td>0.440559</td>\n",
       "      <td>0.179487</td>\n",
       "      <td>0.181818</td>\n",
       "    </tr>\n",
       "  </tbody>\n",
       "</table>\n",
       "</div>"
      ],
      "text/plain": [
       "   Ozone  Solar.R  Wind  Temp  Solar.R_Norm  Wind_Norm  Temp_Norm  Ozone_Norm\n",
       "0   41.0    190.0   7.4    67      0.559633   0.356643   0.230769    0.330579\n",
       "1   36.0    118.0   8.0    72      0.339450   0.398601   0.358974    0.289256\n",
       "2   12.0    149.0  12.6    74      0.434251   0.720280   0.410256    0.090909\n",
       "3   18.0    313.0  11.5    62      0.935780   0.643357   0.102564    0.140496\n",
       "6   23.0    299.0   8.6    65      0.892966   0.440559   0.179487    0.181818"
      ]
     },
     "execution_count": 583,
     "metadata": {},
     "output_type": "execute_result"
    }
   ],
   "source": [
    "df[\"Solar.R_Norm\"] = (df[\"Solar.R\"] - df[\"Solar.R\"].min()) / (df[\"Solar.R\"].max() - df[\"Solar.R\"].min())\n",
    "df[\"Wind_Norm\"] = (df[\"Wind\"] - df[\"Wind\"].min()) / (df[\"Wind\"].max() - df[\"Wind\"].min())\n",
    "df[\"Temp_Norm\"] = (df[\"Temp\"] - df[\"Temp\"].min()) / (df[\"Temp\"].max() - df[\"Temp\"].min())\n",
    "df[\"Ozone_Norm\"] = (df[\"Ozone\"] - df[\"Ozone\"].min()) / (df[\"Ozone\"].max() - df[\"Ozone\"].min())\n",
    "df.head()\n",
    "\n",
    "# 학습에 적합한 데이터를 완성!"
   ]
  },
  {
   "cell_type": "markdown",
   "metadata": {},
   "source": [
    "## Machine Learning (Tensorflow )\n",
    "### 1. training data set"
   ]
  },
  {
   "cell_type": "code",
   "execution_count": 584,
   "metadata": {
    "scrolled": false
   },
   "outputs": [
    {
     "name": "stdout",
     "output_type": "stream",
     "text": [
      "[[0.55963303 0.35664336 0.23076923]\n",
      " [0.33944954 0.3986014  0.35897436]\n",
      " [0.43425076 0.72027972 0.41025641]\n",
      " [0.93577982 0.64335664 0.1025641 ]\n",
      " [0.89296636 0.44055944 0.17948718]\n",
      " [0.28134557 0.8041958  0.02564103]\n",
      " [0.76146789 0.51748252 0.28205128]\n",
      " [0.86544343 0.48251748 0.20512821]\n",
      " [0.81651376 0.6013986  0.25641026]\n",
      " [0.17737003 0.76223776 0.        ]\n",
      " [1.         0.64335664 0.15384615]\n",
      " [0.91743119 0.67832168 0.20512821]\n",
      " [0.96330275 0.64335664 0.25641026]\n",
      " [0.11314985 0.51748252 0.1025641 ]\n",
      " [0.0030581  0.51748252 0.02564103]\n",
      " [0.95718654 1.         0.38461538]\n",
      " [0.05504587 0.51748252 0.07692308]\n",
      " [0.25993884 0.67832168 0.07692308]\n",
      " [0.01834862 0.67832168 0.23076923]\n",
      " [0.74923547 0.88111888 0.58974359]\n",
      " [0.66055046 0.23776224 0.53846154]\n",
      " [0.83180428 0.35664336 0.46153846]\n",
      " [0.36697248 0.51748252 0.61538462]\n",
      " [0.86850153 0.8041958  0.82051282]\n",
      " [0.96636086 0.64335664 0.74358974]\n",
      " [0.43119266 0.3986014  0.61538462]\n",
      " [0.56269113 0.88111888 0.48717949]\n",
      " [0.09174312 0.48251748 0.17948718]\n",
      " [0.34556575 0.64335664 0.38461538]\n",
      " [0.39755352 0.55944056 0.46153846]\n",
      " [0.73700306 0.48251748 0.69230769]\n",
      " [0.70030581 0.48251748 0.58974359]\n",
      " [0.51376147 0.16083916 0.64102564]\n",
      " [0.93883792 0.6013986  0.64102564]\n",
      " [0.82262997 0.1958042  0.76923077]\n",
      " [0.79510703 0.27972028 0.87179487]\n",
      " [0.81039755 0.23776224 0.87179487]\n",
      " [0.51376147 0.35664336 0.79487179]\n",
      " [0.78593272 0.83916084 0.38461538]\n",
      " [0.51376147 0.88111888 0.58974359]\n",
      " [0.12538226 0.83916084 0.56410256]\n",
      " [0.77370031 0.32167832 0.58974359]\n",
      " [0.81651376 0.55944056 0.61538462]\n",
      " [0.85015291 0.27972028 0.66666667]\n",
      " [0.55045872 0.1958042  0.74358974]\n",
      " [0.65137615 0.64335664 0.69230769]\n",
      " [0.         0.32167832 0.41025641]\n",
      " [0.87767584 0.44055944 0.71794872]\n",
      " [0.66055046 0.3986014  0.69230769]\n",
      " [0.22629969 0.44055944 0.61538462]\n",
      " [0.2293578  0.67832168 0.71794872]\n",
      " [0.62996942 0.35664336 0.76923077]\n",
      " [0.81957187 0.35664336 0.71794872]\n",
      " [0.75229358 0.35664336 0.64102564]\n",
      " [0.75535168 0.48251748 0.58974359]\n",
      " [0.2324159  0.32167832 0.58974359]\n",
      " [0.05198777 0.8041958  0.58974359]\n",
      " [0.21406728 0.35664336 0.61538462]\n",
      " [0.75840979 0.11888112 0.79487179]\n",
      " [0.67889908 0.55944056 0.82051282]\n",
      " [0.6116208  0.3986014  0.82051282]\n",
      " [0.56574924 0.64335664 0.71794872]\n",
      " [0.81345566 0.64335664 0.61538462]\n",
      " [0.4587156  0.51748252 0.56410256]\n",
      " [0.19571865 0.55944056 0.48717949]\n",
      " [0.13455657 0.27972028 0.53846154]\n",
      " [0.33027523 0.35664336 0.46153846]\n",
      " [0.72477064 0.6013986  0.51282051]\n",
      " [0.55963303 0.55944056 0.51282051]\n",
      " [0.7706422  0.92307692 0.48717949]\n",
      " [0.08868502 0.83916084 0.35897436]\n",
      " [0.62691131 0.51748252 0.53846154]\n",
      " [0.63608563 0.3986014  0.71794872]\n",
      " [0.59938838 0.51748252 1.        ]\n",
      " [0.66666667 0.         0.92307692]\n",
      " [0.70336391 0.27972028 0.97435897]\n",
      " [0.55351682 0.27972028 0.92307692]\n",
      " [0.48929664 0.32167832 0.84615385]\n",
      " [0.58103976 0.1958042  0.87179487]\n",
      " [0.5382263  0.03496503 0.8974359 ]\n",
      " [0.55657492 0.16083916 0.8974359 ]\n",
      " [0.26911315 0.35664336 0.74358974]\n",
      " [0.25993884 0.92307692 0.66666667]\n",
      " [0.74923547 0.6013986  0.56410256]\n",
      " [0.65137615 0.55944056 0.51282051]\n",
      " [0.68195719 0.6013986  0.43589744]\n",
      " [0.7706422  0.51748252 0.38461538]\n",
      " [0.70030581 0.88111888 0.58974359]\n",
      " [0.7706422  0.92307692 0.46153846]\n",
      " [0.70642202 0.27972028 0.48717949]\n",
      " [0.05198777 0.6013986  0.33333333]\n",
      " [0.32110092 0.64335664 0.33333333]\n",
      " [0.70336391 0.32167832 0.51282051]\n",
      " [0.66360856 0.8041958  0.23076923]\n",
      " [0.06116208 0.55944056 0.46153846]\n",
      " [0.70642202 0.55944056 0.25641026]\n",
      " [0.59327217 0.3986014  0.61538462]\n",
      " [0.70642202 0.72027972 0.15384615]\n",
      " [0.02140673 0.48251748 0.33333333]\n",
      " [0.40366972 0.55944056 0.58974359]\n",
      " [0.12844037 0.55944056 0.28205128]\n",
      " [0.03975535 1.         0.12820513]\n",
      " [0.56880734 0.32167832 0.30769231]\n",
      " [0.56269113 0.83916084 0.43589744]\n",
      " [0.37920489 0.3986014  0.46153846]\n",
      " [0.66055046 0.64335664 0.25641026]]\n",
      "[[0.33057851]\n",
      " [0.2892562 ]\n",
      " [0.09090909]\n",
      " [0.14049587]\n",
      " [0.18181818]\n",
      " [0.14876033]\n",
      " [0.12396694]\n",
      " [0.08264463]\n",
      " [0.10743802]\n",
      " [0.14049587]\n",
      " [0.10743802]\n",
      " [0.27272727]\n",
      " [0.23966942]\n",
      " [0.08264463]\n",
      " [0.        ]\n",
      " [0.08264463]\n",
      " [0.02479339]\n",
      " [0.25619835]\n",
      " [0.18181818]\n",
      " [0.36363636]\n",
      " [0.94214876]\n",
      " [0.29752066]\n",
      " [0.23140496]\n",
      " [0.5785124 ]\n",
      " [0.31404959]\n",
      " [0.18181818]\n",
      " [0.16528926]\n",
      " [0.15702479]\n",
      " [0.09090909]\n",
      " [0.09917355]\n",
      " [0.39669421]\n",
      " [0.25619835]\n",
      " [0.52066116]\n",
      " [0.32231405]\n",
      " [0.62809917]\n",
      " [0.79338843]\n",
      " [0.79338843]\n",
      " [0.69421488]\n",
      " [0.07438017]\n",
      " [0.21487603]\n",
      " [0.04958678]\n",
      " [0.38842975]\n",
      " [0.28099174]\n",
      " [0.49586777]\n",
      " [0.6446281 ]\n",
      " [0.51239669]\n",
      " [0.12396694]\n",
      " [0.65289256]\n",
      " [0.88429752]\n",
      " [0.15702479]\n",
      " [0.4214876 ]\n",
      " [0.66942149]\n",
      " [0.40495868]\n",
      " [0.52066116]\n",
      " [0.47933884]\n",
      " [0.31404959]\n",
      " [0.0661157 ]\n",
      " [0.12396694]\n",
      " [1.        ]\n",
      " [0.72727273]\n",
      " [0.90082645]\n",
      " [0.3553719 ]\n",
      " [0.2231405 ]\n",
      " [0.52892562]\n",
      " [0.17355372]\n",
      " [0.47933884]\n",
      " [0.18181818]\n",
      " [0.24793388]\n",
      " [0.3553719 ]\n",
      " [0.16528926]\n",
      " [0.0661157 ]\n",
      " [0.36363636]\n",
      " [0.59504132]\n",
      " [0.61983471]\n",
      " [0.96694215]\n",
      " [0.68595041]\n",
      " [0.69421488]\n",
      " [0.78512397]\n",
      " [0.63636364]\n",
      " [0.59504132]\n",
      " [0.74380165]\n",
      " [0.38016529]\n",
      " [0.25619835]\n",
      " [0.15702479]\n",
      " [0.18181818]\n",
      " [0.16528926]\n",
      " [0.19008264]\n",
      " [0.3553719 ]\n",
      " [0.16528926]\n",
      " [0.2231405 ]\n",
      " [0.0661157 ]\n",
      " [0.09917355]\n",
      " [0.37190083]\n",
      " [0.14049587]\n",
      " [0.09917355]\n",
      " [0.19008264]\n",
      " [0.12396694]\n",
      " [0.09917355]\n",
      " [0.18181818]\n",
      " [0.2892562 ]\n",
      " [0.04958678]\n",
      " [0.10743802]\n",
      " [0.23966942]\n",
      " [0.10743802]\n",
      " [0.14049587]\n",
      " [0.15702479]]\n"
     ]
    }
   ],
   "source": [
    "x_data = df[[\"Solar.R_Norm\",\"Wind_Norm\",\"Temp_Norm\"]].values\n",
    "print(x_data)\n",
    "y_data = df[\"Ozone_Norm\"].values.reshape(-1,1)\n",
    "print(y_data)\n",
    "# 1열로 해서 나머지를 다 채워"
   ]
  },
  {
   "cell_type": "markdown",
   "metadata": {},
   "source": [
    "### 2. placeholder"
   ]
  },
  {
   "cell_type": "code",
   "execution_count": 585,
   "metadata": {},
   "outputs": [],
   "source": [
    "X = tf.placeholder(shape=[None,3], dtype = tf.float32)\n",
    "# 행은 몇개들어올지 몰라\n",
    "# 1행 3열의 행을 알아보고싶은데 [5,3]으로하면 나중에 [1,3]짜리를 못집어넣음\n",
    "# 따라서 행의 갯수는 관여하지 않겠다 None으로 써줌\n",
    "Y = tf.placeholder(shape=[None,1], dtype = tf.float32)"
   ]
  },
  {
   "cell_type": "markdown",
   "metadata": {},
   "source": [
    "### 3. Weight & bias"
   ]
  },
  {
   "cell_type": "code",
   "execution_count": 586,
   "metadata": {},
   "outputs": [],
   "source": [
    "W = tf.Variable(tf.random_normal([3,1]), name = \"wieght\")\n",
    "b = tf.Variable(tf.random_normal([1]),name = \"bias\")"
   ]
  },
  {
   "cell_type": "markdown",
   "metadata": {},
   "source": [
    "### 4. Hypothesis"
   ]
  },
  {
   "cell_type": "code",
   "execution_count": 587,
   "metadata": {},
   "outputs": [],
   "source": [
    "H = tf.matmul(X,W)+ b"
   ]
  },
  {
   "cell_type": "markdown",
   "metadata": {},
   "source": [
    "### 5. cost function"
   ]
  },
  {
   "cell_type": "code",
   "execution_count": 588,
   "metadata": {},
   "outputs": [],
   "source": [
    "cost = tf.reduce_mean(tf.square(H-Y))"
   ]
  },
  {
   "cell_type": "markdown",
   "metadata": {},
   "source": [
    "### 6. train"
   ]
  },
  {
   "cell_type": "code",
   "execution_count": 589,
   "metadata": {},
   "outputs": [],
   "source": [
    "optimizer = tf.train.GradientDescentOptimizer(learning_rate=0.01)\n",
    "# cost값을 미분으로 단계적으로 줄여나가는 과정\n",
    "# 얼마나 w값을 줄여나가면서 cost값을 구하는지\n",
    "train = optimizer.minimize(cost)\n",
    "# 한번수행하면 미분 한번 실행한거야\n",
    "# 최적의 W를 찾아가는것"
   ]
  },
  {
   "cell_type": "markdown",
   "metadata": {},
   "source": [
    "### 7. session, 초기화"
   ]
  },
  {
   "cell_type": "code",
   "execution_count": 590,
   "metadata": {},
   "outputs": [],
   "source": [
    "sess = tf.Session()\n",
    "sess.run(tf.global_variables_initializer())\n",
    "# 그래프를 초기화 시키고 수행시키는"
   ]
  },
  {
   "cell_type": "markdown",
   "metadata": {},
   "source": [
    "### 8. 학습"
   ]
  },
  {
   "cell_type": "code",
   "execution_count": 591,
   "metadata": {},
   "outputs": [
    {
     "name": "stdout",
     "output_type": "stream",
     "text": [
      "cost값 : 1.4333487749099731\n",
      "cost값 : 0.020064741373062134\n",
      "cost값 : 0.02000468783080578\n",
      "cost값 : 0.02000434137880802\n",
      "cost값 : 0.020004304125905037\n",
      "cost값 : 0.020004302263259888\n",
      "cost값 : 0.020004302263259888\n",
      "cost값 : 0.020004302263259888\n",
      "cost값 : 0.020004302263259888\n",
      "cost값 : 0.020004302263259888\n"
     ]
    }
   ],
   "source": [
    "for step in range(30000):   # 전체 3000번 수행\n",
    "    _, cost_val = sess.run([train,cost],\n",
    "                          feed_dict={X : x_data,\n",
    "                                     Y : y_data})\n",
    "    if step % 3000 == 0:\n",
    "        print(\"cost값 : {}\".format(cost_val))\n",
    "        \n",
    "# 0으로 가까워질 수록 좋은것"
   ]
  },
  {
   "cell_type": "markdown",
   "metadata": {},
   "source": [
    "- 최적의 W와 b를 구했다 => 가설을 완성"
   ]
  },
  {
   "cell_type": "markdown",
   "metadata": {},
   "source": [
    "## prediction\n"
   ]
  },
  {
   "cell_type": "code",
   "execution_count": 592,
   "metadata": {
    "scrolled": true
   },
   "outputs": [
    {
     "name": "stdout",
     "output_type": "stream",
     "text": [
      "[[59.762505]]\n"
     ]
    }
   ],
   "source": [
    "print(sess.run(H, feed_dict={ X : [[170,7.4,67.0]] }))\n",
    "# 이렇게 처리하면 문제가 있다\n",
    "# scale된 데이터로 만든 것이기 때문에 prediction할 수 없어"
   ]
  },
  {
   "cell_type": "markdown",
   "metadata": {},
   "source": [
    "- 80이란 온도를 0~1사이의 값으로 scale"
   ]
  },
  {
   "cell_type": "code",
   "execution_count": 593,
   "metadata": {},
   "outputs": [
    {
     "name": "stdout",
     "output_type": "stream",
     "text": [
      "0.4984709480122324\n",
      "0.35664335664335667\n",
      "0.23076923076923078\n"
     ]
    }
   ],
   "source": [
    "solar = (170 - df[\"Solar.R\"].min()) / (df[\"Solar.R\"].max() - df[\"Solar.R\"].min())\n",
    "print(solar)\n",
    "wind = (7.4 - df[\"Wind\"].min()) / (df[\"Wind\"].max() - df[\"Wind\"].min())\n",
    "print(wind)\n",
    "tmp = (67 - df[\"Temp\"].min()) / (df[\"Temp\"].max() - df[\"Temp\"].min())\n",
    "print(tmp)"
   ]
  },
  {
   "cell_type": "code",
   "execution_count": 594,
   "metadata": {},
   "outputs": [
    {
     "name": "stdout",
     "output_type": "stream",
     "text": [
      "[[0.22296274]]\n"
     ]
    }
   ],
   "source": [
    "print(sess.run(H, feed_dict={ X : [[solar,wind,tmp]] }))"
   ]
  },
  {
   "cell_type": "code",
   "execution_count": 595,
   "metadata": {},
   "outputs": [
    {
     "name": "stdout",
     "output_type": "stream",
     "text": [
      "[[0.22296274]]\n",
      "[[27.201454]]\n"
     ]
    }
   ],
   "source": [
    "result_scale = sess.run(H, feed_dict={ X : [[solar,wind,tmp]] })\n",
    "print(result_scale)\n",
    "result = result_scale * (df[\"Ozone\"].max()-df[\"Ozone\"].min() + df[\"Ozone\"].min())\n",
    "print(result)   # 45"
   ]
  },
  {
   "cell_type": "markdown",
   "metadata": {},
   "source": [
    "### sklearn modul을 이용해서 학습시키고 예측까지 수행"
   ]
  },
  {
   "cell_type": "code",
   "execution_count": 596,
   "metadata": {},
   "outputs": [],
   "source": [
    "from sklearn import linear_model\n",
    "import numpy as np\n",
    "import pandas as pd\n",
    "\n",
    "df = pd.read_csv(\"./data/ozone.csv\")\n",
    "df = df[[\"Ozone\",\"Solar.R\",\"Wind\",\"Temp\"]]\n",
    "\n",
    "# 결측치 제거\n",
    "# 결측치 제거 시 다른 column에 의해서 너무 많은 행이 제거되는 것을 방지하기 위해 필요한 column만 추출\n",
    "df = pd.DataFrame(df[[\"Solar.R\",\"Wind\",\"Temp\",\"Ozone\"]] )\n",
    "# 결측치 제거 -원본은 유지\n",
    "df = df.dropna(how=\"any\",inplace=False)\n",
    "\n",
    "# ozone 이상치 제거\n",
    "q1,q3 = np.percentile(df[\"Ozone\"],[25,75])\n",
    "iqr = q3-q1\n",
    "upper = q3+iqr*1.5\n",
    "mask = df[\"Ozone\"]>upper\n",
    "df = df.loc[~mask]   # ~: not의 의미\n",
    "\n",
    "# wind 이상치 제거\n",
    "q1,q3 = np.percentile(df[\"Wind\"],[25,75])\n",
    "iqr = q3-q1\n",
    "upper = q3+iqr*1.5\n",
    "mask = df[\"Wind\"]>upper\n",
    "df = df.loc[~mask]   # ~: not의 의미"
   ]
  },
  {
   "cell_type": "code",
   "execution_count": 598,
   "metadata": {},
   "outputs": [
    {
     "name": "stdout",
     "output_type": "stream",
     "text": [
      "예측값은 : [27.97594664]\n"
     ]
    }
   ],
   "source": [
    "# machine learning - 차원도 안맞춰줘도 됨\n",
    "\n",
    "X = df[[\"Solar.R\",\"Wind\",\"Temp\"]]\n",
    "Y = df[\"Ozone\"]\n",
    "\n",
    "# 선형회귀 할 수 있는 기능 가져오기\n",
    "lm = linear_model.LinearRegression()\n",
    "lm.fit(X,Y)\n",
    "\n",
    "prediction = lm.predict([[170,7.4,67]])\n",
    "print(\"예측값은:{}\".format(prediction))\n"
   ]
  },
  {
   "cell_type": "markdown",
   "metadata": {},
   "source": [
    "## 다중선형회귀"
   ]
  },
  {
   "cell_type": "code",
   "execution_count": 599,
   "metadata": {},
   "outputs": [],
   "source": [
    "import tensorflow as tf\n",
    "import numpy as np\n",
    "import pandas as pd\n",
    "import matplotlib.pyplot as plt\n",
    "from sklearn.preprocessing import MinMaxScaler\n",
    "\n",
    "df = pd.read_csv(\"./data/ozone.csv\")\n",
    "\n",
    "# 결측치 제거\n",
    "df = df.dropna(how = \"any\", inplace = False)\n",
    "# 이상치 제거\n",
    "q1,q3 = np.percentile(df[\"Ozone\"],[25,75])\n",
    "iqr = q3 - q1\n",
    "upper = q3 + iqr * 1.5  \n",
    "mask = df[\"Ozone\"] > upper  \n",
    "df = df.loc[~mask]\n",
    "\n",
    "q1,q3 = np.percentile(df[\"Wind\"],[25,75])\n",
    "iqr = q3 - q1\n",
    "upper = q3 + iqr* 1.5  \n",
    "mask = df[\"Wind\"] > upper  \n",
    "df = df.loc[~mask]\n",
    "\n",
    "# 데이터 정규화\n",
    "# mashine learning\n",
    "x_data = df[[\"Solar.R\",\"Wind\",\"Temp\"]]\n",
    "x_data = MinMaxScaler().fit_transform(x_data)\n",
    "y_data = df[\"Ozone\"].values.reshape(-1,1)\n",
    "y_data = MinMaxScaler().fit_transform(y_data)\n",
    "\n",
    "####################생략################3333\n"
   ]
  },
  {
   "cell_type": "markdown",
   "metadata": {},
   "source": [
    "# 지도학습\n",
    "1. linear regression(선형회귀) -> 기초\n",
    "\n",
    "    - 단순선형회귀(simple linear regression),\n",
    "    - 다중선형회귀(multiple linear regression)\n",
    "\n",
    "\n",
    "2. logistic regression(binary classification) -> 기반\n",
    "\n",
    "    - 알고리즘 중 가장 보편화되고 정확한 알고리즘\n",
    "    - Email이 spam인지 아닌지를 판별\n",
    "    - 내일의 주가가 오를지 떨어질지를 판별\n",
    "    - 신용카드 사용시 도난카드인지 아닌지를 판별\n",
    "    \n",
    "    - y lable이 0 혹은 1(True or False)로 떨어짐\n",
    "    - machine learning의 결과는 확률로 나타나요\n",
    "    - 0~1 사이의 값으로 출력\n",
    "linear regression으로 학습한 후 7시간 공부한 결과를 알아보자"
   ]
  },
  {
   "cell_type": "markdown",
   "metadata": {},
   "source": [
    "    - 일반적으로 0.5 이상이면 1로 간주, 0.5 미만이면 0으로 간주\n",
    "    - x(시간)      y(시험결과)\n",
    "    -   1            Fail(0)\n",
    "    -   2            Fail(0)\n",
    "    -   5            Fail(0)\n",
    "    -   8            Pass(1)\n",
    "    -   10           Pass(1)  \n",
    "    \n",
    "linear regression으로 학습한 후 7시간 공부한 결과를 알아보자"
   ]
  },
  {
   "cell_type": "code",
   "execution_count": 604,
   "metadata": {},
   "outputs": [
    {
     "name": "stdout",
     "output_type": "stream",
     "text": [
      "cost값은 :0.26153817772865295\n",
      "cost값은 :0.04353742301464081\n",
      "cost값은 :0.04353742301464081\n",
      "cost값은 :0.04353742301464081\n",
      "cost값은 :0.04353742301464081\n",
      "cost값은 :0.04353742301464081\n",
      "cost값은 :0.04353742301464081\n",
      "cost값은 :0.04353742301464081\n",
      "cost값은 :0.04353742301464081\n",
      "cost값은 :0.04353742301464081\n",
      "[0.6326529]\n",
      "[0.5034009]\n",
      "[0.43877485]\n"
     ]
    }
   ],
   "source": [
    "import tensorflow as tf\n",
    "\n",
    "x_data = [1,2,5,8,10]\n",
    "y_data = [0,0,0,1,1]\n",
    "\n",
    "x = tf.placeholder(dtype = tf.float32)\n",
    "y = tf.placeholder(dtype = tf.float32)\n",
    "\n",
    "W = tf.Variable(tf.random_normal([1]), name = \"weight\")\n",
    "b = tf.Variable(tf.random_normal([1]), name = \"bias\")\n",
    "\n",
    "H = W * x + b\n",
    "\n",
    "cost = tf.reduce_mean(tf.square(H-y))\n",
    "\n",
    "optimizer = tf.train.GradientDescentOptimizer(learning_rate = 0.01)\n",
    "train = optimizer.minimize(cost)\n",
    "\n",
    "sess = tf.Session()\n",
    "sess.run(tf.global_variables_initializer())\n",
    "\n",
    "for step in range(30000):\n",
    "    _,cost_val = sess.run([train,cost],\n",
    "                         feed_dict = { x : x_data,\n",
    "                                       y : y_data})\n",
    "    if step % 3000 == 0:\n",
    "        print(\"cost값은 :{}\".format(cost_val))\n",
    "        \n",
    "print(sess.run(H, feed_dict = {x :7}))   # 0.6 => 0.5보다 크면 합격\n",
    "# H의 가설의 값을 찍는것\n",
    "print(sess.run(H, feed_dict = {x :6}))   # 0.503 => 0.5보다 크면 합격\n",
    "print(sess.run(H, feed_dict = {x :5.5}))   "
   ]
  },
  {
   "cell_type": "markdown",
   "metadata": {},
   "source": [
    "    - 일반적으로 0.5 이상이면 1로 간주, 0.5 미만이면 0으로 간주\n",
    "    - x(시간)      y(시험결과)\n",
    "    -   1            Fail(0)\n",
    "    -   2            Fail(0)\n",
    "    -   5            Fail(0)\n",
    "    -   8            Pass(1)\n",
    "    -   10           Pass(1)  \n",
    "    -   20           Pass(1)"
   ]
  },
  {
   "cell_type": "code",
   "execution_count": 605,
   "metadata": {},
   "outputs": [
    {
     "name": "stdout",
     "output_type": "stream",
     "text": [
      "cost값은 :0.2430848330259323\n",
      "cost값은 :0.09461325407028198\n",
      "cost값은 :0.09461325407028198\n",
      "cost값은 :0.09461325407028198\n",
      "cost값은 :0.09461325407028198\n",
      "cost값은 :0.09461325407028198\n",
      "cost값은 :0.09461325407028198\n",
      "cost값은 :0.09461325407028198\n",
      "cost값은 :0.09461325407028198\n",
      "cost값은 :0.09461325407028198\n",
      "[0.45856437]\n",
      "[0.39640954]\n",
      "[0.36533213]\n"
     ]
    }
   ],
   "source": [
    "import tensorflow as tf\n",
    "\n",
    "x_data = [1,2,5,8,10,20]\n",
    "y_data = [0,0,0,1,1,1]\n",
    "\n",
    "x = tf.placeholder(dtype = tf.float32)\n",
    "y = tf.placeholder(dtype = tf.float32)\n",
    "\n",
    "W = tf.Variable(tf.random_normal([1]), name = \"weight\")\n",
    "b = tf.Variable(tf.random_normal([1]), name = \"bias\")\n",
    "\n",
    "H = W * x + b\n",
    "\n",
    "cost = tf.reduce_mean(tf.square(H-y))\n",
    "\n",
    "optimizer = tf.train.GradientDescentOptimizer(learning_rate = 0.01)\n",
    "train = optimizer.minimize(cost)\n",
    "\n",
    "sess = tf.Session()\n",
    "sess.run(tf.global_variables_initializer())\n",
    "\n",
    "for step in range(30000):\n",
    "    _,cost_val = sess.run([train,cost],\n",
    "                         feed_dict = { x : x_data,\n",
    "                                       y : y_data})\n",
    "    if step % 3000 == 0:\n",
    "        print(\"cost값은 :{}\".format(cost_val))\n",
    "        \n",
    "print(sess.run(H, feed_dict = {x :7}))   # 0.46 => 0.5보다 크면 합격\n",
    "# H의 가설의 값을 찍는것\n",
    "print(sess.run(H, feed_dict = {x :6}))   # 0.4 => 0.5보다 크면 합격\n",
    "print(sess.run(H, feed_dict = {x :5.5}))  # 0.37 "
   ]
  },
  {
   "cell_type": "markdown",
   "metadata": {},
   "source": [
    "값이 추가됨에 따라 결과가 다르게 나오기 때문에 판단할 수 없게 된다  \n",
    "=> logistic 회귀분석이 나옴"
   ]
  },
  {
   "cell_type": "code",
   "execution_count": null,
   "metadata": {},
   "outputs": [],
   "source": []
  }
 ],
 "metadata": {
  "kernelspec": {
   "display_name": "[CPU_ENV]",
   "language": "python",
   "name": "cpu_env"
  },
  "language_info": {
   "codemirror_mode": {
    "name": "ipython",
    "version": 3
   },
   "file_extension": ".py",
   "mimetype": "text/x-python",
   "name": "python",
   "nbconvert_exporter": "python",
   "pygments_lexer": "ipython3",
   "version": "3.6.9"
  }
 },
 "nbformat": 4,
 "nbformat_minor": 2
}
