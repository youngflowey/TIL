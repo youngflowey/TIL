{
 "cells": [
  {
   "cell_type": "code",
   "execution_count": 3,
   "metadata": {},
   "outputs": [
    {
     "name": "stdout",
     "output_type": "stream",
     "text": [
      "Successfully downloaded train-images-idx3-ubyte.gz 9912422 bytes.\n",
      "Extracting ./data/mnist\\train-images-idx3-ubyte.gz\n",
      "Successfully downloaded train-labels-idx1-ubyte.gz 28881 bytes.\n",
      "Extracting ./data/mnist\\train-labels-idx1-ubyte.gz\n",
      "Successfully downloaded t10k-images-idx3-ubyte.gz 1648877 bytes.\n",
      "Extracting ./data/mnist\\t10k-images-idx3-ubyte.gz\n",
      "Successfully downloaded t10k-labels-idx1-ubyte.gz 4542 bytes.\n",
      "Extracting ./data/mnist\\t10k-labels-idx1-ubyte.gz\n"
     ]
    }
   ],
   "source": [
    "# 필요한 module import\n",
    "import tensorflow as tf\n",
    "import pandas as pd\n",
    "import numpy as np\n",
    "import matplotlib.pyplot as plt\n",
    "from tensorflow.examples.tutorials.mnist import input_data\n",
    "\n",
    "# Data Loading\n",
    "mnist = input_data.read_data_sets(\"./data/mnist\",one_hot=True) # 변수를 읽어들여서 mnist에 넣어준다\n",
    "# 폴더 안에 압축파일 4개 만들어질거야\n",
    "# y축 one hot 처리 해줘야해 <- 원래 우리가 작업해야하는데 예제라 처리 가능"
   ]
  },
  {
   "cell_type": "code",
   "execution_count": 8,
   "metadata": {},
   "outputs": [],
   "source": [
    "train_x_data_df = pd.DataFrame(mnist.train.images)\n",
    "# 2차원 배열 array -> dataframe으로\n",
    "train_x_data_df.to_csv(\"./mnist_x_data.csv\",index=False)\n",
    "# x 데이터의 각 column은(각 픽셀값은) 0과 1사이의 값으로 \n",
    "# 이미 scale이 되어있는 상태\n",
    "# 이미지 하나는 3차원 \n",
    "# 0과 가까울수록 흰색을 지칭, 1과 가까울수록 색상이 어두워져요\n",
    "\n",
    "train_y_data_df = pd.DataFrame(mnist.train.labels)\n",
    "train_y_data_df.to_csv(\"./mnist_y_data.csv\",index=False)"
   ]
  },
  {
   "cell_type": "code",
   "execution_count": 36,
   "metadata": {},
   "outputs": [],
   "source": [
    "# tensorflow로 machine learning\n",
    "# placeholder\n",
    "X = tf.placeholder(shape=[None,784], dtype=tf.float32)\n",
    "Y = tf.placeholder(shape=[None,10], dtype=tf.float32)\n",
    "\n",
    "# Weight & bias\n",
    "W = tf.Variable(tf.random_normal([784,10]), name=\"weight\")\n",
    "b = tf.Variable(tf.random_normal([10]), name=\"bias\")\n",
    "\n",
    "# Hypothesis\n",
    "logit = tf.matmul(X,W) + b\n",
    "H = tf.nn.softmax(logit)\n",
    "\n",
    "# Cost\n",
    "cost = tf.reduce_mean(tf.nn.softmax_cross_entropy_with_logits_v2(logits=logit,\n",
    "                                                                labels=Y))\n",
    "\n",
    "# train\n",
    "train = tf.train.GradientDescentOptimizer(learning_rate=0.1).minimize(cost)\n",
    "\n",
    "# session, 초기화\n",
    "sess = tf.Session()\n",
    "sess.run(tf.global_variables_initializer())"
   ]
  },
  {
   "cell_type": "code",
   "execution_count": 37,
   "metadata": {
    "scrolled": true
   },
   "outputs": [
    {
     "name": "stdout",
     "output_type": "stream",
     "text": [
      "Cost값은: 1.2798452377319336\n",
      "Cost값은: 0.9203716516494751\n",
      "Cost값은: 0.548814058303833\n",
      "Cost값은: 0.30980658531188965\n",
      "Cost값은: 0.5039026141166687\n",
      "Cost값은: 0.8440707325935364\n",
      "Cost값은: 0.519089937210083\n",
      "Cost값은: 0.15716975927352905\n",
      "Cost값은: 0.38680145144462585\n",
      "Cost값은: 0.40433555841445923\n",
      "정확도는 : 0.9020000100135803\n"
     ]
    }
   ],
   "source": [
    "# 학습\n",
    "train_epoch = 30\n",
    "# 30번 데이터 반복\n",
    "batch_size = 100\n",
    "# 55000개를 100개씩 자르겠다\n",
    "# 550번 학습\n",
    "\n",
    "# 데이터 사이즈를 보고 epoch을 결정해야해\n",
    "# 모든 데이터 불러오지 않고, 몇개씩 불러들어서 학습\n",
    "\n",
    "for step in range(train_epoch):\n",
    "    num_of_iter = int(mnist.train.num_examples / batch_size)     # train이 도대체 몇개 행이 있는지 / batch_size\n",
    "    cost_val = 0\n",
    "    \n",
    "    for i in range(num_of_iter):\n",
    "        batch_x, batch_y = mnist.train.next_batch(batch_size)     # 다음 배치 다음배치 뜯어올 수 있는 함수\n",
    "        _,cost_val = sess.run([train,cost],\n",
    "                             feed_dict={X:batch_x,\n",
    "                                        Y:batch_y})\n",
    "    if step % 3 ==0:\n",
    "        print(\"Cost값은: {}\".format(cost_val))\n",
    "# cost값이 기준이 되니 중요해\n",
    "\n",
    "# 학습이 종료되었으니 정확도를 측정해야 해요\n",
    "predict = tf.argmax(H,1)\n",
    "correct = tf.equal(predict, tf.argmax(Y,1))\n",
    "accuracy = tf.reduce_mean(tf.cast(correct, dtype = tf.float32))\n",
    "print(\"정확도는 : {}\".format(sess.run(accuracy, \n",
    "                                  feed_dict={X:mnist.test.images,\n",
    "                                             Y:mnist.test.labels})))\n",
    "# 얼마나 학습이 잘 되었는가\n"
   ]
  },
  {
   "cell_type": "code",
   "execution_count": 227,
   "metadata": {},
   "outputs": [
    {
     "name": "stdout",
     "output_type": "stream",
     "text": [
      "Label : [1]\n",
      "Predict :[1]\n"
     ]
    },
    {
     "data": {
      "text/plain": [
       "<matplotlib.image.AxesImage at 0x1f3ba0ff978>"
      ]
     },
     "execution_count": 227,
     "metadata": {},
     "output_type": "execute_result"
    },
    {
     "data": {
      "image/png": "[encoded data removed]",
      "text/plain": [
       "<Figure size 432x288 with 1 Axes>"
      ]
     },
     "metadata": {
      "needs_background": "light"
     },
     "output_type": "display_data"
    }
   ],
   "source": [
    "# Prediction\n",
    "# 랜덤으로 하나의 데이터를 추출해서 그놈을 이용해서 prediction을 한 후 결과를 비교해 보자\n",
    "\n",
    "r = np.random.randint(0,mnist.test.num_examples) # mnist.test.num_examples = 10000\n",
    "# 영역을 주면 그 중에서 난수를 하나 뽑아주는 함수\n",
    "# 난수가 의미하는 행의 label값을 먼저 구해보자\n",
    "print(\"Label : {}\".format(sess.run(tf.argmax(mnist.test.labels[r:r+1], axis=1))))\n",
    "# 구간 : 2차원으로 뽑으려고\n",
    "# 가장 큰 컬럼의 index값을 알아낼 수 잇어\n",
    "# nodes라서 sess\n",
    "\n",
    "print(\"Predict :{}\".format(sess.run(tf.argmax(H,1), \n",
    "         feed_dict={X:mnist.test.images[r:r+1]})))    # 2차원\n",
    "# label 값과 예측값이 똑같아야해\n",
    "\n",
    "plt.imshow(mnist.test.images[r:r+1].reshape(28,28), cmap=\"Greys\")\n",
    "# 1,784 => 28,28로 바꿀거야"
   ]
  },
  {
   "cell_type": "code",
   "execution_count": null,
   "metadata": {},
   "outputs": [],
   "source": []
  }
 ],
 "metadata": {
  "kernelspec": {
   "display_name": "[CPU_ENV]",
   "language": "python",
   "name": "cpu_env"
  },
  "language_info": {
   "codemirror_mode": {
    "name": "ipython",
    "version": 3
   },
   "file_extension": ".py",
   "mimetype": "text/x-python",
   "name": "python",
   "nbconvert_exporter": "python",
   "pygments_lexer": "ipython3",
   "version": "3.6.9"
  }
 },
 "nbformat": 4,
 "nbformat_minor": 2
}
