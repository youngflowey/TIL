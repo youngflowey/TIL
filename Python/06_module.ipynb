{
 "cells": [
  {
   "cell_type": "code",
   "execution_count": 2,
   "metadata": {},
   "outputs": [],
   "source": [
    "# python은 module 이란걸 사용해요!\n",
    "# module : 하나의 python 파일 => 변수, 함수, class\n",
    "# 이 안에 3개 다 정리되어있고 재사용가능한 파일\n",
    "# 변수의 선언, 함수의 정의, class의 정의 를 다 포함한 module\n",
    "# python의 module은 다른 pyrhon 프로그램에서 불러와 사용할 수 있는 python file을 지칭\n",
    "\n",
    "# 우리가 생성한 module을 어디에다 저장해 놔야 할까요?\n",
    "import sys   # sys라는 module을 불러와서 사용할 거예요\n",
    "sys.path.append(\"C:/python_Lib\") # 특정경로를 시스템 폴더로 설정\n",
    "# sys.path(list).append\n",
    "# 시스템폴더 \n",
    "# 폴더 지정해줄거야@@! c드라이브에 폴더 만들어줌\n",
    "# 매번 프로그램 이렇게 사용하기 어려워 \n",
    "# => 환경변수 PYTHONPATH 라는걸 만들어서 여기에 module을 넣어놓으면 프로그램 어디서에서나 사용할 수 있어요!\n",
    "# (sys는 기본이 아니라서 지정해야함)\n",
    "# C에서 폴더 만들고 module.py파일만들고 myPackage에 옮김"
   ]
  },
  {
   "cell_type": "code",
   "execution_count": 3,
   "metadata": {},
   "outputs": [
    {
     "ename": "AttributeError",
     "evalue": "module 'module1' has no attribute 'moule_PI'",
     "output_type": "error",
     "traceback": [
      "\u001b[1;31m---------------------------------------------------------------------------\u001b[0m",
      "\u001b[1;31mAttributeError\u001b[0m                            Traceback (most recent call last)",
      "\u001b[1;32m<ipython-input-3-3521ff97bf1e>\u001b[0m in \u001b[0;36m<module>\u001b[1;34m\u001b[0m\n\u001b[0;32m      4\u001b[0m \u001b[1;31m# 아까 만들었던 변수와 함수를 여기서 쓸 수 있어\u001b[0m\u001b[1;33m\u001b[0m\u001b[1;33m\u001b[0m\u001b[1;33m\u001b[0m\u001b[0m\n\u001b[0;32m      5\u001b[0m \u001b[1;33m\u001b[0m\u001b[0m\n\u001b[1;32m----> 6\u001b[1;33m \u001b[0mprint\u001b[0m\u001b[1;33m(\u001b[0m\u001b[0mmodule1\u001b[0m\u001b[1;33m.\u001b[0m\u001b[0mmoule_PI\u001b[0m\u001b[1;33m)\u001b[0m \u001b[1;31m# 이 module이 가지고 있는 변수를 찍어\u001b[0m\u001b[1;33m\u001b[0m\u001b[1;33m\u001b[0m\u001b[0m\n\u001b[0m\u001b[0;32m      7\u001b[0m \u001b[0mprint\u001b[0m\u001b[1;33m(\u001b[0m\u001b[0mmodule1\u001b[0m\u001b[1;33m.\u001b[0m\u001b[0mmySum\u001b[0m\u001b[1;33m(\u001b[0m\u001b[1;36m10\u001b[0m\u001b[1;33m,\u001b[0m\u001b[1;36m20\u001b[0m\u001b[1;33m)\u001b[0m\u001b[1;33m)\u001b[0m\u001b[1;33m\u001b[0m\u001b[1;33m\u001b[0m\u001b[0m\n",
      "\u001b[1;31mAttributeError\u001b[0m: module 'module1' has no attribute 'moule_PI'"
     ]
    }
   ],
   "source": [
    "## module을 사용하는 형식은\n",
    "## import + 모듈명(파일명)\n",
    "import module1 # 확장자 py는 쓰지 않음\n",
    "# 아까 만들었던 변수와 함수를 여기서 쓸 수 있어\n",
    "\n",
    "print(module1.moule_PI) # 이 module이 가지고 있는 변수를 찍어\n",
    "print(module1.mySum(10,20))"
   ]
  },
  {
   "cell_type": "code",
   "execution_count": null,
   "metadata": {},
   "outputs": [],
   "source": [
    "## alias 를 이용해서 편하게 사용해 보아요!\n",
    "import module1 as m    # 간단하게 사용하게 별명으로 부르겠다\n",
    "print(m.moule_PI)\n",
    "print(m.mySum(10,20))"
   ]
  },
  {
   "cell_type": "code",
   "execution_count": null,
   "metadata": {},
   "outputs": [],
   "source": [
    "# from(어디서부터) 모듈이름 import 모듈함수(or 변수, class)\n",
    "from module1 import moule_PI\n",
    "# 변수인지 함수인지 클래스 인지 모름\n",
    "# 이 모듈로부터 프로그램 부를거야\n",
    "# 아까는 파일 자체를 import\n",
    "# 이 모듈에 있는 해당파일의 변수나 함수를\n",
    "\n",
    "print(moule_PI)\n",
    "\n",
    "\n",
    "from module1 import * \n",
    "print(moule_PI)\n",
    "print(mySum(10,20))"
   ]
  },
  {
   "cell_type": "code",
   "execution_count": 19,
   "metadata": {},
   "outputs": [
    {
     "name": "stdout",
     "output_type": "stream",
     "text": [
      "3.141592\n",
      "30\n",
      "3.141592\n",
      "30\n",
      "3.141592\n",
      "3.141592\n",
      "30\n",
      "21\n",
      "3.141592\n"
     ]
    }
   ],
   "source": [
    "# package : \".\"기호를 이용해서 module을 계층적으로 관리\n",
    "#   ===> 폴더 구조(논리적)\n",
    "# pakage는 우리 눈으로 확인할 때는(물리적으로 표현할 경우) => 폴더로 확인\n",
    " #   ===> 폴더로 표현(물리적)\n",
    "#  A,B 라고 할 때 A : package, B : module (A라는 폴더에 있는 B라는 파일로 이해할 수 있음)\n",
    "\n",
    "import myPackage.module1\n",
    "from myPackage import module1\n",
    "# print(myPackae.module1.module_PI)\n",
    "\n",
    "# 너무 길어서 이렇게 표현할 수 있음\n",
    "# from myPackage. module1 impot*\n",
    "from myPackage.module1 import mySum\n",
    "# 가능한한 impr 통역사\n",
    "print(mySum(1,20))\n",
    "\n",
    "print(module1.moule_PI)\n",
    "# (가능한 import 뒤에를 짧게 해주는 것이 좋아요. alias를 이용해서 줄일 수 있음 from, import,as)"
   ]
  }
 ],
 "metadata": {
  "kernelspec": {
   "display_name": "[CPU_ENV]",
   "language": "python",
   "name": "cpu_env"
  },
  "language_info": {
   "codemirror_mode": {
    "name": "ipython",
    "version": 3
   },
   "file_extension": ".py",
   "mimetype": "text/x-python",
   "name": "python",
   "nbconvert_exporter": "python",
   "pygments_lexer": "ipython3",
   "version": "3.6.9"
  }
 },
 "nbformat": 4,
 "nbformat_minor": 2
}
