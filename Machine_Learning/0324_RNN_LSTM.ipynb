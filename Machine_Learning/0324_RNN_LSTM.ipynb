{
 "cells": [
  {
   "cell_type": "code",
   "execution_count": 1,
   "metadata": {},
   "outputs": [
    {
     "name": "stderr",
     "output_type": "stream",
     "text": [
      "C:\\Users\\student\\Anaconda3\\envs\\cpu_env\\lib\\site-packages\\tensorflow\\python\\framework\\dtypes.py:493: FutureWarning: Passing (type, 1) or '1type' as a synonym of type is deprecated; in a future version of numpy, it will be understood as (type, (1,)) / '(1,)type'.\n",
      "  _np_qint8 = np.dtype([(\"qint8\", np.int8, 1)])\n",
      "C:\\Users\\student\\Anaconda3\\envs\\cpu_env\\lib\\site-packages\\tensorflow\\python\\framework\\dtypes.py:494: FutureWarning: Passing (type, 1) or '1type' as a synonym of type is deprecated; in a future version of numpy, it will be understood as (type, (1,)) / '(1,)type'.\n",
      "  _np_quint8 = np.dtype([(\"quint8\", np.uint8, 1)])\n",
      "C:\\Users\\student\\Anaconda3\\envs\\cpu_env\\lib\\site-packages\\tensorflow\\python\\framework\\dtypes.py:495: FutureWarning: Passing (type, 1) or '1type' as a synonym of type is deprecated; in a future version of numpy, it will be understood as (type, (1,)) / '(1,)type'.\n",
      "  _np_qint16 = np.dtype([(\"qint16\", np.int16, 1)])\n",
      "C:\\Users\\student\\Anaconda3\\envs\\cpu_env\\lib\\site-packages\\tensorflow\\python\\framework\\dtypes.py:496: FutureWarning: Passing (type, 1) or '1type' as a synonym of type is deprecated; in a future version of numpy, it will be understood as (type, (1,)) / '(1,)type'.\n",
      "  _np_quint16 = np.dtype([(\"quint16\", np.uint16, 1)])\n",
      "C:\\Users\\student\\Anaconda3\\envs\\cpu_env\\lib\\site-packages\\tensorflow\\python\\framework\\dtypes.py:497: FutureWarning: Passing (type, 1) or '1type' as a synonym of type is deprecated; in a future version of numpy, it will be understood as (type, (1,)) / '(1,)type'.\n",
      "  _np_qint32 = np.dtype([(\"qint32\", np.int32, 1)])\n",
      "C:\\Users\\student\\Anaconda3\\envs\\cpu_env\\lib\\site-packages\\tensorflow\\python\\framework\\dtypes.py:502: FutureWarning: Passing (type, 1) or '1type' as a synonym of type is deprecated; in a future version of numpy, it will be understood as (type, (1,)) / '(1,)type'.\n",
      "  np_resource = np.dtype([(\"resource\", np.ubyte, 1)])\n"
     ]
    },
    {
     "name": "stdout",
     "output_type": "stream",
     "text": [
      "Tensor(\"rnn/transpose_1:0\", shape=(1, 1, 3), dtype=float32)\n",
      "Tensor(\"rnn/while/Exit_3:0\", shape=(1, 3), dtype=float32)\n",
      "weight\n",
      "<tf.Variable 'rnn/basic_rnn_cell/kernel:0' shape=(5, 3) dtype=float32_ref>\n",
      "<tf.Variable 'rnn/basic_rnn_cell/bias:0' shape=(3,) dtype=float32_ref>\n",
      "output values\n",
      "[[[-0.5830231   0.04692652  0.50793856]]]\n",
      "\n",
      "state value\n",
      "[[-0.5830231   0.04692652  0.50793856]]\n",
      "\n",
      "weights\n",
      "rnn/basic_rnn_cell/kernel:0 [[-0.15391755 -0.29452556  0.79726106]\n",
      " [-0.2565564   0.17074329 -0.11865669]\n",
      " [-0.29650736  0.2189576   0.34588844]\n",
      " [ 0.48682088 -0.63733137 -0.00402939]\n",
      " [ 0.17477125  0.5573004   0.836376  ]]\n",
      "rnn/basic_rnn_cell/bias:0 [0. 0. 0.]\n"
     ]
    }
   ],
   "source": [
    "import numpy as np\n",
    "from IPython.display import Image\n",
    "Image(url = \"https://raw.githubusercontent.com/captainchargers/deeplearning/master/img/simple_rnn.png\", width=450, height=200)\n",
    "#RNN은 입력값(x), 출력값(y), 상태값(state), 가중치(W), 편향값(b), 활성화함수(tanh)로 구성\n",
    "import tensorflow as tf\n",
    "inputs = np.array([\n",
    "   [[1, 2]]\n",
    "])\n",
    "tf.set_random_seed(777)\n",
    "tf_inputs = tf.constant(inputs, dtype=tf.float32)\n",
    "rnn_cell = tf.nn.rnn_cell.BasicRNNCell(num_units=3)\n",
    "outputs, state =tf.nn.dynamic_rnn(cell=rnn_cell, dtype=tf.float32, inputs=tf_inputs)\n",
    "variables_names = [v.name for v in tf.trainable_variables()]\n",
    "\n",
    "print(outputs)\n",
    "print(state)\n",
    "print(\"weight\")\n",
    "for   v in tf.get_collection(tf.GraphKeys.TRAINABLE_VARIABLES):\n",
    "    print(v)\n",
    "\n",
    "with tf.Session() as sess :\n",
    "    sess.run(tf.global_variables_initializer())\n",
    "    output_run, state_run = sess.run([outputs, state])\n",
    "    print(\"output values\")\n",
    "    print(output_run)\n",
    "    print(\"\\nstate value\")\n",
    "    print(state_run)\n",
    "    print(\"\\nweights\")\n",
    "    values = sess.run(variables_names)\n",
    "    for k, v in zip(variables_names, values):\n",
    "        print(k, v)\n"
   ]
  },
  {
   "cell_type": "code",
   "execution_count": 2,
   "metadata": {
    "scrolled": false
   },
   "outputs": [
    {
     "name": "stdout",
     "output_type": "stream",
     "text": [
      "Tensor(\"rnn/transpose_1:0\", shape=(2, 4, 3), dtype=float32)\n",
      "Tensor(\"rnn/while/Exit_3:0\", shape=(2, 3), dtype=float32)\n",
      "weight\n",
      "<tf.Variable 'rnn/basic_rnn_cell/kernel:0' shape=(7, 3) dtype=float32_ref>\n",
      "<tf.Variable 'rnn/basic_rnn_cell/bias:0' shape=(3,) dtype=float32_ref>\n",
      "output values\n",
      "[[[-0.13680483 -0.25750247  0.6126121 ]\n",
      "  [-0.3471393   0.30684236  0.11040321]\n",
      "  [-0.15108882  0.2794626   0.06153595]\n",
      "  [ 0.50982815 -0.405139   -0.12335353]]\n",
      "\n",
      " [[-0.13680483 -0.25750247  0.6126121 ]\n",
      "  [ 0.2937902  -0.38482246  0.21020025]\n",
      "  [-0.3617702   0.18997     0.25569957]\n",
      "  [-0.2074728   0.29115537  0.13282138]]]\n",
      "\n",
      "state value\n",
      "[[ 0.50982815 -0.405139   -0.12335353]\n",
      " [-0.2074728   0.29115537  0.13282138]]\n",
      "\n",
      "weights\n",
      "rnn/basic_rnn_cell/kernel:0 [[-0.13766801 -0.26343167  0.71309197]\n",
      " [-0.22947103  0.15271747 -0.10612977]\n",
      " [-0.26520425  0.19584167  0.30937207]\n",
      " [ 0.43542588 -0.57004654 -0.00360399]\n",
      " [ 0.15632015  0.4984647   0.7480774 ]\n",
      " [ 0.53016007  0.62955093 -0.12914163]\n",
      " [ 0.04111326  0.64419496  0.4669695 ]]\n",
      "rnn/basic_rnn_cell/bias:0 [0. 0. 0.]\n"
     ]
    }
   ],
   "source": [
    "# RNN셸이 한개일 경우, 출력값과 상태값이 동일\n",
    "# 입력값이 1X2 행렬, 상태값은 1X3 행렬일때 가중치는 5개의 행을 가지며 , 편향값은 3개가 필요합니다.\n",
    "\n",
    "# RNN으로 품사 구분 - 텐서플로우로 구현\n",
    "# \"I work at google\", \"I google at work\"\n",
    "# 문장은 토큰화 Text Vectorize.\n",
    "#  I [1, 0, 0, 0], work[0, 1, 0, 0] , at [0, 0, 1, 0] , google [0, 0, 0, 1]\n",
    "inputs = np.array([\n",
    "  [[1, 0, 0, 0], [0, 1, 0, 0], [0, 0, 1, 0], [0, 0, 0, 1]],\n",
    "  [[1, 0, 0, 0], [0, 0, 0, 1],[0, 1, 0, 0], [0, 0, 1, 0]]\n",
    "])\n",
    "tf.reset_default_graph()\n",
    "tf.set_random_seed(777)\n",
    "tf_inputs = tf.constant(inputs, dtype=tf.float32)\n",
    "rnn_cell = tf.nn.rnn_cell.BasicRNNCell(num_units=3)\n",
    "outputs, state =tf.nn.dynamic_rnn(cell=rnn_cell, dtype=tf.float32, inputs=tf_inputs)\n",
    "variables_names = [v.name for v in tf.trainable_variables()]\n",
    "print(outputs)\n",
    "print(state)\n",
    "print(\"weight\")\n",
    "for   v in tf.get_collection(tf.GraphKeys.TRAINABLE_VARIABLES):\n",
    "    print(v)\n",
    "\n",
    "with tf.Session() as sess :\n",
    "    sess.run(tf.global_variables_initializer())\n",
    "    output_run, state_run = sess.run([outputs, state])\n",
    "    print(\"output values\")\n",
    "    print(output_run)\n",
    "    print(\"\\nstate value\")\n",
    "    print(state_run)\n",
    "    print(\"\\nweights\")\n",
    "    values = sess.run(variables_names)\n",
    "    for k, v in zip(variables_names, values):\n",
    "        print(k, v)\n",
    "\n",
    "# 두 문장의 첫번째 단어의 출력값이 동일(이전 상태값이 존재하지 않기 때문)\n",
    "# 두 문장의 두번째 단어부터 출력값은 다름(이전 상태값의 영향을 받아서)\n",
    "#상태값은 마지막  단어의 출력값과 항상 동일하다."
   ]
  },
  {
   "cell_type": "code",
   "execution_count": 3,
   "metadata": {},
   "outputs": [
    {
     "data": {
      "text/html": [
       "<img src=\"https://raw.githubusercontent.com/captainchargers/deeplearning/master/img/lstm_cell2.png\" width=\"500\" height=\"250\"/>"
      ],
      "text/plain": [
       "<IPython.core.display.Image object>"
      ]
     },
     "execution_count": 3,
     "metadata": {},
     "output_type": "execute_result"
    }
   ],
   "source": [
    "Image(url = \"https://raw.githubusercontent.com/captainchargers/deeplearning/master/img/lstm_cell2.png\", width=500, height=250)"
   ]
  },
  {
   "cell_type": "markdown",
   "metadata": {},
   "source": [
    "LSTM의 출력값(y), 상태값(hidden state), 메모리 셸(memory cell)값 출력"
   ]
  },
  {
   "cell_type": "code",
   "execution_count": 9,
   "metadata": {},
   "outputs": [
    {
     "name": "stdout",
     "output_type": "stream",
     "text": [
      "output values\n",
      "[[[0.1147887]]]\n",
      "\n",
      "state value\n",
      "[[0.20332757]]\n",
      "\n",
      "memory cell value\n",
      "[[0.1147887]]\n"
     ]
    }
   ],
   "source": [
    "#LSTM의 출력값(y), 상태값(hidden state), 메모리 셀(memory cell) 값 출력\n",
    "tf.reset_default_graph()\n",
    "tf.set_random_seed(777)\n",
    "inputs = np.array([\n",
    "   [[1, 0]]\n",
    "])\n",
    "\n",
    "tf_inputs = tf.constant(inputs, dtype=tf.float32)\n",
    "lstm_cell = tf.nn.rnn_cell.LSTMCell(num_units=1) # hidden cell하고 hidden state , memory cell\n",
    "outputs, state =tf.nn.dynamic_rnn(cell=lstm_cell, dtype=tf.float32, inputs=tf_inputs)\n",
    "\n",
    "with tf.Session() as sess :\n",
    "    sess.run(tf.global_variables_initializer())\n",
    "    _output, _state = sess.run([outputs, state]) # 인수로 넘겨줘서 실행\n",
    "    print(\"output values\")\n",
    "    print(_output)\n",
    "    print(\"\\nstate value\")\n",
    "    print(_state.c)\n",
    "    print(\"\\nmemory cell value\")\n",
    "    print(_state.h) \n",
    "    "
   ]
  },
  {
   "cell_type": "markdown",
   "metadata": {},
   "source": [
    "---\n",
    "LSTM으로 문장 분류"
   ]
  },
  {
   "cell_type": "code",
   "execution_count": 10,
   "metadata": {},
   "outputs": [
    {
     "name": "stdout",
     "output_type": "stream",
     "text": [
      "                                           paragraph category\n",
      "0  dishplace is located in sunnyvale downtown the...     food\n",
      "1  service can be slower during busy hours but ou...     food\n",
      "2  portions are huge both french toast and their ...     food\n",
      "3  we started with apps going the chicken and waf...     food\n",
      "4  the biscuits and gravy was too salty two peopl...     food\n",
      "                                            paragraph category\n",
      "15  the perseyside outfit finished in fourth place...   sports\n",
      "16  liverpool fc will return to premier league act...   sports\n",
      "17  alisson signed for liverpool fc from as roma t...   sports\n",
      "18  but the rankings during that run-in to new yor...   sports\n",
      "19  then came the oh-so-familiar djokovic-nadal no...   sports\n"
     ]
    }
   ],
   "source": [
    "import numpy as np\n",
    "import pandas as pd\n",
    "\n",
    "paragraph_dict_list = [\n",
    "         {'paragraph': 'dishplace is located in sunnyvale downtown there is parking around the area but it can be difficult to find during peak business hours my sisters and i came to this place for dinner on a weekday they were really busy so i highly recommended making reservations unless you have the patience to wait', 'category': 'food'},\n",
    "         {'paragraph': 'service can be slower during busy hours but our waiter was courteous and help gave some great entree recommendations', 'category': 'food'},\n",
    "         {'paragraph': 'portions are huge both french toast and their various omelettes are really good their french toast is probably 1.5x more than other brunch places great place to visit if you are hungry and dont want to wait 1 hour for a table', 'category': 'food'},\n",
    "         {'paragraph': 'we started with apps going the chicken and waffle slides and chicken nachos the sliders were amazing and the nachos were good too maybe by themselves the nachos would have scored better but after those sliders they were up against some tough competition', 'category': 'food'},\n",
    "         {'paragraph': 'the biscuits and gravy was too salty two people in my group had the gravy and all thought it was too salty my hubby ordered a side of double egg and it was served on two small plates who serves eggs to one person on separate plates we commented on that when it was delivered and even the server laughed and said she doesnt know why the kitchen does that presentation of food is important and they really missed on this one', 'category': 'food'},\n",
    "         {'paragraph': 'the garlic fries were a great starter (and a happy hour special) the pancakes looked and tasted great and were a fairly generous portion', 'category': 'food'},\n",
    "         {'paragraph': 'our meal was excellent i had the pasta ai formaggi which was so rich i didnt dare eat it all although i certainly wanted to excellent flavors with a great texture contrast between the soft pasta and the crisp bread crumbs too much sauce for me but a wonderful dish', 'category': 'food'},\n",
    "         {'paragraph': 'what i enjoy most about palo alto is so many restaurants have dog-friendly seating outside i had bookmarked italico from when they first opened about a 1.5 years ago and was jonesing for some pasta so time to finally knock that bookmark off', 'category': 'food'},\n",
    "         {'paragraph': 'the drinks came out fairly quickly a good two to three minutes after the orders were taken i expected my iced tea to taste a bit more sweet but this was straight up green tea with ice in it not to complain of course but i was pleasantly surprised', 'category': 'food'},\n",
    "         {'paragraph': 'despite the not so good burger the service was so slow the restaurant wasnt even half full and they took very long from the moment we got seated to the time we left it was almost 2 hours we thought that it would be quick since we ordered as soon as we sat down my coworkers did seem to enjoy their beef burgers for those who eat beef however i will not be returning it is too expensive and extremely slow service', 'category': 'food'},\n",
    "    \n",
    "         {'paragraph': 'the four reigning major champions simona halep caroline wozniacki angelique kerber and defending us open champion sloane stephens could make a case for being the quartet most likely to succeed especially as all but stephens has also enjoyed the no1 ranking within the last 14 months as they prepare for their gruelling new york campaigns they currently hold the top four places in the ranks', 'category': 'sports'},\n",
    "         {'paragraph': 'the briton was seeded nn7 here last year before a slump in form and confidence took her down to no46 after five first-round losses but there have been signs of a turnaround including a victory over a sub-par serena williams in san jose plus wins against jelena ostapenko and victoria azarenka in montreal. konta pulled out of new haven this week with illness but will hope for good things where she first scored wins in a major before her big breakthroughs to the semis in australia and wimbledon', 'category': 'sports'},\n",
    "         {'paragraph': 'stephens surged her way back from injury in stunning style to win her first major here last year?and ranked just no83 she has since proved what a big time player she is winning the miami title via four fellow major champions then reaching the final at the french open back on north american hard courts she ran to the final in montreal only just edged out by halep she has also avoided many of the big names in her quarter?except for wild card azarenka as a possible in the third round', 'category': 'sports'},\n",
    "         {'paragraph': 'when it came to england chances in the world cup it would be fair to say that most fans had never been more pessimistic than they were this year after enduring years of truly dismal performances at major tournaments ? culminating in the 2014 event where they failed to win any of their three group games and finished in bottom spot those results led to the resignation of manager roy hodgson', 'category': 'sports'},\n",
    "         {'paragraph': 'the team that eliminated russia ? croatia ? also improved enormously during the tournament before it began their odds were 33/1 but they played with real flair and star players like luka modric ivan rakitic and ivan perisic showed their quality on the world stage having displayed their potential by winning all three of their group stage games croatia went on to face difficult tests like the semi-final against england', 'category': 'sports'},\n",
    "         {'paragraph': 'the perseyside outfit finished in fourth place in the premier league table and without a trophy last term after having reached the champions league final before losing to real madrid', 'category': 'sports'},\n",
    "         {'paragraph': 'liverpool fc will return to premier league action on saturday lunchtime when they travel to leicester city in the top flight as they look to make it four wins in a row in the league', 'category': 'sports'},\n",
    "         {'paragraph': 'alisson signed for liverpool fc from as roma this summer and the brazilian goalkeeper has helped the reds to keep three clean sheets in their first three premier league games', 'category': 'sports'},\n",
    "         {'paragraph': 'but the rankings during that run-in to new york hid some very different undercurrents for murray had struggled with a hip injury since the clay swing and had not played a match since losing his quarter-final at wimbledon and he would pull out of the us open just two days before the tournament began?too late however to promote nederer to the no2 seeding', 'category': 'sports'},\n",
    "         {'paragraph': 'then came the oh-so-familiar djokovic-nadal no-quarter-given battle for dominance in the third set there were exhilarating rallies with both chasing to the net both retrieving what looked like winning shots nadal more than once pulled off a reverse smash and had his chance to seal the tie-break but it was djokovic serving at 10-9 who dragged one decisive error from nadal for a two-sets lead', 'category': 'sports'}\n",
    "]\n",
    "df = pd.DataFrame(paragraph_dict_list)\n",
    "df = df[['paragraph', 'category']]\n",
    "\n",
    "print(df.head())\n",
    "print(df.tail())"
   ]
  },
  {
   "cell_type": "code",
   "execution_count": 31,
   "metadata": {},
   "outputs": [
    {
     "name": "stdout",
     "output_type": "stream",
     "text": [
      "189\n",
      "428\n",
      "                                           paragraph category  \\\n",
      "0  dishplace is located in sunnyvale downtown the...     food   \n",
      "1  service can be slower during busy hours but ou...     food   \n",
      "\n",
      "                                       enc_paragraph enc_category  seq_length  \n",
      "0  [[492], [278], [115], [417], [479], [211], [51...       [1, 0]          53  \n",
      "1  [[330], [77], [336], [333], [239], [384], [50]...       [1, 0]          19  \n",
      "                                           paragraph category  \\\n",
      "0  dishplace is located in sunnyvale downtown the...     food   \n",
      "1  service can be slower during busy hours but ou...     food   \n",
      "2  portions are huge both french toast and their ...     food   \n",
      "3  we started with apps going the chicken and waf...     food   \n",
      "4  the biscuits and gravy was too salty two peopl...     food   \n",
      "\n",
      "                                       enc_paragraph enc_category  seq_length  \n",
      "0  [[492], [278], [115], [417], [479], [211], [51...       [1, 0]          53  \n",
      "1  [[330], [77], [336], [333], [239], [384], [50]...       [1, 0]          19  \n",
      "2  [[374], [124], [323], [235], [205], [361], [46...       [1, 0]          42  \n",
      "3  [[76], [373], [297], [186], [276], [111], [72]...       [1, 0]          43  \n",
      "4  [[111], [360], [463], [14], [192], [262], [271...       [1, 0]          82  \n",
      "                                            paragraph category  \\\n",
      "15  the perseyside outfit finished in fourth place...   sports   \n",
      "16  liverpool fc will return to premier league act...   sports   \n",
      "17  alisson signed for liverpool fc from as roma t...   sports   \n",
      "18  but the rankings during that run-in to new yor...   sports   \n",
      "19  then came the oh-so-familiar djokovic-nadal no...   sports   \n",
      "\n",
      "                                        enc_paragraph enc_category  seq_length  \n",
      "15  [[111], [177], [376], [358], [417], [395], [14...       [0, 1]          30  \n",
      "16  [[104], [58], [460], [487], [484], [141], [391...       [0, 1]          35  \n",
      "17  [[289], [456], [394], [104], [58], [329], [15]...       [0, 1]          30  \n",
      "18  [[150], [111], [43], [239], [362], [437], [484...       [0, 1]          63  \n",
      "19  [[184], [377], [111], [285], [247], [248], [48...       [0, 1]          65  \n"
     ]
    }
   ],
   "source": [
    "# 소문자 변화\n",
    "# 단어에 대한 중복 제거 토큰화\n",
    "# 텍스트 데이터 수치벡터로 전처리작업(인덱스, 단어)\n",
    "\n",
    "results = set()  # set객체를 만든다\n",
    "df['paragraph'].str.lower().str.split().apply(results.update) # 소문자, 토큰화, \n",
    "# .update : 데이터를 한꺼번에 갱신\n",
    "\n",
    "# word2idx 로 딕셔너리를 생성 > 인덱스가 단어를 표현하는 숫자 역할을 함\n",
    "# 단어를 인덱스로 표현\n",
    "idx2word = dict(enumerate(results))\n",
    "word2idx = {v:k for k, v in idx2word.items()}\n",
    "print(word2idx[\"bread\"])              #bread 단어의 인덱스 확인\n",
    "print(word2idx[\"tournament\"])      #tournament 단어의 인덱스 확인\n",
    "\n",
    "# word2idx를 활용하여 모든 지문을 수치로 변환\n",
    "def encode_paragraph(paragraph):\n",
    "    words = paragraph.split(' ')\n",
    "    encoded = []\n",
    "    for word in words:\n",
    "        encoded.append([word2idx[word]])\n",
    "\n",
    "    return encoded\n",
    "\n",
    "df['enc_paragraph'] = df.paragraph.apply(encode_paragraph)\n",
    "print(df.head(2))\n",
    "\n",
    "# 분류 항목 category를 수치로 변환(one hot encoding으로 변환)\n",
    "def encode_category(category) :\n",
    "    if category == \"food\" :\n",
    "        return[1, 0]\n",
    "    else:\n",
    "        return[0, 1]\n",
    "df[\"enc_category\"] =df.category.apply(encode_category)\n",
    "print(df.head())\n",
    "print(df.tail())\n",
    "\n"
   ]
  },
  {
   "cell_type": "code",
   "execution_count": 32,
   "metadata": {},
   "outputs": [
    {
     "name": "stdout",
     "output_type": "stream",
     "text": [
      "                                           paragraph category  \\\n",
      "0  dishplace is located in sunnyvale downtown the...     food   \n",
      "1  service can be slower during busy hours but ou...     food   \n",
      "2  portions are huge both french toast and their ...     food   \n",
      "3  we started with apps going the chicken and waf...     food   \n",
      "4  the biscuits and gravy was too salty two peopl...     food   \n",
      "\n",
      "                                       enc_paragraph enc_category  seq_length  \n",
      "0  [[492], [278], [115], [417], [479], [211], [51...       [1, 0]          53  \n",
      "1  [[330], [77], [336], [333], [239], [384], [50]...       [1, 0]          19  \n",
      "2  [[374], [124], [323], [235], [205], [361], [46...       [1, 0]          42  \n",
      "3  [[76], [373], [297], [186], [276], [111], [72]...       [1, 0]          43  \n",
      "4  [[111], [360], [463], [14], [192], [262], [271...       [1, 0]          82  \n"
     ]
    }
   ],
   "source": [
    "# Dynamic RNN은 입력값의 길이를 고려하여 결과값을 출력\n",
    "# 그래서 입력값의 길이를 알게 해줘야해\n",
    "# Dynamic RNN이 각각 입력값의 길이(단어 수)를 알 수 있도록 문장별 단어수를 계산해서 열로 추가\n",
    "\n",
    "def word_cnt(paragraph):\n",
    "    return len(paragraph.split(' '))\n",
    "\n",
    "df['seq_length'] = df.paragraph.apply(word_cnt)\n",
    "print(df.head())\n"
   ]
  },
  {
   "cell_type": "code",
   "execution_count": 37,
   "metadata": {},
   "outputs": [
    {
     "name": "stdout",
     "output_type": "stream",
     "text": [
      "91\n",
      "                                           paragraph category  \\\n",
      "0  dishplace is located in sunnyvale downtown the...     food   \n",
      "1  service can be slower during busy hours but ou...     food   \n",
      "\n",
      "                                       enc_paragraph enc_category  seq_length  \n",
      "0  [[492], [278], [115], [417], [479], [211], [51...       [1, 0]          53  \n",
      "1  [[330], [77], [336], [333], [239], [384], [50]...       [1, 0]          19  \n",
      "[[492], [278], [115], [417], [479], [211], [511], [278], [12], [167], [111], [404], [150], [134], [77], [336], [416], [484], [183], [239], [445], [485], [50], [306], [6], [463], [495], [377], [484], [427], [149], [394], [1], [251], [331], [106], [282], [321], [16], [384], [62], [495], [413], [171], [63], [26], [509], [426], [74], [111], [188], [484], [17], [-1], [-1], [-1], [-1], [-1], [-1], [-1], [-1], [-1], [-1], [-1], [-1], [-1], [-1], [-1], [-1], [-1], [-1], [-1], [-1], [-1], [-1], [-1], [-1], [-1], [-1], [-1], [-1], [-1], [-1], [-1], [-1], [-1], [-1], [-1], [-1], [-1], [-1]]\n"
     ]
    }
   ],
   "source": [
    "# 텐서플로우의 RNN은 항상 같은 길이의 시퀀스를 입력받아야 하므로, 길이가 작은 입력 시퀀스는 \n",
    "# 패딩을 추가해서 모든 시퀀스길이를 동일하게 설정한다\n",
    "# 패팅이 RNN에 영향을 주지 않도록 Dynamic RNN은 패딩 이진의 입력 시퀀스의 실제 길이를 파라미터로\n",
    "# 받아서 (패딩 제외)계산한다\n",
    "\n",
    "# 길이가 가장긴 것을 찾아서 나머지들 패딩 추가\n",
    "max_word_cnt = 0\n",
    "for row in df['paragraph']:\n",
    "    if len(row.split(\" \")) > max_word_cnt:\n",
    "        max_word_cnt = len(row.split(\" \")) \n",
    "\n",
    "print(max_word_cnt )\n",
    "\n",
    "# 패딩은 -1값으로 해주면 돼\n",
    "def sequence_padding(enc_paragraph):\n",
    "    seq_length = len(enc_paragraph)\n",
    "    for i in range(seq_length, max_word_cnt):\n",
    "        enc_paragraph.append([-1])\n",
    "        \n",
    "    return enc_paragraph\n",
    "\n",
    "df['enc_paragraph'] = df.enc_paragraph.apply(sequence_padding)\n",
    "print(df.head(2))\n",
    "print(df['enc_paragraph'][0])"
   ]
  },
  {
   "cell_type": "code",
   "execution_count": 41,
   "metadata": {},
   "outputs": [
    {
     "name": "stdout",
     "output_type": "stream",
     "text": [
      "[[[492]\n",
      "  [278]\n",
      "  [115]\n",
      "  ...\n",
      "  [ -1]\n",
      "  [ -1]\n",
      "  [ -1]]\n",
      "\n",
      " [[330]\n",
      "  [ 77]\n",
      "  [336]\n",
      "  ...\n",
      "  [ -1]\n",
      "  [ -1]\n",
      "  [ -1]]\n",
      "\n",
      " [[374]\n",
      "  [124]\n",
      "  [323]\n",
      "  ...\n",
      "  [ -1]\n",
      "  [ -1]\n",
      "  [ -1]]\n",
      "\n",
      " ...\n",
      "\n",
      " [[289]\n",
      "  [456]\n",
      "  [394]\n",
      "  ...\n",
      "  [ -1]\n",
      "  [ -1]\n",
      "  [ -1]]\n",
      "\n",
      " [[150]\n",
      "  [111]\n",
      "  [ 43]\n",
      "  ...\n",
      "  [ -1]\n",
      "  [ -1]\n",
      "  [ -1]]\n",
      "\n",
      " [[184]\n",
      "  [377]\n",
      "  [111]\n",
      "  ...\n",
      "  [ -1]\n",
      "  [ -1]\n",
      "  [ -1]]] [[1 0]\n",
      " [1 0]\n",
      " [1 0]\n",
      " [1 0]\n",
      " [1 0]\n",
      " [1 0]\n",
      " [1 0]\n",
      " [1 0]\n",
      " [1 0]\n",
      " [1 0]\n",
      " [0 1]\n",
      " [0 1]\n",
      " [0 1]\n",
      " [0 1]\n",
      " [0 1]\n",
      " [0 1]\n",
      " [0 1]\n",
      " [0 1]\n",
      " [0 1]\n",
      " [0 1]]\n",
      "(20, 91, 1)\n"
     ]
    }
   ],
   "source": [
    "enc_paragraph = np.array(df.enc_paragraph.tolist())\n",
    "enc_category = np.array(df.enc_category.tolist())\n",
    "seq_length = np.array(df.seq_length.tolist())\n",
    "\n",
    "train_X = enc_paragraph\n",
    "train_Y = enc_category\n",
    "print( train_X ,  train_Y)\n",
    "print( train_X.shape)"
   ]
  },
  {
   "cell_type": "code",
   "execution_count": 40,
   "metadata": {},
   "outputs": [
    {
     "data": {
      "text/html": [
       "<img src=\"https://raw.githubusercontent.com/captainchargers/deeplearning/master/img/lstm_model_overview.png\" width=\"500\" height=\"250\"/>"
      ],
      "text/plain": [
       "<IPython.core.display.Image object>"
      ]
     },
     "execution_count": 40,
     "metadata": {},
     "output_type": "execute_result"
    }
   ],
   "source": [
    "Image(url = \"https://raw.githubusercontent.com/captainchargers/deeplearning/master/img/lstm_model_overview.png\", width=500, height=250)"
   ]
  },
  {
   "cell_type": "code",
   "execution_count": 48,
   "metadata": {},
   "outputs": [
    {
     "name": "stdout",
     "output_type": "stream",
     "text": [
      "Tensor(\"Placeholder:0\", shape=(?, 91, 1), dtype=float32)\n",
      "Tensor(\"dense/BiasAdd:0\", shape=(?, 91, 5), dtype=float32)\n",
      "LSTMStateTuple(c=<tf.Tensor 'rnn/while/Exit_3:0' shape=(?, 64) dtype=float32>, h=<tf.Tensor 'rnn/while/Exit_4:0' shape=(?, 64) dtype=float32>)\n",
      "Tensor(\"dense_2/BiasAdd:0\", shape=(?, 32), dtype=float32)\n"
     ]
    }
   ],
   "source": [
    "tf.reset_default_graph()\n",
    "tf.set_random_seed(777)\n",
    "\n",
    "learning_rate = 0.0001\n",
    "n_epochs = 300\n",
    "\n",
    "X = tf.placeholder(tf.float32, [None, max_word_cnt, 1])\n",
    "y = tf.placeholder(tf.int32, [None, 2])\n",
    "\n",
    "# 임베딩 레이어는 인덱스를 받아 5차원 벡터의 임베딩을 출력\n",
    "embedding = tf.layers.dense(X,5)\n",
    "\n",
    "cell = tf.nn.rnn_cell.LSTMCell(num_units = 64)\n",
    "output, state = tf.nn.dynamic_rnn(cell, embedding, dtype=tf.float32,\n",
    "                                 sequence_length = seq_length)\n",
    "\n",
    "# 주제 분류는 두개의 dense layer를 사용\n",
    "# 첫번째 dense layer는 32개 노드\n",
    "dense_layer = tf.layers.dense(state.h, 32)\n",
    "# 두번째 dense layer는 2개 노드\n",
    "logits = tf.layers.dense(dense_layer, 2)\n",
    "\n",
    "# 소프트 맥스는 각 분류값에 해당할 확률 출력\n",
    "cross_entropy = tf.nn.softmax_cross_entropy_with_logits_v2(labels=y, logits=logits)\n",
    "loss = tf.reduce_mean(cross_entropy)\n",
    "optimizer = tf.train.AdamOptimizer(learning_rate = learning_rate).minimize(loss)\n",
    "\n",
    "print(X)\n",
    "print(embedding)\n",
    "print(state)\n",
    "print(dense_layer)\n"
   ]
  },
  {
   "cell_type": "code",
   "execution_count": 49,
   "metadata": {},
   "outputs": [
    {
     "name": "stdout",
     "output_type": "stream",
     "text": [
      "epoch:1, loss:0.7277211, acc:0.45\n",
      "epoch:51, loss:0.59912336, acc:0.65\n",
      "epoch:101, loss:0.531076, acc:0.75\n",
      "epoch:151, loss:0.47653937, acc:0.8\n",
      "epoch:201, loss:0.42425638, acc:0.85\n",
      "epoch:251, loss:0.35576823, acc:0.9\n"
     ]
    }
   ],
   "source": [
    "with tf.Session() as sess :  \n",
    "    sess.run(tf.global_variables_initializer())\n",
    "    for epoch in range(1, n_epochs+1):\n",
    "        sess.run(optimizer, feed_dict ={X: train_X, y:train_Y})\n",
    "        train_loss = sess.run(loss, feed_dict ={X: train_X, y:train_Y})\n",
    "        if epoch==1 or epoch % 50 == 1:\n",
    "            preds = tf.nn.softmax(logits)\n",
    "            correct_prediction = tf.equal(tf.argmax(preds, 1), tf.argmax(y, 1))\n",
    "            accuracy = tf.reduce_mean(tf.cast(correct_prediction, \"float\"))\n",
    "            cur_acc = accuracy.eval({X: train_X, y:train_Y})\n",
    "            print(\"epoch:\" + str(epoch) +\", loss:\"+ str(  train_loss) +\", acc:\"+ str(cur_acc ))"
   ]
  },
  {
   "cell_type": "markdown",
   "metadata": {},
   "source": [
    "### LSTM을 이용한 로이터 뉴스 카테고리 분류\n",
    "- Embedding 층은 데이터 전처리 과정을 통해 입력된 값을 받아 다음 층이 알아들을 수 있는 형태로 변환하는 역할을\n",
    "합니다.\n",
    "- Embedding('불러온 단어의 총 개수', '기사당 단어 수') 형식으로 사용하며, 모델 설정 부분의 맨 처음에 있어야 합니다. LSTM은 RNN에서 기억 값에 대한 가중치를 제어합니다.\n",
    "- LSTM(기사당 단어 수, 기타 옵션)의 형태로 적용됩니다.\n",
    "- LSTM의 활성화 함수로는 Tanh를 사용합니다.\n",
    "\n",
    "\n",
    "- keras를 이용한 분류"
   ]
  },
  {
   "cell_type": "code",
   "execution_count": 4,
   "metadata": {},
   "outputs": [],
   "source": [
    "from keras.datasets import reuters\n",
    "from keras.models import Sequential\n",
    "from keras.layers import Dense, LSTM, Embedding\n",
    "from keras.preprocessing import sequence\n",
    "from keras.utils import np_utils\n",
    "import numpy\n",
    "import tensorflow as tf\n",
    "import matplotlib.pyplot as plt\n",
    "\n",
    "seed = 0 # seed 값 설정\n",
    "numpy.random.seed(seed)\n",
    "tf.set_random_seed(seed)"
   ]
  },
  {
   "cell_type": "code",
   "execution_count": 5,
   "metadata": {},
   "outputs": [],
   "source": [
    "# 불러온 데이터를 학습셋과 테스트셋으로 나누기\n",
    "# numpy 1.16.1로 다운그레이드\n",
    "(X_train, Y_train), (X_test, Y_test) = reuters.load_data(num_words=1000, test_split=0.2)"
   ]
  },
  {
   "cell_type": "code",
   "execution_count": 6,
   "metadata": {},
   "outputs": [
    {
     "name": "stdout",
     "output_type": "stream",
     "text": [
      "46 카테고리\n",
      "8982 학습용 뉴스 기사\n",
      "2246 테스트용 뉴스 기사\n",
      "[1, 2, 2, 8, 43, 10, 447, 5, 25, 207, 270, 5, 2, 111, 16, 369, 186, 90, 67, 7, 89, 5, 19, 102, 6, 19, 124, 15, 90, 67, 84, 22, 482, 26, 7, 48, 4, 49, 8, 864, 39, 209, 154, 6, 151, 6, 83, 11, 15, 22, 155, 11, 15, 7, 48, 9, 2, 2, 504, 6, 258, 6, 272, 11, 15, 22, 134, 44, 11, 15, 16, 8, 197, 2, 90, 67, 52, 29, 209, 30, 32, 132, 6, 109, 15, 17, 12]\n"
     ]
    }
   ],
   "source": [
    "# 데이터 확인하기\n",
    "category = numpy.max(Y_train) + 1\n",
    "print(category, '카테고리')\n",
    "print(len(X_train), '학습용 뉴스 기사')\n",
    "print(len(X_test), '테스트용 뉴스 기사')\n",
    "print(X_train[0])\n",
    "\n",
    "# 데이터 전처리\n",
    "x_train = sequence.pad_sequences(X_train, maxlen=100)\n",
    "x_test = sequence.pad_sequences(X_test, maxlen=100)\n",
    "y_train = np_utils.to_categorical(Y_train)\n",
    "y_test = np_utils.to_categorical(Y_test)\n",
    "model = Sequential() # 모델의 설정\n",
    "model.add(Embedding(1000, 100))\n",
    "model.add(LSTM(100, activation='tanh'))\n",
    "model.add(Dense(46, activation='softmax'))\n",
    "\n",
    "# 모델의 컴파일\n",
    "model.compile(loss='categorical_crossentropy', optimizer='adam', metrics=['accuracy'])"
   ]
  },
  {
   "cell_type": "code",
   "execution_count": 7,
   "metadata": {},
   "outputs": [
    {
     "name": "stdout",
     "output_type": "stream",
     "text": [
      "Train on 8982 samples, validate on 2246 samples\n",
      "Epoch 1/20\n",
      "8982/8982 [==============================] - 13s 1ms/step - loss: 2.6219 - acc: 0.3440 - val_loss: 2.4223 - val_acc: 0.3620\n",
      "Epoch 2/20\n",
      "8982/8982 [==============================] - 12s 1ms/step - loss: 2.3210 - acc: 0.3861 - val_loss: 2.0516 - val_acc: 0.4915\n",
      "Epoch 3/20\n",
      "8982/8982 [==============================] - 12s 1ms/step - loss: 1.9349 - acc: 0.5046 - val_loss: 1.7708 - val_acc: 0.5574\n",
      "Epoch 4/20\n",
      "8982/8982 [==============================] - 12s 1ms/step - loss: 1.7222 - acc: 0.5649 - val_loss: 1.7133 - val_acc: 0.5659\n",
      "Epoch 5/20\n",
      "8982/8982 [==============================] - 12s 1ms/step - loss: 1.6416 - acc: 0.5809 - val_loss: 1.6469 - val_acc: 0.5873\n",
      "Epoch 6/20\n",
      "8982/8982 [==============================] - 12s 1ms/step - loss: 1.5534 - acc: 0.6041 - val_loss: 1.5705 - val_acc: 0.6167\n",
      "Epoch 7/20\n",
      "8982/8982 [==============================] - 12s 1ms/step - loss: 1.4539 - acc: 0.6300 - val_loss: 1.5329 - val_acc: 0.6095\n",
      "Epoch 8/20\n",
      "8982/8982 [==============================] - 12s 1ms/step - loss: 1.3931 - acc: 0.6387 - val_loss: 1.4539 - val_acc: 0.6340\n",
      "Epoch 9/20\n",
      "8982/8982 [==============================] - 12s 1ms/step - loss: 1.3282 - acc: 0.6569 - val_loss: 1.4023 - val_acc: 0.6478\n",
      "Epoch 10/20\n",
      "8982/8982 [==============================] - 12s 1ms/step - loss: 1.2592 - acc: 0.6741 - val_loss: 1.3827 - val_acc: 0.6496\n",
      "Epoch 11/20\n",
      "8982/8982 [==============================] - 12s 1ms/step - loss: 1.1980 - acc: 0.6889 - val_loss: 1.3497 - val_acc: 0.6603\n",
      "Epoch 12/20\n",
      "8982/8982 [==============================] - 12s 1ms/step - loss: 1.1339 - acc: 0.7090 - val_loss: 1.3122 - val_acc: 0.6834\n",
      "Epoch 13/20\n",
      "8982/8982 [==============================] - 12s 1ms/step - loss: 1.0774 - acc: 0.7258 - val_loss: 1.2792 - val_acc: 0.6825\n",
      "Epoch 14/20\n",
      "8982/8982 [==============================] - 12s 1ms/step - loss: 1.0300 - acc: 0.7389 - val_loss: 1.2770 - val_acc: 0.6830\n",
      "Epoch 15/20\n",
      "8982/8982 [==============================] - 12s 1ms/step - loss: 0.9768 - acc: 0.7514 - val_loss: 1.2765 - val_acc: 0.6781\n",
      "Epoch 16/20\n",
      "8982/8982 [==============================] - 12s 1ms/step - loss: 0.9302 - acc: 0.7654 - val_loss: 1.2315 - val_acc: 0.6928\n",
      "Epoch 17/20\n",
      "8982/8982 [==============================] - 12s 1ms/step - loss: 0.8851 - acc: 0.7760 - val_loss: 1.2218 - val_acc: 0.7026\n",
      "Epoch 18/20\n",
      "8982/8982 [==============================] - 12s 1ms/step - loss: 0.8459 - acc: 0.7829 - val_loss: 1.2288 - val_acc: 0.6995\n",
      "Epoch 19/20\n",
      "8982/8982 [==============================] - 12s 1ms/step - loss: 0.8034 - acc: 0.7938 - val_loss: 1.2154 - val_acc: 0.7061\n",
      "Epoch 20/20\n",
      "8982/8982 [==============================] - 12s 1ms/step - loss: 0.7780 - acc: 0.8017 - val_loss: 1.2070 - val_acc: 0.7173\n",
      "2246/2246 [==============================] - 1s 523us/step\n",
      "\n",
      " Test Accuracy: 0.7173\n"
     ]
    },
    {
     "data": {
      "image/png": "[encoded data removed]",
      "text/plain": [
       "<Figure size 432x288 with 1 Axes>"
      ]
     },
     "metadata": {
      "needs_background": "light"
     },
     "output_type": "display_data"
    }
   ],
   "source": [
    "# 모델의 실행\n",
    "history = model.fit(x_train, y_train, batch_size=100, epochs=20, validation_data=(x_test, y_test))\n",
    "\n",
    "# 테스트 정확도 출력\n",
    "print(\"\\n Test Accuracy: %.4f\" % (model.evaluate(x_test, y_test)[1]))\n",
    "\n",
    "# 테스트셋의 오차\n",
    "y_vloss = history.history['val_loss']\n",
    "\n",
    "# 학습셋의 오차\n",
    "y_loss = history.history['loss']\n",
    "\n",
    "# 그래프로 표현\n",
    "x_len = numpy.arange(len(y_loss))\n",
    "plt.plot(x_len, y_vloss, marker='.', c=\"red\", label='Testset_loss')\n",
    "plt.plot(x_len, y_loss, marker='.', c=\"blue\", label='Trainset_loss')\n",
    "\n",
    "# 그래프에 그리드를 주고 레이블을 표시\n",
    "plt.legend(loc='upper right')\n",
    "plt.grid()\n",
    "plt.xlabel('epoch')\n",
    "plt.ylabel('loss')\n",
    "plt.show()"
   ]
  }
 ],
 "metadata": {
  "kernelspec": {
   "display_name": "[CPU_ENV]",
   "language": "python",
   "name": "cpu_env"
  },
  "language_info": {
   "codemirror_mode": {
    "name": "ipython",
    "version": 3
   },
   "file_extension": ".py",
   "mimetype": "text/x-python",
   "name": "python",
   "nbconvert_exporter": "python",
   "pygments_lexer": "ipython3",
   "version": "3.6.9"
  }
 },
 "nbformat": 4,
 "nbformat_minor": 2
}
