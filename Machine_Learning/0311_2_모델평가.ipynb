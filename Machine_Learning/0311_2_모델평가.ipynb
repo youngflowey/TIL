{
 "cells": [
  {
   "cell_type": "code",
   "execution_count": 1,
   "metadata": {
    "scrolled": true
   },
   "outputs": [
    {
     "name": "stdout",
     "output_type": "stream",
     "text": [
      "0.9693916821849783\n",
      "[0.97777778 0.98888889 0.96111111 0.94444444 0.97777778 0.98333333\n",
      " 0.95555556 0.98882682 0.97765363 0.93854749]\n"
     ]
    }
   ],
   "source": [
    "from sklearn import datasets\n",
    "from sklearn import metrics\n",
    "from sklearn.model_selection import KFold, cross_val_score\n",
    "from sklearn.pipeline import make_pipeline\n",
    "from sklearn.linear_model import LogisticRegression\n",
    "from sklearn.preprocessing import StandardScaler\n",
    "\n",
    "digits = datasets.load_digits() # 데이터셋 로드\n",
    "features = digits.data # 특성 행렬을 만듭니다.\n",
    "target = digits.target # 타깃 벡터를 만듭니다.\n",
    "standardizer = StandardScaler() # 표준화 객체를 만듭니다.\n",
    "logit = LogisticRegression() # # 로지스틱 회귀 객체를 만듭니다\n",
    "\n",
    "# 표준화한 다음 로지스틱 회귀를 실행하는 파이프라인을 만듭니다.\n",
    "pipeline = make_pipeline(standardizer, logit)\n",
    "kf = KFold(n_splits=10, shuffle=True, random_state=1) # k-폴드 교차검증을 만듭니다. (10 개의 폴드를 만듬)\n",
    "\n",
    "# k-폴드 교차검증을 수행합니다.\n",
    "cv_results = cross_val_score(pipeline, features, target, cv=kf, # 교차 검증 기법\n",
    "                            scoring=\"accuracy\", # 평가 지표\n",
    "                            n_jobs=-1) # 모든 CPU 코어 사용\n",
    "print(cv_results.mean()) # 평균을 계산\n",
    "print(cv_results) ## 10개 폴드의 점수를 모두 확인(평가 점수는 cv_results에 저장)"
   ]
  },
  {
   "cell_type": "code",
   "execution_count": 4,
   "metadata": {},
   "outputs": [
    {
     "data": {
      "text/plain": [
       "0.9693916821849783"
      ]
     },
     "execution_count": 4,
     "metadata": {},
     "output_type": "execute_result"
    }
   ],
   "source": [
    "from sklearn.model_selection import train_test_split\n",
    "\n",
    "# 훈련 세트와 테스트 세트를 만듭니다.\n",
    "features_train, features_test, target_train, target_test = train_test_split( features, target, test_size=0.1, random_state=1)\n",
    "standardizer.fit(features_train) # 훈련 세트로 standardizer의 fit 메서드를 호출\n",
    "\n",
    "# 훈련 세트와 테스트 세트에 모두 적용합니다.\n",
    "features_train_std = standardizer.transform(features_train)\n",
    "features_test_std = standardizer.transform(features_test)\n",
    "\n",
    "pipeline = make_pipeline(standardizer, logit) # 파이프라인을 만듭니다.\n",
    "\n",
    "# k-폴드 교차 검증 수행\n",
    "cv_results = cross_val_score(pipeline, # 파이프라인\n",
    "                            features, # 특성 행렬\n",
    "                            target, # 타깃 벡터\n",
    "                            cv=kf, # 교차검증\n",
    "                            scoring=\"accuracy\", # 평가 지표\n",
    "                            n_jobs=-1) # 모든 CPU 코어 사용\n",
    "cv_results.mean()"
   ]
  },
  {
   "cell_type": "code",
   "execution_count": 3,
   "metadata": {},
   "outputs": [
    {
     "data": {
      "text/plain": [
       "0.9630555555555554"
      ]
     },
     "execution_count": 3,
     "metadata": {},
     "output_type": "execute_result"
    }
   ],
   "source": [
    "#훈련 폴드로 50%, 테스트 폴드로 20%를 사용하여 10번 반복하는 실습입니다.\n",
    "from sklearn.model_selection import ShuffleSplit\n",
    "\n",
    "# ShuffleSplit 분할기를 만듭니다.\n",
    "ss = ShuffleSplit(n_splits=10, train_size=0.5, test_size=0.2, random_state=42)\n",
    "\n",
    "# 교차검증을 수행합니다.\n",
    "cv_results = cross_val_score(pipeline, # 파이프라인\n",
    "                            features, # 특성 행렬\n",
    "                            target, # 타깃 벡터\n",
    "                            cv=ss, # 교차 검증 기법\n",
    "                            scoring=\"accuracy\", # 평가 지표\n",
    "                            n_jobs=-1) # 모든 CPU 코어 사용\n",
    "cv_results.mean() # 평균을 계산합니다."
   ]
  },
  {
   "cell_type": "code",
   "execution_count": 5,
   "metadata": {},
   "outputs": [
    {
     "data": {
      "text/plain": [
       "50"
      ]
     },
     "execution_count": 5,
     "metadata": {},
     "output_type": "execute_result"
    }
   ],
   "source": [
    "# 훈련 폴드로 50%, 테스트 폴드로 20%를 사용하여 10번 반복하는 실습입니다\n",
    "# 사이킷런에서 교차 검증을 반복하여 실행할 수 있는 RepeatedKFold 와 StratifiedRepeatedKFold\n",
    "# n_splits 매개변수 기본값은 5이고 n_repeats 매개변수 기본값은 10입니다.\n",
    "\n",
    "from sklearn.model_selection import RepeatedKFold\n",
    "\n",
    "# RepeatedKFold 객체 생성\n",
    "rfk = RepeatedKFold(n_splits=10, n_repeats=5, random_state=42)\n",
    "\n",
    "# 교차검증을 수행\n",
    "cv_results = cross_val_score(pipeline, # 파이프라인\n",
    "                            features, # 특성 행렬\n",
    "                            target, # 타깃 벡터\n",
    "                            cv=rfk, # 교차 검증 기법\n",
    "                            scoring=\"accuracy\", # 평가 지표\n",
    "                            n_jobs=-1) # 모든 CPU 코어 사용\n",
    "\n",
    "len(cv_results) # 검증 점수 개수를 확인"
   ]
  },
  {
   "cell_type": "code",
   "execution_count": 6,
   "metadata": {},
   "outputs": [
    {
     "name": "stdout",
     "output_type": "stream",
     "text": [
      "-0.001119359203955339\n"
     ]
    }
   ],
   "source": [
    "from sklearn.datasets import load_boston\n",
    "from sklearn.dummy import DummyRegressor\n",
    "from sklearn.model_selection import train_test_split\n",
    "\n",
    "boston = load_boston() # 데이터를 로드\n",
    "features, target = boston.data, boston.target # 특성을 만듭니다.\n",
    "\n",
    "features_train, features_test, target_train, target_test = train_test_split(\n",
    "     features, target, random_state=0) # 훈련 세트와 테스트 세트를 나눕니다.\n",
    "\n",
    "dummy = DummyRegressor(strategy='mean') # 더미 회귀 모델을 만듭니다.\n",
    "\n",
    "dummy.fit(features_train, target_train) # 더미 회귀 모델을 훈련합니다.\n",
    "\n",
    "print(dummy.score(features_test, target_test)) # R^2 점수를 계산합니다."
   ]
  },
  {
   "cell_type": "code",
   "execution_count": 7,
   "metadata": {},
   "outputs": [
    {
     "name": "stdout",
     "output_type": "stream",
     "text": [
      "0.6354638433202104\n",
      "-0.06510502029325727\n"
     ]
    }
   ],
   "source": [
    "from sklearn.linear_model import LinearRegression\n",
    "\n",
    "ols = LinearRegression() # 간단한 선형 회귀 모델을 훈련\n",
    "ols.fit(features_train, target_train)\n",
    "\n",
    "print(ols.score(features_test, target_test)) # R^2 점수를 계산\n",
    "\n",
    "# 모든 샘플에 대해 20으로 예측하는 더미 회귀 모델을 만듭니다.\n",
    "clf = DummyRegressor(strategy='constant', constant=20)\n",
    "clf.fit(features_train, target_train)\n",
    "\n",
    "print(clf.score(features_test, target_test)) # 점수를 계산"
   ]
  },
  {
   "cell_type": "code",
   "execution_count": 8,
   "metadata": {},
   "outputs": [
    {
     "name": "stdout",
     "output_type": "stream",
     "text": [
      "[50. 50. 50. 50. 50. 50. 50. 50. 50. 50. 50. 50. 50. 50. 50. 50. 50. 50.\n",
      " 50. 50. 50. 50. 50. 50. 50. 50. 50. 50. 50. 50. 50. 50. 50. 50. 50. 50.\n",
      " 50. 50. 50. 50. 50. 50. 50. 50. 50. 50. 50. 50. 50. 50. 50. 50. 50. 50.\n",
      " 50. 50. 50. 50. 50. 50. 50. 50. 50. 50. 50. 50. 50. 50. 50. 50. 50. 50.\n",
      " 50. 50. 50. 50. 50. 50. 50. 50. 50. 50. 50. 50. 50. 50. 50. 50. 50. 50.\n",
      " 50. 50. 50. 50. 50. 50. 50. 50. 50. 50. 50. 50. 50. 50. 50. 50. 50. 50.\n",
      " 50. 50. 50. 50. 50. 50. 50. 50. 50. 50. 50. 50. 50. 50. 50. 50. 50. 50.\n",
      " 50.]\n",
      "50.0\n"
     ]
    }
   ],
   "source": [
    "clf = DummyRegressor(strategy='quantile', quantile=1.0)\n",
    "clf.fit(features_train, target_train) \n",
    "\n",
    "# 훈련 세트 타깃의 최대값으로 예측합니다.\n",
    "print(clf.predict(features_test))\n",
    "\n",
    "import numpy as np\n",
    "# 훈련 세트의 타깃에서 최댓값을 확인합니다.\n",
    "print(np.max(target_train))"
   ]
  },
  {
   "cell_type": "code",
   "execution_count": 9,
   "metadata": {},
   "outputs": [
    {
     "data": {
      "text/plain": [
       "0.42105263157894735"
      ]
     },
     "execution_count": 9,
     "metadata": {},
     "output_type": "execute_result"
    }
   ],
   "source": [
    "from sklearn.datasets import load_iris\n",
    "from sklearn.dummy import DummyClassifier\n",
    "from sklearn.model_selection import train_test_split\n",
    "\n",
    "iris = load_iris() # 데이터 로드\n",
    "features, target = iris.data, iris.target # 타깃 벡터와 특성 행렬을 만듭니다.\n",
    "\n",
    "# 훈련 세트와 테스트 세트로 나눕니다.\n",
    "features_train, features_test, target_train, target_test = train_test_split( features, target, random_state=0)\n",
    "\n",
    "# 더미 분류 모델을 만듭니다.\n",
    "dummy = DummyClassifier(strategy='uniform', random_state=1)\n",
    "dummy.fit(features_train, target_train) # 모델 훈련\n",
    "dummy.score(features_test, target_test) # 정확도 점수를 계산"
   ]
  },
  {
   "cell_type": "code",
   "execution_count": 10,
   "metadata": {},
   "outputs": [
    {
     "name": "stdout",
     "output_type": "stream",
     "text": [
      "0.9736842105263158\n",
      "[2 2 2 2 2 2 2 2 2 2 2 2 2 2 2 2 2 2 2 2 2 2 2 2 2 2 2 2 2 2 2 2 2 2 2 2 2\n",
      " 2]\n"
     ]
    }
   ],
   "source": [
    "from sklearn.ensemble import RandomForestClassifier\n",
    "\n",
    "classifier = RandomForestClassifier() # 분류 모델을 만듭니다.\n",
    "classifier.fit(features_train, target_train) # 모델 훈련\n",
    "print(classifier.score(features_test, target_test)) # 정확도 점수를 계산\n",
    "\n",
    "dummy = DummyClassifier(strategy='most_frequent')\n",
    "dummy.fit(features_train, target_train)\n",
    "\n",
    "# 훈련 세트 타깃에서 가장 많은 값으로 예측합니다.\n",
    "print(dummy.predict(features_test))"
   ]
  },
  {
   "cell_type": "code",
   "execution_count": 11,
   "metadata": {},
   "outputs": [
    {
     "data": {
      "text/plain": [
       "array([0.9555, 0.95  , 0.9585, 0.9555, 0.956 ])"
      ]
     },
     "execution_count": 11,
     "metadata": {},
     "output_type": "execute_result"
    }
   ],
   "source": [
    "from sklearn.model_selection import cross_val_score\n",
    "from sklearn.linear_model import LogisticRegression\n",
    "from sklearn.datasets import make_classification\n",
    "\n",
    "# 특성 행렬과 타깃 벡터를 만듭니다.\n",
    "X, y = make_classification(n_samples = 10000,\n",
    "                            n_features = 3,\n",
    "                            n_informative = 3,\n",
    "                            n_redundant = 0,\n",
    "                            n_classes = 2,\n",
    "                            random_state = 1)\n",
    "\n",
    "logit = LogisticRegression() # 로지스틱 회귀 모델을 만듭니다\n",
    "\n",
    "cross_val_score(logit, X, y, scoring=\"accuracy\") # 정확도를 사용하여 교차검증을 수행합니다"
   ]
  },
  {
   "cell_type": "code",
   "execution_count": 13,
   "metadata": {},
   "outputs": [
    {
     "name": "stdout",
     "output_type": "stream",
     "text": [
      "[0.95963673 0.94820717 0.9635996  0.96149949 0.96060606]\n",
      "[0.951 0.952 0.953 0.949 0.951]\n",
      "[0.95529884 0.9500998  0.95827049 0.95520886 0.95577889]\n"
     ]
    }
   ],
   "source": [
    "# 정밀도를 사용한 교차검증\n",
    "print(cross_val_score(logit, X, y, scoring=\"precision\"))\n",
    "\n",
    "# 재현율을 사용한 교차검증\n",
    "print(cross_val_score(logit, X, y, scoring=\"recall\"))\n",
    "\n",
    "# f1 점수를 사용한 교차검증\n",
    "print(cross_val_score(logit, X, y, scoring=\"f1\"))"
   ]
  },
  {
   "cell_type": "code",
   "execution_count": 15,
   "metadata": {},
   "outputs": [
    {
     "name": "stdout",
     "output_type": "stream",
     "text": [
      "0.947\n"
     ]
    },
    {
     "data": {
      "text/plain": [
       "{'fit_time': array([0.01199198, 0.01099443, 0.00999379, 0.00999379, 0.00999284]),\n",
       " 'score_time': array([0.00199866, 0.00099921, 0.0019989 , 0.00199866, 0.00199866]),\n",
       " 'test_accuracy': array([0.9555, 0.95  , 0.9585, 0.9555, 0.956 ]),\n",
       " 'test_precision': array([0.95963673, 0.94820717, 0.9635996 , 0.96149949, 0.96060606])}"
      ]
     },
     "execution_count": 15,
     "metadata": {},
     "output_type": "execute_result"
    }
   ],
   "source": [
    "#y값과 예측한 y값을 이용하여 직접 정확도와 재현율 계산\n",
    "from sklearn.model_selection import train_test_split\n",
    "from sklearn.metrics import accuracy_score\n",
    "\n",
    "# 훈련 세트와 테스트 세트로 나눕니다.\n",
    "X_train, X_test, y_train, y_test = train_test_split(X, y, test_size=0.1, random_state=1)\n",
    "\n",
    "# 테스트 세트의 예측을 만듭니다.\n",
    "y_hat = logit.fit(X_train, y_train).predict(X_test)\n",
    "\n",
    "# 정확도를 계산합니다.\n",
    "print(accuracy_score(y_test, y_hat))\n",
    "\n",
    "from sklearn.model_selection import cross_validate\n",
    "# 정확도와 정밀도를 사용한 교차검증\n",
    "cross_validate(logit, X, y, scoring=[\"accuracy\", \"precision\"])"
   ]
  },
  {
   "cell_type": "code",
   "execution_count": 16,
   "metadata": {},
   "outputs": [
    {
     "data": {
      "text/plain": [
       "LogisticRegression(C=1.0, class_weight=None, dual=False, fit_intercept=True,\n",
       "                   intercept_scaling=1, l1_ratio=None, max_iter=100,\n",
       "                   multi_class='auto', n_jobs=None, penalty='l2',\n",
       "                   random_state=None, solver='lbfgs', tol=0.0001, verbose=0,\n",
       "                   warm_start=False)"
      ]
     },
     "execution_count": 16,
     "metadata": {},
     "output_type": "execute_result"
    }
   ],
   "source": [
    "import matplotlib.pyplot as plt\n",
    "import matplotlib.pyplot as plt\n",
    "from sklearn.datasets import make_classification\n",
    "from sklearn.linear_model import LogisticRegression\n",
    "from sklearn.metrics import roc_curve, roc_auc_score\n",
    "from sklearn.model_selection import train_test_split\n",
    "\n",
    "# 특성 행렬과 타깃 벡터를 만듭니다.\n",
    "features, target = make_classification(n_samples=10000,\n",
    "                n_features=10, n_classes=2, n_informative=3, random_state=3)\n",
    "\n",
    "# 훈련 세트와 테스트 세트로 나눕니다.\n",
    "features_train, features_test, target_train, target_test = train_test_split(\n",
    "features, target, test_size=0.1, random_state=1)\n",
    "\n",
    "logit = LogisticRegression() # 분류기를 만듭니다.\n",
    "logit.fit(features_train, target_train) # 모델을 훈련합니다."
   ]
  },
  {
   "cell_type": "code",
   "execution_count": 19,
   "metadata": {},
   "outputs": [
    {
     "data": {
      "image/png": "[encoded data removed]",
      "text/plain": [
       "<Figure size 432x288 with 1 Axes>"
      ]
     },
     "metadata": {
      "needs_background": "light"
     },
     "output_type": "display_data"
    }
   ],
   "source": [
    "# 예측 확률 계산\n",
    "target_probabilities = logit.predict_proba(features_test)[:,1]\n",
    "\n",
    "# 진짜 양성 비율과 거짓 양성 비율을 계산합니다.\n",
    "false_positive_rate, true_positive_rate, threshold = roc_curve(target_test, target_probabilities)\n",
    "\n",
    "# ROC 곡선을 그립니다.\n",
    "plt.title(\"Receiver Operating Characteristic\")\n",
    "plt.plot(false_positive_rate, true_positive_rate)\n",
    "plt.plot([0, 1], ls=\"--\")\n",
    "plt.plot([0, 0], [1, 0] , c=\".7\"), plt.plot([1, 1] , c=\".7\")\n",
    "plt.ylabel(\"True Positive Rate\")\n",
    "plt.xlabel(\"False Positive Rate\")\n",
    "plt.show()"
   ]
  },
  {
   "cell_type": "code",
   "execution_count": 20,
   "metadata": {},
   "outputs": [
    {
     "name": "stdout",
     "output_type": "stream",
     "text": [
      "임계값: 0.5331715230155317\n",
      "진짜 양성 비율: 0.810204081632653\n",
      "거짓 양성 비율: 0.14901960784313725\n",
      "임계값: 0.8189133876659292\n",
      "진짜 양성 비율: 0.5448979591836735\n",
      "거짓 양성 비율: 0.047058823529411764\n"
     ]
    },
    {
     "data": {
      "text/plain": [
       "0.9073389355742297"
      ]
     },
     "execution_count": 20,
     "metadata": {},
     "output_type": "execute_result"
    }
   ],
   "source": [
    "# 예측 확률을 계산합니다.\n",
    "logit.predict_proba(features_test)[0:1]\n",
    "logit.classes_\n",
    "\n",
    "print(\"임계값:\", threshold[116])\n",
    "print(\"진짜 양성 비율:\", true_positive_rate[116])\n",
    "print(\"거짓 양성 비율:\", false_positive_rate[116])\n",
    "\n",
    "print(\"임계값:\", threshold[45])\n",
    "print(\"진짜 양성 비율:\", true_positive_rate[45])\n",
    "print(\"거짓 양성 비율:\", false_positive_rate[45])\n",
    "\n",
    "# ROC 곡선 아래 면적을 계산합니다.\n",
    "roc_auc_score(target_test, target_probabilities)"
   ]
  },
  {
   "cell_type": "code",
   "execution_count": 24,
   "metadata": {},
   "outputs": [
    {
     "data": {
      "image/png": "[encoded data removed]",
      "text/plain": [
       "<Figure size 432x288 with 1 Axes>"
      ]
     },
     "metadata": {
      "needs_background": "light"
     },
     "output_type": "display_data"
    },
    {
     "name": "stdout",
     "output_type": "stream",
     "text": [
      "0.8984128719848977\n"
     ]
    },
    {
     "data": {
      "text/plain": [
       "{'fit_time': array([0.01199198, 0.00899482, 0.00899482, 0.00899458, 0.00899458]),\n",
       " 'score_time': array([0.0019989 , 0.00199842, 0.00199842, 0.0019989 , 0.0019989 ]),\n",
       " 'test_roc_auc': array([0.9007689, 0.918251 , 0.90882  , 0.915359 , 0.90261  ]),\n",
       " 'test_average_precision': array([0.90028629, 0.90967443, 0.90296471, 0.91135611, 0.88797021])}"
      ]
     },
     "execution_count": 24,
     "metadata": {},
     "output_type": "execute_result"
    }
   ],
   "source": [
    "from sklearn.metrics import precision_recall_curve\n",
    "# 진짜 양성 비율과 거짓 양성 비율을 계산합니다.\n",
    "precision, recall, threshold = precision_recall_curve(\n",
    "\ttarget_test, target_probabilities)\n",
    "\n",
    "# ROC 곡선을 그립니다.\n",
    "plt.title(\"Precision-Recall Curve\")\n",
    "plt.plot(precision, recall)\n",
    "plt.plot([0, 1], ls=\"--\")\n",
    "plt.plot([1, 1], c=\".7\"), plt.plot([1, 1], [1, 0] , c=\".7\")\n",
    "plt.ylabel(\"Precision\")\n",
    "plt.xlabel(\"Recall\")\n",
    "plt.show()\n",
    "\n",
    "from sklearn.metrics import average_precision_score\n",
    "# 평균 정밀도를 계산합니다.\n",
    "print(average_precision_score(target_test, target_probabilities))\n",
    "#scoring매개변수에 ROCAUC와 평균 정밀도를 평가 지표로 지정 할 수 있습니다.\n",
    "cross_validate(logit, features, target, scoring=[\"roc_auc\", \"average_precision\"])"
   ]
  },
  {
   "cell_type": "code",
   "execution_count": 25,
   "metadata": {},
   "outputs": [
    {
     "data": {
      "text/plain": [
       "array([0.841 , 0.829 , 0.8265, 0.8155, 0.82  ])"
      ]
     },
     "execution_count": 25,
     "metadata": {},
     "output_type": "execute_result"
    }
   ],
   "source": [
    "from sklearn.model_selection import cross_val_score\n",
    "from sklearn.linear_model import LogisticRegression\n",
    "from sklearn.datasets import make_classification\n",
    "\n",
    "# 특성 행렬과 타깃 벡터를 만듭니다.\n",
    "features, target = make_classification(n_samples = 10000,\n",
    "                                        n_features = 3,\n",
    "                                        n_informative = 3,\n",
    "                                        n_redundant = 0,\n",
    "                                        n_classes = 3,\n",
    "                                        random_state = 1)\n",
    "\n",
    "logit = LogisticRegression() # 로지스틱 회귀 모델 객체 생성\n",
    "\n",
    "# 정확도를 사용하여 교차검증을 수행합니다.\n",
    "cross_val_score(logit, features, target, scoring='accuracy')"
   ]
  },
  {
   "cell_type": "code",
   "execution_count": 26,
   "metadata": {},
   "outputs": [
    {
     "data": {
      "text/plain": [
       "array([0.84061272, 0.82895312, 0.82625661, 0.81515121, 0.81992692])"
      ]
     },
     "execution_count": 26,
     "metadata": {},
     "output_type": "execute_result"
    }
   ],
   "source": [
    "# 마크로 평균 F1 점수를 사용하여 교차검증을 수행합니다.\n",
    "cross_val_score(logit, features, target, scoring='f1_macro')"
   ]
  },
  {
   "cell_type": "code",
   "execution_count": 27,
   "metadata": {},
   "outputs": [
    {
     "name": "stderr",
     "output_type": "stream",
     "text": [
      "C:\\Users\\student\\Anaconda3\\envs\\cpu_env\\lib\\site-packages\\sklearn\\linear_model\\_logistic.py:939: ConvergenceWarning: lbfgs failed to converge (status=1):\n",
      "STOP: TOTAL NO. of ITERATIONS REACHED LIMIT.\n",
      "\n",
      "Increase the number of iterations (max_iter) or scale the data as shown in:\n",
      "    https://scikit-learn.org/stable/modules/preprocessing.html.\n",
      "Please also refer to the documentation for alternative solver options:\n",
      "    https://scikit-learn.org/stable/modules/linear_model.html#logistic-regression\n",
      "  extra_warning_msg=_LOGISTIC_SOLVER_CONVERGENCE_MSG)\n"
     ]
    }
   ],
   "source": [
    "import matplotlib.pyplot as plt\n",
    "import seaborn as sns\n",
    "from sklearn import datasets\n",
    "from sklearn.linear_model import LogisticRegression\n",
    "from sklearn.model_selection import train_test_split\n",
    "from sklearn.metrics import confusion_matrix\n",
    "import pandas as pd\n",
    "\n",
    "iris = datasets.load_iris()      # 데이터 로드\n",
    "features = iris.data             # 특성 행렬\n",
    "target = iris.target             # 타깃 벡터\n",
    "class_names = iris.target_names  # 클래스 이름 리스트\n",
    "\n",
    "# 훈련 세트와 테스트 세트를 만듭니다.\n",
    "features_train, features_test, target_train, target_test = train_test_split(\n",
    "    features, target, random_state=1)\n",
    "\n",
    "classifier = LogisticRegression() # 로지스틱 회귀 모델 객체 생성\n",
    "\n",
    "# 모델을 훈련하고 예측 결과를 계산합니다.\n",
    "target_predicted = classifier.fit(features_train, target_train).predict(features_test)"
   ]
  },
  {
   "cell_type": "code",
   "execution_count": 33,
   "metadata": {},
   "outputs": [
    {
     "data": {
      "image/png": "[encoded data removed]",
      "text/plain": [
       "<Figure size 432x288 with 1 Axes>"
      ]
     },
     "metadata": {
      "needs_background": "light"
     },
     "output_type": "display_data"
    }
   ],
   "source": [
    "# 오차 행렬을 만듭니다.\n",
    "matrix = confusion_matrix(target_test, target_predicted)\n",
    "\n",
    "# 판다스 데이터프레임을 만듭니다.\n",
    "dataframe = pd.DataFrame(matrix, index=class_names, columns=class_names)\n",
    "\n",
    "sns.heatmap(dataframe, annot=True, cbar=None, cmap=\"Purples\") # 히트맵 생성\n",
    "plt.title(\"Confusion Matrix\"), plt.tight_layout()\n",
    "plt.ylabel(\"True Class\"), plt.xlabel(\"Predicted Class\")\n",
    "plt.show()"
   ]
  },
  {
   "cell_type": "code",
   "execution_count": 34,
   "metadata": {},
   "outputs": [
    {
     "data": {
      "text/plain": [
       "array([[13,  0,  0],\n",
       "       [ 0, 15,  1],\n",
       "       [ 0,  0,  9]], dtype=int64)"
      ]
     },
     "execution_count": 34,
     "metadata": {},
     "output_type": "execute_result"
    }
   ],
   "source": [
    "from sklearn.metrics import confusion_matrix\n",
    "confusion_matrix(target_test, target_predicted)"
   ]
  },
  {
   "cell_type": "code",
   "execution_count": 37,
   "metadata": {},
   "outputs": [
    {
     "name": "stdout",
     "output_type": "stream",
     "text": [
      "[-1974.65337976 -2004.54137625 -3935.19355723 -1060.04361386\n",
      " -1598.74104702]\n",
      "[0.8622399  0.85838075 0.74723548 0.91354743 0.84469331]\n"
     ]
    }
   ],
   "source": [
    "from sklearn.datasets import make_regression\n",
    "from sklearn.model_selection import cross_val_score\n",
    "from sklearn.linear_model import LinearRegression\n",
    "\n",
    "# 특성 행렬과 타깃 벡터를 만듭니다.\n",
    "features, target = make_regression(n_samples = 100,\n",
    "                                    n_features = 3,\n",
    "                                    n_informative = 3,\n",
    "                                    n_targets = 1,\n",
    "                                    noise = 50,\n",
    "                                    coef = False,\n",
    "                                    random_state = 1)\n",
    "\n",
    "ols = LinearRegression() # 객체 생성\n",
    "\n",
    "# 음의 MSE를 사용한 교차검증을 수행합니다.\n",
    "print(cross_val_score(ols, features, target, scoring='neg_mean_squared_error'))\n",
    "\n",
    "# R^2를 사용한 교차검증을 수행합니다.\n",
    "print(cross_val_score(ols, features, target, scoring='r2'))"
   ]
  },
  {
   "cell_type": "code",
   "execution_count": 38,
   "metadata": {},
   "outputs": [
    {
     "data": {
      "text/plain": [
       "0.8916265564072142"
      ]
     },
     "execution_count": 38,
     "metadata": {},
     "output_type": "execute_result"
    }
   ],
   "source": [
    "import numpy as np\n",
    "from sklearn.metrics import silhouette_score\n",
    "from sklearn import datasets\n",
    "from sklearn.cluster import KMeans\n",
    "from sklearn.datasets import make_blobs\n",
    "\n",
    "features, _ = make_blobs(n_samples = 1000,\n",
    "                        n_features = 10,\n",
    "                        centers = 2,\n",
    "                        cluster_std = 0.5,\n",
    "                        shuffle = True,\n",
    "                        random_state = 1) # 특성 행렬을 생성\n",
    "\n",
    "# k-평균을 사용하여 데이터를 클러스터링하고 클래스를 예측합니다.\n",
    "model = KMeans(n_clusters=2, random_state=1).fit(features)\n",
    "\n",
    "target_predicted = model.labels_ # 예측된 클래스\n",
    "\n",
    "silhouette_score(features, target_predicted) # 모델 평가"
   ]
  },
  {
   "cell_type": "code",
   "execution_count": 40,
   "metadata": {},
   "outputs": [
    {
     "data": {
      "text/plain": [
       "0.9997906102882058"
      ]
     },
     "execution_count": 40,
     "metadata": {},
     "output_type": "execute_result"
    }
   ],
   "source": [
    "from sklearn.metrics import make_scorer, r2_score\n",
    "from sklearn.model_selection import train_test_split\n",
    "from sklearn.linear_model import Ridge\n",
    "from sklearn.datasets import make_regression\n",
    "\n",
    "# 특성 행렬과 타깃 벡터를 만듭니다.\n",
    "features, target = make_regression(n_samples = 100,\n",
    "                                    n_features = 3,\n",
    "                                    random_state = 1)\n",
    "\n",
    "# 훈련 세트와 테스트 세트를 만듭니다.\n",
    "features_train, features_test, target_train, target_test = train_test_split(\n",
    "features, target, test_size=0.10, random_state=1)\n",
    "\n",
    "def custom_metric(target_test, target_predicted): # 사용자 정의 지표 함수를 정의\n",
    "    r2 = r2_score(target_test, target_predicted) # R^2 점수를 계산\n",
    "    return r2 # R^2 점수를 반환\n",
    "\n",
    "# 높은 점수가 좋은 것을 나타내는 스코어 함수를 만듭니다.\n",
    "score = make_scorer(custom_metric, greater_is_better=True)\n",
    "classifier = Ridge() # 릿지(ridge) 회귀 모델 객체 생성\n",
    "\n",
    "model = classifier.fit(features_train, target_train) # 릿지 회귀 모델 훈련\n",
    "score(model, features_test, target_test) # 사용자 정의 스코어 함수를 적용\n",
    "\n",
    "target_predicted = model.predict(features_test) # 예측\n",
    "\n",
    "r2_score(target_test, target_predicted) # R^2 점수 계산"
   ]
  },
  {
   "cell_type": "code",
   "execution_count": 41,
   "metadata": {},
   "outputs": [],
   "source": [
    "import numpy as np\n",
    "import matplotlib.pyplot as plt\n",
    "from sklearn.ensemble import RandomForestClassifier\n",
    "from sklearn.datasets import load_digits\n",
    "from sklearn.model_selection import learning_curve\n",
    "\n",
    "digits = load_digits() # 데이터 로드\n",
    "features, target = digits.data, digits.target # 특성 행렬과 타깃 벡터 분리\n",
    "\n",
    "# 다양한 훈련 세트 크기에서 교차검증 훈련 점수와 테스트 점수를 계산합니다.\n",
    "train_sizes, train_scores, test_scores = learning_curve(\n",
    "                                            RandomForestClassifier(), # 분류기\n",
    "                                            features, # 특성 행렬\n",
    "                                            target, # 타깃 벡터\n",
    "                                            cv=10, # 폴드 수\n",
    "                                            scoring='accuracy', # 성능 지표\n",
    "                                            n_jobs=-1, # 모든 코어 사용\n",
    "                                            train_sizes=np.linspace( 0.01, 1.0, 50)) # 50개의 훈련 세트 크기"
   ]
  },
  {
   "cell_type": "code",
   "execution_count": 42,
   "metadata": {},
   "outputs": [
    {
     "data": {
      "image/png": "[encoded data removed]",
      "text/plain": [
       "<Figure size 432x288 with 1 Axes>"
      ]
     },
     "metadata": {
      "needs_background": "light"
     },
     "output_type": "display_data"
    }
   ],
   "source": [
    "# 훈련 세트 점수의 평균과 표준 편차를 계산합니다.\n",
    "train_mean = np.mean(train_scores, axis=1)\n",
    "train_std = np.std(train_scores, axis=1)\n",
    "\n",
    "# 테스트 세트 점수의 평균과 표준 편차를 계산합니다.\n",
    "test_mean = np.mean(test_scores, axis=1)\n",
    "test_std = np.std(test_scores, axis=1)\n",
    "\n",
    "# 그래프를 그립니다.\n",
    "plt.plot(train_sizes, train_mean, '--', color=\"#111111\", label=\"Training score\")\n",
    "plt.plot(train_sizes, test_mean, color=\"#111111\", label=\"Cross-validation score\")\n",
    "\n",
    "# 표준 편차 영역을 그립니다.\n",
    "plt.fill_between(train_sizes, train_mean - train_std, train_mean + train_std, color=\"#DDDDDD\")\n",
    "plt.fill_between(train_sizes, test_mean - test_std, test_mean + test_std, color=\"#DDDDDD\")\n",
    "\n",
    "# 그래프를 출력합니다.\n",
    "plt.title(\"Learning Curve\")\n",
    "plt.xlabel(\"Training Set Size\"), plt.ylabel(\"Accuracy Score\"),\n",
    "plt.legend(loc=\"best\")\n",
    "plt.tight_layout()\n",
    "plt.show()\n",
    "\n",
    "#훈련 세트 샘플의 1%에서 100%까지 50개 크기에서 랜덤 포레스트 분류기의 정확도를 그래프로 출력합니다.\n",
    "#모델의 교차검증 정확도가 증가하면 추가적인 샘플이 도움이 된다는 것을 의미합니다."
   ]
  },
  {
   "cell_type": "code",
   "execution_count": 44,
   "metadata": {},
   "outputs": [
    {
     "name": "stdout",
     "output_type": "stream",
     "text": [
      "              precision    recall  f1-score   support\n",
      "\n",
      "      setosa       1.00      1.00      1.00        13\n",
      "  versicolor       1.00      0.94      0.97        16\n",
      "   virginica       0.90      1.00      0.95         9\n",
      "\n",
      "    accuracy                           0.97        38\n",
      "   macro avg       0.97      0.98      0.97        38\n",
      "weighted avg       0.98      0.97      0.97        38\n",
      "\n"
     ]
    },
    {
     "name": "stderr",
     "output_type": "stream",
     "text": [
      "C:\\Users\\student\\Anaconda3\\envs\\cpu_env\\lib\\site-packages\\sklearn\\linear_model\\_logistic.py:939: ConvergenceWarning: lbfgs failed to converge (status=1):\n",
      "STOP: TOTAL NO. of ITERATIONS REACHED LIMIT.\n",
      "\n",
      "Increase the number of iterations (max_iter) or scale the data as shown in:\n",
      "    https://scikit-learn.org/stable/modules/preprocessing.html.\n",
      "Please also refer to the documentation for alternative solver options:\n",
      "    https://scikit-learn.org/stable/modules/linear_model.html#logistic-regression\n",
      "  extra_warning_msg=_LOGISTIC_SOLVER_CONVERGENCE_MSG)\n"
     ]
    }
   ],
   "source": [
    "from sklearn import datasets\n",
    "from sklearn.linear_model import LogisticRegression\n",
    "from sklearn.model_selection import train_test_split\n",
    "from sklearn.metrics import classification_report\n",
    "\n",
    "iris = datasets.load_iris()     # 데이터 로드\n",
    "features = iris.data            # 특성 행렬\n",
    "target = iris.target            # 타깃 벡터\n",
    "class_names = iris.target_names # 타깃 클래스 이름의 리스트\n",
    "\n",
    "# 훈련 세트와 테스트 세트를 만듭니다.\n",
    "features_train, features_test, target_train, target_test = train_test_split( features, target, random_state=1)\n",
    "classifier = LogisticRegression()      # 로지스틱 회귀 모델 객체 생성\n",
    "model = classifier.fit(features_train, target_train)    # 모델 훈련\n",
    "target_predicted = model.predict(features_test)     # 예측\n",
    "\n",
    "print(classification_report(target_test,\n",
    "                        target_predicted,\n",
    "                        target_names=class_names))   # 분류 리포트 생성"
   ]
  },
  {
   "cell_type": "code",
   "execution_count": 45,
   "metadata": {
    "scrolled": true
   },
   "outputs": [
    {
     "name": "stdout",
     "output_type": "stream",
     "text": [
      "              precision    recall  f1-score   support\n",
      "\n",
      "           0       1.00      1.00      1.00        13\n",
      "           1       1.00      0.94      0.97        16\n",
      "           2       0.90      1.00      0.95         9\n",
      "           3       0.00      0.00      0.00         0\n",
      "\n",
      "   micro avg       0.97      0.97      0.97        38\n",
      "   macro avg       0.72      0.73      0.73        38\n",
      "weighted avg       0.98      0.97      0.97        38\n",
      "\n"
     ]
    },
    {
     "name": "stderr",
     "output_type": "stream",
     "text": [
      "C:\\Users\\student\\Anaconda3\\envs\\cpu_env\\lib\\site-packages\\sklearn\\metrics\\_classification.py:1268: UndefinedMetricWarning: Precision and F-score are ill-defined and being set to 0.0 in labels with no predicted samples. Use `zero_division` parameter to control this behavior.\n",
      "  _warn_prf(average, modifier, msg_start, len(result))\n",
      "C:\\Users\\student\\Anaconda3\\envs\\cpu_env\\lib\\site-packages\\sklearn\\metrics\\_classification.py:1268: UndefinedMetricWarning: Recall and F-score are ill-defined and being set to 0.0 in labels with no true samples. Use `zero_division` parameter to control this behavior.\n",
      "  _warn_prf(average, modifier, msg_start, len(result))\n"
     ]
    }
   ],
   "source": [
    "# 분류 리포트를 만듭니다.\n",
    "print(classification_report(target_test, target_predicted, labels=[0,1,2,3]))"
   ]
  },
  {
   "cell_type": "code",
   "execution_count": 49,
   "metadata": {},
   "outputs": [
    {
     "data": {
      "image/png": "[encoded data removed]",
      "text/plain": [
       "<Figure size 432x288 with 1 Axes>"
      ]
     },
     "metadata": {
      "needs_background": "light"
     },
     "output_type": "display_data"
    }
   ],
   "source": [
    "#실습 : 트리 개수가 증가할 때 랜덤 포레스트 분류기의 훈련 세트 정확도와 교차검증 정확도의 변화를 시각화\n",
    "import matplotlib.pyplot as plt\n",
    "import numpy as np\n",
    "from sklearn.datasets import load_digits\n",
    "from sklearn.ensemble import RandomForestClassifier\n",
    "from sklearn.model_selection import validation_curve\n",
    "\n",
    "digits = load_digits() # 데이터 로드\n",
    "features, target = digits.data, digits.target # 특성 행렬과 타깃 벡터\n",
    "param_range = np.arange(1, 250, 2) # 파라미터 값의 범위\n",
    "\n",
    "# 파라미터 값의 범위를 사용하여 훈련 세트와 테스트 세트의 정확도를 계산합니다.\n",
    "train_scores, test_scores = validation_curve( RandomForestClassifier(), # 분류기\n",
    "                                                features, # 특성 행렬\n",
    "                                                target, # 타깃 벡터\n",
    "                                                param_name=\"n_estimators\", # 조사할 하이퍼파라미터\n",
    "                                                param_range=param_range, # 하이퍼파라미터 값의 범위\n",
    "                                                cv=3, # 폴드 수\n",
    "                                                scoring=\"accuracy\", # 성능 지표\n",
    "                                                n_jobs=-1) # 모든 코어 사용 \n",
    "\n",
    "train_mean = np.mean(train_scores, axis=1) # 훈련 세트 점수의 평균과 표준 편차를 계산\n",
    "train_std = np.std(train_scores, axis=1)\n",
    "test_mean = np.mean(test_scores, axis=1) # 테스트 세트 점수의 평균과 표준 편차를 계산\n",
    "test_std = np.std(test_scores, axis=1)\n",
    "\n",
    " # 훈련 세트와 테스트 세트의 평균 정확도 점수를 그래프로 그립니다.\n",
    "plt.plot(param_range, train_mean, label=\"Training score\", color=\"black\")\n",
    "plt.plot(param_range, test_mean, label=\"Cross-validation score\", color=\"dimgrey\")\n",
    "\n",
    "# 훈련 세트와 테스트 세트의 정확도에 대한 표준 편차를 그래프로 그립니다.\n",
    "plt.fill_between(param_range, train_mean - train_std, train_mean + train_std, color=\"gray\")\n",
    "plt.fill_between(param_range, test_mean - test_std, test_mean + test_std, color=\"gainsboro\")\n",
    "\n",
    "plt.title(\"Validation Curve With Random Forest\")\n",
    "plt.xlabel(\"Number Of Trees\")\n",
    "plt.ylabel(\"Accuracy Score\")\n",
    "plt.tight_layout()\n",
    "plt.legend(loc=\"best\")\n",
    "plt.show() # 그래프 출력"
   ]
  },
  {
   "cell_type": "code",
   "execution_count": null,
   "metadata": {},
   "outputs": [],
   "source": []
  },
  {
   "cell_type": "code",
   "execution_count": null,
   "metadata": {},
   "outputs": [],
   "source": []
  },
  {
   "cell_type": "code",
   "execution_count": null,
   "metadata": {},
   "outputs": [],
   "source": []
  },
  {
   "cell_type": "code",
   "execution_count": null,
   "metadata": {},
   "outputs": [],
   "source": []
  },
  {
   "cell_type": "code",
   "execution_count": null,
   "metadata": {},
   "outputs": [],
   "source": []
  },
  {
   "cell_type": "code",
   "execution_count": null,
   "metadata": {},
   "outputs": [],
   "source": []
  }
 ],
 "metadata": {
  "kernelspec": {
   "display_name": "[CPU_ENV]",
   "language": "python",
   "name": "cpu_env"
  },
  "language_info": {
   "codemirror_mode": {
    "name": "ipython",
    "version": 3
   },
   "file_extension": ".py",
   "mimetype": "text/x-python",
   "name": "python",
   "nbconvert_exporter": "python",
   "pygments_lexer": "ipython3",
   "version": "3.6.9"
  }
 },
 "nbformat": 4,
 "nbformat_minor": 2
}
