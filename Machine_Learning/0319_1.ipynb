{
 "cells": [
  {
   "cell_type": "code",
   "execution_count": 1,
   "metadata": {},
   "outputs": [],
   "source": [
    "import pandas as pd\n",
    "import folium\n",
    "\n",
    "file_path = './data/datas/2016_middle_shcool_graduates_report.xlsx'\n",
    "df = pd.read_excel(file_path, header=0)"
   ]
  },
  {
   "cell_type": "code",
   "execution_count": 2,
   "metadata": {},
   "outputs": [
    {
     "name": "stdout",
     "output_type": "stream",
     "text": [
      "['Unnamed: 0' '지역' '학교명' '코드' '유형' '주야' '남학생수' '여학생수' '일반고' '특성화고' '과학고'\n",
      " '외고_국제고' '예고_체고' '마이스터고' '자사고' '자공고' '기타진학' '취업' '미상' '위도' '경도']\n",
      "<class 'pandas.core.frame.DataFrame'>\n",
      "RangeIndex: 415 entries, 0 to 414\n",
      "Data columns (total 21 columns):\n",
      "Unnamed: 0    415 non-null int64\n",
      "지역            415 non-null object\n",
      "학교명           415 non-null object\n",
      "코드            415 non-null int64\n",
      "유형            415 non-null object\n",
      "주야            415 non-null object\n",
      "남학생수          415 non-null int64\n",
      "여학생수          415 non-null int64\n",
      "일반고           415 non-null float64\n",
      "특성화고          415 non-null float64\n",
      "과학고           415 non-null float64\n",
      "외고_국제고        415 non-null float64\n",
      "예고_체고         415 non-null float64\n",
      "마이스터고         415 non-null float64\n",
      "자사고           415 non-null float64\n",
      "자공고           415 non-null float64\n",
      "기타진학          415 non-null float64\n",
      "취업            415 non-null int64\n",
      "미상            415 non-null float64\n",
      "위도            415 non-null float64\n",
      "경도            415 non-null float64\n",
      "dtypes: float64(12), int64(5), object(4)\n",
      "memory usage: 68.2+ KB\n",
      "None\n",
      "   Unnamed: 0   지역               학교명  코드  유형  주야  남학생수  여학생수    일반고   특성화고  \\\n",
      "0           0  성북구    서울대학교사범대학부설중학교   3  국립  주간   277     0  0.585  0.148   \n",
      "1           1  종로구  서울대학교사범대학부설여자중학교   3  국립  주간     0   256  0.680  0.199   \n",
      "2           2  강남구             개원중학교   3  공립  주간   170   152  0.817  0.047   \n",
      "3           3  강남구             개포중학교   3  공립  주간    83    72  0.755  0.097   \n",
      "4           4  서초구             경원중학교   3  공립  주간   199   212  0.669  0.017   \n",
      "\n",
      "   ...  외고_국제고  예고_체고  마이스터고    자사고    자공고   기타진학  취업     미상         위도  \\\n",
      "0  ...   0.007  0.000  0.011  0.227  0.000  0.004   0  0.000  37.594942   \n",
      "1  ...   0.035  0.008  0.000  0.043  0.004  0.031   0  0.000  37.577473   \n",
      "2  ...   0.012  0.003  0.006  0.090  0.003  0.009   0  0.003  37.491637   \n",
      "3  ...   0.013  0.019  0.019  0.065  0.000  0.019   0  0.000  37.480439   \n",
      "4  ...   0.010  0.005  0.000  0.282  0.000  0.010   0  0.000  37.510750   \n",
      "\n",
      "           경도  \n",
      "0  127.038909  \n",
      "1  127.003857  \n",
      "2  127.071744  \n",
      "3  127.062201  \n",
      "4  127.008900  \n",
      "\n",
      "[5 rows x 21 columns]\n",
      "       Unnamed: 0          코드        남학생수        여학생수         일반고        특성화고  \\\n",
      "count  415.000000  415.000000  415.000000  415.000000  415.000000  415.000000   \n",
      "mean   207.000000    3.197590  126.532530  116.173494    0.623080    0.149684   \n",
      "std    119.944432    0.804272   79.217906   76.833082    0.211093    0.102977   \n",
      "min      0.000000    3.000000    0.000000    0.000000    0.000000    0.000000   \n",
      "25%    103.500000    3.000000   80.000000   71.500000    0.566500    0.065500   \n",
      "50%    207.000000    3.000000  129.000000  118.000000    0.681000    0.149000   \n",
      "75%    310.500000    3.000000  177.500000  161.500000    0.758000    0.224500   \n",
      "max    414.000000    9.000000  337.000000  422.000000    0.908000    0.477000   \n",
      "\n",
      "              과학고      외고_국제고       예고_체고       마이스터고         자사고         자공고  \\\n",
      "count  415.000000  415.000000  415.000000  415.000000  415.000000  415.000000   \n",
      "mean     0.004378    0.013687    0.017393    0.005251    0.080971    0.034296   \n",
      "std      0.006739    0.011548    0.092006    0.007557    0.079136    0.080302   \n",
      "min      0.000000    0.000000    0.000000    0.000000    0.000000    0.000000   \n",
      "25%      0.000000    0.006000    0.000000    0.000000    0.027000    0.000000   \n",
      "50%      0.000000    0.012000    0.005000    0.003000    0.060000    0.000000   \n",
      "75%      0.006000    0.019000    0.011000    0.007000    0.111500    0.019000   \n",
      "max      0.055000    0.110000    0.940000    0.046000    0.485000    0.531000   \n",
      "\n",
      "             기타진학     취업          미상          위도          경도  \n",
      "count  415.000000  415.0  415.000000  415.000000  415.000000  \n",
      "mean     0.069571    0.0    0.001670   37.491969  127.032792  \n",
      "std      0.235630    0.0    0.003697    0.348926    0.265245  \n",
      "min      0.000000    0.0    0.000000   34.979940  126.639561  \n",
      "25%      0.000000    0.0    0.000000   37.501934  126.921758  \n",
      "50%      0.007000    0.0    0.000000   37.547702  127.013579  \n",
      "75%      0.015000    0.0    0.003000   37.590670  127.071265  \n",
      "max      1.000000    0.0    0.036000   37.694777  129.106974  \n"
     ]
    }
   ],
   "source": [
    "# 열 이름 배열을 출력\n",
    "print(df.columns.values) \n",
    "print(df.info()) \n",
    "print(df.head()) \n",
    "print(df.describe())"
   ]
  },
  {
   "cell_type": "code",
   "execution_count": 3,
   "metadata": {},
   "outputs": [],
   "source": [
    "# 지도에 위치 표시\n",
    "\n",
    "mschool_map = folium.Map(location=[37.55,126.98], tiles='Stamen Terrain', zoom_start=12)"
   ]
  },
  {
   "cell_type": "code",
   "execution_count": 4,
   "metadata": {},
   "outputs": [],
   "source": [
    "# 중학교 위치정보를 CircleMarker로 표시\n",
    "for name, lat, lng in zip(df.학교명, df.위도, df.경도):\n",
    "    folium.CircleMarker([lat, lng],\n",
    "                       radius=5,              # 원의 반지름\n",
    "                       color='brown',         # 원의 둘레 색상\n",
    "                       fill=True,       \n",
    "                       fill_color='coral',    # 원을 채우는 색\n",
    "                       fill_opacity=0.7,      # 투명도\n",
    "                       popup=name).add_to(mschool_map)"
   ]
  },
  {
   "cell_type": "code",
   "execution_count": 5,
   "metadata": {},
   "outputs": [],
   "source": [
    "# 지도를 html 파일로 저장하기\n",
    "\n",
    "mschool_map.save('./data/datas/seoul_mschool_location.html')"
   ]
  },
  {
   "cell_type": "code",
   "execution_count": 16,
   "metadata": {},
   "outputs": [],
   "source": [
    "# sklearn 라이브러이에서 cluster 군집 모형 가져오기\n",
    "\n",
    "from sklearn import cluster\n",
    "from sklearn.preprocessing import StandardScaler"
   ]
  },
  {
   "cell_type": "code",
   "execution_count": 8,
   "metadata": {},
   "outputs": [
    {
     "name": "stdout",
     "output_type": "stream",
     "text": [
      "     과학고  외고_국제고    자사고\n",
      "0  0.018   0.007  0.227\n",
      "1  0.000   0.035  0.043\n",
      "2  0.009   0.012  0.090\n",
      "3  0.013   0.013  0.065\n",
      "4  0.007   0.010  0.282\n"
     ]
    }
   ],
   "source": [
    "# 분석에 사용할 속성을 선택(과학고, 외고국제고, 자사고 진학률)\n",
    "\n",
    "columns_list = [10,11,14] \n",
    "X = df.iloc[:, columns_list]\n",
    "print(X[:5])"
   ]
  },
  {
   "cell_type": "code",
   "execution_count": 18,
   "metadata": {},
   "outputs": [
    {
     "name": "stdout",
     "output_type": "stream",
     "text": [
      "[-1 -1 -1 -1 -1 -1 -1 -1 -1 -1 -1 -1 -1  0 -1 -1 -1 -1 -1 -1  2 -1  0 -1\n",
      " -1 -1 -1 -1  0 -1 -1 -1 -1 -1  0  3 -1 -1 -1 -1 -1 -1 -1  0 -1 -1  1  0\n",
      " -1 -1 -1  0 -1 -1 -1 -1  0 -1  0  0 -1 -1  0 -1 -1 -1  0  0 -1 -1  0 -1\n",
      " -1 -1  0 -1 -1 -1  0  2  0  0  0  0  0 -1 -1 -1  0 -1  0 -1 -1  0 -1  0\n",
      " -1  0  0 -1 -1 -1 -1  1  0 -1  0  0 -1 -1 -1  0 -1 -1 -1 -1 -1  0  1 -1\n",
      " -1  0  2  0 -1 -1  1 -1 -1 -1  0  0  0 -1 -1  0 -1 -1 -1  0  0 -1 -1 -1\n",
      " -1  0 -1 -1 -1  0 -1 -1 -1  0 -1  0  0 -1 -1 -1 -1 -1  0 -1  0  0 -1 -1\n",
      " -1 -1 -1  0 -1 -1 -1  1  0  3  1 -1  0  0 -1  0 -1 -1  0  0  2 -1 -1  3\n",
      "  0  0 -1 -1 -1 -1  0 -1  0  0 -1  0  0  0 -1 -1  0 -1 -1 -1 -1 -1  2  0\n",
      " -1 -1 -1 -1 -1 -1 -1 -1 -1 -1 -1 -1 -1 -1  0 -1 -1 -1  0 -1 -1 -1 -1 -1\n",
      " -1 -1 -1 -1 -1 -1 -1 -1 -1  0 -1 -1 -1  0  0 -1 -1  0 -1  3  0  2 -1 -1\n",
      " -1 -1  0 -1 -1 -1  0 -1  0  0 -1 -1 -1 -1 -1  1 -1  0  1 -1  0  0  1 -1\n",
      "  2 -1  0 -1 -1 -1 -1  0 -1 -1  1  0 -1  0 -1 -1  0  3  0 -1 -1 -1  2 -1\n",
      " -1 -1 -1  0  0  0  1 -1 -1 -1 -1 -1 -1 -1 -1  0 -1  0 -1  0 -1 -1  0  0\n",
      " -1 -1 -1  0 -1  0 -1 -1  0 -1 -1 -1  0  1 -1 -1 -1  0  1  1  1 -1 -1 -1\n",
      " -1 -1 -1 -1 -1 -1 -1 -1 -1 -1 -1 -1 -1 -1 -1 -1 -1  0 -1 -1 -1  0 -1  0\n",
      "  1  1  1  1  1  1  1  1  1  1  1  1  1  1  1  1  1  1  1  1  1  1  1  1\n",
      "  1  1  1  1  1  1  0]\n"
     ]
    }
   ],
   "source": [
    "# 설명 변수 데이터를 정규화\n",
    "\n",
    "X = StandardScaler().fit(X).transform(X)\n",
    "\n",
    "dbm = cluster.DBSCAN(eps=0.2, min_samples=5)\n",
    "dbm.fit(X)   \n",
    " \n",
    "cluster_label = dbm.labels_   \n",
    "print(cluster_label)"
   ]
  },
  {
   "cell_type": "code",
   "execution_count": 19,
   "metadata": {},
   "outputs": [
    {
     "name": "stdout",
     "output_type": "stream",
     "text": [
      "   Unnamed: 0   지역               학교명  코드  유형  주야  남학생수  여학생수    일반고   특성화고  \\\n",
      "0           0  성북구    서울대학교사범대학부설중학교   3  국립  주간   277     0  0.585  0.148   \n",
      "1           1  종로구  서울대학교사범대학부설여자중학교   3  국립  주간     0   256  0.680  0.199   \n",
      "2           2  강남구             개원중학교   3  공립  주간   170   152  0.817  0.047   \n",
      "3           3  강남구             개포중학교   3  공립  주간    83    72  0.755  0.097   \n",
      "4           4  서초구             경원중학교   3  공립  주간   199   212  0.669  0.017   \n",
      "\n",
      "   ...  예고_체고  마이스터고    자사고    자공고   기타진학  취업     미상         위도          경도  \\\n",
      "0  ...  0.000  0.011  0.227  0.000  0.004   0  0.000  37.594942  127.038909   \n",
      "1  ...  0.008  0.000  0.043  0.004  0.031   0  0.000  37.577473  127.003857   \n",
      "2  ...  0.003  0.006  0.090  0.003  0.009   0  0.003  37.491637  127.071744   \n",
      "3  ...  0.019  0.019  0.065  0.000  0.019   0  0.000  37.480439  127.062201   \n",
      "4  ...  0.005  0.000  0.282  0.000  0.010   0  0.000  37.510750  127.008900   \n",
      "\n",
      "   Cluster  \n",
      "0       -1  \n",
      "1       -1  \n",
      "2       -1  \n",
      "3       -1  \n",
      "4       -1  \n",
      "\n",
      "[5 rows x 22 columns]\n"
     ]
    }
   ],
   "source": [
    "# 예측 결과를 데이터 프레임에 추가\n",
    "\n",
    "df['Cluster'] = cluster_label\n",
    "print(df.head())"
   ]
  },
  {
   "cell_type": "code",
   "execution_count": 21,
   "metadata": {},
   "outputs": [
    {
     "name": "stdout",
     "output_type": "stream",
     "text": [
      "* key: -1\n",
      "* number: 255\n",
      "   Unnamed: 0   지역  코드    과학고  외고_국제고    자사고\n",
      "0           0  성북구   3  0.018   0.007  0.227\n",
      "1           1  종로구   3  0.000   0.035  0.043\n",
      "2           2  강남구   3  0.009   0.012  0.090\n",
      "3           3  강남구   3  0.013   0.013  0.065\n",
      "4           4  서초구   3  0.007   0.010  0.282\n",
      "\n",
      "\n",
      "* key: 0\n",
      "* number: 102\n",
      "    Unnamed: 0   지역  코드  과학고  외고_국제고    자사고\n",
      "13          13  서초구   3  0.0   0.022  0.038\n",
      "22          22  강남구   3  0.0   0.019  0.044\n",
      "28          28  서초구   3  0.0   0.015  0.050\n",
      "34          34  강남구   3  0.0   0.016  0.065\n",
      "43          43  송파구   3  0.0   0.021  0.054\n",
      "\n",
      "\n",
      "* key: 1\n",
      "* number: 45\n",
      "     Unnamed: 0    지역  코드  과학고  외고_국제고    자사고\n",
      "46           46   강동구   3  0.0     0.0  0.044\n",
      "103         103   양천구   3  0.0     0.0  0.006\n",
      "118         118   구로구   3  0.0     0.0  0.012\n",
      "126         126  영등포구   3  0.0     0.0  0.050\n",
      "175         175   중랑구   3  0.0     0.0  0.004\n",
      "\n",
      "\n",
      "* key: 2\n",
      "* number: 8\n",
      "     Unnamed: 0   지역  코드    과학고  외고_국제고    자사고\n",
      "20           20  서초구   3  0.003   0.013  0.085\n",
      "79           79  강동구   3  0.004   0.011  0.077\n",
      "122         122  구로구   3  0.004   0.012  0.079\n",
      "188         188  동작구   3  0.003   0.015  0.076\n",
      "214         214  도봉구   3  0.004   0.011  0.072\n",
      "\n",
      "\n",
      "* key: 3\n",
      "* number: 5\n",
      "     Unnamed: 0    지역  코드  과학고  외고_국제고    자사고\n",
      "35           35   서초구   3  0.0   0.004  0.100\n",
      "177         177  동대문구   3  0.0   0.004  0.094\n",
      "191         191   동작구   3  0.0   0.004  0.084\n",
      "259         259   마포구   3  0.0   0.004  0.078\n",
      "305         305   강북구   3  0.0   0.004  0.088\n",
      "\n",
      "\n"
     ]
    }
   ],
   "source": [
    "# 데이터를 추가해서 cluster를 열기준으로 정렬\n",
    "\n",
    "grouped_cols = [0,1,3] + columns_list\n",
    "grouped = df.groupby('Cluster')\n",
    "\n",
    "for key, group in grouped:\n",
    "    print('* key:', key)\n",
    "    print('* number:', len(group))\n",
    "    print(group.iloc[:,grouped_cols].head())\n",
    "    print('\\n')"
   ]
  },
  {
   "cell_type": "markdown",
   "metadata": {},
   "source": [
    "- 클러스터 0은 외고(국제고)와 자사고 합격률은 높지만 과학고 합격자가 없다\n",
    "- 클러스터 1은 자사고 합격자만 존재하는 그룹이고\n",
    "- 클러스터 2는 자사고 합격률이 매우 높으면서 과학고와 외구(국제고) 합격자도 일부 존재한다\n",
    "- 클러스터 3은 과학고 합격자 없이 외고(국제고)와 자사고 합격자를 배출한 점"
   ]
  },
  {
   "cell_type": "code",
   "execution_count": 23,
   "metadata": {},
   "outputs": [],
   "source": [
    "colors = {-1:'gray', 0:'orange', 1:'blue', 2:'green', 3:'red', 4:'purple', \n",
    "          5:'coral', 6:'brown', 7:'brick', 8:'yellow', 9:'magenta', 10:'cyan'}\n",
    "\n",
    "cluster_map = folium.Map(location=[37.55,126.98], tiles='Stamen Terrain', \n",
    "                        zoom_start=12)\n",
    "\n",
    "for name, lat, lng, clus in zip(df.학교명, df.위도, df.경도, df.Cluster):  \n",
    "    folium.CircleMarker([lat, lng],\n",
    "                        radius=5,                   # 원의 반지름\n",
    "                        color=colors[clus],         # 원의 둘레 색상\n",
    "                        fill=True,\n",
    "                        fill_color=colors[clus],    # 원을 채우는 색\n",
    "                        fill_opacity=0.7,           # 투명도    \n",
    "                        popup=name\n",
    "    ).add_to(cluster_map)\n",
    "\n",
    "cluster_map.save('./data/datas/seoul_mschool_cluster.html')\n"
   ]
  },
  {
   "cell_type": "code",
   "execution_count": null,
   "metadata": {},
   "outputs": [],
   "source": []
  },
  {
   "cell_type": "code",
   "execution_count": null,
   "metadata": {},
   "outputs": [],
   "source": []
  }
 ],
 "metadata": {
  "kernelspec": {
   "display_name": "[CPU_ENV]",
   "language": "python",
   "name": "cpu_env"
  },
  "language_info": {
   "codemirror_mode": {
    "name": "ipython",
    "version": 3
   },
   "file_extension": ".py",
   "mimetype": "text/x-python",
   "name": "python",
   "nbconvert_exporter": "python",
   "pygments_lexer": "ipython3",
   "version": "3.6.9"
  }
 },
 "nbformat": 4,
 "nbformat_minor": 2
}
