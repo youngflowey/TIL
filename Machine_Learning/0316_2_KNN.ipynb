{
 "cells": [
  {
   "cell_type": "code",
   "execution_count": 15,
   "metadata": {},
   "outputs": [
    {
     "name": "stdout",
     "output_type": "stream",
     "text": [
      "[[[1.03800476 0.55861082 1.10378283 1.18556721]\n",
      "  [0.79566902 0.32841405 0.76275827 1.05393502]]]\n",
      "[[0.49140089 0.74294782]]\n"
     ]
    }
   ],
   "source": [
    "#샘플 데이터로부터 가장 가까운 k개의 이웃 찾기\n",
    "\n",
    "from sklearn.datasets import load_iris\n",
    "from sklearn.neighbors import  NearestNeighbors\n",
    "from sklearn.preprocessing import StandardScaler\n",
    "\n",
    "iris = load_iris()\n",
    "features = iris.data\n",
    "#특성 정규화 평균이 0 표준편차1\n",
    "features_standard = StandardScaler().fit_transform(features)\n",
    "\n",
    "nearest_neighbors = NearestNeighbors(n_neighbors=2).fit(features_standard)\n",
    "new_observation = [1,1,1,1]\n",
    "#새로운 샘플 데이터의 최근접 이웃의 인덱스와 거리 반환\n",
    "distances, indices = nearest_neighbors.kneighbors([new_observation]) \n",
    "print(features_standard [indices])   #최근접 이웃 확인 \n",
    "print(distances)"
   ]
  },
  {
   "cell_type": "code",
   "execution_count": 27,
   "metadata": {
    "scrolled": false
   },
   "outputs": [
    {
     "name": "stdout",
     "output_type": "stream",
     "text": [
      "[[[1.03800476 0.55861082 1.10378283 1.18556721]\n",
      "  [0.79566902 0.32841405 0.76275827 1.05393502]]]\n",
      "[[0.49140089 0.74294782]]\n"
     ]
    }
   ],
   "source": [
    "nearest_neighbors_euclidean= NearestNeighbors(n_neighbors=2,  metric='euclidean' ).fit(features_standard)\n",
    "distances, indices = nearest_neighbors_euclidean.kneighbors([new_observation]) \n",
    "print(features_standard [indices])   #최근접 이웃 확인 \n",
    "print(distances)\n",
    "\n",
    "# 디폴트값이 유클리디언"
   ]
  },
  {
   "cell_type": "code",
   "execution_count": 21,
   "metadata": {},
   "outputs": [
    {
     "name": "stdout",
     "output_type": "stream",
     "text": [
      "[[[1.03800476 0.55861082 1.10378283 1.18556721]\n",
      "  [0.79566902 0.32841405 0.76275827 1.05393502]\n",
      "  [0.4321654  0.78880759 0.93327055 1.44883158]]]\n",
      "[[0.49140089 0.74294782 0.75692864]]\n"
     ]
    }
   ],
   "source": [
    "nn_euclidean = NearestNeighbors(n_neighbors=3, metric='euclidean').fit(features_standard)\n",
    " \n",
    "#새로운 샘플 데이터의 최근접 이웃의 인덱스와 거리 반환\n",
    "distances, indices = nn_euclidean.kneighbors([new_observation]) \n",
    "print(features_standard [indices])   #최근접 이웃 확인 \n",
    "print(distances)"
   ]
  },
  {
   "cell_type": "code",
   "execution_count": 22,
   "metadata": {},
   "outputs": [
    {
     "name": "stdout",
     "output_type": "stream",
     "text": [
      "[0. 0. 0. 0. 0. 0. 0. 0. 0. 0. 0. 0. 0. 0. 0. 0. 0. 1. 0. 0. 0. 0. 0. 0.\n",
      " 0. 0. 0. 1. 0. 0. 0. 0. 0. 0. 0. 0. 0. 0. 0. 0. 0. 0. 0. 0. 0. 0. 0. 0.\n",
      " 0. 0. 0. 0. 0. 0. 0. 0. 0. 0. 0. 0. 0. 0. 0. 0. 0. 0. 0. 0. 0. 0. 0. 0.\n",
      " 0. 0. 0. 0. 0. 0. 0. 0. 0. 0. 0. 0. 0. 0. 0. 0. 0. 0. 0. 0. 0. 0. 0. 0.\n",
      " 0. 0. 0. 0. 0. 0. 0. 0. 0. 0. 0. 0. 0. 0. 0. 0. 0. 0. 0. 0. 0. 0. 0. 0.\n",
      " 0. 0. 0. 0. 0. 0. 0. 0. 0. 0. 0. 0. 0. 0. 0. 0. 0. 0. 0. 0. 0. 0. 0. 0.\n",
      " 0. 0. 0. 0. 0. 0.]\n"
     ]
    }
   ],
   "source": [
    "nn_with_self = nn_euclidean.kneighbors_graph(features_standard).toarray()\n",
    "#최근접 이웃 중에서 1로 표시된 자기 자신을 제외시킵니다.\n",
    "for i, x in enumerate(nn_with_self) :\n",
    "    x[i] = 0\n",
    "\n",
    "print(nn_with_self[0]) #첫번째 샘플에 대한 최근접 이웃 확인"
   ]
  },
  {
   "cell_type": "code",
   "execution_count": 23,
   "metadata": {
    "scrolled": true
   },
   "outputs": [
    {
     "data": {
      "text/plain": [
       "array([[[1.03800476, 0.55861082, 1.10378283, 1.18556721],\n",
       "        [0.79566902, 0.32841405, 0.76275827, 1.05393502],\n",
       "        [0.4321654 , 0.78880759, 0.93327055, 1.44883158],\n",
       "        [0.55333328, 0.78880759, 1.0469454 , 1.58046376],\n",
       "        [1.03800476, 0.55861082, 1.10378283, 1.71209594]]])"
      ]
     },
     "execution_count": 23,
     "metadata": {},
     "output_type": "execute_result"
    }
   ],
   "source": [
    "#샘플과 가까운 최근접 이웃 5개 인덱스 찾기\n",
    "indices = nn_euclidean.kneighbors([new_observation], n_neighbors=5, return_distance=False)\n",
    "features_standard[indices]"
   ]
  },
  {
   "cell_type": "code",
   "execution_count": 40,
   "metadata": {},
   "outputs": [
    {
     "data": {
      "text/plain": [
       "array([[0., 0., 0., 0., 0., 0., 0., 0., 0., 0., 0., 0., 0., 0., 0., 0.,\n",
       "        0., 0., 0., 0., 0., 0., 0., 0., 0., 0., 0., 0., 0., 0., 0., 0.,\n",
       "        0., 0., 0., 0., 0., 0., 0., 0., 0., 0., 0., 0., 0., 0., 0., 0.,\n",
       "        0., 0., 0., 0., 0., 0., 0., 0., 0., 0., 0., 0., 0., 0., 0., 0.,\n",
       "        0., 0., 0., 0., 0., 0., 0., 0., 0., 0., 0., 0., 0., 0., 0., 0.,\n",
       "        0., 0., 0., 0., 0., 0., 0., 0., 0., 0., 0., 0., 0., 0., 0., 0.,\n",
       "        0., 0., 0., 0., 0., 0., 0., 0., 0., 0., 0., 0., 0., 0., 0., 0.,\n",
       "        0., 0., 0., 0., 0., 0., 0., 0., 0., 0., 0., 0., 1., 0., 0., 0.,\n",
       "        0., 0., 0., 0., 0., 0., 0., 0., 0., 0., 0., 0., 0., 0., 0., 0.,\n",
       "        0., 0., 0., 0., 0., 0.]])"
      ]
     },
     "execution_count": 40,
     "metadata": {},
     "output_type": "execute_result"
    }
   ],
   "source": [
    "import numpy as np\n",
    "\n",
    "# 반경 0.5 안에 있는 모든 샘플의 인덱스를 찾습니다.\n",
    "nn_with_self = nn_euclidean.radius_neighbors_graph([new_observation], radius = 0.5).toarray()\n",
    "# features_standard[indices] \n",
    "nn_with_self # 1개 \n",
    "# 첫번째 "
   ]
  },
  {
   "cell_type": "code",
   "execution_count": null,
   "metadata": {},
   "outputs": [],
   "source": []
  },
  {
   "cell_type": "code",
   "execution_count": null,
   "metadata": {},
   "outputs": [],
   "source": []
  }
 ],
 "metadata": {
  "kernelspec": {
   "display_name": "[CPU_ENV]",
   "language": "python",
   "name": "cpu_env"
  },
  "language_info": {
   "codemirror_mode": {
    "name": "ipython",
    "version": 3
   },
   "file_extension": ".py",
   "mimetype": "text/x-python",
   "name": "python",
   "nbconvert_exporter": "python",
   "pygments_lexer": "ipython3",
   "version": "3.6.9"
  }
 },
 "nbformat": 4,
 "nbformat_minor": 2
}
